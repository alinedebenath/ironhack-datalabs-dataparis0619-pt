{
 "cells": [
  {
   "cell_type": "markdown",
   "metadata": {},
   "source": [
    "# Web Scraping Lab\n",
    "\n",
    "You will find in this notebook some scrapy exercises to practise your scraping skills.\n",
    "\n",
    "**Tips:**\n",
    "\n",
    "- Check the response status code for each request to ensure you have obtained the intended contennt.\n",
    "- Print the response text in each request to understand the kind of info you are getting and its format.\n",
    "- Check for patterns in the response text to extract the data/info requested in each question.\n",
    "- Visit each url and take a look at its source through Chrome DevTools. You'll need to identify the html tags, special class names etc. used for the html content you are expected to extract."
   ]
  },
  {
   "cell_type": "markdown",
   "metadata": {},
   "source": [
    "- [Requests library](http://docs.python-requests.org/en/master/#the-user-guide) documentation \n",
    "- [Beautiful Soup Doc](https://www.crummy.com/software/BeautifulSoup/bs4/doc/)\n",
    "- [Urllib](https://docs.python.org/3/library/urllib.html#module-urllib)\n",
    "- [re lib](https://docs.python.org/3/library/re.html)\n",
    "- [lxml lib](https://lxml.de/)\n",
    "- [Scrapy](https://scrapy.org/)\n",
    "- [List of HTTP status codes](https://en.wikipedia.org/wiki/List_of_HTTP_status_codes)\n",
    "- [HTML basics](http://www.simplehtmlguide.com/cheatsheet.php)\n",
    "- [CSS basics](https://www.cssbasics.com/#page_start)"
   ]
  },
  {
   "cell_type": "markdown",
   "metadata": {},
   "source": [
    "#### Below are the libraries and modules you may need. `requests`,  `BeautifulSoup` and `pandas` are imported for you. If you prefer to use additional libraries feel free to uncomment them."
   ]
  },
  {
   "cell_type": "code",
   "execution_count": 1,
   "metadata": {},
   "outputs": [],
   "source": [
    "import requests\n",
    "from bs4 import BeautifulSoup\n",
    "import pandas as pd\n",
    "# from pprint import pprint\n",
    "# from lxml import html\n",
    "# from lxml.html import fromstring\n",
    "# import urllib.request\n",
    "# from urllib.request import urlopen\n",
    "# import random\n",
    "# import re\n",
    "# import scrapy"
   ]
  },
  {
   "cell_type": "markdown",
   "metadata": {},
   "source": [
    "#### Download, parse (using BeautifulSoup), and print the content from the Trending Developers page from GitHub:"
   ]
  },
  {
   "cell_type": "code",
   "execution_count": 2,
   "metadata": {},
   "outputs": [],
   "source": [
    "# This is the url you will scrape in this exercise\n",
    "url = 'https://github.com/trending/developers'"
   ]
  },
  {
   "cell_type": "code",
   "execution_count": 463,
   "metadata": {},
   "outputs": [],
   "source": [
    "html = requests.get(url).content\n",
    "soup = BeautifulSoup(html, \"lxml\")"
   ]
  },
  {
   "cell_type": "markdown",
   "metadata": {},
   "source": [
    "#### Display the names of the trending developers retrieved in the previous step.\n",
    "\n",
    "Your output should be a Python list of developer names. Each name should not contain any html tag.\n",
    "\n",
    "**Instructions:**\n",
    "\n",
    "1. Find out the html tag and class names used for the developer names. You can achieve this using Chrome DevTools.\n",
    "\n",
    "1. Use BeautifulSoup to extract all the html elements that contain the developer names.\n",
    "\n",
    "1. Use string manipulation techniques to replace whitespaces and linebreaks (i.e. `\\n`) in the *text* of each html element. Use a list to store the clean names.\n",
    "\n",
    "1. Print the list of names.\n",
    "\n",
    "Your output should look like below:\n",
    "\n",
    "```\n",
    "['trimstray (@trimstray)',\n",
    " 'joewalnes (JoeWalnes)',\n",
    " 'charlax (Charles-AxelDein)',\n",
    " 'ForrestKnight (ForrestKnight)',\n",
    " 'revery-ui (revery-ui)',\n",
    " 'alibaba (Alibaba)',\n",
    " 'Microsoft (Microsoft)',\n",
    " 'github (GitHub)',\n",
    " 'facebook (Facebook)',\n",
    " 'boazsegev (Bo)',\n",
    " 'google (Google)',\n",
    " 'cloudfetch',\n",
    " 'sindresorhus (SindreSorhus)',\n",
    " 'tensorflow',\n",
    " 'apache (TheApacheSoftwareFoundation)',\n",
    " 'DevonCrawford (DevonCrawford)',\n",
    " 'ARMmbed (ArmMbed)',\n",
    " 'vuejs (vuejs)',\n",
    " 'fastai (fast.ai)',\n",
    " 'QiShaoXuan (Qi)',\n",
    " 'joelparkerhenderson (JoelParkerHenderson)',\n",
    " 'torvalds (LinusTorvalds)',\n",
    " 'CyC2018',\n",
    " 'komeiji-satori (神楽坂覚々)',\n",
    " 'script-8']\n",
    " ```"
   ]
  },
  {
   "cell_type": "code",
   "execution_count": 135,
   "metadata": {},
   "outputs": [
    {
     "data": {
      "text/plain": [
       "['Kenneth Reitz',\n",
       " 'Marco Pivetta',\n",
       " 'Frank Denis',\n",
       " 'Vadim Demedes',\n",
       " 'Burak Yigit Kaya',\n",
       " 'Norman Maurer',\n",
       " 'Francois Zaninotto',\n",
       " 'Manu MA',\n",
       " 'Michał Lytek',\n",
       " 'Federico Zivolo',\n",
       " 'David Anthoff',\n",
       " 'Alex Gaynor',\n",
       " 'Steven Kirk',\n",
       " 'Mihai Maruseac',\n",
       " 'Jason Quense',\n",
       " 'Brent Jackson',\n",
       " '吴晟 Wu Sheng',\n",
       " '子骅',\n",
       " 'Thomas Wolf',\n",
       " 'Uri Goldshtein',\n",
       " 'Ivan Popelyshev',\n",
       " 'Vinta Chen',\n",
       " 'Pascal Vizeli',\n",
       " 'Jens Segers',\n",
       " 'Vsevolod Tolstopyatov']"
      ]
     },
     "execution_count": 135,
     "metadata": {},
     "output_type": "execute_result"
    }
   ],
   "source": [
    "text = soup.find_all('h1',{'class':'h3 lh-condensed'})\n",
    "text1 = [h1.find('a').text for h1 in text]\n",
    "text1"
   ]
  },
  {
   "cell_type": "code",
   "execution_count": 136,
   "metadata": {},
   "outputs": [
    {
     "data": {
      "text/plain": [
       "['kennethreitz',\n",
       " 'Ocramius',\n",
       " 'jedisct1',\n",
       " 'vadimdemedes',\n",
       " 'BYK',\n",
       " 'normanmaurer',\n",
       " 'fzaninotto',\n",
       " 'manucorporat',\n",
       " '19majkel94',\n",
       " 'FezVrasta',\n",
       " 'davidanthoff',\n",
       " 'alex',\n",
       " 'grokys',\n",
       " 'mihaimaruseac',\n",
       " 'jquense',\n",
       " 'jxnblk',\n",
       " 'wu-sheng',\n",
       " 'luin',\n",
       " 'thomwolf',\n",
       " 'Urigo',\n",
       " 'ivanpopelyshev',\n",
       " 'vinta',\n",
       " 'pvizeli',\n",
       " 'jenssegers',\n",
       " 'qwwdfsad']"
      ]
     },
     "execution_count": 136,
     "metadata": {},
     "output_type": "execute_result"
    }
   ],
   "source": [
    "tags = ['p']\n",
    "text = [element.text for element in soup.find_all(tags)]\n",
    "text = '\\n'.join(text)\n",
    "text = text.split()\n",
    "to_remove = ['These','are','the','developers','building','the','hot','tools','today.']\n",
    "for item in to_remove:\n",
    "    text.remove(item)\n",
    "text"
   ]
  },
  {
   "cell_type": "code",
   "execution_count": 156,
   "metadata": {},
   "outputs": [
    {
     "data": {
      "text/plain": [
       "['Kenneth Reitz (kennethreitz)',\n",
       " 'Marco Pivetta (Ocramius)',\n",
       " 'Frank Denis (jedisct1)',\n",
       " 'Vadim Demedes (vadimdemedes)',\n",
       " 'Burak Yigit Kaya (BYK)',\n",
       " 'Norman Maurer (normanmaurer)',\n",
       " 'Francois Zaninotto (fzaninotto)',\n",
       " 'Manu MA (manucorporat)',\n",
       " 'Michał Lytek (19majkel94)',\n",
       " 'Federico Zivolo (FezVrasta)',\n",
       " 'David Anthoff (davidanthoff)',\n",
       " 'Alex Gaynor (alex)',\n",
       " 'Steven Kirk (grokys)',\n",
       " 'Mihai Maruseac (mihaimaruseac)',\n",
       " 'Jason Quense (jquense)',\n",
       " 'Brent Jackson (jxnblk)',\n",
       " '吴晟 Wu Sheng (wu-sheng)',\n",
       " '子骅 (luin)',\n",
       " 'Thomas Wolf (thomwolf)',\n",
       " 'Uri Goldshtein (Urigo)',\n",
       " 'Ivan Popelyshev (ivanpopelyshev)',\n",
       " 'Vinta Chen (vinta)',\n",
       " 'Pascal Vizeli (pvizeli)',\n",
       " 'Jens Segers (jenssegers)',\n",
       " 'Vsevolod Tolstopyatov (qwwdfsad)']"
      ]
     },
     "execution_count": 156,
     "metadata": {},
     "output_type": "execute_result"
    }
   ],
   "source": [
    "names = list(zip(text1,text))\n",
    "[x[0]+' ('+x[1]+')' for x in names]"
   ]
  },
  {
   "cell_type": "markdown",
   "metadata": {},
   "source": [
    "#### Display the trending Python repositories in GitHub\n",
    "\n",
    "The steps to solve this problem is similar to the previous one except that you need to find out the repository names instead of developer names."
   ]
  },
  {
   "cell_type": "code",
   "execution_count": 161,
   "metadata": {},
   "outputs": [],
   "source": [
    "# This is the url you will scrape in this exercise\n",
    "url = 'https://github.com/trending/python?since=daily'"
   ]
  },
  {
   "cell_type": "code",
   "execution_count": 217,
   "metadata": {},
   "outputs": [
    {
     "data": {
      "text/plain": [
       "['0voice / interview_internal_reference',\n",
       " 'zllrunning / video-object-removal',\n",
       " 'huggingface / pytorch-transformers',\n",
       " 'NVIDIA / DeepLearningExamples',\n",
       " 'vipstone / faceai',\n",
       " 'foolwood / SiamMask',\n",
       " 'home-assistant / home-assistant',\n",
       " 'microsoft / nni',\n",
       " 'wistbean / learn_python3_spider',\n",
       " 'Tencent / NeuralNLP-NeuralClassifier',\n",
       " 'openai / gym',\n",
       " 'cchen156 / Learning-to-See-in-the-Dark',\n",
       " 'danaugrs / huskarl',\n",
       " 'vincent-thevenin / Realistic-Neural-Talking-Head-Models',\n",
       " 'PaddlePaddle / models',\n",
       " 'openatx / uiautomator2',\n",
       " 'thtrieu / darkflow',\n",
       " 'chinese-poetry / chinese-poetry',\n",
       " 'Azure / azure-sdk-for-python',\n",
       " 'idealo / image-super-resolution',\n",
       " 'awslabs / gluon-ts',\n",
       " 'Rayhane-mamah / Tacotron-2',\n",
       " 'gogcom / galaxy-integrations-python-api',\n",
       " 'sergiomsilva / alpr-unconstrained',\n",
       " 'mlflow / mlflow']"
      ]
     },
     "execution_count": 217,
     "metadata": {},
     "output_type": "execute_result"
    }
   ],
   "source": [
    "html = requests.get(url).content\n",
    "soup = BeautifulSoup(html, \"lxml\")\n",
    "repo = soup.find_all('h1',{'class':'h3 lh-condensed'})\n",
    "repo = [h1.find('a').text for h1 in repo]\n",
    "repo = [n.replace('\\n','') for n in repo]\n",
    "repo"
   ]
  },
  {
   "cell_type": "markdown",
   "metadata": {},
   "source": [
    "#### Display all the image links from Walt Disney wikipedia page"
   ]
  },
  {
   "cell_type": "code",
   "execution_count": 227,
   "metadata": {},
   "outputs": [],
   "source": [
    "# This is the url you will scrape in this exercise\n",
    "url = 'https://en.wikipedia.org/wiki/Walt_Disney'"
   ]
  },
  {
   "cell_type": "code",
   "execution_count": 264,
   "metadata": {},
   "outputs": [
    {
     "data": {
      "text/plain": [
       "['//upload.wikimedia.org/wikipedia/en/thumb/e/e7/Cscr-featured.svg/20px-Cscr-featured.svg.png',\n",
       " '//upload.wikimedia.org/wikipedia/en/thumb/1/1b/Semi-protection-shackle.svg/20px-Semi-protection-shackle.svg.png',\n",
       " '//upload.wikimedia.org/wikipedia/commons/thumb/d/df/Walt_Disney_1946.JPG/220px-Walt_Disney_1946.JPG',\n",
       " '//upload.wikimedia.org/wikipedia/commons/thumb/8/87/Walt_Disney_1942_signature.svg/150px-Walt_Disney_1942_signature.svg.png',\n",
       " '//upload.wikimedia.org/wikipedia/commons/thumb/c/c4/Walt_Disney_envelope_ca._1921.jpg/220px-Walt_Disney_envelope_ca._1921.jpg',\n",
       " '//upload.wikimedia.org/wikipedia/commons/thumb/4/4d/Newman_Laugh-O-Gram_%281921%29.webm/220px-seek%3D2-Newman_Laugh-O-Gram_%281921%29.webm.jpg',\n",
       " '//upload.wikimedia.org/wikipedia/commons/thumb/0/0d/Trolley_Troubles_poster.jpg/170px-Trolley_Troubles_poster.jpg',\n",
       " '//upload.wikimedia.org/wikipedia/commons/thumb/7/71/Walt_Disney_and_his_cartoon_creation_%22Mickey_Mouse%22_-_National_Board_of_Review_Magazine.jpg/170px-Walt_Disney_and_his_cartoon_creation_%22Mickey_Mouse%22_-_National_Board_of_Review_Magazine.jpg',\n",
       " '//upload.wikimedia.org/wikipedia/en/thumb/4/4e/Steamboat-willie.jpg/170px-Steamboat-willie.jpg',\n",
       " '//upload.wikimedia.org/wikipedia/commons/thumb/5/57/Walt_Disney_1935.jpg/170px-Walt_Disney_1935.jpg',\n",
       " '//upload.wikimedia.org/wikipedia/commons/thumb/c/cd/Walt_Disney_Snow_white_1937_trailer_screenshot_%2813%29.jpg/220px-Walt_Disney_Snow_white_1937_trailer_screenshot_%2813%29.jpg',\n",
       " '//upload.wikimedia.org/wikipedia/commons/thumb/1/15/Disney_drawing_goofy.jpg/170px-Disney_drawing_goofy.jpg',\n",
       " '//upload.wikimedia.org/wikipedia/commons/thumb/1/13/DisneySchiphol1951.jpg/220px-DisneySchiphol1951.jpg',\n",
       " '//upload.wikimedia.org/wikipedia/commons/thumb/8/8c/WaltDisneyplansDisneylandDec1954.jpg/220px-WaltDisneyplansDisneylandDec1954.jpg',\n",
       " '//upload.wikimedia.org/wikipedia/commons/thumb/f/ff/Walt_disney_portrait_right.jpg/170px-Walt_disney_portrait_right.jpg',\n",
       " '//upload.wikimedia.org/wikipedia/commons/thumb/1/1a/Walt_Disney_Grave.JPG/170px-Walt_Disney_Grave.JPG',\n",
       " '//upload.wikimedia.org/wikipedia/commons/thumb/2/2d/Roy_O._Disney_with_Company_at_Press_Conference.jpg/170px-Roy_O._Disney_with_Company_at_Press_Conference.jpg',\n",
       " '//upload.wikimedia.org/wikipedia/commons/thumb/a/a9/Disney_Display_Case.JPG/170px-Disney_Display_Case.JPG',\n",
       " '//upload.wikimedia.org/wikipedia/commons/thumb/6/6c/Disney1968.jpg/170px-Disney1968.jpg',\n",
       " '//upload.wikimedia.org/wikipedia/en/thumb/8/8a/OOjs_UI_icon_edit-ltr-progressive.svg/10px-OOjs_UI_icon_edit-ltr-progressive.svg.png',\n",
       " '//upload.wikimedia.org/wikipedia/commons/thumb/d/da/Animation_disc.svg/30px-Animation_disc.svg.png',\n",
       " '//upload.wikimedia.org/wikipedia/en/thumb/6/69/P_vip.svg/29px-P_vip.svg.png',\n",
       " '//upload.wikimedia.org/wikipedia/commons/thumb/1/1a/Magic_Kingdom_castle.jpg/24px-Magic_Kingdom_castle.jpg',\n",
       " '//upload.wikimedia.org/wikipedia/en/thumb/e/e7/Video-x-generic.svg/30px-Video-x-generic.svg.png',\n",
       " '//upload.wikimedia.org/wikipedia/commons/thumb/a/a3/Flag_of_Los_Angeles_County%2C_California.svg/30px-Flag_of_Los_Angeles_County%2C_California.svg.png',\n",
       " '//upload.wikimedia.org/wikipedia/commons/thumb/a/a3/USA_flag_on_television.svg/30px-USA_flag_on_television.svg.png',\n",
       " '//upload.wikimedia.org/wikipedia/en/thumb/4/4a/Commons-logo.svg/22px-Commons-logo.svg.png',\n",
       " '//upload.wikimedia.org/wikipedia/commons/thumb/f/fa/Wikiquote-logo.svg/25px-Wikiquote-logo.svg.png',\n",
       " '//upload.wikimedia.org/wikipedia/commons/thumb/f/ff/Wikidata-logo.svg/30px-Wikidata-logo.svg.png',\n",
       " '//upload.wikimedia.org/wikipedia/en/thumb/8/8a/OOjs_UI_icon_edit-ltr-progressive.svg/10px-OOjs_UI_icon_edit-ltr-progressive.svg.png',\n",
       " '//en.wikipedia.org/wiki/Special:CentralAutoLogin/start?type=1x1',\n",
       " '/static/images/wikimedia-button.png',\n",
       " '/static/images/poweredby_mediawiki_88x31.png']"
      ]
     },
     "execution_count": 264,
     "metadata": {},
     "output_type": "execute_result"
    }
   ],
   "source": [
    "html = requests.get(url).content\n",
    "page = BeautifulSoup(html,'lxml')\n",
    "page = page.find_all('img')\n",
    "[i.get('src') for i in page]"
   ]
  },
  {
   "cell_type": "markdown",
   "metadata": {},
   "source": [
    "#### Retrieve an arbitary Wikipedia page of \"Python\" and create a list of links on that page"
   ]
  },
  {
   "cell_type": "code",
   "execution_count": 297,
   "metadata": {},
   "outputs": [],
   "source": [
    "# This is the url you will scrape in this exercise\n",
    "url ='https://en.wikipedia.org/wiki/Python' "
   ]
  },
  {
   "cell_type": "code",
   "execution_count": 311,
   "metadata": {},
   "outputs": [
    {
     "data": {
      "text/plain": [
       "[None,\n",
       " '#mw-head',\n",
       " '#p-search',\n",
       " 'https://en.wiktionary.org/wiki/Python',\n",
       " 'https://en.wiktionary.org/wiki/python',\n",
       " '#Snakes',\n",
       " '#Ancient_Greece',\n",
       " '#Media_and_entertainment',\n",
       " '#Computing',\n",
       " '#Engineering',\n",
       " '#Roller_coasters',\n",
       " '#Vehicles',\n",
       " '#Weaponry',\n",
       " '#People',\n",
       " '#Other_uses',\n",
       " '#See_also',\n",
       " '/w/index.php?title=Python&action=edit&section=1',\n",
       " '/wiki/Pythonidae',\n",
       " '/wiki/Python_(genus)',\n",
       " '/w/index.php?title=Python&action=edit&section=2',\n",
       " '/wiki/Python_(mythology)',\n",
       " '/wiki/Python_of_Aenus',\n",
       " '/wiki/Python_(painter)',\n",
       " '/wiki/Python_of_Byzantium',\n",
       " '/wiki/Python_of_Catana',\n",
       " '/w/index.php?title=Python&action=edit&section=3',\n",
       " '/wiki/Python_(film)',\n",
       " '/wiki/Pythons_2',\n",
       " '/wiki/Monty_Python',\n",
       " '/wiki/Python_(Monty)_Pictures',\n",
       " '/w/index.php?title=Python&action=edit&section=4',\n",
       " '/wiki/Python_(programming_language)',\n",
       " '/wiki/CPython',\n",
       " '/wiki/CMU_Common_Lisp',\n",
       " '/wiki/PERQ#PERQ_3',\n",
       " '/w/index.php?title=Python&action=edit&section=5',\n",
       " '/w/index.php?title=Python&action=edit&section=6',\n",
       " '/wiki/Python_(Busch_Gardens_Tampa_Bay)',\n",
       " '/wiki/Python_(Coney_Island,_Cincinnati,_Ohio)',\n",
       " '/wiki/Python_(Efteling)',\n",
       " '/w/index.php?title=Python&action=edit&section=7',\n",
       " '/wiki/Python_(automobile_maker)',\n",
       " '/wiki/Python_(Ford_prototype)',\n",
       " '/w/index.php?title=Python&action=edit&section=8',\n",
       " '/wiki/Colt_Python',\n",
       " '/wiki/Python_(missile)',\n",
       " '/wiki/Python_(nuclear_primary)',\n",
       " '/w/index.php?title=Python&action=edit&section=9',\n",
       " '/wiki/Python_Anghelo',\n",
       " '/w/index.php?title=Python&action=edit&section=10',\n",
       " '/wiki/PYTHON',\n",
       " '/w/index.php?title=Python&action=edit&section=11',\n",
       " '/wiki/Cython',\n",
       " '/wiki/Pyton',\n",
       " '/wiki/File:Disambig_gray.svg',\n",
       " '/wiki/Help:Disambiguation',\n",
       " '//en.wikipedia.org/w/index.php?title=Special:WhatLinksHere/Python&namespace=0',\n",
       " 'https://en.wikipedia.org/w/index.php?title=Python&oldid=905477736',\n",
       " '/wiki/Help:Category',\n",
       " '/wiki/Category:Disambiguation_pages',\n",
       " '/wiki/Category:Disambiguation_pages_with_short_description',\n",
       " '/wiki/Category:All_article_disambiguation_pages',\n",
       " '/wiki/Category:All_disambiguation_pages',\n",
       " '/wiki/Category:Animal_common_name_disambiguation_pages',\n",
       " '/wiki/Special:MyTalk',\n",
       " '/wiki/Special:MyContributions',\n",
       " '/w/index.php?title=Special:CreateAccount&returnto=Python',\n",
       " '/w/index.php?title=Special:UserLogin&returnto=Python',\n",
       " '/wiki/Python',\n",
       " '/wiki/Talk:Python',\n",
       " '/wiki/Python',\n",
       " '/w/index.php?title=Python&action=edit',\n",
       " '/w/index.php?title=Python&action=history',\n",
       " '/wiki/Main_Page',\n",
       " '/wiki/Main_Page',\n",
       " '/wiki/Portal:Contents',\n",
       " '/wiki/Portal:Featured_content',\n",
       " '/wiki/Portal:Current_events',\n",
       " '/wiki/Special:Random',\n",
       " 'https://donate.wikimedia.org/wiki/Special:FundraiserRedirector?utm_source=donate&utm_medium=sidebar&utm_campaign=C13_en.wikipedia.org&uselang=en',\n",
       " '//shop.wikimedia.org',\n",
       " '/wiki/Help:Contents',\n",
       " '/wiki/Wikipedia:About',\n",
       " '/wiki/Wikipedia:Community_portal',\n",
       " '/wiki/Special:RecentChanges',\n",
       " '//en.wikipedia.org/wiki/Wikipedia:Contact_us',\n",
       " '/wiki/Special:WhatLinksHere/Python',\n",
       " '/wiki/Special:RecentChangesLinked/Python',\n",
       " '/wiki/Wikipedia:File_Upload_Wizard',\n",
       " '/wiki/Special:SpecialPages',\n",
       " '/w/index.php?title=Python&oldid=905477736',\n",
       " '/w/index.php?title=Python&action=info',\n",
       " 'https://www.wikidata.org/wiki/Special:EntityPage/Q747452',\n",
       " '/w/index.php?title=Special:CiteThisPage&page=Python&id=905477736',\n",
       " 'https://commons.wikimedia.org/wiki/Category:Python',\n",
       " '/w/index.php?title=Special:Book&bookcmd=book_creator&referer=Python',\n",
       " '/w/index.php?title=Special:ElectronPdf&page=Python&action=show-download-screen',\n",
       " '/w/index.php?title=Python&printable=yes',\n",
       " 'https://af.wikipedia.org/wiki/Python',\n",
       " 'https://als.wikipedia.org/wiki/Python',\n",
       " 'https://az.wikipedia.org/wiki/Python',\n",
       " 'https://bn.wikipedia.org/wiki/%E0%A6%AA%E0%A6%BE%E0%A6%87%E0%A6%A5%E0%A6%A8_(%E0%A6%A6%E0%A7%8D%E0%A6%AC%E0%A7%8D%E0%A6%AF%E0%A6%B0%E0%A7%8D%E0%A6%A5%E0%A6%A4%E0%A6%BE_%E0%A6%A8%E0%A6%BF%E0%A6%B0%E0%A6%B8%E0%A6%A8)',\n",
       " 'https://be.wikipedia.org/wiki/Python',\n",
       " 'https://bg.wikipedia.org/wiki/%D0%9F%D0%B8%D1%82%D0%BE%D0%BD_(%D0%BF%D0%BE%D1%8F%D1%81%D0%BD%D0%B5%D0%BD%D0%B8%D0%B5)',\n",
       " 'https://cs.wikipedia.org/wiki/Python_(rozcestn%C3%ADk)',\n",
       " 'https://da.wikipedia.org/wiki/Python',\n",
       " 'https://de.wikipedia.org/wiki/Python',\n",
       " 'https://eo.wikipedia.org/wiki/Pitono_(apartigilo)',\n",
       " 'https://eu.wikipedia.org/wiki/Python_(argipena)',\n",
       " 'https://fa.wikipedia.org/wiki/%D9%BE%D8%A7%DB%8C%D8%AA%D9%88%D9%86',\n",
       " 'https://fr.wikipedia.org/wiki/Python',\n",
       " 'https://ko.wikipedia.org/wiki/%ED%8C%8C%EC%9D%B4%EC%84%A0',\n",
       " 'https://hr.wikipedia.org/wiki/Python_(razdvojba)',\n",
       " 'https://io.wikipedia.org/wiki/Pitono',\n",
       " 'https://id.wikipedia.org/wiki/Python',\n",
       " 'https://ia.wikipedia.org/wiki/Python_(disambiguation)',\n",
       " 'https://is.wikipedia.org/wiki/Python_(a%C3%B0greining)',\n",
       " 'https://it.wikipedia.org/wiki/Python_(disambigua)',\n",
       " 'https://he.wikipedia.org/wiki/%D7%A4%D7%99%D7%AA%D7%95%D7%9F',\n",
       " 'https://ka.wikipedia.org/wiki/%E1%83%9E%E1%83%98%E1%83%97%E1%83%9D%E1%83%9C%E1%83%98_(%E1%83%9B%E1%83%A0%E1%83%90%E1%83%95%E1%83%90%E1%83%9A%E1%83%9B%E1%83%9C%E1%83%98%E1%83%A8%E1%83%95%E1%83%9C%E1%83%94%E1%83%9A%E1%83%9D%E1%83%95%E1%83%90%E1%83%9C%E1%83%98)',\n",
       " 'https://kg.wikipedia.org/wiki/Mboma_(nyoka)',\n",
       " 'https://la.wikipedia.org/wiki/Python_(discretiva)',\n",
       " 'https://lb.wikipedia.org/wiki/Python',\n",
       " 'https://hu.wikipedia.org/wiki/Python_(egy%C3%A9rtelm%C5%B1s%C3%ADt%C5%91_lap)',\n",
       " 'https://mr.wikipedia.org/wiki/%E0%A4%AA%E0%A4%BE%E0%A4%AF%E0%A4%A5%E0%A5%89%E0%A4%A8_(%E0%A4%86%E0%A4%9C%E0%A5%8D%E0%A4%9E%E0%A4%BE%E0%A4%B5%E0%A4%B2%E0%A5%80_%E0%A4%AD%E0%A4%BE%E0%A4%B7%E0%A4%BE)',\n",
       " 'https://nl.wikipedia.org/wiki/Python',\n",
       " 'https://ja.wikipedia.org/wiki/%E3%83%91%E3%82%A4%E3%82%BD%E3%83%B3',\n",
       " 'https://no.wikipedia.org/wiki/Pyton',\n",
       " 'https://pl.wikipedia.org/wiki/Pyton',\n",
       " 'https://pt.wikipedia.org/wiki/Python_(desambigua%C3%A7%C3%A3o)',\n",
       " 'https://ru.wikipedia.org/wiki/Python_(%D0%B7%D0%BD%D0%B0%D1%87%D0%B5%D0%BD%D0%B8%D1%8F)',\n",
       " 'https://sd.wikipedia.org/wiki/%D8%A7%D8%B1%DA%99',\n",
       " 'https://sk.wikipedia.org/wiki/Python',\n",
       " 'https://sh.wikipedia.org/wiki/Python',\n",
       " 'https://fi.wikipedia.org/wiki/Python',\n",
       " 'https://sv.wikipedia.org/wiki/Pyton',\n",
       " 'https://th.wikipedia.org/wiki/%E0%B9%84%E0%B8%9E%E0%B8%97%E0%B8%AD%E0%B8%99',\n",
       " 'https://tr.wikipedia.org/wiki/Python',\n",
       " 'https://uk.wikipedia.org/wiki/%D0%9F%D1%96%D1%84%D0%BE%D0%BD',\n",
       " 'https://ur.wikipedia.org/wiki/%D9%BE%D8%A7%D8%A6%DB%8C%D8%AA%DA%BE%D9%88%D9%86',\n",
       " 'https://vi.wikipedia.org/wiki/Python',\n",
       " 'https://zh.wikipedia.org/wiki/Python_(%E6%B6%88%E6%AD%A7%E4%B9%89)',\n",
       " 'https://www.wikidata.org/wiki/Special:EntityPage/Q747452#sitelinks-wikipedia',\n",
       " '//en.wikipedia.org/wiki/Wikipedia:Text_of_Creative_Commons_Attribution-ShareAlike_3.0_Unported_License',\n",
       " '//creativecommons.org/licenses/by-sa/3.0/',\n",
       " '//foundation.wikimedia.org/wiki/Terms_of_Use',\n",
       " '//foundation.wikimedia.org/wiki/Privacy_policy',\n",
       " '//www.wikimediafoundation.org/',\n",
       " 'https://foundation.wikimedia.org/wiki/Privacy_policy',\n",
       " '/wiki/Wikipedia:About',\n",
       " '/wiki/Wikipedia:General_disclaimer',\n",
       " '//en.wikipedia.org/wiki/Wikipedia:Contact_us',\n",
       " 'https://www.mediawiki.org/wiki/Special:MyLanguage/How_to_contribute',\n",
       " 'https://foundation.wikimedia.org/wiki/Cookie_statement',\n",
       " '//en.m.wikipedia.org/w/index.php?title=Python&mobileaction=toggle_view_mobile',\n",
       " 'https://wikimediafoundation.org/',\n",
       " 'https://www.mediawiki.org/']"
      ]
     },
     "execution_count": 311,
     "metadata": {},
     "output_type": "execute_result"
    }
   ],
   "source": [
    "html = requests.get(url).content\n",
    "page = BeautifulSoup(html,'lxml')\n",
    "page = page.find_all('a')\n",
    "[i.get('href') for i in page]"
   ]
  },
  {
   "cell_type": "markdown",
   "metadata": {},
   "source": [
    "#### Number of Titles that have changed in the United States Code since its last release point "
   ]
  },
  {
   "cell_type": "code",
   "execution_count": null,
   "metadata": {},
   "outputs": [],
   "source": [
    "# This is the url you will scrape in this exercise\n",
    "url = 'http://uscode.house.gov/download/download.shtml'"
   ]
  },
  {
   "cell_type": "code",
   "execution_count": null,
   "metadata": {},
   "outputs": [],
   "source": [
    "#your code"
   ]
  },
  {
   "cell_type": "markdown",
   "metadata": {},
   "source": [
    "#### A Python list with the top ten FBI's Most Wanted names "
   ]
  },
  {
   "cell_type": "code",
   "execution_count": null,
   "metadata": {},
   "outputs": [],
   "source": [
    "# This is the url you will scrape in this exercise\n",
    "url = 'https://www.fbi.gov/wanted/topten'"
   ]
  },
  {
   "cell_type": "code",
   "execution_count": null,
   "metadata": {},
   "outputs": [],
   "source": [
    "#your code "
   ]
  },
  {
   "cell_type": "markdown",
   "metadata": {},
   "source": [
    "####  20 latest earthquakes info (date, time, latitude, longitude and region name) by the EMSC as a pandas dataframe"
   ]
  },
  {
   "cell_type": "code",
   "execution_count": 312,
   "metadata": {},
   "outputs": [],
   "source": [
    "# This is the url you will scrape in this exercise\n",
    "url = 'https://www.emsc-csem.org/Earthquake/'"
   ]
  },
  {
   "cell_type": "code",
   "execution_count": 462,
   "metadata": {},
   "outputs": [
    {
     "data": {
      "text/html": [
       "<div>\n",
       "<style scoped>\n",
       "    .dataframe tbody tr th:only-of-type {\n",
       "        vertical-align: middle;\n",
       "    }\n",
       "\n",
       "    .dataframe tbody tr th {\n",
       "        vertical-align: top;\n",
       "    }\n",
       "\n",
       "    .dataframe thead th {\n",
       "        text-align: right;\n",
       "    }\n",
       "</style>\n",
       "<table border=\"1\" class=\"dataframe\">\n",
       "  <thead>\n",
       "    <tr style=\"text-align: right;\">\n",
       "      <th></th>\n",
       "      <th>date</th>\n",
       "      <th>time</th>\n",
       "      <th>Latitude</th>\n",
       "      <th>Longitude</th>\n",
       "      <th>Region</th>\n",
       "    </tr>\n",
       "  </thead>\n",
       "  <tbody>\n",
       "    <tr>\n",
       "      <th>0</th>\n",
       "      <td>2019-07-20</td>\n",
       "      <td>12:30:24</td>\n",
       "      <td>46.24  N</td>\n",
       "      <td>14.89  E</td>\n",
       "      <td>SLOVENIA</td>\n",
       "    </tr>\n",
       "    <tr>\n",
       "      <th>1</th>\n",
       "      <td>2019-07-20</td>\n",
       "      <td>12:27:52</td>\n",
       "      <td>6.86  S</td>\n",
       "      <td>131.24  E</td>\n",
       "      <td>KEP. TANIMBAR REGION, INDONESIA</td>\n",
       "    </tr>\n",
       "    <tr>\n",
       "      <th>2</th>\n",
       "      <td>2019-07-20</td>\n",
       "      <td>12:19:49</td>\n",
       "      <td>35.85  N</td>\n",
       "      <td>117.71  W</td>\n",
       "      <td>CENTRAL CALIFORNIA</td>\n",
       "    </tr>\n",
       "    <tr>\n",
       "      <th>3</th>\n",
       "      <td>2019-07-20</td>\n",
       "      <td>12:18:31</td>\n",
       "      <td>44.37  N</td>\n",
       "      <td>6.89  E</td>\n",
       "      <td>FRANCE</td>\n",
       "    </tr>\n",
       "    <tr>\n",
       "      <th>4</th>\n",
       "      <td>2019-07-20</td>\n",
       "      <td>11:54:20</td>\n",
       "      <td>29.15  S</td>\n",
       "      <td>111.48  W</td>\n",
       "      <td>EASTER ISLAND REGION</td>\n",
       "    </tr>\n",
       "    <tr>\n",
       "      <th>5</th>\n",
       "      <td>2019-07-20</td>\n",
       "      <td>11:53:42</td>\n",
       "      <td>46.25  N</td>\n",
       "      <td>14.82  E</td>\n",
       "      <td>SLOVENIA</td>\n",
       "    </tr>\n",
       "    <tr>\n",
       "      <th>6</th>\n",
       "      <td>2019-07-20</td>\n",
       "      <td>11:51:42</td>\n",
       "      <td>43.56  S</td>\n",
       "      <td>172.70  E</td>\n",
       "      <td>SOUTH ISLAND OF NEW ZEALAND</td>\n",
       "    </tr>\n",
       "    <tr>\n",
       "      <th>7</th>\n",
       "      <td>2019-07-20</td>\n",
       "      <td>11:50:54</td>\n",
       "      <td>35.66  N</td>\n",
       "      <td>117.53  W</td>\n",
       "      <td>SOUTHERN CALIFORNIA</td>\n",
       "    </tr>\n",
       "    <tr>\n",
       "      <th>8</th>\n",
       "      <td>2019-07-20</td>\n",
       "      <td>11:49:48</td>\n",
       "      <td>16.33  N</td>\n",
       "      <td>98.27  W</td>\n",
       "      <td>OAXACA, MEXICO</td>\n",
       "    </tr>\n",
       "    <tr>\n",
       "      <th>9</th>\n",
       "      <td>2019-07-20</td>\n",
       "      <td>11:09:10</td>\n",
       "      <td>0.21  N</td>\n",
       "      <td>126.43  E</td>\n",
       "      <td>MOLUCCA SEA</td>\n",
       "    </tr>\n",
       "    <tr>\n",
       "      <th>10</th>\n",
       "      <td>2019-07-20</td>\n",
       "      <td>11:01:45</td>\n",
       "      <td>37.33  N</td>\n",
       "      <td>29.82  E</td>\n",
       "      <td>WESTERN TURKEY</td>\n",
       "    </tr>\n",
       "    <tr>\n",
       "      <th>11</th>\n",
       "      <td>2019-07-20</td>\n",
       "      <td>10:59:49</td>\n",
       "      <td>36.13  N</td>\n",
       "      <td>117.87  W</td>\n",
       "      <td>CENTRAL CALIFORNIA</td>\n",
       "    </tr>\n",
       "    <tr>\n",
       "      <th>12</th>\n",
       "      <td>2019-07-20</td>\n",
       "      <td>10:57:50</td>\n",
       "      <td>35.62  N</td>\n",
       "      <td>117.47  W</td>\n",
       "      <td>SOUTHERN CALIFORNIA</td>\n",
       "    </tr>\n",
       "    <tr>\n",
       "      <th>13</th>\n",
       "      <td>2019-07-20</td>\n",
       "      <td>10:48:19</td>\n",
       "      <td>35.67  N</td>\n",
       "      <td>117.48  W</td>\n",
       "      <td>SOUTHERN CALIFORNIA</td>\n",
       "    </tr>\n",
       "    <tr>\n",
       "      <th>14</th>\n",
       "      <td>2019-07-20</td>\n",
       "      <td>10:41:40</td>\n",
       "      <td>24.09  S</td>\n",
       "      <td>67.22  W</td>\n",
       "      <td>SALTA, ARGENTINA</td>\n",
       "    </tr>\n",
       "    <tr>\n",
       "      <th>15</th>\n",
       "      <td>2019-07-20</td>\n",
       "      <td>10:32:57</td>\n",
       "      <td>35.71  N</td>\n",
       "      <td>117.51  W</td>\n",
       "      <td>SOUTHERN CALIFORNIA</td>\n",
       "    </tr>\n",
       "    <tr>\n",
       "      <th>16</th>\n",
       "      <td>2019-07-20</td>\n",
       "      <td>09:58:13</td>\n",
       "      <td>35.79  N</td>\n",
       "      <td>117.60  W</td>\n",
       "      <td>SOUTHERN CALIFORNIA</td>\n",
       "    </tr>\n",
       "    <tr>\n",
       "      <th>17</th>\n",
       "      <td>2019-07-20</td>\n",
       "      <td>09:39:11</td>\n",
       "      <td>15.91  N</td>\n",
       "      <td>95.26  W</td>\n",
       "      <td>OFFSHORE OAXACA, MEXICO</td>\n",
       "    </tr>\n",
       "    <tr>\n",
       "      <th>18</th>\n",
       "      <td>2019-07-20</td>\n",
       "      <td>09:38:08</td>\n",
       "      <td>16.29  N</td>\n",
       "      <td>98.21  W</td>\n",
       "      <td>OAXACA, MEXICO</td>\n",
       "    </tr>\n",
       "    <tr>\n",
       "      <th>19</th>\n",
       "      <td>2019-07-20</td>\n",
       "      <td>09:36:14</td>\n",
       "      <td>14.38  N</td>\n",
       "      <td>93.37  W</td>\n",
       "      <td>OFF COAST OF CHIAPAS, MEXICO</td>\n",
       "    </tr>\n",
       "    <tr>\n",
       "      <th>20</th>\n",
       "      <td>2019-07-20</td>\n",
       "      <td>09:30:12</td>\n",
       "      <td>36.86  N</td>\n",
       "      <td>21.06  E</td>\n",
       "      <td>SOUTHERN GREECE</td>\n",
       "    </tr>\n",
       "    <tr>\n",
       "      <th>21</th>\n",
       "      <td>2019-07-20</td>\n",
       "      <td>09:29:04</td>\n",
       "      <td>29.47  S</td>\n",
       "      <td>111.81  W</td>\n",
       "      <td>EASTER ISLAND REGION</td>\n",
       "    </tr>\n",
       "    <tr>\n",
       "      <th>22</th>\n",
       "      <td>2019-07-20</td>\n",
       "      <td>09:13:53</td>\n",
       "      <td>19.47  N</td>\n",
       "      <td>104.30  W</td>\n",
       "      <td>JALISCO, MEXICO</td>\n",
       "    </tr>\n",
       "    <tr>\n",
       "      <th>23</th>\n",
       "      <td>2019-07-20</td>\n",
       "      <td>09:08:17</td>\n",
       "      <td>18.55  N</td>\n",
       "      <td>69.48  W</td>\n",
       "      <td>DOMINICAN REPUBLIC</td>\n",
       "    </tr>\n",
       "    <tr>\n",
       "      <th>24</th>\n",
       "      <td>2019-07-20</td>\n",
       "      <td>08:55:02</td>\n",
       "      <td>36.07  N</td>\n",
       "      <td>117.86  W</td>\n",
       "      <td>CENTRAL CALIFORNIA</td>\n",
       "    </tr>\n",
       "    <tr>\n",
       "      <th>25</th>\n",
       "      <td>2019-07-20</td>\n",
       "      <td>08:54:06</td>\n",
       "      <td>37.34  N</td>\n",
       "      <td>29.85  E</td>\n",
       "      <td>WESTERN TURKEY</td>\n",
       "    </tr>\n",
       "    <tr>\n",
       "      <th>26</th>\n",
       "      <td>2019-07-20</td>\n",
       "      <td>08:50:17</td>\n",
       "      <td>35.72  N</td>\n",
       "      <td>117.53  W</td>\n",
       "      <td>SOUTHERN CALIFORNIA</td>\n",
       "    </tr>\n",
       "    <tr>\n",
       "      <th>27</th>\n",
       "      <td>2019-07-20</td>\n",
       "      <td>08:41:36</td>\n",
       "      <td>15.11  N</td>\n",
       "      <td>96.44  W</td>\n",
       "      <td>OFFSHORE OAXACA, MEXICO</td>\n",
       "    </tr>\n",
       "    <tr>\n",
       "      <th>28</th>\n",
       "      <td>2019-07-20</td>\n",
       "      <td>08:33:33</td>\n",
       "      <td>37.34  N</td>\n",
       "      <td>29.83  E</td>\n",
       "      <td>WESTERN TURKEY</td>\n",
       "    </tr>\n",
       "    <tr>\n",
       "      <th>29</th>\n",
       "      <td>2019-07-20</td>\n",
       "      <td>08:23:32</td>\n",
       "      <td>30.73  S</td>\n",
       "      <td>71.44  W</td>\n",
       "      <td>COQUIMBO, CHILE</td>\n",
       "    </tr>\n",
       "    <tr>\n",
       "      <th>30</th>\n",
       "      <td>2019-07-20</td>\n",
       "      <td>08:19:18</td>\n",
       "      <td>35.72  N</td>\n",
       "      <td>117.53  W</td>\n",
       "      <td>SOUTHERN CALIFORNIA</td>\n",
       "    </tr>\n",
       "    <tr>\n",
       "      <th>31</th>\n",
       "      <td>2019-07-20</td>\n",
       "      <td>08:14:16</td>\n",
       "      <td>35.59  N</td>\n",
       "      <td>117.42  W</td>\n",
       "      <td>SOUTHERN CALIFORNIA</td>\n",
       "    </tr>\n",
       "    <tr>\n",
       "      <th>32</th>\n",
       "      <td>2019-07-20</td>\n",
       "      <td>08:14:13</td>\n",
       "      <td>37.37  N</td>\n",
       "      <td>29.82  E</td>\n",
       "      <td>WESTERN TURKEY</td>\n",
       "    </tr>\n",
       "    <tr>\n",
       "      <th>33</th>\n",
       "      <td>2019-07-20</td>\n",
       "      <td>08:10:25</td>\n",
       "      <td>36.64  N</td>\n",
       "      <td>26.61  E</td>\n",
       "      <td>DODECANESE ISLANDS, GREECE</td>\n",
       "    </tr>\n",
       "    <tr>\n",
       "      <th>34</th>\n",
       "      <td>2019-07-20</td>\n",
       "      <td>08:03:12</td>\n",
       "      <td>35.69  N</td>\n",
       "      <td>117.53  W</td>\n",
       "      <td>SOUTHERN CALIFORNIA</td>\n",
       "    </tr>\n",
       "    <tr>\n",
       "      <th>35</th>\n",
       "      <td>2019-07-20</td>\n",
       "      <td>08:00:09</td>\n",
       "      <td>31.68  S</td>\n",
       "      <td>69.48  W</td>\n",
       "      <td>SAN JUAN, ARGENTINA</td>\n",
       "    </tr>\n",
       "    <tr>\n",
       "      <th>36</th>\n",
       "      <td>2019-07-20</td>\n",
       "      <td>07:47:27</td>\n",
       "      <td>35.67  N</td>\n",
       "      <td>117.51  W</td>\n",
       "      <td>SOUTHERN CALIFORNIA</td>\n",
       "    </tr>\n",
       "    <tr>\n",
       "      <th>37</th>\n",
       "      <td>2019-07-20</td>\n",
       "      <td>07:41:33</td>\n",
       "      <td>36.11  N</td>\n",
       "      <td>117.88  W</td>\n",
       "      <td>CENTRAL CALIFORNIA</td>\n",
       "    </tr>\n",
       "    <tr>\n",
       "      <th>38</th>\n",
       "      <td>2019-07-20</td>\n",
       "      <td>07:12:09</td>\n",
       "      <td>14.65  N</td>\n",
       "      <td>92.65  W</td>\n",
       "      <td>OFFSHORE CHIAPAS, MEXICO</td>\n",
       "    </tr>\n",
       "    <tr>\n",
       "      <th>39</th>\n",
       "      <td>2019-07-20</td>\n",
       "      <td>07:11:52</td>\n",
       "      <td>24.11  S</td>\n",
       "      <td>67.39  W</td>\n",
       "      <td>SALTA, ARGENTINA</td>\n",
       "    </tr>\n",
       "    <tr>\n",
       "      <th>40</th>\n",
       "      <td>2019-07-20</td>\n",
       "      <td>07:04:02</td>\n",
       "      <td>35.68  N</td>\n",
       "      <td>117.48  W</td>\n",
       "      <td>SOUTHERN CALIFORNIA</td>\n",
       "    </tr>\n",
       "    <tr>\n",
       "      <th>41</th>\n",
       "      <td>2019-07-20</td>\n",
       "      <td>06:49:22</td>\n",
       "      <td>61.89  N</td>\n",
       "      <td>151.89  W</td>\n",
       "      <td>SOUTHERN ALASKA</td>\n",
       "    </tr>\n",
       "    <tr>\n",
       "      <th>42</th>\n",
       "      <td>2019-07-20</td>\n",
       "      <td>06:42:48</td>\n",
       "      <td>16.39  N</td>\n",
       "      <td>98.36  W</td>\n",
       "      <td>OAXACA, MEXICO</td>\n",
       "    </tr>\n",
       "    <tr>\n",
       "      <th>43</th>\n",
       "      <td>2019-07-20</td>\n",
       "      <td>06:38:30</td>\n",
       "      <td>37.34  N</td>\n",
       "      <td>29.81  E</td>\n",
       "      <td>WESTERN TURKEY</td>\n",
       "    </tr>\n",
       "    <tr>\n",
       "      <th>44</th>\n",
       "      <td>2019-07-20</td>\n",
       "      <td>06:37:53</td>\n",
       "      <td>0.73  S</td>\n",
       "      <td>128.43  E</td>\n",
       "      <td>HALMAHERA, INDONESIA</td>\n",
       "    </tr>\n",
       "    <tr>\n",
       "      <th>45</th>\n",
       "      <td>2019-07-20</td>\n",
       "      <td>06:36:47</td>\n",
       "      <td>39.02  N</td>\n",
       "      <td>118.73  W</td>\n",
       "      <td>NEVADA</td>\n",
       "    </tr>\n",
       "    <tr>\n",
       "      <th>46</th>\n",
       "      <td>2019-07-20</td>\n",
       "      <td>06:31:08</td>\n",
       "      <td>38.79  N</td>\n",
       "      <td>38.15  E</td>\n",
       "      <td>EASTERN TURKEY</td>\n",
       "    </tr>\n",
       "    <tr>\n",
       "      <th>47</th>\n",
       "      <td>2019-07-20</td>\n",
       "      <td>06:22:59</td>\n",
       "      <td>37.57  N</td>\n",
       "      <td>118.86  W</td>\n",
       "      <td>CENTRAL CALIFORNIA</td>\n",
       "    </tr>\n",
       "    <tr>\n",
       "      <th>48</th>\n",
       "      <td>2019-07-20</td>\n",
       "      <td>06:21:01</td>\n",
       "      <td>37.32  N</td>\n",
       "      <td>29.85  E</td>\n",
       "      <td>WESTERN TURKEY</td>\n",
       "    </tr>\n",
       "  </tbody>\n",
       "</table>\n",
       "</div>"
      ],
      "text/plain": [
       "          date      time    Latitude    Longitude  \\\n",
       "0   2019-07-20  12:30:24  46.24  N     14.89  E     \n",
       "1   2019-07-20  12:27:52   6.86  S    131.24  E     \n",
       "2   2019-07-20  12:19:49  35.85  N    117.71  W     \n",
       "3   2019-07-20  12:18:31  44.37  N      6.89  E     \n",
       "4   2019-07-20  11:54:20  29.15  S    111.48  W     \n",
       "5   2019-07-20  11:53:42  46.25  N     14.82  E     \n",
       "6   2019-07-20  11:51:42  43.56  S    172.70  E     \n",
       "7   2019-07-20  11:50:54  35.66  N    117.53  W     \n",
       "8   2019-07-20  11:49:48  16.33  N     98.27  W     \n",
       "9   2019-07-20  11:09:10   0.21  N    126.43  E     \n",
       "10  2019-07-20  11:01:45  37.33  N     29.82  E     \n",
       "11  2019-07-20  10:59:49  36.13  N    117.87  W     \n",
       "12  2019-07-20  10:57:50  35.62  N    117.47  W     \n",
       "13  2019-07-20  10:48:19  35.67  N    117.48  W     \n",
       "14  2019-07-20  10:41:40  24.09  S     67.22  W     \n",
       "15  2019-07-20  10:32:57  35.71  N    117.51  W     \n",
       "16  2019-07-20  09:58:13  35.79  N    117.60  W     \n",
       "17  2019-07-20  09:39:11  15.91  N     95.26  W     \n",
       "18  2019-07-20  09:38:08  16.29  N     98.21  W     \n",
       "19  2019-07-20  09:36:14  14.38  N     93.37  W     \n",
       "20  2019-07-20  09:30:12  36.86  N     21.06  E     \n",
       "21  2019-07-20  09:29:04  29.47  S    111.81  W     \n",
       "22  2019-07-20  09:13:53  19.47  N    104.30  W     \n",
       "23  2019-07-20  09:08:17  18.55  N     69.48  W     \n",
       "24  2019-07-20  08:55:02  36.07  N    117.86  W     \n",
       "25  2019-07-20  08:54:06  37.34  N     29.85  E     \n",
       "26  2019-07-20  08:50:17  35.72  N    117.53  W     \n",
       "27  2019-07-20  08:41:36  15.11  N     96.44  W     \n",
       "28  2019-07-20  08:33:33  37.34  N     29.83  E     \n",
       "29  2019-07-20  08:23:32  30.73  S     71.44  W     \n",
       "30  2019-07-20  08:19:18  35.72  N    117.53  W     \n",
       "31  2019-07-20  08:14:16  35.59  N    117.42  W     \n",
       "32  2019-07-20  08:14:13  37.37  N     29.82  E     \n",
       "33  2019-07-20  08:10:25  36.64  N     26.61  E     \n",
       "34  2019-07-20  08:03:12  35.69  N    117.53  W     \n",
       "35  2019-07-20  08:00:09  31.68  S     69.48  W     \n",
       "36  2019-07-20  07:47:27  35.67  N    117.51  W     \n",
       "37  2019-07-20  07:41:33  36.11  N    117.88  W     \n",
       "38  2019-07-20  07:12:09  14.65  N     92.65  W     \n",
       "39  2019-07-20  07:11:52  24.11  S     67.39  W     \n",
       "40  2019-07-20  07:04:02  35.68  N    117.48  W     \n",
       "41  2019-07-20  06:49:22  61.89  N    151.89  W     \n",
       "42  2019-07-20  06:42:48  16.39  N     98.36  W     \n",
       "43  2019-07-20  06:38:30  37.34  N     29.81  E     \n",
       "44  2019-07-20  06:37:53   0.73  S    128.43  E     \n",
       "45  2019-07-20  06:36:47  39.02  N    118.73  W     \n",
       "46  2019-07-20  06:31:08  38.79  N     38.15  E     \n",
       "47  2019-07-20  06:22:59  37.57  N    118.86  W     \n",
       "48  2019-07-20  06:21:01  37.32  N     29.85  E     \n",
       "\n",
       "                              Region  \n",
       "0                           SLOVENIA  \n",
       "1    KEP. TANIMBAR REGION, INDONESIA  \n",
       "2                 CENTRAL CALIFORNIA  \n",
       "3                             FRANCE  \n",
       "4               EASTER ISLAND REGION  \n",
       "5                           SLOVENIA  \n",
       "6        SOUTH ISLAND OF NEW ZEALAND  \n",
       "7                SOUTHERN CALIFORNIA  \n",
       "8                     OAXACA, MEXICO  \n",
       "9                        MOLUCCA SEA  \n",
       "10                    WESTERN TURKEY  \n",
       "11                CENTRAL CALIFORNIA  \n",
       "12               SOUTHERN CALIFORNIA  \n",
       "13               SOUTHERN CALIFORNIA  \n",
       "14                  SALTA, ARGENTINA  \n",
       "15               SOUTHERN CALIFORNIA  \n",
       "16               SOUTHERN CALIFORNIA  \n",
       "17           OFFSHORE OAXACA, MEXICO  \n",
       "18                    OAXACA, MEXICO  \n",
       "19      OFF COAST OF CHIAPAS, MEXICO  \n",
       "20                   SOUTHERN GREECE  \n",
       "21              EASTER ISLAND REGION  \n",
       "22                   JALISCO, MEXICO  \n",
       "23                DOMINICAN REPUBLIC  \n",
       "24                CENTRAL CALIFORNIA  \n",
       "25                    WESTERN TURKEY  \n",
       "26               SOUTHERN CALIFORNIA  \n",
       "27           OFFSHORE OAXACA, MEXICO  \n",
       "28                    WESTERN TURKEY  \n",
       "29                   COQUIMBO, CHILE  \n",
       "30               SOUTHERN CALIFORNIA  \n",
       "31               SOUTHERN CALIFORNIA  \n",
       "32                    WESTERN TURKEY  \n",
       "33        DODECANESE ISLANDS, GREECE  \n",
       "34               SOUTHERN CALIFORNIA  \n",
       "35               SAN JUAN, ARGENTINA  \n",
       "36               SOUTHERN CALIFORNIA  \n",
       "37                CENTRAL CALIFORNIA  \n",
       "38          OFFSHORE CHIAPAS, MEXICO  \n",
       "39                  SALTA, ARGENTINA  \n",
       "40               SOUTHERN CALIFORNIA  \n",
       "41                   SOUTHERN ALASKA  \n",
       "42                    OAXACA, MEXICO  \n",
       "43                    WESTERN TURKEY  \n",
       "44              HALMAHERA, INDONESIA  \n",
       "45                            NEVADA  \n",
       "46                    EASTERN TURKEY  \n",
       "47                CENTRAL CALIFORNIA  \n",
       "48                    WESTERN TURKEY  "
      ]
     },
     "execution_count": 462,
     "metadata": {},
     "output_type": "execute_result"
    }
   ],
   "source": [
    "html = requests.get(url).content\n",
    "soup = BeautifulSoup(html,'lxml')\n",
    "table = soup.find_all('table')[3]\n",
    "rows = table.find('tbody').find_all('tr')\n",
    "rows = [[tb.text for tb in row.contents] for row in rows]\n",
    "colnames = ['1','2','3','4','5','6','7','8','9','10','11','12','13']\n",
    "data = rows[1:]\n",
    "df = pd.DataFrame(data, columns=colnames)\n",
    "df['date'] = df['13'].apply(lambda z: z[0:10])\n",
    "df['time'] = df['4'].apply(lambda y: y[23:31])\n",
    "df['Latitude'] = df['5'].str.cat(df['6'], sep =\" \") \n",
    "df['Longitude'] = df['7'].str.cat(df['8'], sep =\" \") \n",
    "df['Region'] = df['12']\n",
    "df = df.drop([\"1\",\"2\",\"3\",\"4\",\"5\",\"6\",\"7\",\"8\",\"9\",\"10\",\"11\",\"12\",\"13\"], axis=1)\n",
    "df"
   ]
  },
  {
   "cell_type": "markdown",
   "metadata": {},
   "source": [
    "#### Display the date, days, title, city, country of next 25 hackathon events as a Pandas dataframe table"
   ]
  },
  {
   "cell_type": "code",
   "execution_count": null,
   "metadata": {},
   "outputs": [],
   "source": [
    "# This is the url you will scrape in this exercise\n",
    "url ='https://hackevents.co/hackathons'"
   ]
  },
  {
   "cell_type": "code",
   "execution_count": null,
   "metadata": {},
   "outputs": [],
   "source": [
    "#your code"
   ]
  },
  {
   "cell_type": "markdown",
   "metadata": {},
   "source": [
    "#### Count number of tweets by a given Twitter account."
   ]
  },
  {
   "cell_type": "markdown",
   "metadata": {},
   "source": [
    "You will need to include a ***try/except block*** for account names not found. \n",
    "<br>***Hint:*** the program should count the number of tweets for any provided account"
   ]
  },
  {
   "cell_type": "code",
   "execution_count": null,
   "metadata": {},
   "outputs": [],
   "source": [
    "# This is the url you will scrape in this exercise \n",
    "# You will need to add the account credentials to this url\n",
    "url = 'https://twitter.com/'"
   ]
  },
  {
   "cell_type": "code",
   "execution_count": null,
   "metadata": {},
   "outputs": [],
   "source": [
    "#your code"
   ]
  },
  {
   "cell_type": "markdown",
   "metadata": {},
   "source": [
    "#### Number of followers of a given twitter account"
   ]
  },
  {
   "cell_type": "markdown",
   "metadata": {},
   "source": [
    "You will need to include a ***try/except block*** in case account/s name not found. \n",
    "<br>***Hint:*** the program should count the followers for any provided account"
   ]
  },
  {
   "cell_type": "code",
   "execution_count": null,
   "metadata": {},
   "outputs": [],
   "source": [
    "# This is the url you will scrape in this exercise \n",
    "# You will need to add the account credentials to this url\n",
    "url = 'https://twitter.com/'"
   ]
  },
  {
   "cell_type": "code",
   "execution_count": null,
   "metadata": {},
   "outputs": [],
   "source": [
    "#your code"
   ]
  },
  {
   "cell_type": "markdown",
   "metadata": {},
   "source": [
    "#### List all language names and number of related articles in the order they appear in wikipedia.org"
   ]
  },
  {
   "cell_type": "code",
   "execution_count": null,
   "metadata": {},
   "outputs": [],
   "source": [
    "# This is the url you will scrape in this exercise\n",
    "url = 'https://www.wikipedia.org/'"
   ]
  },
  {
   "cell_type": "code",
   "execution_count": null,
   "metadata": {},
   "outputs": [],
   "source": [
    "#your code"
   ]
  },
  {
   "cell_type": "markdown",
   "metadata": {},
   "source": [
    "#### A list with the different kind of datasets available in data.gov.uk "
   ]
  },
  {
   "cell_type": "code",
   "execution_count": null,
   "metadata": {},
   "outputs": [],
   "source": [
    "# This is the url you will scrape in this exercise\n",
    "url = 'https://data.gov.uk/'"
   ]
  },
  {
   "cell_type": "code",
   "execution_count": null,
   "metadata": {},
   "outputs": [],
   "source": [
    "#your code "
   ]
  },
  {
   "cell_type": "markdown",
   "metadata": {},
   "source": [
    "#### Top 10 languages by number of native speakers stored in a Pandas Dataframe"
   ]
  },
  {
   "cell_type": "code",
   "execution_count": null,
   "metadata": {},
   "outputs": [],
   "source": [
    "# This is the url you will scrape in this exercise\n",
    "url = 'https://en.wikipedia.org/wiki/List_of_languages_by_number_of_native_speakers'"
   ]
  },
  {
   "cell_type": "code",
   "execution_count": null,
   "metadata": {},
   "outputs": [],
   "source": [
    "#your code"
   ]
  },
  {
   "cell_type": "markdown",
   "metadata": {},
   "source": [
    "### BONUS QUESTIONS"
   ]
  },
  {
   "cell_type": "markdown",
   "metadata": {},
   "source": [
    "#### Scrape a certain number of tweets of a given Twitter account."
   ]
  },
  {
   "cell_type": "code",
   "execution_count": null,
   "metadata": {},
   "outputs": [],
   "source": [
    "# This is the url you will scrape in this exercise \n",
    "# You will need to add the account credentials to this url\n",
    "url = 'https://twitter.com/'"
   ]
  },
  {
   "cell_type": "code",
   "execution_count": null,
   "metadata": {},
   "outputs": [],
   "source": [
    "# your code"
   ]
  },
  {
   "cell_type": "markdown",
   "metadata": {},
   "source": [
    "#### IMDB's Top 250 data (movie name, Initial release, director name and stars) as a pandas dataframe"
   ]
  },
  {
   "cell_type": "code",
   "execution_count": null,
   "metadata": {},
   "outputs": [],
   "source": [
    "# This is the url you will scrape in this exercise \n",
    "url = 'https://www.imdb.com/chart/top'"
   ]
  },
  {
   "cell_type": "code",
   "execution_count": null,
   "metadata": {},
   "outputs": [],
   "source": [
    "# your code"
   ]
  },
  {
   "cell_type": "markdown",
   "metadata": {},
   "source": [
    "#### Movie name, year and a brief summary of the top 10 random movies (IMDB) as a pandas dataframe."
   ]
  },
  {
   "cell_type": "code",
   "execution_count": null,
   "metadata": {},
   "outputs": [],
   "source": [
    "#This is the url you will scrape in this exercise\n",
    "url = 'http://www.imdb.com/chart/top'"
   ]
  },
  {
   "cell_type": "code",
   "execution_count": null,
   "metadata": {},
   "outputs": [],
   "source": [
    "#your code"
   ]
  },
  {
   "cell_type": "markdown",
   "metadata": {},
   "source": [
    "#### Find the live weather report (temperature, wind speed, description and weather) of a given city."
   ]
  },
  {
   "cell_type": "code",
   "execution_count": null,
   "metadata": {},
   "outputs": [],
   "source": [
    "#https://openweathermap.org/current\n",
    "city = city=input('Enter the city:')\n",
    "url = 'http://api.openweathermap.org/data/2.5/weather?'+'q='+city+'&APPID=b35975e18dc93725acb092f7272cc6b8&units=metric'"
   ]
  },
  {
   "cell_type": "code",
   "execution_count": null,
   "metadata": {},
   "outputs": [],
   "source": [
    "# your code"
   ]
  },
  {
   "cell_type": "markdown",
   "metadata": {},
   "source": [
    "#### Book name,price and stock availability as a pandas dataframe."
   ]
  },
  {
   "cell_type": "code",
   "execution_count": null,
   "metadata": {},
   "outputs": [],
   "source": [
    "# This is the url you will scrape in this exercise. \n",
    "# It is a fictional bookstore created to be scraped. \n",
    "url = 'http://books.toscrape.com/'"
   ]
  },
  {
   "cell_type": "code",
   "execution_count": null,
   "metadata": {},
   "outputs": [],
   "source": [
    "#your code"
   ]
  }
 ],
 "metadata": {
  "kernelspec": {
   "display_name": "Python 3",
   "language": "python",
   "name": "python3"
  },
  "language_info": {
   "codemirror_mode": {
    "name": "ipython",
    "version": 3
   },
   "file_extension": ".py",
   "mimetype": "text/x-python",
   "name": "python",
   "nbconvert_exporter": "python",
   "pygments_lexer": "ipython3",
   "version": "3.7.3"
  }
 },
 "nbformat": 4,
 "nbformat_minor": 2
}
