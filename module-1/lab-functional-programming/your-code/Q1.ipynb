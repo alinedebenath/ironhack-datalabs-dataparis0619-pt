{
 "cells": [
  {
   "cell_type": "markdown",
   "metadata": {},
   "source": [
    "In the cell below, create a Python function that wraps your previous solution for the Bag of Words lab.\n",
    "\n",
    "Requirements:\n",
    "\n",
    "1. Your function should accept the following parameters:\n",
    "    * `docs` [REQUIRED] - array of document paths.\n",
    "    * `stop_words` [OPTIONAL] - array of stop words. The default value is an empty array.\n",
    "\n",
    "1. Your function should return a Python object that contains the following:\n",
    "    * `bag_of_words` - array of strings of normalized unique words in the corpus.\n",
    "    * `term_freq` - array of the term-frequency vectors."
   ]
  },
  {
   "cell_type": "code",
   "execution_count": 95,
   "metadata": {},
   "outputs": [],
   "source": [
    "# Import required libraries\n",
    "import re\n",
    "import os\n",
    "docs = ['../../lab-string-operations/your-code/doc1.txt','../../lab-string-operations/your-code/doc2.txt', '../../lab-string-operations/your-code/doc3.txt']\n",
    "\n",
    "dicts={}\n",
    "# Define function\n",
    "def get_bow_from_docs(docs, stop_words=[]):\n",
    "    bag_of_words=[]\n",
    "    corpus=[]\n",
    "    \n",
    "    term_freq=[]\n",
    "    new_corpus=[]\n",
    "    for doc in docs:\n",
    "        with open(doc,\"r\") as f:\n",
    "            corpus+=f.readlines()\n",
    "            \n",
    "    for c in corpus:\n",
    "        sans_point=(c.replace('.','').lower())\n",
    "        new_corpus.append(sans_point)\n",
    "        \n",
    "    for c in new_corpus:\n",
    "        words=(re.split(' ',c))\n",
    "        \n",
    "        for x in words:\n",
    "            if x not in bag_of_words:\n",
    "                bag_of_words.append(x)\n",
    "    \n",
    "    for c in new_corpus:\n",
    "        words=(re.split(' ',c))\n",
    "        liste=[]\n",
    "        for b in bag_of_words:\n",
    "            liste.append(words.count(b))\n",
    "        term_freq.append(liste)    \n",
    "    # In the function, first define the variables you will use such as `corpus`, `bag_of_words`, and `term_freq`.\n",
    "   # Now return your output as an object\n",
    "    return {\n",
    "        \"bag_of_words\": bag_of_words,\n",
    "        \"term_freq\": term_freq\n",
    "    }"
   ]
  },
  {
   "cell_type": "markdown",
   "metadata": {},
   "source": [
    "Test your function without stop words. You should see the output like below:\n",
    "\n",
    "```{'bag_of_words': ['ironhack', 'is', 'cool', 'i', 'love', 'am', 'a', 'student', 'at'], 'term_freq': [[1, 1, 1, 0, 0, 0, 0, 0, 0], [1, 0, 0, 1, 1, 0, 0, 0, 0], [1, 0, 0, 1, 0, 1, 1, 1, 1]]}```"
   ]
  },
  {
   "cell_type": "code",
   "execution_count": 96,
   "metadata": {},
   "outputs": [
    {
     "name": "stdout",
     "output_type": "stream",
     "text": [
      "{'bag_of_words': ['ironhack', 'is', 'cool', 'i', 'love', 'am', 'a', 'student', 'at'], 'term_freq': [[1, 1, 1, 0, 0, 0, 0, 0, 0], [1, 0, 0, 1, 1, 0, 0, 0, 0], [1, 0, 0, 1, 0, 1, 1, 1, 1]]}\n"
     ]
    }
   ],
   "source": [
    "# Define doc paths array\n",
    "docs = ['../../lab-string-operations/your-code/doc1.txt','../../lab-string-operations/your-code/doc2.txt', '../../lab-string-operations/your-code/doc3.txt']\n",
    "\n",
    "# Obtain BoW from your function\n",
    "bow = get_bow_from_docs(docs)\n",
    "\n",
    "# Print BoW\n",
    "print(bow)"
   ]
  },
  {
   "cell_type": "markdown",
   "metadata": {},
   "source": [
    "If your attempt above is successful, nice work done!\n",
    "\n",
    "Now test your function again with the stop words. In the previous lab we defined the stop words in a large array. In this lab, we'll import the stop words from Scikit-Learn."
   ]
  },
  {
   "cell_type": "code",
   "execution_count": 115,
   "metadata": {},
   "outputs": [
    {
     "name": "stdout",
     "output_type": "stream",
     "text": [
      "frozenset({'somehow', 'both', 'between', 'elsewhere', 'them', 'there', 'had', 'noone', 'one', 'others', 'perhaps', 'be', 'well', 'within', 'everywhere', 'less', 'never', 'its', 'what', 'per', 'something', 'but', 'further', 'seeming', 'your', 'ten', 'should', 'could', 'onto', 'everyone', 'move', 'nobody', 'mostly', 'about', 'first', 'himself', 'beforehand', 'latter', 'mine', 'once', 'of', 'would', 'is', 'front', 'side', 'take', 'each', 'so', 'by', 'until', 'at', 'themselves', 'un', 'whither', 'co', 'least', 'very', 'formerly', 'amongst', 'few', 'bottom', 'detail', 'hereafter', 'whereas', 'enough', 'becoming', 'has', 'already', 'thence', 'these', 'keep', 'hasnt', 'whether', 'almost', 'my', 'every', 'his', 'empty', 'except', 'herself', 'therefore', 'become', 'after', 'many', 'anyway', 'two', 'her', 'may', 'cry', 'during', 'me', 'mill', 'us', 'ltd', 'due', 'anything', 'into', 'along', 'off', 'hereupon', 'former', 'thick', 'whenever', 'latterly', 'myself', 'too', 'below', 'de', 'do', 'against', 'herein', 'since', 'give', 'all', 'etc', 'across', 'only', 'thereafter', 'together', 'whereupon', 'made', 'with', 'from', 'namely', 'yet', 'describe', 'found', 'nine', 'seem', 'the', 'most', 'on', 'meanwhile', 'moreover', 'much', 'couldnt', 'else', 'afterwards', 'were', 'over', 'ie', 'eight', 'or', 'either', 'it', 'via', 'this', 'before', 'another', 'go', 'besides', 'have', 'him', 'last', 'indeed', 'behind', 'itself', 'to', 'three', 'down', 'nevertheless', 'fifty', 'beside', 'becomes', 'interest', 'who', 'back', 'whereafter', 'seemed', 'none', 'our', 'upon', 'serious', 'find', 'whom', 'five', 'sometime', 'thin', 'even', 'thereupon', 'sixty', 'anywhere', 'next', 'amoungst', 'must', 'above', 'still', 'eleven', 'forty', 'such', 'was', 'while', 'thru', 'here', 'without', 'everything', 'con', 'any', 'sometimes', 'through', 'whereby', 'not', 'twenty', 'those', 'yours', 'system', 'cannot', 'we', 'thereby', 'also', 'wherever', 'third', 'although', 'will', 'a', 'twelve', 'four', 'that', 'though', 'anyone', 'than', 'fifteen', 'no', 'more', 'several', 'seems', 'someone', 'around', 'hence', 'nowhere', 'wherein', 'whose', 'get', 'why', 'i', 'throughout', 'been', 'when', 'out', 'their', 'name', 'put', 'in', 'she', 'anyhow', 'always', 'hers', 'if', 'can', 'an', 'now', 'toward', 'yourself', 're', 'might', 'they', 'among', 'nothing', 'how', 'nor', 'for', 'done', 'which', 'however', 'top', 'call', 'full', 'ourselves', 'where', 'alone', 'bill', 'whence', 'see', 'eg', 'he', 'other', 'became', 'amount', 'am', 'because', 'therein', 'same', 'some', 'under', 'fire', 'hereby', 'whatever', 'as', 'towards', 'up', 'whoever', 'hundred', 'cant', 'show', 'are', 'you', 'often', 'fill', 'and', 'otherwise', 'yourselves', 'again', 'ours', 'beyond', 'being', 'thus', 'neither', 'somewhere', 'six', 'inc', 'whole', 'own', 'part', 'please', 'rather', 'ever', 'sincere', 'then'})\n"
     ]
    }
   ],
   "source": [
    "from sklearn.feature_extraction import stop_words\n",
    "print(stop_words.ENGLISH_STOP_WORDS)"
   ]
  },
  {
   "cell_type": "markdown",
   "metadata": {},
   "source": [
    "You should have seen a large list of words that looks like:\n",
    "\n",
    "```frozenset({'across', 'mine', 'cannot', ...})```\n",
    "\n",
    "`frozenset` is a type of Python object that is immutable. In this lab you can use it just like an array without conversion."
   ]
  },
  {
   "cell_type": "markdown",
   "metadata": {},
   "source": [
    "Next, test your function with supplying `stop_words.ENGLISH_STOP_WORDS` as the second parameter."
   ]
  },
  {
   "cell_type": "code",
   "execution_count": 129,
   "metadata": {},
   "outputs": [
    {
     "name": "stdout",
     "output_type": "stream",
     "text": [
      "{'bag_of_words': ['ironhack', 'cool', 'love', 'student'], 'term_freq': [[1, 1, 0, 0], [1, 0, 1, 0], [1, 0, 0, 1]]}\n"
     ]
    }
   ],
   "source": [
    "# Import required libraries\n",
    "import re\n",
    "import os\n",
    "docs = ['../../lab-string-operations/your-code/doc1.txt','../../lab-string-operations/your-code/doc2.txt', '../../lab-string-operations/your-code/doc3.txt']\n",
    "stop_words=['somehow', 'both', 'between', 'elsewhere', 'them', 'there', 'had', 'noone', 'one', 'others', 'perhaps', 'be', 'well', 'within', 'everywhere', 'less', 'never', 'its', 'what', 'per', 'something', 'but', 'further', 'seeming', 'your', 'ten', 'should', 'could', 'onto', 'everyone', 'move', 'nobody', 'mostly', 'about', 'first', 'himself', 'beforehand', 'latter', 'mine', 'once', 'of', 'would', 'is', 'front', 'side', 'take', 'each', 'so', 'by', 'until', 'at', 'themselves', 'un', 'whither', 'co', 'least', 'very', 'formerly', 'amongst', 'few', 'bottom', 'detail', 'hereafter', 'whereas', 'enough', 'becoming', 'has', 'already', 'thence', 'these', 'keep', 'hasnt', 'whether', 'almost', 'my', 'every', 'his', 'empty', 'except', 'herself', 'therefore', 'become', 'after', 'many', 'anyway', 'two', 'her', 'may', 'cry', 'during', 'me', 'mill', 'us', 'ltd', 'due', 'anything', 'into', 'along', 'off', 'hereupon', 'former', 'thick', 'whenever', 'latterly', 'myself', 'too', 'below', 'de', 'do', 'against', 'herein', 'since', 'give', 'all', 'etc', 'across', 'only', 'thereafter', 'together', 'whereupon', 'made', 'with', 'from', 'namely', 'yet', 'describe', 'found', 'nine', 'seem', 'the', 'most', 'on', 'meanwhile', 'moreover', 'much', 'couldnt', 'else', 'afterwards', 'were', 'over', 'ie', 'eight', 'or', 'either', 'it', 'via', 'this', 'before', 'another', 'go', 'besides', 'have', 'him', 'last', 'indeed', 'behind', 'itself', 'to', 'three', 'down', 'nevertheless', 'fifty', 'beside', 'becomes', 'interest', 'who', 'back', 'whereafter', 'seemed', 'none', 'our', 'upon', 'serious', 'find', 'whom', 'five', 'sometime', 'thin', 'even', 'thereupon', 'sixty', 'anywhere', 'next', 'amoungst', 'must', 'above', 'still', 'eleven', 'forty', 'such', 'was', 'while', 'thru', 'here', 'without', 'everything', 'con', 'any', 'sometimes', 'through', 'whereby', 'not', 'twenty', 'those', 'yours', 'system', 'cannot', 'we', 'thereby', 'also', 'wherever', 'third', 'although', 'will', 'a', 'twelve', 'four', 'that', 'though', 'anyone', 'than', 'fifteen', 'no', 'more', 'several', 'seems', 'someone', 'around', 'hence', 'nowhere', 'wherein', 'whose', 'get', 'why', 'i', 'throughout', 'been', 'when', 'out', 'their', 'name', 'put', 'in', 'she', 'anyhow', 'always', 'hers', 'if', 'can', 'an', 'now', 'toward', 'yourself', 're', 'might', 'they', 'among', 'nothing', 'how', 'nor', 'for', 'done', 'which', 'however', 'top', 'call', 'full', 'ourselves', 'where', 'alone', 'bill', 'whence', 'see', 'eg', 'he', 'other', 'became', 'amount', 'am', 'because', 'therein', 'same', 'some', 'under', 'fire', 'hereby', 'whatever', 'as', 'towards', 'up', 'whoever', 'hundred', 'cant', 'show', 'are', 'you', 'often', 'fill', 'and', 'otherwise', 'yourselves', 'again', 'ours', 'beyond', 'being', 'thus', 'neither', 'somewhere', 'six', 'inc', 'whole', 'own', 'part', 'please', 'rather', 'ever', 'sincere', 'then']\n",
    "#Ne marche pas si j'appelle directement stop_words.ENGLISH_STOP_WORDS...\n",
    "# Define function\n",
    "def get_bow_from_docs(docs):\n",
    "    bag_of_words=[]\n",
    "    corpus=[]\n",
    "    term_freq=[]\n",
    "    new_corpus=[]\n",
    "    \n",
    "    for doc in docs:\n",
    "        with open(doc,\"r\") as f:\n",
    "            corpus+=f.readlines()\n",
    "            \n",
    "    for c in corpus:\n",
    "        sans_point=(c.replace('.','').lower())\n",
    "        new_corpus.append(sans_point)\n",
    "          \n",
    "    for c in new_corpus:\n",
    "        words=(re.split(' ',c))\n",
    "        for x in words:\n",
    "            if x not in bag_of_words:\n",
    "                bag_of_words.append(x)\n",
    "                for b in bag_of_words:\n",
    "                    if b in stop_words:\n",
    "                        bag_of_words.remove(b)\n",
    "    \n",
    "    for c in new_corpus:\n",
    "        words=(re.split(' ',c))\n",
    "        liste=[]\n",
    "        for b in bag_of_words:\n",
    "            liste.append(words.count(b))\n",
    "        term_freq.append(liste)    \n",
    "    return {\n",
    "        \"bag_of_words\": bag_of_words,\n",
    "        \"term_freq\": term_freq\n",
    "    }\n",
    "bow = get_bow_from_docs(docs)\n",
    "\n",
    "# Print BoW\n",
    "print(bow)"
   ]
  },
  {
   "cell_type": "code",
   "execution_count": 123,
   "metadata": {},
   "outputs": [],
   "source": [
    "#bow = get_bow_from_docs(bow, stop_words.ENGLISH_STOP_WORDS)\n"
   ]
  },
  {
   "cell_type": "markdown",
   "metadata": {},
   "source": [
    "You should have seen:\n",
    "\n",
    "```{'bag_of_words': ['ironhack', 'cool', 'love', 'student'], 'term_freq': [[1, 1, 0, 0], [1, 0, 1, 0], [1, 0, 0, 1]]}```"
   ]
  }
 ],
 "metadata": {
  "kernelspec": {
   "display_name": "Python 3",
   "language": "python",
   "name": "python3"
  },
  "language_info": {
   "codemirror_mode": {
    "name": "ipython",
    "version": 3
   },
   "file_extension": ".py",
   "mimetype": "text/x-python",
   "name": "python",
   "nbconvert_exporter": "python",
   "pygments_lexer": "ipython3",
   "version": "3.7.3"
  }
 },
 "nbformat": 4,
 "nbformat_minor": 2
}
