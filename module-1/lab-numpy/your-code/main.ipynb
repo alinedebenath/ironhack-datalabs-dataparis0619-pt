{
 "cells": [
  {
   "cell_type": "code",
   "execution_count": 185,
   "metadata": {},
   "outputs": [],
   "source": [
    "#1. Import the NUMPY package under the name np.\n",
    "import numpy as np"
   ]
  },
  {
   "cell_type": "code",
   "execution_count": 186,
   "metadata": {},
   "outputs": [
    {
     "data": {
      "text/plain": [
       "'1.16.2'"
      ]
     },
     "execution_count": 186,
     "metadata": {},
     "output_type": "execute_result"
    }
   ],
   "source": [
    "#2. Print the NUMPY version and the configuration.\n",
    "np.version.version"
   ]
  },
  {
   "cell_type": "code",
   "execution_count": 187,
   "metadata": {},
   "outputs": [],
   "source": [
    "#3. Generate a 2x3x5 3-dimensional array with random values. Assign the array to variable \"a\"\n",
    "# Challenge: there are at least three easy ways that use numpy to generate random arrays. How many ways can you find?\n",
    "a = np.random.random((2,3,5))"
   ]
  },
  {
   "cell_type": "code",
   "execution_count": 188,
   "metadata": {
    "scrolled": true
   },
   "outputs": [
    {
     "name": "stdout",
     "output_type": "stream",
     "text": [
      "[[[0.3684122  0.28183177 0.72299683 0.06930666 0.18053568]\n",
      "  [0.20625426 0.96116785 0.04349113 0.75043052 0.93610047]\n",
      "  [0.85216325 0.62542055 0.44657232 0.9241116  0.86729076]]\n",
      "\n",
      " [[0.43602827 0.0956541  0.27758063 0.60847408 0.93265746]\n",
      "  [0.77785265 0.08933309 0.0259857  0.65054658 0.2731168 ]\n",
      "  [0.35873786 0.76537993 0.38597214 0.48227615 0.18098302]]]\n"
     ]
    }
   ],
   "source": [
    "#4. Print a.\n",
    "print(a)"
   ]
  },
  {
   "cell_type": "code",
   "execution_count": 189,
   "metadata": {},
   "outputs": [],
   "source": [
    "#5. Create a 5x2x3 3-dimensional array with all values equaling 1.\n",
    "#Assign the array to variable \"b\"\n",
    "b = np.ones((5,2,3))"
   ]
  },
  {
   "cell_type": "code",
   "execution_count": 190,
   "metadata": {},
   "outputs": [
    {
     "name": "stdout",
     "output_type": "stream",
     "text": [
      "[[[1. 1. 1.]\n",
      "  [1. 1. 1.]]\n",
      "\n",
      " [[1. 1. 1.]\n",
      "  [1. 1. 1.]]\n",
      "\n",
      " [[1. 1. 1.]\n",
      "  [1. 1. 1.]]\n",
      "\n",
      " [[1. 1. 1.]\n",
      "  [1. 1. 1.]]\n",
      "\n",
      " [[1. 1. 1.]\n",
      "  [1. 1. 1.]]]\n"
     ]
    }
   ],
   "source": [
    "print(b)"
   ]
  },
  {
   "cell_type": "code",
   "execution_count": 191,
   "metadata": {},
   "outputs": [
    {
     "data": {
      "text/plain": [
       "True"
      ]
     },
     "execution_count": 191,
     "metadata": {},
     "output_type": "execute_result"
    }
   ],
   "source": [
    "#7. Do a and b have the same size? How do you prove that in Python code?\n",
    "a.size == b.size"
   ]
  },
  {
   "cell_type": "code",
   "execution_count": 192,
   "metadata": {},
   "outputs": [],
   "source": [
    "#8. Are you able to add a and b? Why or why not?\n",
    "# print(np.add(a,b)) doesnt work because the 2 matrices doesnt have the same shape"
   ]
  },
  {
   "cell_type": "code",
   "execution_count": 193,
   "metadata": {},
   "outputs": [
    {
     "data": {
      "text/plain": [
       "array([[[1., 1., 1., 1., 1.],\n",
       "        [1., 1., 1., 1., 1.],\n",
       "        [1., 1., 1., 1., 1.]],\n",
       "\n",
       "       [[1., 1., 1., 1., 1.],\n",
       "        [1., 1., 1., 1., 1.],\n",
       "        [1., 1., 1., 1., 1.]]])"
      ]
     },
     "execution_count": 193,
     "metadata": {},
     "output_type": "execute_result"
    }
   ],
   "source": [
    "#9. Transpose b so that it has the same structure of a (i.e. become a 2x3x5 array). Assign the transposed array to varialbe \"c\".\n",
    "c = np.transpose(b,(1,2,0))\n",
    "c"
   ]
  },
  {
   "cell_type": "code",
   "execution_count": 194,
   "metadata": {},
   "outputs": [
    {
     "name": "stdout",
     "output_type": "stream",
     "text": [
      "[[[1.3684122  1.28183177 1.72299683 1.06930666 1.18053568]\n",
      "  [1.20625426 1.96116785 1.04349113 1.75043052 1.93610047]\n",
      "  [1.85216325 1.62542055 1.44657232 1.9241116  1.86729076]]\n",
      "\n",
      " [[1.43602827 1.0956541  1.27758063 1.60847408 1.93265746]\n",
      "  [1.77785265 1.08933309 1.0259857  1.65054658 1.2731168 ]\n",
      "  [1.35873786 1.76537993 1.38597214 1.48227615 1.18098302]]]\n"
     ]
    }
   ],
   "source": [
    "#10. Try to add a and c. Now it should work. Assign the sum to varialbe \"d\". But why does it work now?\n",
    "d = np.add(a,c)\n",
    "print(d)"
   ]
  },
  {
   "cell_type": "code",
   "execution_count": 195,
   "metadata": {},
   "outputs": [
    {
     "name": "stdout",
     "output_type": "stream",
     "text": [
      "[[[0.3684122  0.28183177 0.72299683 0.06930666 0.18053568]\n",
      "  [0.20625426 0.96116785 0.04349113 0.75043052 0.93610047]\n",
      "  [0.85216325 0.62542055 0.44657232 0.9241116  0.86729076]]\n",
      "\n",
      " [[0.43602827 0.0956541  0.27758063 0.60847408 0.93265746]\n",
      "  [0.77785265 0.08933309 0.0259857  0.65054658 0.2731168 ]\n",
      "  [0.35873786 0.76537993 0.38597214 0.48227615 0.18098302]]]\n",
      "[[[1.3684122  1.28183177 1.72299683 1.06930666 1.18053568]\n",
      "  [1.20625426 1.96116785 1.04349113 1.75043052 1.93610047]\n",
      "  [1.85216325 1.62542055 1.44657232 1.9241116  1.86729076]]\n",
      "\n",
      " [[1.43602827 1.0956541  1.27758063 1.60847408 1.93265746]\n",
      "  [1.77785265 1.08933309 1.0259857  1.65054658 1.2731168 ]\n",
      "  [1.35873786 1.76537993 1.38597214 1.48227615 1.18098302]]]\n"
     ]
    }
   ],
   "source": [
    "#11. Print a and d. Notice the difference and relation of the two array in terms of the values? Explain.\n",
    "print(a)\n",
    "\n",
    "print(d)\n",
    "#d is every values of a + 1"
   ]
  },
  {
   "cell_type": "code",
   "execution_count": 196,
   "metadata": {},
   "outputs": [
    {
     "data": {
      "text/plain": [
       "array([[[0.3684122 , 0.28183177, 0.72299683, 0.06930666, 0.18053568],\n",
       "        [0.20625426, 0.96116785, 0.04349113, 0.75043052, 0.93610047],\n",
       "        [0.85216325, 0.62542055, 0.44657232, 0.9241116 , 0.86729076]],\n",
       "\n",
       "       [[0.43602827, 0.0956541 , 0.27758063, 0.60847408, 0.93265746],\n",
       "        [0.77785265, 0.08933309, 0.0259857 , 0.65054658, 0.2731168 ],\n",
       "        [0.35873786, 0.76537993, 0.38597214, 0.48227615, 0.18098302]]])"
      ]
     },
     "execution_count": 196,
     "metadata": {},
     "output_type": "execute_result"
    }
   ],
   "source": [
    "#12. Multiply a and c. Assign the result to e.\n",
    "e = np.multiply(a,c)\n",
    "e"
   ]
  },
  {
   "cell_type": "code",
   "execution_count": 197,
   "metadata": {},
   "outputs": [
    {
     "data": {
      "text/plain": [
       "array([[[ True,  True,  True,  True,  True],\n",
       "        [ True,  True,  True,  True,  True],\n",
       "        [ True,  True,  True,  True,  True]],\n",
       "\n",
       "       [[ True,  True,  True,  True,  True],\n",
       "        [ True,  True,  True,  True,  True],\n",
       "        [ True,  True,  True,  True,  True]]])"
      ]
     },
     "execution_count": 197,
     "metadata": {},
     "output_type": "execute_result"
    }
   ],
   "source": [
    "#13. Does e equal to a? Why or why not?\n",
    "e == a\n",
    "# It is equal because a*1=a"
   ]
  },
  {
   "cell_type": "code",
   "execution_count": 198,
   "metadata": {},
   "outputs": [
    {
     "name": "stdout",
     "output_type": "stream",
     "text": [
      "1.9611678475060703\n",
      "1.0259856983320699\n",
      "1.485888810124688\n"
     ]
    }
   ],
   "source": [
    "#14. Identify the max, min, and mean values in d. Assign those values to variables \"d_max\", \"d_min\", and \"d_mean\"\n",
    "d_max = np.max(d)\n",
    "d_min = np.min(d)\n",
    "d_mean= np.mean(d)\n",
    "print(d_max)\n",
    "print(d_min)\n",
    "print(d_mean)"
   ]
  },
  {
   "cell_type": "code",
   "execution_count": 199,
   "metadata": {},
   "outputs": [
    {
     "data": {
      "text/plain": [
       "array([[[0.3684122 , 0.28183177, 0.72299683, 0.06930666, 0.18053568],\n",
       "        [0.20625426, 0.96116785, 0.04349113, 0.75043052, 0.93610047],\n",
       "        [0.85216325, 0.62542055, 0.44657232, 0.9241116 , 0.86729076]],\n",
       "\n",
       "       [[0.43602827, 0.0956541 , 0.27758063, 0.60847408, 0.93265746],\n",
       "        [0.77785265, 0.08933309, 0.0259857 , 0.65054658, 0.2731168 ],\n",
       "        [0.35873786, 0.76537993, 0.38597214, 0.48227615, 0.18098302]]])"
      ]
     },
     "execution_count": 199,
     "metadata": {},
     "output_type": "execute_result"
    }
   ],
   "source": [
    "#15. Now we want to label the values in d. First create an empty array \"f\" with the same shape (i.e. 2x3x5) as d using `np.empty`.\n",
    "f=np.empty((2,3,5))\n",
    "f"
   ]
  },
  {
   "cell_type": "code",
   "execution_count": 200,
   "metadata": {},
   "outputs": [],
   "source": [
    "#16. Populate the values in f. For each value in d, if it's larger than d_min but smaller than d_mean, assign 25 to the corresponding value in f.\n",
    "#If a value in d is larger than d_mean but smaller than d_max, assign 75 to the corresponding value in f.\n",
    "#If a value equals to d_mean, assign 50 to the corresponding value in f.\n",
    "#Assign 0 to the corresponding value(s) in f for d_min in d.\n",
    "#Assign 100 to the corresponding value(s) in f for d_max in d.\n",
    "#In the end, f should have only the following values: 0, 25, 50, 75, and 100.\n",
    "#Note: you don't have to use Numpy in this question."
   ]
  },
  {
   "cell_type": "code",
   "execution_count": 213,
   "metadata": {},
   "outputs": [
    {
     "data": {
      "text/plain": [
       "array([[[ 25.,  25.,  75.,  25.,  25.],\n",
       "        [ 25., 100.,  25.,  75.,  75.],\n",
       "        [ 75.,  75.,  25.,  75.,  75.]],\n",
       "\n",
       "       [[ 25.,  25.,  25.,  75.,  75.],\n",
       "        [ 75.,  25.,   0.,  75.,  25.],\n",
       "        [ 25.,  75.,  25.,  25.,  25.]]])"
      ]
     },
     "execution_count": 213,
     "metadata": {},
     "output_type": "execute_result"
    }
   ],
   "source": [
    "f[(d>d_min) & (d<d_mean)]=25\n",
    "f[(d>d_mean) & (d<d_max)]=75\n",
    "f[d==d_mean]=50\n",
    "f[d==d_min]=0\n",
    "f[d==d_max]=100\n",
    "f"
   ]
  },
  {
   "cell_type": "code",
   "execution_count": 214,
   "metadata": {},
   "outputs": [
    {
     "name": "stdout",
     "output_type": "stream",
     "text": [
      "[[[1.3684122  1.28183177 1.72299683 1.06930666 1.18053568]\n",
      "  [1.20625426 1.96116785 1.04349113 1.75043052 1.93610047]\n",
      "  [1.85216325 1.62542055 1.44657232 1.9241116  1.86729076]]\n",
      "\n",
      " [[1.43602827 1.0956541  1.27758063 1.60847408 1.93265746]\n",
      "  [1.77785265 1.08933309 1.0259857  1.65054658 1.2731168 ]\n",
      "  [1.35873786 1.76537993 1.38597214 1.48227615 1.18098302]]]\n",
      "[[[ 25.  25.  75.  25.  25.]\n",
      "  [ 25. 100.  25.  75.  75.]\n",
      "  [ 75.  75.  25.  75.  75.]]\n",
      "\n",
      " [[ 25.  25.  25.  75.  75.]\n",
      "  [ 75.  25.   0.  75.  25.]\n",
      "  [ 25.  75.  25.  25.  25.]]]\n"
     ]
    }
   ],
   "source": [
    "#17. Print d and f. Do you have your expected f?\n",
    "#For instance, if your d is:\n",
    "#array([[[1.85836099, 1.67064465, 1.62576044, 1.40243961, 1.88454931],\n",
    "#        [1.75354326, 1.69403643, 1.36729252, 1.61415071, 1.12104981],\n",
    "#        [1.72201435, 1.1862918 , 1.87078449, 1.7726778 , 1.88180042]],\n",
    "#\n",
    "#       [[1.44747908, 1.31673383, 1.02000951, 1.52218947, 1.97066381],\n",
    "#        [1.79129243, 1.74983003, 1.96028037, 1.85166831, 1.65450881],\n",
    "#        [1.18068344, 1.9587381 , 1.00656599, 1.93402165, 1.73514584]]])\n",
    "#Your f should be:\n",
    "#array([[[ 75.,  75.,  75.,  25.,  75.],\n",
    "#        [ 75.,  75.,  25.,  25.,  25.],\n",
    "#        [ 75.,  25.,  75.,  75.,  75.]],\n",
    "#\n",
    "#       [[ 25.,  25.,  25.,  25., 100.],\n",
    "#        [ 75.,  75.,  75.,  75.,  75.],\n",
    "#        [ 25.,  75.,   0.,  75.,  75.]]])\n",
    "\n",
    "print(d)\n",
    "print(f)\n"
   ]
  },
  {
   "cell_type": "code",
   "execution_count": 219,
   "metadata": {},
   "outputs": [],
   "source": [
    "#18. Bonus question: instead of using numbers (i.e. 0, 25, 50, 75, and 100), how to use string values \n",
    "#(\"A\", \"B\", \"C\", \"D\", and \"E\") to label the array elements? You are expecting the result to be:\n",
    "#array([[[ 'D',  'D',  'D',  'B',  'D'],\n",
    "#        [ 'D',  'D',  'B',  'B',  'B'],\n",
    "#        [ 'D',  'B',  'D',  'D',  'D']],\n",
    "#\n",
    "#       [[ 'B',  'B',  'B',  'B',  'E'],\n",
    "#        [ 'D',  'D',  'D',  'D',  'D'],\n",
    "#        [ 'B',  'D',   'A',  'D', 'D']]])\n",
    "#Again, you don't need Numpy in this question."
   ]
  }
 ],
 "metadata": {
  "kernelspec": {
   "display_name": "Python 3",
   "language": "python",
   "name": "python3"
  },
  "language_info": {
   "codemirror_mode": {
    "name": "ipython",
    "version": 3
   },
   "file_extension": ".py",
   "mimetype": "text/x-python",
   "name": "python",
   "nbconvert_exporter": "python",
   "pygments_lexer": "ipython3",
   "version": "3.7.3"
  }
 },
 "nbformat": 4,
 "nbformat_minor": 2
}
