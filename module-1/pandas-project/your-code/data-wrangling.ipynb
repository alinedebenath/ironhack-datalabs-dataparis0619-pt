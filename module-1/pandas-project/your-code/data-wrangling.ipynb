{
 "cells": [
  {
   "cell_type": "markdown",
   "metadata": {},
   "source": [
    "# <center>Data cleaning project</center><br><center><img src=\"https://thumbs.gfycat.com/ViciousBowedGoa.webp\" width=100></center>"
   ]
  },
  {
   "cell_type": "markdown",
   "metadata": {},
   "source": [
    "### <center>Cleaning data is obligatory for Data analysis.<br>Le's see what we can do with one of the most famous dataset : Shark attacks !</center> "
   ]
  },
  {
   "cell_type": "code",
   "execution_count": 49,
   "metadata": {},
   "outputs": [],
   "source": [
    "import pandas as pd\n",
    "import re\n",
    "import random"
   ]
  },
  {
   "cell_type": "markdown",
   "metadata": {},
   "source": [
    "### Import and quick look at the dataset"
   ]
  },
  {
   "cell_type": "code",
   "execution_count": 50,
   "metadata": {},
   "outputs": [
    {
     "data": {
      "text/html": [
       "<div>\n",
       "<style scoped>\n",
       "    .dataframe tbody tr th:only-of-type {\n",
       "        vertical-align: middle;\n",
       "    }\n",
       "\n",
       "    .dataframe tbody tr th {\n",
       "        vertical-align: top;\n",
       "    }\n",
       "\n",
       "    .dataframe thead th {\n",
       "        text-align: right;\n",
       "    }\n",
       "</style>\n",
       "<table border=\"1\" class=\"dataframe\">\n",
       "  <thead>\n",
       "    <tr style=\"text-align: right;\">\n",
       "      <th></th>\n",
       "      <th>Case Number</th>\n",
       "      <th>Date</th>\n",
       "      <th>Year</th>\n",
       "      <th>Type</th>\n",
       "      <th>Country</th>\n",
       "      <th>Area</th>\n",
       "      <th>Location</th>\n",
       "      <th>Activity</th>\n",
       "      <th>Name</th>\n",
       "      <th>Sex</th>\n",
       "      <th>...</th>\n",
       "      <th>Species</th>\n",
       "      <th>Investigator or Source</th>\n",
       "      <th>pdf</th>\n",
       "      <th>href formula</th>\n",
       "      <th>href</th>\n",
       "      <th>Case Number.1</th>\n",
       "      <th>Case Number.2</th>\n",
       "      <th>original order</th>\n",
       "      <th>Unnamed: 22</th>\n",
       "      <th>Unnamed: 23</th>\n",
       "    </tr>\n",
       "  </thead>\n",
       "  <tbody>\n",
       "    <tr>\n",
       "      <th>0</th>\n",
       "      <td>2016.09.18.c</td>\n",
       "      <td>18-Sep-16</td>\n",
       "      <td>2016</td>\n",
       "      <td>Unprovoked</td>\n",
       "      <td>USA</td>\n",
       "      <td>Florida</td>\n",
       "      <td>New Smyrna Beach, Volusia County</td>\n",
       "      <td>Surfing</td>\n",
       "      <td>male</td>\n",
       "      <td>M</td>\n",
       "      <td>...</td>\n",
       "      <td>NaN</td>\n",
       "      <td>Orlando Sentinel, 9/19/2016</td>\n",
       "      <td>2016.09.18.c-NSB.pdf</td>\n",
       "      <td>http://sharkattackfile.net/spreadsheets/pdf_di...</td>\n",
       "      <td>http://sharkattackfile.net/spreadsheets/pdf_di...</td>\n",
       "      <td>2016.09.18.c</td>\n",
       "      <td>2016.09.18.c</td>\n",
       "      <td>5993</td>\n",
       "      <td>NaN</td>\n",
       "      <td>NaN</td>\n",
       "    </tr>\n",
       "    <tr>\n",
       "      <th>1</th>\n",
       "      <td>2016.09.18.b</td>\n",
       "      <td>18-Sep-16</td>\n",
       "      <td>2016</td>\n",
       "      <td>Unprovoked</td>\n",
       "      <td>USA</td>\n",
       "      <td>Florida</td>\n",
       "      <td>New Smyrna Beach, Volusia County</td>\n",
       "      <td>Surfing</td>\n",
       "      <td>Chucky Luciano</td>\n",
       "      <td>M</td>\n",
       "      <td>...</td>\n",
       "      <td>NaN</td>\n",
       "      <td>Orlando Sentinel, 9/19/2016</td>\n",
       "      <td>2016.09.18.b-Luciano.pdf</td>\n",
       "      <td>http://sharkattackfile.net/spreadsheets/pdf_di...</td>\n",
       "      <td>http://sharkattackfile.net/spreadsheets/pdf_di...</td>\n",
       "      <td>2016.09.18.b</td>\n",
       "      <td>2016.09.18.b</td>\n",
       "      <td>5992</td>\n",
       "      <td>NaN</td>\n",
       "      <td>NaN</td>\n",
       "    </tr>\n",
       "    <tr>\n",
       "      <th>2</th>\n",
       "      <td>2016.09.18.a</td>\n",
       "      <td>18-Sep-16</td>\n",
       "      <td>2016</td>\n",
       "      <td>Unprovoked</td>\n",
       "      <td>USA</td>\n",
       "      <td>Florida</td>\n",
       "      <td>New Smyrna Beach, Volusia County</td>\n",
       "      <td>Surfing</td>\n",
       "      <td>male</td>\n",
       "      <td>M</td>\n",
       "      <td>...</td>\n",
       "      <td>NaN</td>\n",
       "      <td>Orlando Sentinel, 9/19/2016</td>\n",
       "      <td>2016.09.18.a-NSB.pdf</td>\n",
       "      <td>http://sharkattackfile.net/spreadsheets/pdf_di...</td>\n",
       "      <td>http://sharkattackfile.net/spreadsheets/pdf_di...</td>\n",
       "      <td>2016.09.18.a</td>\n",
       "      <td>2016.09.18.a</td>\n",
       "      <td>5991</td>\n",
       "      <td>NaN</td>\n",
       "      <td>NaN</td>\n",
       "    </tr>\n",
       "    <tr>\n",
       "      <th>3</th>\n",
       "      <td>2016.09.17</td>\n",
       "      <td>17-Sep-16</td>\n",
       "      <td>2016</td>\n",
       "      <td>Unprovoked</td>\n",
       "      <td>AUSTRALIA</td>\n",
       "      <td>Victoria</td>\n",
       "      <td>Thirteenth Beach</td>\n",
       "      <td>Surfing</td>\n",
       "      <td>Rory Angiolella</td>\n",
       "      <td>M</td>\n",
       "      <td>...</td>\n",
       "      <td>NaN</td>\n",
       "      <td>The Age, 9/18/2016</td>\n",
       "      <td>2016.09.17-Angiolella.pdf</td>\n",
       "      <td>http://sharkattackfile.net/spreadsheets/pdf_di...</td>\n",
       "      <td>http://sharkattackfile.net/spreadsheets/pdf_di...</td>\n",
       "      <td>2016.09.17</td>\n",
       "      <td>2016.09.17</td>\n",
       "      <td>5990</td>\n",
       "      <td>NaN</td>\n",
       "      <td>NaN</td>\n",
       "    </tr>\n",
       "    <tr>\n",
       "      <th>4</th>\n",
       "      <td>2016.09.15</td>\n",
       "      <td>16-Sep-16</td>\n",
       "      <td>2016</td>\n",
       "      <td>Unprovoked</td>\n",
       "      <td>AUSTRALIA</td>\n",
       "      <td>Victoria</td>\n",
       "      <td>Bells Beach</td>\n",
       "      <td>Surfing</td>\n",
       "      <td>male</td>\n",
       "      <td>M</td>\n",
       "      <td>...</td>\n",
       "      <td>2 m shark</td>\n",
       "      <td>The Age, 9/16/2016</td>\n",
       "      <td>2016.09.16-BellsBeach.pdf</td>\n",
       "      <td>http://sharkattackfile.net/spreadsheets/pdf_di...</td>\n",
       "      <td>http://sharkattackfile.net/spreadsheets/pdf_di...</td>\n",
       "      <td>2016.09.16</td>\n",
       "      <td>2016.09.15</td>\n",
       "      <td>5989</td>\n",
       "      <td>NaN</td>\n",
       "      <td>NaN</td>\n",
       "    </tr>\n",
       "  </tbody>\n",
       "</table>\n",
       "<p>5 rows × 24 columns</p>\n",
       "</div>"
      ],
      "text/plain": [
       "    Case Number       Date  Year        Type    Country      Area  \\\n",
       "0  2016.09.18.c  18-Sep-16  2016  Unprovoked        USA   Florida   \n",
       "1  2016.09.18.b  18-Sep-16  2016  Unprovoked        USA   Florida   \n",
       "2  2016.09.18.a  18-Sep-16  2016  Unprovoked        USA   Florida   \n",
       "3    2016.09.17  17-Sep-16  2016  Unprovoked  AUSTRALIA  Victoria   \n",
       "4    2016.09.15  16-Sep-16  2016  Unprovoked  AUSTRALIA  Victoria   \n",
       "\n",
       "                           Location Activity             Name Sex   ...  \\\n",
       "0  New Smyrna Beach, Volusia County  Surfing             male    M  ...   \n",
       "1  New Smyrna Beach, Volusia County  Surfing   Chucky Luciano    M  ...   \n",
       "2  New Smyrna Beach, Volusia County  Surfing             male    M  ...   \n",
       "3                  Thirteenth Beach  Surfing  Rory Angiolella    M  ...   \n",
       "4                       Bells Beach  Surfing             male    M  ...   \n",
       "\n",
       "    Species        Investigator or Source                        pdf  \\\n",
       "0        NaN  Orlando Sentinel, 9/19/2016       2016.09.18.c-NSB.pdf   \n",
       "1        NaN  Orlando Sentinel, 9/19/2016   2016.09.18.b-Luciano.pdf   \n",
       "2        NaN  Orlando Sentinel, 9/19/2016       2016.09.18.a-NSB.pdf   \n",
       "3        NaN           The Age, 9/18/2016  2016.09.17-Angiolella.pdf   \n",
       "4  2 m shark           The Age, 9/16/2016  2016.09.16-BellsBeach.pdf   \n",
       "\n",
       "                                        href formula  \\\n",
       "0  http://sharkattackfile.net/spreadsheets/pdf_di...   \n",
       "1  http://sharkattackfile.net/spreadsheets/pdf_di...   \n",
       "2  http://sharkattackfile.net/spreadsheets/pdf_di...   \n",
       "3  http://sharkattackfile.net/spreadsheets/pdf_di...   \n",
       "4  http://sharkattackfile.net/spreadsheets/pdf_di...   \n",
       "\n",
       "                                                href Case Number.1  \\\n",
       "0  http://sharkattackfile.net/spreadsheets/pdf_di...  2016.09.18.c   \n",
       "1  http://sharkattackfile.net/spreadsheets/pdf_di...  2016.09.18.b   \n",
       "2  http://sharkattackfile.net/spreadsheets/pdf_di...  2016.09.18.a   \n",
       "3  http://sharkattackfile.net/spreadsheets/pdf_di...    2016.09.17   \n",
       "4  http://sharkattackfile.net/spreadsheets/pdf_di...    2016.09.16   \n",
       "\n",
       "  Case Number.2 original order Unnamed: 22 Unnamed: 23  \n",
       "0  2016.09.18.c           5993         NaN         NaN  \n",
       "1  2016.09.18.b           5992         NaN         NaN  \n",
       "2  2016.09.18.a           5991         NaN         NaN  \n",
       "3    2016.09.17           5990         NaN         NaN  \n",
       "4    2016.09.15           5989         NaN         NaN  \n",
       "\n",
       "[5 rows x 24 columns]"
      ]
     },
     "execution_count": 50,
     "metadata": {},
     "output_type": "execute_result"
    }
   ],
   "source": [
    "data = pd.read_csv('GSAF5.csv', encoding=\"latin-1\")\n",
    "data.head()"
   ]
  },
  {
   "cell_type": "raw",
   "metadata": {},
   "source": [
    "Shape and features"
   ]
  },
  {
   "cell_type": "code",
   "execution_count": 51,
   "metadata": {},
   "outputs": [
    {
     "data": {
      "text/plain": [
       "(5992, 24)"
      ]
     },
     "execution_count": 51,
     "metadata": {},
     "output_type": "execute_result"
    }
   ],
   "source": [
    "data.shape"
   ]
  },
  {
   "cell_type": "code",
   "execution_count": 52,
   "metadata": {},
   "outputs": [
    {
     "data": {
      "text/plain": [
       "Index(['Case Number', 'Date', 'Year', 'Type', 'Country', 'Area', 'Location',\n",
       "       'Activity', 'Name', 'Sex ', 'Age', 'Injury', 'Fatal (Y/N)', 'Time',\n",
       "       'Species ', 'Investigator or Source', 'pdf', 'href formula', 'href',\n",
       "       'Case Number.1', 'Case Number.2', 'original order', 'Unnamed: 22',\n",
       "       'Unnamed: 23'],\n",
       "      dtype='object')"
      ]
     },
     "execution_count": 52,
     "metadata": {},
     "output_type": "execute_result"
    }
   ],
   "source": [
    "data.columns"
   ]
  },
  {
   "cell_type": "code",
   "execution_count": 53,
   "metadata": {},
   "outputs": [
    {
     "data": {
      "text/plain": [
       "Case Number               object\n",
       "Date                      object\n",
       "Year                       int64\n",
       "Type                      object\n",
       "Country                   object\n",
       "Area                      object\n",
       "Location                  object\n",
       "Activity                  object\n",
       "Name                      object\n",
       "Sex                       object\n",
       "Age                       object\n",
       "Injury                    object\n",
       "Fatal (Y/N)               object\n",
       "Time                      object\n",
       "Species                   object\n",
       "Investigator or Source    object\n",
       "pdf                       object\n",
       "href formula              object\n",
       "href                      object\n",
       "Case Number.1             object\n",
       "Case Number.2             object\n",
       "original order             int64\n",
       "Unnamed: 22               object\n",
       "Unnamed: 23               object\n",
       "dtype: object"
      ]
     },
     "execution_count": 53,
     "metadata": {},
     "output_type": "execute_result"
    }
   ],
   "source": [
    "data.dtypes"
   ]
  },
  {
   "cell_type": "raw",
   "metadata": {},
   "source": [
    "Except the \"Year\" and \"original order\" columns, all the others contain texts."
   ]
  },
  {
   "cell_type": "markdown",
   "metadata": {},
   "source": [
    "### Columns cleaning "
   ]
  },
  {
   "cell_type": "raw",
   "metadata": {},
   "source": [
    "To prepare the Data cleaning, let's check how many empty cells there are in every column."
   ]
  },
  {
   "cell_type": "code",
   "execution_count": 54,
   "metadata": {},
   "outputs": [
    {
     "data": {
      "text/plain": [
       "Country                     43\n",
       "Area                       402\n",
       "Location                   496\n",
       "Activity                   527\n",
       "Name                       200\n",
       "Sex                        567\n",
       "Age                       2681\n",
       "Injury                      27\n",
       "Fatal (Y/N)                 19\n",
       "Time                      3213\n",
       "Species                   2934\n",
       "Investigator or Source      15\n",
       "href formula                 1\n",
       "href                         3\n",
       "Unnamed: 22               5991\n",
       "Unnamed: 23               5990\n",
       "dtype: int64"
      ]
     },
     "execution_count": 54,
     "metadata": {},
     "output_type": "execute_result"
    }
   ],
   "source": [
    "null_cols = data.isnull().sum()\n",
    "null_cols[null_cols > 0]"
   ]
  },
  {
   "cell_type": "raw",
   "metadata": {},
   "source": [
    "The columns \"Unnamed: 22\" and \"Unnamed: 23\" are curious and mostly empty. Let's examine what they contain."
   ]
  },
  {
   "cell_type": "code",
   "execution_count": 55,
   "metadata": {
    "scrolled": false
   },
   "outputs": [
    {
     "data": {
      "text/plain": [
       "['stopped here']"
      ]
     },
     "execution_count": 55,
     "metadata": {},
     "output_type": "execute_result"
    }
   ],
   "source": [
    "data['Unnamed: 22'].fillna(0, inplace=True)\n",
    "[x for x in data['Unnamed: 22'] if x!=0]"
   ]
  },
  {
   "cell_type": "code",
   "execution_count": 56,
   "metadata": {},
   "outputs": [
    {
     "data": {
      "text/plain": [
       "['Teramo', 'change filename']"
      ]
     },
     "execution_count": 56,
     "metadata": {},
     "output_type": "execute_result"
    }
   ],
   "source": [
    "data['Unnamed: 23'].fillna(0, inplace=True)\n",
    "[y for y in data['Unnamed: 23'] if y!=0]"
   ]
  },
  {
   "cell_type": "raw",
   "metadata": {},
   "source": [
    "As all the non empty cells does not contain any important information, I delete them.\n",
    "<br> Next, I thought that the column \"Case Number.2\" could be a duplicate of \"Case Number\" and \"Case Number .1\""
   ]
  },
  {
   "cell_type": "code",
   "execution_count": 57,
   "metadata": {},
   "outputs": [
    {
     "data": {
      "text/plain": [
       "False"
      ]
     },
     "execution_count": 57,
     "metadata": {},
     "output_type": "execute_result"
    }
   ],
   "source": [
    "data['Case Number.1'].equals(data['Case Number.2'].equals(data['Case Number']))"
   ]
  },
  {
   "cell_type": "raw",
   "metadata": {},
   "source": [
    "Apparently it's not the case. Let's dig a little deeper and examine if \"Case Number.1\" is similar to \"Case Number.2\"..."
   ]
  },
  {
   "cell_type": "code",
   "execution_count": 58,
   "metadata": {},
   "outputs": [
    {
     "data": {
      "text/plain": [
       "False"
      ]
     },
     "execution_count": 58,
     "metadata": {},
     "output_type": "execute_result"
    }
   ],
   "source": [
    "data['Case Number.1'].equals(data['Case Number.2'])"
   ]
  },
  {
   "cell_type": "raw",
   "metadata": {},
   "source": [
    "Let's dig a little deeper..."
   ]
  },
  {
   "cell_type": "code",
   "execution_count": 59,
   "metadata": {},
   "outputs": [
    {
     "data": {
      "text/plain": [
       "True     5982\n",
       "False      10\n",
       "Name: Case Number.1, dtype: int64"
      ]
     },
     "execution_count": 59,
     "metadata": {},
     "output_type": "execute_result"
    }
   ],
   "source": [
    "data['Case Number.1'].isin(data['Case Number.2']).value_counts()\n"
   ]
  },
  {
   "cell_type": "raw",
   "metadata": {},
   "source": [
    "After checking how many values are different (10),I chose to delete this column. Moreover, it does not contain information I can use for deeper analysis.\n",
    "<br>I do the same process for \"Case Number\" and \"Case Number.1\"."
   ]
  },
  {
   "cell_type": "code",
   "execution_count": 60,
   "metadata": {},
   "outputs": [
    {
     "data": {
      "text/plain": [
       "False"
      ]
     },
     "execution_count": 60,
     "metadata": {},
     "output_type": "execute_result"
    }
   ],
   "source": [
    "data['Case Number'].equals(data['Case Number.1'])"
   ]
  },
  {
   "cell_type": "code",
   "execution_count": 61,
   "metadata": {},
   "outputs": [
    {
     "data": {
      "text/plain": [
       "True     5979\n",
       "False      13\n",
       "Name: Case Number, dtype: int64"
      ]
     },
     "execution_count": 61,
     "metadata": {},
     "output_type": "execute_result"
    }
   ],
   "source": [
    "data['Case Number'].isin(data['Case Number.1']).value_counts()"
   ]
  },
  {
   "cell_type": "raw",
   "metadata": {},
   "source": [
    "The result is the same as before, I will delete this column.\n",
    "<br> Finally, I examine the ressemblance of \"href formula\" and \"href\". Are they duplicate ?"
   ]
  },
  {
   "cell_type": "code",
   "execution_count": 62,
   "metadata": {},
   "outputs": [
    {
     "data": {
      "text/plain": [
       "False"
      ]
     },
     "execution_count": 62,
     "metadata": {},
     "output_type": "execute_result"
    }
   ],
   "source": [
    "data['href formula'].equals(data['href'])"
   ]
  },
  {
   "cell_type": "code",
   "execution_count": 63,
   "metadata": {},
   "outputs": [
    {
     "data": {
      "text/plain": [
       "True     5939\n",
       "False      53\n",
       "Name: href formula, dtype: int64"
      ]
     },
     "execution_count": 63,
     "metadata": {},
     "output_type": "execute_result"
    }
   ],
   "source": [
    "data['href formula'].isin(data['href']).value_counts()"
   ]
  },
  {
   "cell_type": "raw",
   "metadata": {},
   "source": [
    "There is less than 10% difference between the column, I choose to keep the column \"href\"."
   ]
  },
  {
   "cell_type": "code",
   "execution_count": 64,
   "metadata": {},
   "outputs": [
    {
     "data": {
      "text/html": [
       "<div>\n",
       "<style scoped>\n",
       "    .dataframe tbody tr th:only-of-type {\n",
       "        vertical-align: middle;\n",
       "    }\n",
       "\n",
       "    .dataframe tbody tr th {\n",
       "        vertical-align: top;\n",
       "    }\n",
       "\n",
       "    .dataframe thead th {\n",
       "        text-align: right;\n",
       "    }\n",
       "</style>\n",
       "<table border=\"1\" class=\"dataframe\">\n",
       "  <thead>\n",
       "    <tr style=\"text-align: right;\">\n",
       "      <th></th>\n",
       "      <th>Case Number</th>\n",
       "      <th>Date</th>\n",
       "      <th>Year</th>\n",
       "      <th>Type</th>\n",
       "      <th>Country</th>\n",
       "      <th>Area</th>\n",
       "      <th>Location</th>\n",
       "      <th>Activity</th>\n",
       "      <th>Name</th>\n",
       "      <th>Sex</th>\n",
       "      <th>Age</th>\n",
       "      <th>Injury</th>\n",
       "      <th>Fatal (Y/N)</th>\n",
       "      <th>Species</th>\n",
       "      <th>Investigator or Source</th>\n",
       "      <th>href</th>\n",
       "    </tr>\n",
       "  </thead>\n",
       "  <tbody>\n",
       "    <tr>\n",
       "      <th>0</th>\n",
       "      <td>2016.09.18.c</td>\n",
       "      <td>18-Sep-16</td>\n",
       "      <td>2016</td>\n",
       "      <td>Unprovoked</td>\n",
       "      <td>USA</td>\n",
       "      <td>Florida</td>\n",
       "      <td>New Smyrna Beach, Volusia County</td>\n",
       "      <td>Surfing</td>\n",
       "      <td>male</td>\n",
       "      <td>M</td>\n",
       "      <td>16</td>\n",
       "      <td>Minor injury to thigh</td>\n",
       "      <td>N</td>\n",
       "      <td>NaN</td>\n",
       "      <td>Orlando Sentinel, 9/19/2016</td>\n",
       "      <td>http://sharkattackfile.net/spreadsheets/pdf_di...</td>\n",
       "    </tr>\n",
       "    <tr>\n",
       "      <th>1</th>\n",
       "      <td>2016.09.18.b</td>\n",
       "      <td>18-Sep-16</td>\n",
       "      <td>2016</td>\n",
       "      <td>Unprovoked</td>\n",
       "      <td>USA</td>\n",
       "      <td>Florida</td>\n",
       "      <td>New Smyrna Beach, Volusia County</td>\n",
       "      <td>Surfing</td>\n",
       "      <td>Chucky Luciano</td>\n",
       "      <td>M</td>\n",
       "      <td>36</td>\n",
       "      <td>Lacerations to hands</td>\n",
       "      <td>N</td>\n",
       "      <td>NaN</td>\n",
       "      <td>Orlando Sentinel, 9/19/2016</td>\n",
       "      <td>http://sharkattackfile.net/spreadsheets/pdf_di...</td>\n",
       "    </tr>\n",
       "    <tr>\n",
       "      <th>2</th>\n",
       "      <td>2016.09.18.a</td>\n",
       "      <td>18-Sep-16</td>\n",
       "      <td>2016</td>\n",
       "      <td>Unprovoked</td>\n",
       "      <td>USA</td>\n",
       "      <td>Florida</td>\n",
       "      <td>New Smyrna Beach, Volusia County</td>\n",
       "      <td>Surfing</td>\n",
       "      <td>male</td>\n",
       "      <td>M</td>\n",
       "      <td>43</td>\n",
       "      <td>Lacerations to lower leg</td>\n",
       "      <td>N</td>\n",
       "      <td>NaN</td>\n",
       "      <td>Orlando Sentinel, 9/19/2016</td>\n",
       "      <td>http://sharkattackfile.net/spreadsheets/pdf_di...</td>\n",
       "    </tr>\n",
       "    <tr>\n",
       "      <th>3</th>\n",
       "      <td>2016.09.17</td>\n",
       "      <td>17-Sep-16</td>\n",
       "      <td>2016</td>\n",
       "      <td>Unprovoked</td>\n",
       "      <td>AUSTRALIA</td>\n",
       "      <td>Victoria</td>\n",
       "      <td>Thirteenth Beach</td>\n",
       "      <td>Surfing</td>\n",
       "      <td>Rory Angiolella</td>\n",
       "      <td>M</td>\n",
       "      <td>NaN</td>\n",
       "      <td>Struck by fin on chest &amp; leg</td>\n",
       "      <td>N</td>\n",
       "      <td>NaN</td>\n",
       "      <td>The Age, 9/18/2016</td>\n",
       "      <td>http://sharkattackfile.net/spreadsheets/pdf_di...</td>\n",
       "    </tr>\n",
       "    <tr>\n",
       "      <th>4</th>\n",
       "      <td>2016.09.15</td>\n",
       "      <td>16-Sep-16</td>\n",
       "      <td>2016</td>\n",
       "      <td>Unprovoked</td>\n",
       "      <td>AUSTRALIA</td>\n",
       "      <td>Victoria</td>\n",
       "      <td>Bells Beach</td>\n",
       "      <td>Surfing</td>\n",
       "      <td>male</td>\n",
       "      <td>M</td>\n",
       "      <td>NaN</td>\n",
       "      <td>No injury: Knocked off board by shark</td>\n",
       "      <td>N</td>\n",
       "      <td>2 m shark</td>\n",
       "      <td>The Age, 9/16/2016</td>\n",
       "      <td>http://sharkattackfile.net/spreadsheets/pdf_di...</td>\n",
       "    </tr>\n",
       "  </tbody>\n",
       "</table>\n",
       "</div>"
      ],
      "text/plain": [
       "    Case Number       Date  Year        Type    Country      Area  \\\n",
       "0  2016.09.18.c  18-Sep-16  2016  Unprovoked        USA   Florida   \n",
       "1  2016.09.18.b  18-Sep-16  2016  Unprovoked        USA   Florida   \n",
       "2  2016.09.18.a  18-Sep-16  2016  Unprovoked        USA   Florida   \n",
       "3    2016.09.17  17-Sep-16  2016  Unprovoked  AUSTRALIA  Victoria   \n",
       "4    2016.09.15  16-Sep-16  2016  Unprovoked  AUSTRALIA  Victoria   \n",
       "\n",
       "                           Location Activity             Name Sex   Age  \\\n",
       "0  New Smyrna Beach, Volusia County  Surfing             male    M   16   \n",
       "1  New Smyrna Beach, Volusia County  Surfing   Chucky Luciano    M   36   \n",
       "2  New Smyrna Beach, Volusia County  Surfing             male    M   43   \n",
       "3                  Thirteenth Beach  Surfing  Rory Angiolella    M  NaN   \n",
       "4                       Bells Beach  Surfing             male    M  NaN   \n",
       "\n",
       "                                  Injury Fatal (Y/N)   Species   \\\n",
       "0                  Minor injury to thigh           N        NaN   \n",
       "1                   Lacerations to hands           N        NaN   \n",
       "2               Lacerations to lower leg           N        NaN   \n",
       "3           Struck by fin on chest & leg           N        NaN   \n",
       "4  No injury: Knocked off board by shark           N  2 m shark   \n",
       "\n",
       "        Investigator or Source  \\\n",
       "0  Orlando Sentinel, 9/19/2016   \n",
       "1  Orlando Sentinel, 9/19/2016   \n",
       "2  Orlando Sentinel, 9/19/2016   \n",
       "3           The Age, 9/18/2016   \n",
       "4           The Age, 9/16/2016   \n",
       "\n",
       "                                                href  \n",
       "0  http://sharkattackfile.net/spreadsheets/pdf_di...  \n",
       "1  http://sharkattackfile.net/spreadsheets/pdf_di...  \n",
       "2  http://sharkattackfile.net/spreadsheets/pdf_di...  \n",
       "3  http://sharkattackfile.net/spreadsheets/pdf_di...  \n",
       "4  http://sharkattackfile.net/spreadsheets/pdf_di...  "
      ]
     },
     "execution_count": 64,
     "metadata": {},
     "output_type": "execute_result"
    }
   ],
   "source": [
    "data = data.drop([\"Unnamed: 22\", \"Unnamed: 23\",\"Case Number.1\",\"Case Number.2\",\"Time\",\n",
    "                  \"href formula\",'pdf','original order'], axis=1)\n",
    "data.head()"
   ]
  },
  {
   "cell_type": "markdown",
   "metadata": {},
   "source": [
    "### Data cleaning "
   ]
  },
  {
   "cell_type": "markdown",
   "metadata": {},
   "source": [
    "#### \"Date\" column"
   ]
  },
  {
   "cell_type": "raw",
   "metadata": {},
   "source": [
    "I think the \"Date\" column is important for an analysis. Let's check what it contains.."
   ]
  },
  {
   "cell_type": "code",
   "execution_count": 65,
   "metadata": {},
   "outputs": [
    {
     "data": {
      "text/plain": [
       "{' 01-Sep-2013',\n",
       " '01-Jan-71',\n",
       " '05-Apr-71',\n",
       " '05-Jul-03',\n",
       " '06-Sep-08',\n",
       " '07-Dec-59',\n",
       " '08-Aug-1899',\n",
       " '10-May-90',\n",
       " '11-Jun-02',\n",
       " '13-Dec-03',\n",
       " '13-Jun-49',\n",
       " '15-Jun-16',\n",
       " '16-Feb-61',\n",
       " '17-Jan-1837',\n",
       " '17-Mar-09',\n",
       " '20-Sep-04',\n",
       " '20-Sep-15',\n",
       " '23-Aug-64',\n",
       " '24-Aug-08',\n",
       " '26-Sep-59',\n",
       " '27-Jun-09',\n",
       " '27-Sep-10',\n",
       " '30-Jun-15',\n",
       " '30-Mar-36',\n",
       " 'Apr-70',\n",
       " 'Reported 09-Jan-1858',\n",
       " 'Reported 12-Jan-1994',\n",
       " 'Reported 15-Nov-1921',\n",
       " 'Reported 16-Apr-1994',\n",
       " 'Summer 1948'}"
      ]
     },
     "execution_count": 65,
     "metadata": {},
     "output_type": "execute_result"
    }
   ],
   "source": [
    "set(data['Date'].sample(n=30))"
   ]
  },
  {
   "cell_type": "code",
   "execution_count": 66,
   "metadata": {},
   "outputs": [
    {
     "data": {
      "text/plain": [
       "5128"
      ]
     },
     "execution_count": 66,
     "metadata": {},
     "output_type": "execute_result"
    }
   ],
   "source": [
    "len(set(data['Date']))"
   ]
  },
  {
   "cell_type": "raw",
   "metadata": {},
   "source": [
    "Well, it seems that the column contains a lot of unique values but also in many different format. \n",
    "<br> After many tries, I found that cleaning this column cell by cell was too much of a job. Incidentally, I saw that the column \"Case Number\" had a format that contains the date recorded (except for the unknown dat, labelled ND). I use this column to create 3 columns with the date info (year, month, day). The column \"Year1\" will be useful to see if this process worked by comparing it with the existing column \"Year\"."
   ]
  },
  {
   "cell_type": "code",
   "execution_count": 67,
   "metadata": {},
   "outputs": [
    {
     "data": {
      "text/html": [
       "<div>\n",
       "<style scoped>\n",
       "    .dataframe tbody tr th:only-of-type {\n",
       "        vertical-align: middle;\n",
       "    }\n",
       "\n",
       "    .dataframe tbody tr th {\n",
       "        vertical-align: top;\n",
       "    }\n",
       "\n",
       "    .dataframe thead th {\n",
       "        text-align: right;\n",
       "    }\n",
       "</style>\n",
       "<table border=\"1\" class=\"dataframe\">\n",
       "  <thead>\n",
       "    <tr style=\"text-align: right;\">\n",
       "      <th></th>\n",
       "      <th>Case Number</th>\n",
       "      <th>Day</th>\n",
       "      <th>Month</th>\n",
       "      <th>Year_</th>\n",
       "      <th>Year</th>\n",
       "      <th>Date</th>\n",
       "      <th>Type</th>\n",
       "      <th>Country</th>\n",
       "      <th>Area</th>\n",
       "      <th>Location</th>\n",
       "      <th>Activity</th>\n",
       "      <th>Name</th>\n",
       "      <th>Sex</th>\n",
       "      <th>Age</th>\n",
       "      <th>Injury</th>\n",
       "      <th>Fatal (Y/N)</th>\n",
       "      <th>Species</th>\n",
       "      <th>Investigator or Source</th>\n",
       "      <th>href</th>\n",
       "    </tr>\n",
       "  </thead>\n",
       "  <tbody>\n",
       "    <tr>\n",
       "      <th>4958</th>\n",
       "      <td>1924.02.08</td>\n",
       "      <td>08</td>\n",
       "      <td>02</td>\n",
       "      <td>1924</td>\n",
       "      <td>1924</td>\n",
       "      <td>08-Feb-24</td>\n",
       "      <td>Invalid</td>\n",
       "      <td>AUSTRALIA</td>\n",
       "      <td>Queensland</td>\n",
       "      <td>Currumbin</td>\n",
       "      <td>Bathing</td>\n",
       "      <td>Frederick Dullroy</td>\n",
       "      <td>M</td>\n",
       "      <td>NaN</td>\n",
       "      <td>Probable drowning &amp; scavenging</td>\n",
       "      <td>UNKNOWN</td>\n",
       "      <td>NaN</td>\n",
       "      <td>11/02/1924</td>\n",
       "      <td>http://sharkattackfile.net/spreadsheets/pdf_di...</td>\n",
       "    </tr>\n",
       "    <tr>\n",
       "      <th>2918</th>\n",
       "      <td>1977.08.05</td>\n",
       "      <td>05</td>\n",
       "      <td>08</td>\n",
       "      <td>1977</td>\n",
       "      <td>1977</td>\n",
       "      <td>05-Aug-77</td>\n",
       "      <td>Invalid</td>\n",
       "      <td>USA</td>\n",
       "      <td>Florida</td>\n",
       "      <td>St. Petersburg, Pinellas County</td>\n",
       "      <td>Wading</td>\n",
       "      <td>Michael Muradian</td>\n",
       "      <td>M</td>\n",
       "      <td>17</td>\n",
       "      <td>Lacerations to hip and leg</td>\n",
       "      <td>N</td>\n",
       "      <td>Shark involvement not confirmed</td>\n",
       "      <td>St. Petersburg Independent, 8/8/1977</td>\n",
       "      <td>http://sharkattackfile.net/spreadsheets/pdf_di...</td>\n",
       "    </tr>\n",
       "    <tr>\n",
       "      <th>1410</th>\n",
       "      <td>2004.10.06</td>\n",
       "      <td>06</td>\n",
       "      <td>10</td>\n",
       "      <td>2004</td>\n",
       "      <td>2004</td>\n",
       "      <td>06-Oct-04</td>\n",
       "      <td>Unprovoked</td>\n",
       "      <td>REUNION</td>\n",
       "      <td>Conservatória District</td>\n",
       "      <td>P' tit Paris, Saint-Pierre</td>\n",
       "      <td>Body boarding</td>\n",
       "      <td>Vincent Motais</td>\n",
       "      <td>M</td>\n",
       "      <td>15</td>\n",
       "      <td>Leg severely bitten, surgically amputated</td>\n",
       "      <td>N</td>\n",
       "      <td>Thought to involve a 2.5 m bull or tiger shark</td>\n",
       "      <td>Federation Francaise de Surf</td>\n",
       "      <td>http://sharkattackfile.net/spreadsheets/pdf_di...</td>\n",
       "    </tr>\n",
       "    <tr>\n",
       "      <th>1989</th>\n",
       "      <td>1997.11.09</td>\n",
       "      <td>09</td>\n",
       "      <td>11</td>\n",
       "      <td>1997</td>\n",
       "      <td>1997</td>\n",
       "      <td>09-Nov-97</td>\n",
       "      <td>Unprovoked</td>\n",
       "      <td>AUSTRALIA</td>\n",
       "      <td>Western Australia</td>\n",
       "      <td>Albany</td>\n",
       "      <td>Scuba diving (submerged riding a scooter)</td>\n",
       "      <td>Kevin Hulkes</td>\n",
       "      <td>M</td>\n",
       "      <td>42</td>\n",
       "      <td>Left arm lacerated when shark grabbed scooter</td>\n",
       "      <td>N</td>\n",
       "      <td>White shark</td>\n",
       "      <td>Daily Telegraph, 11/12/1997, p.5</td>\n",
       "      <td>http://sharkattackfile.net/spreadsheets/pdf_di...</td>\n",
       "    </tr>\n",
       "    <tr>\n",
       "      <th>86</th>\n",
       "      <td>2016.03.02</td>\n",
       "      <td>02</td>\n",
       "      <td>03</td>\n",
       "      <td>2016</td>\n",
       "      <td>2016</td>\n",
       "      <td>02-Mar-16</td>\n",
       "      <td>Unprovoked</td>\n",
       "      <td>BRAZIL</td>\n",
       "      <td>Santa Catarina State</td>\n",
       "      <td>Escalerio Beach Balneário Camboriú</td>\n",
       "      <td>Swimming</td>\n",
       "      <td>Rafael Hermes Thomas</td>\n",
       "      <td>M</td>\n",
       "      <td>41</td>\n",
       "      <td>Minor injury to head</td>\n",
       "      <td>N</td>\n",
       "      <td>Sandtiger shark</td>\n",
       "      <td>Misones Online, 3/4/2016</td>\n",
       "      <td>http://sharkattackfile.net/spreadsheets/pdf_di...</td>\n",
       "    </tr>\n",
       "    <tr>\n",
       "      <th>1087</th>\n",
       "      <td>2007.11.06</td>\n",
       "      <td>06</td>\n",
       "      <td>11</td>\n",
       "      <td>2007</td>\n",
       "      <td>2007</td>\n",
       "      <td>06-Nov-07</td>\n",
       "      <td>Unprovoked</td>\n",
       "      <td>USA</td>\n",
       "      <td>Florida</td>\n",
       "      <td>New Smyrna Beach, Volusia County</td>\n",
       "      <td>Surfing</td>\n",
       "      <td>Joseph Fox</td>\n",
       "      <td>M</td>\n",
       "      <td>21</td>\n",
       "      <td>Cut to right knee</td>\n",
       "      <td>N</td>\n",
       "      <td>4' to 5' shark</td>\n",
       "      <td>S. Petersohn; GSAF' Central Florida News, 11/7...</td>\n",
       "      <td>http://sharkattackfile.net/spreadsheets/pdf_di...</td>\n",
       "    </tr>\n",
       "    <tr>\n",
       "      <th>5312</th>\n",
       "      <td>1900.12.27</td>\n",
       "      <td>27</td>\n",
       "      <td>12</td>\n",
       "      <td>1900</td>\n",
       "      <td>1900</td>\n",
       "      <td>27-Dec-00</td>\n",
       "      <td>Unprovoked</td>\n",
       "      <td>AUSTRALIA</td>\n",
       "      <td>New South Wales</td>\n",
       "      <td>Middle Harbour, Sydney</td>\n",
       "      <td>Bathing</td>\n",
       "      <td>Thomas Houstan</td>\n",
       "      <td>M</td>\n",
       "      <td>NaN</td>\n",
       "      <td>FATAL</td>\n",
       "      <td>Y</td>\n",
       "      <td>NaN</td>\n",
       "      <td>Taranaki Herald, 12/28/1900</td>\n",
       "      <td>http://sharkattackfile.net/spreadsheets/pdf_di...</td>\n",
       "    </tr>\n",
       "    <tr>\n",
       "      <th>74</th>\n",
       "      <td>2016.04.07.b</td>\n",
       "      <td>07</td>\n",
       "      <td>04</td>\n",
       "      <td>2016</td>\n",
       "      <td>2016</td>\n",
       "      <td>07-Apr-16</td>\n",
       "      <td>Unprovoked</td>\n",
       "      <td>USA</td>\n",
       "      <td>Florida</td>\n",
       "      <td>Florida Keys, Monroe County</td>\n",
       "      <td>Fishing</td>\n",
       "      <td>Jonathan Lester</td>\n",
       "      <td>M</td>\n",
       "      <td>34</td>\n",
       "      <td>Left hand bitten</td>\n",
       "      <td>N</td>\n",
       "      <td>5' to 6' shark</td>\n",
       "      <td>NaN</td>\n",
       "      <td>http://sharkattackfile.net/spreadsheets/pdf_di...</td>\n",
       "    </tr>\n",
       "    <tr>\n",
       "      <th>2995</th>\n",
       "      <td>1975.07.05</td>\n",
       "      <td>05</td>\n",
       "      <td>07</td>\n",
       "      <td>1975</td>\n",
       "      <td>1975</td>\n",
       "      <td>05-Jul-75</td>\n",
       "      <td>Provoked</td>\n",
       "      <td>AUSTRALIA</td>\n",
       "      <td>Western Australia</td>\n",
       "      <td>15 km north of Lancelin, north of Perth</td>\n",
       "      <td>Spearfishing</td>\n",
       "      <td>Dennis Thompson</td>\n",
       "      <td>M</td>\n",
       "      <td>29</td>\n",
       "      <td>Speared shark bit his arm  between elbow and s...</td>\n",
       "      <td>N</td>\n",
       "      <td>2.4 m [8'] whaler shark</td>\n",
       "      <td>Washington Post, 7/7/1975</td>\n",
       "      <td>http://sharkattackfile.net/spreadsheets/pdf_di...</td>\n",
       "    </tr>\n",
       "    <tr>\n",
       "      <th>1093</th>\n",
       "      <td>2007.10.13</td>\n",
       "      <td>13</td>\n",
       "      <td>10</td>\n",
       "      <td>2007</td>\n",
       "      <td>2007</td>\n",
       "      <td>13-Oct-07</td>\n",
       "      <td>Unprovoked</td>\n",
       "      <td>AUSTRALIA</td>\n",
       "      <td>Queensland</td>\n",
       "      <td>Holmes Reef</td>\n",
       "      <td>Spearfishing</td>\n",
       "      <td>Adam Wood</td>\n",
       "      <td>M</td>\n",
       "      <td>31</td>\n",
       "      <td>Laceration to calf</td>\n",
       "      <td>N</td>\n",
       "      <td>Bronze whaler shark</td>\n",
       "      <td>news.com.au, 10/14/2007</td>\n",
       "      <td>http://sharkattackfile.net/spreadsheets/pdf_di...</td>\n",
       "    </tr>\n",
       "  </tbody>\n",
       "</table>\n",
       "</div>"
      ],
      "text/plain": [
       "       Case Number Day Month  Year_  Year       Date        Type    Country  \\\n",
       "4958    1924.02.08  08    02   1924  1924  08-Feb-24     Invalid  AUSTRALIA   \n",
       "2918    1977.08.05  05    08   1977  1977  05-Aug-77     Invalid        USA   \n",
       "1410    2004.10.06  06    10   2004  2004  06-Oct-04  Unprovoked    REUNION   \n",
       "1989    1997.11.09  09    11   1997  1997  09-Nov-97  Unprovoked  AUSTRALIA   \n",
       "86      2016.03.02  02    03   2016  2016  02-Mar-16  Unprovoked     BRAZIL   \n",
       "1087    2007.11.06  06    11   2007  2007  06-Nov-07  Unprovoked        USA   \n",
       "5312    1900.12.27  27    12   1900  1900  27-Dec-00  Unprovoked  AUSTRALIA   \n",
       "74    2016.04.07.b  07    04   2016  2016  07-Apr-16  Unprovoked        USA   \n",
       "2995    1975.07.05  05    07   1975  1975  05-Jul-75    Provoked  AUSTRALIA   \n",
       "1093    2007.10.13  13    10   2007  2007  13-Oct-07  Unprovoked  AUSTRALIA   \n",
       "\n",
       "                        Area                                 Location  \\\n",
       "4958              Queensland                                Currumbin   \n",
       "2918                 Florida          St. Petersburg, Pinellas County   \n",
       "1410  Conservatória District               P' tit Paris, Saint-Pierre   \n",
       "1989       Western Australia                                   Albany   \n",
       "86      Santa Catarina State       Escalerio Beach Balneário Camboriú   \n",
       "1087                 Florida         New Smyrna Beach, Volusia County   \n",
       "5312         New South Wales                  Middle Harbour, Sydney    \n",
       "74                   Florida              Florida Keys, Monroe County   \n",
       "2995       Western Australia  15 km north of Lancelin, north of Perth   \n",
       "1093              Queensland                              Holmes Reef   \n",
       "\n",
       "                                       Activity                  Name Sex   \\\n",
       "4958                                    Bathing     Frederick Dullroy    M   \n",
       "2918                                     Wading      Michael Muradian    M   \n",
       "1410                              Body boarding       Vincent Motais     M   \n",
       "1989  Scuba diving (submerged riding a scooter)          Kevin Hulkes    M   \n",
       "86                                     Swimming  Rafael Hermes Thomas    M   \n",
       "1087                                    Surfing            Joseph Fox    M   \n",
       "5312                                    Bathing        Thomas Houstan    M   \n",
       "74                                      Fishing       Jonathan Lester    M   \n",
       "2995                               Spearfishing       Dennis Thompson    M   \n",
       "1093                               Spearfishing             Adam Wood    M   \n",
       "\n",
       "      Age                                             Injury Fatal (Y/N)  \\\n",
       "4958  NaN                     Probable drowning & scavenging     UNKNOWN   \n",
       "2918   17                         Lacerations to hip and leg           N   \n",
       "1410   15          Leg severely bitten, surgically amputated           N   \n",
       "1989   42      Left arm lacerated when shark grabbed scooter           N   \n",
       "86     41                               Minor injury to head           N   \n",
       "1087   21                                  Cut to right knee           N   \n",
       "5312  NaN                                              FATAL           Y   \n",
       "74     34                                   Left hand bitten           N   \n",
       "2995   29  Speared shark bit his arm  between elbow and s...           N   \n",
       "1093   31                                 Laceration to calf           N   \n",
       "\n",
       "                                            Species   \\\n",
       "4958                                             NaN   \n",
       "2918                 Shark involvement not confirmed   \n",
       "1410  Thought to involve a 2.5 m bull or tiger shark   \n",
       "1989                                     White shark   \n",
       "86                                   Sandtiger shark   \n",
       "1087                                  4' to 5' shark   \n",
       "5312                                             NaN   \n",
       "74                                    5' to 6' shark   \n",
       "2995                         2.4 m [8'] whaler shark   \n",
       "1093                             Bronze whaler shark   \n",
       "\n",
       "                                 Investigator or Source  \\\n",
       "4958                                         11/02/1924   \n",
       "2918               St. Petersburg Independent, 8/8/1977   \n",
       "1410                       Federation Francaise de Surf   \n",
       "1989                   Daily Telegraph, 11/12/1997, p.5   \n",
       "86                             Misones Online, 3/4/2016   \n",
       "1087  S. Petersohn; GSAF' Central Florida News, 11/7...   \n",
       "5312                        Taranaki Herald, 12/28/1900   \n",
       "74                                                  NaN   \n",
       "2995                          Washington Post, 7/7/1975   \n",
       "1093                            news.com.au, 10/14/2007   \n",
       "\n",
       "                                                   href  \n",
       "4958  http://sharkattackfile.net/spreadsheets/pdf_di...  \n",
       "2918  http://sharkattackfile.net/spreadsheets/pdf_di...  \n",
       "1410  http://sharkattackfile.net/spreadsheets/pdf_di...  \n",
       "1989  http://sharkattackfile.net/spreadsheets/pdf_di...  \n",
       "86    http://sharkattackfile.net/spreadsheets/pdf_di...  \n",
       "1087  http://sharkattackfile.net/spreadsheets/pdf_di...  \n",
       "5312  http://sharkattackfile.net/spreadsheets/pdf_di...  \n",
       "74    http://sharkattackfile.net/spreadsheets/pdf_di...  \n",
       "2995  http://sharkattackfile.net/spreadsheets/pdf_di...  \n",
       "1093  http://sharkattackfile.net/spreadsheets/pdf_di...  "
      ]
     },
     "execution_count": 67,
     "metadata": {},
     "output_type": "execute_result"
    }
   ],
   "source": [
    "try:\n",
    "    data['Year_']=[d[0:4] for d in data['Case Number']]\n",
    "except:\n",
    "    data['Year_']='00'\n",
    "try:\n",
    "    data['Month']=[d[5:7] for d in data['Case Number']]\n",
    "except:\n",
    "    data['Month']='00'\n",
    "try:\n",
    "    data['Day']=[d[8:10] for d in data['Case Number']]\n",
    "except:\n",
    "    data['Day']='00'\n",
    "data.loc[data['Year_'].str.contains('(?i)ND'),'Year_']='00'\n",
    "data.loc[data['Year_'].str.contains('ND'),'Day']='00'\n",
    "data.loc[data['Year_'].str.contains('ND'),'Month']='00'\n",
    "data['Year_'] = data['Year_'].replace(['0.02','0.03','0.04','0.07'],0)\n",
    "data['Year_'] = data['Year_'].astype(int)\n",
    "data = data[['Case Number','Day','Month','Year_','Year','Date','Type','Country','Area','Location','Activity','Name',\n",
    "           'Sex ','Age','Injury','Fatal (Y/N)','Species ','Investigator or Source','href']]\n",
    "data.sample(n=10)"
   ]
  },
  {
   "cell_type": "raw",
   "metadata": {},
   "source": [
    "Let's see if the two \"Year\" columns match..."
   ]
  },
  {
   "cell_type": "code",
   "execution_count": 68,
   "metadata": {},
   "outputs": [
    {
     "data": {
      "text/html": [
       "<div>\n",
       "<style scoped>\n",
       "    .dataframe tbody tr th:only-of-type {\n",
       "        vertical-align: middle;\n",
       "    }\n",
       "\n",
       "    .dataframe tbody tr th {\n",
       "        vertical-align: top;\n",
       "    }\n",
       "\n",
       "    .dataframe thead th {\n",
       "        text-align: right;\n",
       "    }\n",
       "</style>\n",
       "<table border=\"1\" class=\"dataframe\">\n",
       "  <thead>\n",
       "    <tr style=\"text-align: right;\">\n",
       "      <th></th>\n",
       "      <th>Year</th>\n",
       "      <th>Year_</th>\n",
       "    </tr>\n",
       "  </thead>\n",
       "  <tbody>\n",
       "    <tr>\n",
       "      <th>3285</th>\n",
       "      <td>1967</td>\n",
       "      <td>1967</td>\n",
       "    </tr>\n",
       "    <tr>\n",
       "      <th>4962</th>\n",
       "      <td>1923</td>\n",
       "      <td>1923</td>\n",
       "    </tr>\n",
       "    <tr>\n",
       "      <th>5697</th>\n",
       "      <td>1862</td>\n",
       "      <td>1862</td>\n",
       "    </tr>\n",
       "    <tr>\n",
       "      <th>1039</th>\n",
       "      <td>2008</td>\n",
       "      <td>2008</td>\n",
       "    </tr>\n",
       "    <tr>\n",
       "      <th>4118</th>\n",
       "      <td>1954</td>\n",
       "      <td>1954</td>\n",
       "    </tr>\n",
       "    <tr>\n",
       "      <th>1385</th>\n",
       "      <td>2005</td>\n",
       "      <td>2005</td>\n",
       "    </tr>\n",
       "    <tr>\n",
       "      <th>1611</th>\n",
       "      <td>2002</td>\n",
       "      <td>2002</td>\n",
       "    </tr>\n",
       "    <tr>\n",
       "      <th>4706</th>\n",
       "      <td>1934</td>\n",
       "      <td>1934</td>\n",
       "    </tr>\n",
       "    <tr>\n",
       "      <th>5896</th>\n",
       "      <td>0</td>\n",
       "      <td>0</td>\n",
       "    </tr>\n",
       "    <tr>\n",
       "      <th>5930</th>\n",
       "      <td>0</td>\n",
       "      <td>0</td>\n",
       "    </tr>\n",
       "    <tr>\n",
       "      <th>3464</th>\n",
       "      <td>1964</td>\n",
       "      <td>1964</td>\n",
       "    </tr>\n",
       "    <tr>\n",
       "      <th>3642</th>\n",
       "      <td>1961</td>\n",
       "      <td>1961</td>\n",
       "    </tr>\n",
       "    <tr>\n",
       "      <th>1765</th>\n",
       "      <td>2000</td>\n",
       "      <td>2000</td>\n",
       "    </tr>\n",
       "    <tr>\n",
       "      <th>441</th>\n",
       "      <td>2013</td>\n",
       "      <td>2013</td>\n",
       "    </tr>\n",
       "    <tr>\n",
       "      <th>885</th>\n",
       "      <td>2009</td>\n",
       "      <td>2009</td>\n",
       "    </tr>\n",
       "    <tr>\n",
       "      <th>906</th>\n",
       "      <td>2009</td>\n",
       "      <td>2009</td>\n",
       "    </tr>\n",
       "    <tr>\n",
       "      <th>1075</th>\n",
       "      <td>2008</td>\n",
       "      <td>2008</td>\n",
       "    </tr>\n",
       "    <tr>\n",
       "      <th>5393</th>\n",
       "      <td>1895</td>\n",
       "      <td>1895</td>\n",
       "    </tr>\n",
       "    <tr>\n",
       "      <th>4505</th>\n",
       "      <td>1941</td>\n",
       "      <td>1941</td>\n",
       "    </tr>\n",
       "    <tr>\n",
       "      <th>828</th>\n",
       "      <td>2010</td>\n",
       "      <td>2010</td>\n",
       "    </tr>\n",
       "  </tbody>\n",
       "</table>\n",
       "</div>"
      ],
      "text/plain": [
       "      Year  Year_\n",
       "3285  1967   1967\n",
       "4962  1923   1923\n",
       "5697  1862   1862\n",
       "1039  2008   2008\n",
       "4118  1954   1954\n",
       "1385  2005   2005\n",
       "1611  2002   2002\n",
       "4706  1934   1934\n",
       "5896     0      0\n",
       "5930     0      0\n",
       "3464  1964   1964\n",
       "3642  1961   1961\n",
       "1765  2000   2000\n",
       "441   2013   2013\n",
       "885   2009   2009\n",
       "906   2009   2009\n",
       "1075  2008   2008\n",
       "5393  1895   1895\n",
       "4505  1941   1941\n",
       "828   2010   2010"
      ]
     },
     "execution_count": 68,
     "metadata": {},
     "output_type": "execute_result"
    }
   ],
   "source": [
    "data[['Year','Year_']].sample(n=20)"
   ]
  },
  {
   "cell_type": "raw",
   "metadata": {},
   "source": [
    "The two columns seems similar, but are they really ?"
   ]
  },
  {
   "cell_type": "code",
   "execution_count": 69,
   "metadata": {},
   "outputs": [
    {
     "data": {
      "text/plain": [
       "True     5987\n",
       "False       5\n",
       "Name: test, dtype: int64"
      ]
     },
     "execution_count": 69,
     "metadata": {},
     "output_type": "execute_result"
    }
   ],
   "source": [
    "data['test'] = data['Year_']==(data['Year'])\n",
    "data['test'].value_counts()"
   ]
  },
  {
   "cell_type": "raw",
   "metadata": {},
   "source": [
    "It seems that 5 cells are different. Let's examine them."
   ]
  },
  {
   "cell_type": "code",
   "execution_count": 70,
   "metadata": {
    "scrolled": false
   },
   "outputs": [
    {
     "data": {
      "text/html": [
       "<div>\n",
       "<style scoped>\n",
       "    .dataframe tbody tr th:only-of-type {\n",
       "        vertical-align: middle;\n",
       "    }\n",
       "\n",
       "    .dataframe tbody tr th {\n",
       "        vertical-align: top;\n",
       "    }\n",
       "\n",
       "    .dataframe thead th {\n",
       "        text-align: right;\n",
       "    }\n",
       "</style>\n",
       "<table border=\"1\" class=\"dataframe\">\n",
       "  <thead>\n",
       "    <tr style=\"text-align: right;\">\n",
       "      <th></th>\n",
       "      <th>Case Number</th>\n",
       "      <th>Day</th>\n",
       "      <th>Month</th>\n",
       "      <th>Year_</th>\n",
       "      <th>Year</th>\n",
       "      <th>Date</th>\n",
       "      <th>Type</th>\n",
       "      <th>Country</th>\n",
       "      <th>Area</th>\n",
       "      <th>Location</th>\n",
       "      <th>Activity</th>\n",
       "      <th>Name</th>\n",
       "      <th>Sex</th>\n",
       "      <th>Age</th>\n",
       "      <th>Injury</th>\n",
       "      <th>Fatal (Y/N)</th>\n",
       "      <th>Species</th>\n",
       "      <th>Investigator or Source</th>\n",
       "      <th>href</th>\n",
       "      <th>test</th>\n",
       "    </tr>\n",
       "  </thead>\n",
       "  <tbody>\n",
       "    <tr>\n",
       "      <th>2449</th>\n",
       "      <td>1989.07.27</td>\n",
       "      <td>27</td>\n",
       "      <td>07</td>\n",
       "      <td>1989</td>\n",
       "      <td>1969</td>\n",
       "      <td>27-Jul-89</td>\n",
       "      <td>Invalid</td>\n",
       "      <td>BERMUDA</td>\n",
       "      <td>NaN</td>\n",
       "      <td>NaN</td>\n",
       "      <td>Scuba diving</td>\n",
       "      <td>Russian male</td>\n",
       "      <td>M</td>\n",
       "      <td>35</td>\n",
       "      <td>FATAL</td>\n",
       "      <td>NaN</td>\n",
       "      <td>Shark involvement suspected but not confirmed</td>\n",
       "      <td>LA Times, 7/28/1989</td>\n",
       "      <td>http://sharkattackfile.net/spreadsheets/pdf_di...</td>\n",
       "      <td>False</td>\n",
       "    </tr>\n",
       "    <tr>\n",
       "      <th>3662</th>\n",
       "      <td>1961.07.16</td>\n",
       "      <td>16</td>\n",
       "      <td>07</td>\n",
       "      <td>1961</td>\n",
       "      <td>1971</td>\n",
       "      <td>16-Jul-61</td>\n",
       "      <td>Unprovoked</td>\n",
       "      <td>TURKEY</td>\n",
       "      <td>Anatolia</td>\n",
       "      <td>?nciralti Beach, ?zmir</td>\n",
       "      <td>Swimming</td>\n",
       "      <td>?brahim Karagöz</td>\n",
       "      <td>M</td>\n",
       "      <td>16</td>\n",
       "      <td>Left leg injured</td>\n",
       "      <td>N</td>\n",
       "      <td>NaN</td>\n",
       "      <td>C. Moore, GSAF</td>\n",
       "      <td>http://sharkattackfile.net/spreadsheets/pdf_di...</td>\n",
       "      <td>False</td>\n",
       "    </tr>\n",
       "    <tr>\n",
       "      <th>4312</th>\n",
       "      <td>1948.09.17.R</td>\n",
       "      <td>17</td>\n",
       "      <td>09</td>\n",
       "      <td>1948</td>\n",
       "      <td>1848</td>\n",
       "      <td>Reported 17-Sep-1848</td>\n",
       "      <td>Unprovoked</td>\n",
       "      <td>TURKEY</td>\n",
       "      <td>Adana Province</td>\n",
       "      <td>Yumurtalik</td>\n",
       "      <td>Swimming</td>\n",
       "      <td>Ali Kaymaz</td>\n",
       "      <td>M</td>\n",
       "      <td>NaN</td>\n",
       "      <td>FATAL</td>\n",
       "      <td>Y</td>\n",
       "      <td>NaN</td>\n",
       "      <td>C. Moore, GSAF</td>\n",
       "      <td>http://sharkattackfile.net/spreadsheets/pdf_di...</td>\n",
       "      <td>False</td>\n",
       "    </tr>\n",
       "    <tr>\n",
       "      <th>4983</th>\n",
       "      <td>1923.00.00.a</td>\n",
       "      <td>00</td>\n",
       "      <td>00</td>\n",
       "      <td>1923</td>\n",
       "      <td>1922</td>\n",
       "      <td>1923</td>\n",
       "      <td>Provoked</td>\n",
       "      <td>USA</td>\n",
       "      <td>New Jersey</td>\n",
       "      <td>Ocean City (offshore)</td>\n",
       "      <td>Hoisting shark aboard fishing boat</td>\n",
       "      <td>male</td>\n",
       "      <td>M</td>\n",
       "      <td>NaN</td>\n",
       "      <td>Shark's tail broke his leg. PROVOKED INCIDENT</td>\n",
       "      <td>N</td>\n",
       "      <td>NaN</td>\n",
       "      <td>Ref in New York Herald Tribune, 8/23/1960; V.M...</td>\n",
       "      <td>http://sharkattackfile.net/spreadsheets/pdf_di...</td>\n",
       "      <td>False</td>\n",
       "    </tr>\n",
       "    <tr>\n",
       "      <th>5043</th>\n",
       "      <td>1900.00.00.R</td>\n",
       "      <td>00</td>\n",
       "      <td>00</td>\n",
       "      <td>1900</td>\n",
       "      <td>1919</td>\n",
       "      <td>Reported to have taken place in 1919</td>\n",
       "      <td>Boating</td>\n",
       "      <td>ITALY</td>\n",
       "      <td>NaN</td>\n",
       "      <td>Savona</td>\n",
       "      <td>Fishing</td>\n",
       "      <td>NaN</td>\n",
       "      <td>M</td>\n",
       "      <td>NaN</td>\n",
       "      <td>No injury</td>\n",
       "      <td>N</td>\n",
       "      <td>13' shark</td>\n",
       "      <td>C. Moore, GSAF</td>\n",
       "      <td>http://sharkattackfile.net/spreadsheets/pdf_di...</td>\n",
       "      <td>False</td>\n",
       "    </tr>\n",
       "  </tbody>\n",
       "</table>\n",
       "</div>"
      ],
      "text/plain": [
       "       Case Number Day Month  Year_  Year  \\\n",
       "2449    1989.07.27  27    07   1989  1969   \n",
       "3662    1961.07.16  16    07   1961  1971   \n",
       "4312  1948.09.17.R  17    09   1948  1848   \n",
       "4983  1923.00.00.a  00    00   1923  1922   \n",
       "5043  1900.00.00.R  00    00   1900  1919   \n",
       "\n",
       "                                      Date        Type  Country  \\\n",
       "2449                             27-Jul-89     Invalid  BERMUDA   \n",
       "3662                             16-Jul-61  Unprovoked   TURKEY   \n",
       "4312                  Reported 17-Sep-1848  Unprovoked   TURKEY   \n",
       "4983                                  1923    Provoked      USA   \n",
       "5043  Reported to have taken place in 1919     Boating    ITALY   \n",
       "\n",
       "                Area                 Location  \\\n",
       "2449             NaN                      NaN   \n",
       "3662        Anatolia  ?nciralti Beach, ?zmir    \n",
       "4312  Adana Province               Yumurtalik   \n",
       "4983      New Jersey    Ocean City (offshore)   \n",
       "5043             NaN                   Savona   \n",
       "\n",
       "                                Activity             Name Sex   Age  \\\n",
       "2449                        Scuba diving     Russian male    M   35   \n",
       "3662                            Swimming  ?brahim Karagöz    M   16   \n",
       "4312                            Swimming       Ali Kaymaz    M  NaN   \n",
       "4983  Hoisting shark aboard fishing boat             male    M  NaN   \n",
       "5043                             Fishing              NaN    M  NaN   \n",
       "\n",
       "                                             Injury Fatal (Y/N)  \\\n",
       "2449                                          FATAL         NaN   \n",
       "3662                               Left leg injured           N   \n",
       "4312                                          FATAL           Y   \n",
       "4983  Shark's tail broke his leg. PROVOKED INCIDENT           N   \n",
       "5043                                      No injury           N   \n",
       "\n",
       "                                           Species   \\\n",
       "2449  Shark involvement suspected but not confirmed   \n",
       "3662                                            NaN   \n",
       "4312                                            NaN   \n",
       "4983                                            NaN   \n",
       "5043                                      13' shark   \n",
       "\n",
       "                                 Investigator or Source  \\\n",
       "2449                                LA Times, 7/28/1989   \n",
       "3662                                     C. Moore, GSAF   \n",
       "4312                                     C. Moore, GSAF   \n",
       "4983  Ref in New York Herald Tribune, 8/23/1960; V.M...   \n",
       "5043                                     C. Moore, GSAF   \n",
       "\n",
       "                                                   href   test  \n",
       "2449  http://sharkattackfile.net/spreadsheets/pdf_di...  False  \n",
       "3662  http://sharkattackfile.net/spreadsheets/pdf_di...  False  \n",
       "4312  http://sharkattackfile.net/spreadsheets/pdf_di...  False  \n",
       "4983  http://sharkattackfile.net/spreadsheets/pdf_di...  False  \n",
       "5043  http://sharkattackfile.net/spreadsheets/pdf_di...  False  "
      ]
     },
     "execution_count": 70,
     "metadata": {},
     "output_type": "execute_result"
    }
   ],
   "source": [
    "data.loc[data['Year_']!=(data['Year'])]"
   ]
  },
  {
   "cell_type": "raw",
   "metadata": {},
   "source": [
    "After reading the web page associated, I retrieve the correct date and correct it in the \"Year\" column. Typos and mistakes are current in dataset. Data cleaning must always rely on every rows' informations. "
   ]
  },
  {
   "cell_type": "code",
   "execution_count": 71,
   "metadata": {},
   "outputs": [],
   "source": [
    "data.loc[4983,'Year']=1923\n",
    "data.loc[3662,'Year']=1961\n",
    "data.loc[2449,'Year']=1989"
   ]
  },
  {
   "cell_type": "raw",
   "metadata": {},
   "source": [
    "<br>The original \"Date\" column will be be more explicit if it's called \"Date comment\"."
   ]
  },
  {
   "cell_type": "code",
   "execution_count": 72,
   "metadata": {},
   "outputs": [],
   "source": [
    "data.rename(columns={'Date': 'Date comment'}, inplace=True)"
   ]
  },
  {
   "cell_type": "markdown",
   "metadata": {},
   "source": [
    "#### \"Fatal\" column"
   ]
  },
  {
   "cell_type": "raw",
   "metadata": {},
   "source": [
    "Let's now examine the \"Fatal (Y/N)' column. It's important because it will inform us of the proportion of attack that were fatal."
   ]
  },
  {
   "cell_type": "code",
   "execution_count": 73,
   "metadata": {},
   "outputs": [
    {
     "data": {
      "text/plain": [
       "{' N', '#VALUE!', 'F', 'N', 'N ', 'UNKNOWN', 'Y', 'n', nan}"
      ]
     },
     "execution_count": 73,
     "metadata": {},
     "output_type": "execute_result"
    }
   ],
   "source": [
    "set(data['Fatal (Y/N)'])"
   ]
  },
  {
   "cell_type": "raw",
   "metadata": {},
   "source": [
    "Let's clean these values. As the value UNKNOWN is pertinent, I chose to keep it and rename the column ('Fatal (Y/N/U)')"
   ]
  },
  {
   "cell_type": "code",
   "execution_count": 74,
   "metadata": {},
   "outputs": [
    {
     "name": "stdout",
     "output_type": "stream",
     "text": [
      "{'N', 'Y', 'U'}\n"
     ]
    }
   ],
   "source": [
    "data['Fatal (Y/N)'] = data['Fatal (Y/N)'].str.strip()\n",
    "data['Fatal (Y/N)'] = data['Fatal (Y/N)'].fillna('U')\n",
    "data['Fatal (Y/N)'] = data['Fatal (Y/N)'].str.replace('n', 'N')\n",
    "data['Fatal (Y/N)'] = data['Fatal (Y/N)'].str.replace('#VALUE!', 'U')\n",
    "data['Fatal (Y/N)'] = data['Fatal (Y/N)'].str.replace('F', 'Y')\n",
    "data['Fatal (Y/N)'] = data['Fatal (Y/N)'].str.replace('UNKNOWN', 'U')\n",
    "data.rename(columns={'Fatal (Y/N)': 'Fatal (Y/N/U)'}, inplace=True)\n",
    "print(set(data['Fatal (Y/N/U)']))"
   ]
  },
  {
   "cell_type": "markdown",
   "metadata": {},
   "source": [
    "#### A new column : \"Number of victims\""
   ]
  },
  {
   "cell_type": "raw",
   "metadata": {},
   "source": [
    "I create a column \"Number of victims\" based on column \"Name\" because it is the only one that really gives the number of person attacked at each event."
   ]
  },
  {
   "cell_type": "code",
   "execution_count": 75,
   "metadata": {
    "scrolled": false
   },
   "outputs": [
    {
     "data": {
      "text/html": [
       "<div>\n",
       "<style scoped>\n",
       "    .dataframe tbody tr th:only-of-type {\n",
       "        vertical-align: middle;\n",
       "    }\n",
       "\n",
       "    .dataframe tbody tr th {\n",
       "        vertical-align: top;\n",
       "    }\n",
       "\n",
       "    .dataframe thead th {\n",
       "        text-align: right;\n",
       "    }\n",
       "</style>\n",
       "<table border=\"1\" class=\"dataframe\">\n",
       "  <thead>\n",
       "    <tr style=\"text-align: right;\">\n",
       "      <th></th>\n",
       "      <th>Case Number</th>\n",
       "      <th>Day</th>\n",
       "      <th>Month</th>\n",
       "      <th>Year_</th>\n",
       "      <th>Year</th>\n",
       "      <th>Date comment</th>\n",
       "      <th>Type</th>\n",
       "      <th>Country</th>\n",
       "      <th>Area</th>\n",
       "      <th>Location</th>\n",
       "      <th>...</th>\n",
       "      <th>Name</th>\n",
       "      <th>Sex</th>\n",
       "      <th>Age</th>\n",
       "      <th>Injury</th>\n",
       "      <th>Fatal (Y/N/U)</th>\n",
       "      <th>Species</th>\n",
       "      <th>Investigator or Source</th>\n",
       "      <th>href</th>\n",
       "      <th>test</th>\n",
       "      <th>Number of victims</th>\n",
       "    </tr>\n",
       "  </thead>\n",
       "  <tbody>\n",
       "    <tr>\n",
       "      <th>0</th>\n",
       "      <td>2016.09.18.c</td>\n",
       "      <td>18</td>\n",
       "      <td>09</td>\n",
       "      <td>2016</td>\n",
       "      <td>2016</td>\n",
       "      <td>18-Sep-16</td>\n",
       "      <td>Unprovoked</td>\n",
       "      <td>USA</td>\n",
       "      <td>Florida</td>\n",
       "      <td>New Smyrna Beach, Volusia County</td>\n",
       "      <td>...</td>\n",
       "      <td>male</td>\n",
       "      <td>M</td>\n",
       "      <td>16</td>\n",
       "      <td>Minor injury to thigh</td>\n",
       "      <td>N</td>\n",
       "      <td>NaN</td>\n",
       "      <td>Orlando Sentinel, 9/19/2016</td>\n",
       "      <td>http://sharkattackfile.net/spreadsheets/pdf_di...</td>\n",
       "      <td>True</td>\n",
       "      <td>male</td>\n",
       "    </tr>\n",
       "    <tr>\n",
       "      <th>1</th>\n",
       "      <td>2016.09.18.b</td>\n",
       "      <td>18</td>\n",
       "      <td>09</td>\n",
       "      <td>2016</td>\n",
       "      <td>2016</td>\n",
       "      <td>18-Sep-16</td>\n",
       "      <td>Unprovoked</td>\n",
       "      <td>USA</td>\n",
       "      <td>Florida</td>\n",
       "      <td>New Smyrna Beach, Volusia County</td>\n",
       "      <td>...</td>\n",
       "      <td>Chucky Luciano</td>\n",
       "      <td>M</td>\n",
       "      <td>36</td>\n",
       "      <td>Lacerations to hands</td>\n",
       "      <td>N</td>\n",
       "      <td>NaN</td>\n",
       "      <td>Orlando Sentinel, 9/19/2016</td>\n",
       "      <td>http://sharkattackfile.net/spreadsheets/pdf_di...</td>\n",
       "      <td>True</td>\n",
       "      <td>Chucky Luciano</td>\n",
       "    </tr>\n",
       "    <tr>\n",
       "      <th>2</th>\n",
       "      <td>2016.09.18.a</td>\n",
       "      <td>18</td>\n",
       "      <td>09</td>\n",
       "      <td>2016</td>\n",
       "      <td>2016</td>\n",
       "      <td>18-Sep-16</td>\n",
       "      <td>Unprovoked</td>\n",
       "      <td>USA</td>\n",
       "      <td>Florida</td>\n",
       "      <td>New Smyrna Beach, Volusia County</td>\n",
       "      <td>...</td>\n",
       "      <td>male</td>\n",
       "      <td>M</td>\n",
       "      <td>43</td>\n",
       "      <td>Lacerations to lower leg</td>\n",
       "      <td>N</td>\n",
       "      <td>NaN</td>\n",
       "      <td>Orlando Sentinel, 9/19/2016</td>\n",
       "      <td>http://sharkattackfile.net/spreadsheets/pdf_di...</td>\n",
       "      <td>True</td>\n",
       "      <td>male</td>\n",
       "    </tr>\n",
       "    <tr>\n",
       "      <th>3</th>\n",
       "      <td>2016.09.17</td>\n",
       "      <td>17</td>\n",
       "      <td>09</td>\n",
       "      <td>2016</td>\n",
       "      <td>2016</td>\n",
       "      <td>17-Sep-16</td>\n",
       "      <td>Unprovoked</td>\n",
       "      <td>AUSTRALIA</td>\n",
       "      <td>Victoria</td>\n",
       "      <td>Thirteenth Beach</td>\n",
       "      <td>...</td>\n",
       "      <td>Rory Angiolella</td>\n",
       "      <td>M</td>\n",
       "      <td>NaN</td>\n",
       "      <td>Struck by fin on chest &amp; leg</td>\n",
       "      <td>N</td>\n",
       "      <td>NaN</td>\n",
       "      <td>The Age, 9/18/2016</td>\n",
       "      <td>http://sharkattackfile.net/spreadsheets/pdf_di...</td>\n",
       "      <td>True</td>\n",
       "      <td>Rory Angiolella</td>\n",
       "    </tr>\n",
       "    <tr>\n",
       "      <th>4</th>\n",
       "      <td>2016.09.15</td>\n",
       "      <td>15</td>\n",
       "      <td>09</td>\n",
       "      <td>2016</td>\n",
       "      <td>2016</td>\n",
       "      <td>16-Sep-16</td>\n",
       "      <td>Unprovoked</td>\n",
       "      <td>AUSTRALIA</td>\n",
       "      <td>Victoria</td>\n",
       "      <td>Bells Beach</td>\n",
       "      <td>...</td>\n",
       "      <td>male</td>\n",
       "      <td>M</td>\n",
       "      <td>NaN</td>\n",
       "      <td>No injury: Knocked off board by shark</td>\n",
       "      <td>N</td>\n",
       "      <td>2 m shark</td>\n",
       "      <td>The Age, 9/16/2016</td>\n",
       "      <td>http://sharkattackfile.net/spreadsheets/pdf_di...</td>\n",
       "      <td>True</td>\n",
       "      <td>male</td>\n",
       "    </tr>\n",
       "  </tbody>\n",
       "</table>\n",
       "<p>5 rows × 21 columns</p>\n",
       "</div>"
      ],
      "text/plain": [
       "    Case Number Day Month  Year_  Year Date comment        Type    Country  \\\n",
       "0  2016.09.18.c  18    09   2016  2016    18-Sep-16  Unprovoked        USA   \n",
       "1  2016.09.18.b  18    09   2016  2016    18-Sep-16  Unprovoked        USA   \n",
       "2  2016.09.18.a  18    09   2016  2016    18-Sep-16  Unprovoked        USA   \n",
       "3    2016.09.17  17    09   2016  2016    17-Sep-16  Unprovoked  AUSTRALIA   \n",
       "4    2016.09.15  15    09   2016  2016    16-Sep-16  Unprovoked  AUSTRALIA   \n",
       "\n",
       "       Area                          Location  ...             Name Sex   Age  \\\n",
       "0   Florida  New Smyrna Beach, Volusia County  ...             male    M   16   \n",
       "1   Florida  New Smyrna Beach, Volusia County  ...   Chucky Luciano    M   36   \n",
       "2   Florida  New Smyrna Beach, Volusia County  ...             male    M   43   \n",
       "3  Victoria                  Thirteenth Beach  ...  Rory Angiolella    M  NaN   \n",
       "4  Victoria                       Bells Beach  ...             male    M  NaN   \n",
       "\n",
       "                                  Injury Fatal (Y/N/U)   Species   \\\n",
       "0                  Minor injury to thigh             N        NaN   \n",
       "1                   Lacerations to hands             N        NaN   \n",
       "2               Lacerations to lower leg             N        NaN   \n",
       "3           Struck by fin on chest & leg             N        NaN   \n",
       "4  No injury: Knocked off board by shark             N  2 m shark   \n",
       "\n",
       "        Investigator or Source  \\\n",
       "0  Orlando Sentinel, 9/19/2016   \n",
       "1  Orlando Sentinel, 9/19/2016   \n",
       "2  Orlando Sentinel, 9/19/2016   \n",
       "3           The Age, 9/18/2016   \n",
       "4           The Age, 9/16/2016   \n",
       "\n",
       "                                                href  test  Number of victims  \n",
       "0  http://sharkattackfile.net/spreadsheets/pdf_di...  True               male  \n",
       "1  http://sharkattackfile.net/spreadsheets/pdf_di...  True     Chucky Luciano  \n",
       "2  http://sharkattackfile.net/spreadsheets/pdf_di...  True               male  \n",
       "3  http://sharkattackfile.net/spreadsheets/pdf_di...  True    Rory Angiolella  \n",
       "4  http://sharkattackfile.net/spreadsheets/pdf_di...  True               male  \n",
       "\n",
       "[5 rows x 21 columns]"
      ]
     },
     "execution_count": 75,
     "metadata": {},
     "output_type": "execute_result"
    }
   ],
   "source": [
    "data['Number of victims']=data['Name']\n",
    "data['Number of victims'].fillna('Unknown', inplace=True)\n",
    "data.head()"
   ]
  },
  {
   "cell_type": "raw",
   "metadata": {},
   "source": [
    "Now, let's deduct the number of victim by the informations present in the column. I focused ont the cells that contained several names or an entire phrase."
   ]
  },
  {
   "cell_type": "code",
   "execution_count": 76,
   "metadata": {},
   "outputs": [],
   "source": [
    "\n",
    "unknown=['boat','All on board perished in the crash','a charter fishing boat with James Whiteside and his party','6 m skiboat, occupants: P.A. Reeder & crew','6 m boat, occupants John Winslet & customers','5.4 m boat','5 m skiboat',\"\"\"40' fishing cutter\"\"\",\"40' bonito boat\",\"4 boats\",\"\"\"30' cabin cruiser owned by Stefano Catalani\"\"\",\"25-foot cutter\",\"\"\"25' cutter\"\"\",\"\"\"25' rigid-hulled inflatable boat, HI-2\"\"\",\"\"\"24' yacht owened by  C.L. Whitrow\"\"\",\"\"\"22' pleasure boat\"\"\",\"\"\"20' boat of Frank Stocker\"\"\",'2 USAF 4-engine planes (an HC-54 & a HC-97) each with 12 onboard collided in mid-air at low altitude and plunged into the Atlantic Ocean',\"2 boats\",\"\"\"18' boat of Morris Vorenberg\"\"\",\"\"\"16' launch\"\"\",\"\"\"16' cabin cruiser with 35 hp outboard motor\"\"\",\"\"\"15' boat\"\"\",\"\"\"14' boat, occupant: Jonathan Leodorn\"\"\",'14-foot boat Sintra',\"\"\"12' dinghy\"\"\",\"\"\"12' boat of Alf Laundy\"\"\",'10m boat Lucky Jim',\"\"\"10' dinghy\"\"\",'10.7 m boat. Occupants: John Capella & friends','Because of a mistaken belief that there were no survivors and several other successive errors, of the 100 to 150 men who survived the sinking, only 11 were rescued. Four of the Sullivan brothers died in the initial blast. ','boat','boat  Marie',\"\"\"Boat “Coca Cola”\"\"\",\"boat crew\",\"boat Live N Hope\",\"boat of Al Hattersly\",\"\"\"Boat of Captain Forman White,\"boat of Scot's College rowers\"\"\",\"boat of Thomas Baker\",\"boat of Wally Gibbons\",\"Boat owned by Ricardo Laneiro\",\"Boat with tourists onboard\",\"boat x 2\",'boat, occupants, P. Groenwald and others','boat, occupants: Jacob Kruger & crew','boat: Lady Charlotte, occupants: C. McSporran & his crew','Crew of Anti-submarine Squadron 23','crew','Haitian refugees perished when their boat capsized in choppy seas','males','males (wearing armor)','males, shark fishermen','mate & crew','multiple bathers','multiple boats including B.J. C. Brunt','No details','Occupants of skin boats','Passenger & crew','Passenger ferry Norman Atlantic','passenger in an automobile','pilot boat, occupants; Captain McAlister & crew','rowboat, ','rowboat, occupants: refugees fleeing Cuba','rowboats attacked by sharks','sailors','several Somali children','Severed human foot washed ashore (in sneaker with 2 Velcro closures)','ski-boat','skiboat','skiff, occupants: Russel J. Coles and others','slaves','surf patrol boat','Theodore Anderson’s captain & rest of crew taken by sharks']\n",
    "zero_pers=['Jeff Wells claimed he rescued his \"daughter\" from a 4 m tiger shark']\n",
    "one_pers=['After 2 days, Ann Dumas, 7,5 months pregnant, died of exposure & exhaution& her body was lashed to raft.','7.2 m boat. Occupant Kelvin Travers','5.75 m wooden boat, occupant: Yoshaiaki Ueda','5.4 m boat, occupant: Ivan Anderton','5 m skiboat; Stephanie','4.9 m fibreglass boat. Occupant: Jack Siverling',\"\"\"4.5 m boat, occupant: Rodney Lawn\"\"\",\"4.3 m skiff, occupant: Bob Shay\",\"4-m runabout. Occupant: Allen Gade\",\"\"\"24' boat Shark Tagger Occupant Keith Poe\"\"\",\"22-ft boat.  Occupant Captain Scott Fitzgerald\",\"\"\"17' boat, occupant:  Richard Wade\"\"\",\"\"\"16' skiff, occupant: W.A. Starck, II\"\"\",\"\"\"16' Dreamcatcher. Occupant: Ian Bussus\"\"\",\"\"\"16' boat, occupant: W. Lonergan\"\"\",\"\"\"15-foot boat: occupant Woodrow Smith\"\"\",\"\"\"14' catamaran, occupant: M. Leverenz\"\"\",\"\"\"12' skiff, occupant: E.R.F. Johnson\"\"\",\"\"\"12' boat Sio Ag, occupant: John Riding\"\"\",'12 m fishing boat. Occupant: Henry Tervo',\"\"\"10' rowboat, occupant: John Stephensen\"\"\",'British sailor from the  F-107','Arthur E. Taylor, a navy diver & member+G1053 of a 24-man demolition team',\"\"\"boat: 48' charter boat  GonFishin V\"\"\",\"\"\"boat: 69.5' trawler Christy Nichole\"\"\",'British sailor from the  F-107','Robert W. McGhee, Private 1st Class, 8th Infantry','Sailor of tuna vessel No.12 Taiyo Marei','U.S. soldier in 161st Infantry Regiment, 25th Infantry Division','William Mills, a British solider, 36th Regiment']\n",
    "two_pers=['a male & a female','a launch, occupants- Albert Cree & John Blacksall','8m inflatable boat. Occupants: Bhad Battle & Kevin Overmeyer','7 m boat, occupants: Tara Remington & Iain Rudkin','6 m boat: occupants  Stephen & Andrew Crust','5.4 m fibreglass boat, occupants: Robert & James Hogg','5 m skiboat Stephanie, occupants: Fanie Schoeman and Brigadier Bronkhorst','5 m skiboat Graanjan, occupants: Rudy van Graan, Jan de Waal Lombard','5 m boat, occupants: Don & Margaret Stubbs','5 m aluminum dinghy - occupants Mr. & Mrs. Paul Vickery',\"\"\"4.3 m skiff: occupants: James L. Randles, Jr. & James Myers\"\"\",\"\"\"35' motor launch, occupants: Bill Fulham & T. Fanning\"\"\",\"\"\"35' cruiser, Maluka II, occupants: Mr & Mrs E. Potts\"\"\",\"\"\"3.5 -metre fibreglass boat, occupants: Harry Ulbrich and another fisherman\"\"\",\"\"\"28' sea skiff, occupants: Alan Moree and another fisherman\"\"\",\"\"\"22' boat, occupants: Saul White & Charles Dillione\"\"\",\"\"\"20' boat; occupants: John Wright & a friend  \"\"\",\"\"\"19' clinker-built craft. Occupants: Ray Peckham & Mr. L.C. Wells\"\"\",\"\"\"19' boat, occupants: Ray Peckham, L.C. Wells\"\"\",\"\"\"18' launch, occupants: 2 fishermen\"\"\",\"\"\"18' boat, occupants William & Leslie Newton\"\"\",\"\"\"18' boat, occupants Richard Gunther & Donald Cavanaugh\"\"\",\"\"\"18 hp Boston Whaler boat, occupant: G. W. Bane, Jr.\"\"\",\"\"\"17' fishing launch, occupants: A. Burkitt & C. Brooke\"\"\",\"\"\"17' fishing boat; occupants 2 men\"\"\",\"\"\"16' motor launch owned by A. & E. Norton\"\"\",\"\"\"14' open boat: occupants Richard Crew & Bob Thatcher\"\"\",\"\"\"14' dinghy, 2 occupants\"\"\",\"\"\"14' boat, occupants: 2 men\"\"\",\"\"\"12' to 14' dory, occupants: John D. Burns & John MacLeod\"\"\",\"\"\"12' ski, occupants: Bill Dyer & Cliff Burgess \"\"\",\"\"\"12' open motor boat, occupants Jack Platt & Peter Keyes\"\"\",\"\"\"12' boat,           2 occupants\"\"\",'12-foot dinghy Occupants: R. Hunt & a friend.',\"\"\"11.6 m fibreglass boat. Occupants: Tony DeCriston & Dan Fink\"\"\",\"\"\"10' skiff. Occupants F. Whitehead & L. Honeybone\"\"\",\"\"\"10' row boat occupants;  Douglas Richards & George Irwin\"\"\",'boat, occupants:  Andrew Peterson & Peter Jergerson','boat, occupants:  Mike Taylor & his son, Jack, age 9','boat, occupants: Alf Dean, Jack Hood & Otto Bells','boat, occupants: Boyd Rutherford & Hamish Roper','boat, occupants: C. Nardelli & son','boat, occupants: John Griffiths & Thomas Johnson','boat, occupants: P.D. Neilly & Charlton Anderson','boat, Occupants: William Smith & Thomas Martin','boat; occupants: T & G Longhi','boat:  occupants: Nazzareno Zammit & Emmanuel',\"\"\"Boat: 14' Sunfish. Occupants Josh Long &  Troy Driscoll'\"\"\",'Boat: occupants: David Lock & his father','Boat: occupants: Tim Watson & Allan de Sylva','Bombardier J. Hall, Private Green of the Sherwood Foresters & Captain C. O. Jennings, R.E. Anti-tank Regiment','Brian Sierakowski & Barney Hanrahan','Bruce Flynn & his dive buddy','canoe, occupants: Chris Newman & Stewart Newman','canoe. Occupants: Doreen Tyrell & Frederick Bates','Captain Baxter & Dick Chares','Carlos Humberto Mendez & Esteban Robles','Colleen Chamberlin & Scott Chamberlin','Colonel B. & Sub-Lieutenant D.','Conway Plough &  Dr. Jonathan Higgs','crayfish boat. Occupants: Dave & Mitchell Duperouzel:','Curran See & Harry Lake','Dave Hamilton-Brown & Ant Rowan','dinghy, occupants: aborigine & lighthouse keeper','dinghy, occupants: Willem & Jan Groenwald','Dinghy. Occupants: Jeff Kurr and Andy Casagrande','Earl Yager & Riley McLachlan','Elena Hodgson & Isaac Ollis','Emil Uhlbrecht & unidentified person','Ensio Tiira & Fred Ericsson, deserters from the French Foreign Legion','Fishing boat. Occupants: Yunus Potur & Ali Durmaz','Gene Franken & Maurice McGregor','hobiecat, occupants: Judy Lambert  & a friend','Ida Parker & Kristen Orr','inflatable boat, occupants: Rudolf Bokelmann and Sakkie Vermeulen','inflatable dinghy, occupants: Ben Cropp, J. Harding & T. Fleischman','inflatable dinghy, occupants: Craig Ward & Gavin John Halse','\"Inflatable kayak Occupants:  Andrej Kultan & Steve Hopkins.\"',\"\"\"inflatable rescue boat. Occupants: Lauren Johnson &. Kris O'Neill\"\"\",'J.T. Hales and Kenneth J. Hislop, Australian Navy frogmen','James C. Beason & Calvin E. Smith, Jr.  spent 16 hours in life raft','John Parker & Edward Matthews','Juan & Alex Bueno','Karl Pollerer & Eric Eisesenid','Lobster boat, occupants: Mr. P. Valentine & Mr. J. van Schalkwyk ','Louis Zamperini  & Russell Phillips','Mayabrit, an ocean rowing boat. Occupants: Andrew Barnett & J.C.S. Brendana','Monte Robinson & Andrew McNeill','Mr. Child & a Kanaka','Ned & Pawn','Nicaso Balanoba & Julian Dona','Occupants: Ivan Angjus & Stevo Kentera','occupants: John Chandler & Walter Winters','Occupants: Luke Jones & James Sequin','Occupants: Scott & John Fulton','Philip Case & William B. Gray','plywood dinghy, occupants: Jack Deegan & Trevor Millett','Pollione Perrini & Fioravante Perini','rowboat, occupants: Bob Scott & John Blackwell ','rowboat, occupants: James Mitchell-Hedges & Raymond McHenry','Salvatore & Agostino Bugeja','Sgt James Lacasse & Sgt David Milsten, USAF divers','skiboat, occupants: Danie & Fanie Schoeman','skiff with Dr. William T. Healey, Dr. Henry Callahan on board','skiff, occupants: J. & A. Ayerst','Teresea Britton (on raft) & a man (on floating debris)','Tony Moolman and another surfer','Two stowaways on German steamer Vela','Waade Madigan and Dr Seyong Kim','wooden boat, occupants: Jack Bullman & Keith Campbell']\n",
    "three_pers=['Andong & 2 others','a skill. Occupants George Lunsford & 2 companions','6 m skiboat, occupants: Terry McManus, Dan Clark and Blackie Swart','6 m Seaduce - Occupants: Allen Roberts, Jason Savage & Rob Lindsay.','6 m boat Suki Saki, occupants: E.C. Landells & 2 friends','5.5 m fibreglass boat, occupants: Steven Piggott and Kelvin & Brendan Martin','5 m aluminum boat, occupants: Ben Turnbull, Lia & Neville Parker',\"\"\"4 m dinghy, occupants: Cecil Holmes, Chris Augustyn & Allen Varley \"\"\",\"3.8-m boat with 3 people on board\",\"\"\"21' boat sank. Occupants: Max Butcher, George Hardy & Peter Thorne\"\"\",\"2.4 m rowboat, occupants: Edgar Brown, Jerry Welz & Cornelius  Stakenburg\",\"\"\"17' fishing boat. Occupants, Bubba DeMaurice, his wife & daughter\"\"\",\"\"\"13' dinghy, occupant S. Smith, Leenee Dee & Marie Farmer   \"\"\",\"\"\"12' boat. Occupants:  Capt. E.J. Wines, Maj. W. Waller & Larry Waller\"\"\",'boat, occupants; Carl Sjoistrom & 2 other crew','boat, occupants:  Nels Jacobson & Franklin Harriman Covert','boat, occupants: Captains Charles Anderson, Emit Lindberg & Oscar Benson','Boat: occupants: Matt Mitchell & 2 other people','Burgess & 2 seamen','Captain Angus Brown, his son & brother','Captain Eric Hunt, the cook & a French passenger','catboat. Occupants: Captain Tuppe & 2 young ladiesr','Chris Haenga, Wayne Rangihuna  & Tamahau Tibble','D. R. Nelson, J. Greenberg & S.H. Gruber','Fishing boat  Bingo III , occupants: Michael Perkins, George Hornack & Capt. Lonergan ','\"Fishing boat.   occupants: Laz Hüseyin, Ali Osman & Tursun \"','Josh Francou, Michael Brister & Paul Bahr','launch, occupant Clive Whitrow, Dick Kuhne & Jim Pergola','Motor boat, occupants: Quintus Du Toit, J.H. van Heerden & J.P. Marais','Occupants: Andrew & Ben Donegan & Joel Ryan, ','Occupants: Jack Munro, Quinton Graham & Donald Shadler','open boat, occupants: Robert Ruark, Hoyle Dosher & Elmer Adkins','Rowgirls, an ocean rowing boat. Occupants: Sally Kettle, Claire Mills & Sue McMillan','Storm King; occupants - George Bridge & 2 sons','William Clinton Carter, Jr. & 2 other men']\n",
    "four_pers=[\"\"\"A 'tinnie\". Occupants :Paul Sweeny, Paul Nieuwkerdk, John and Mark Kik \"\"\",'7 m skiboat Alrehmah III, occupants: Adolph Schlechter & 3 friends','6 m skiboat, occupants: Alex Mamacos, Noel Glintenkamp, Tony Mountifield & Dillon Alexandra','4.8 m skiboat, occupants: C. Cockroft & 3 men','16-foot launch, occupants: George Casey, Jack Byrnes, Julian Reynolds & Denny Laverty','Bry & David Mossman & 2 friends','Claude Hadley, William Grundy, Albert Faulkner & Frederick Faulkner','Fishing vessel. Occupants Gerry Malabago, Mark Anthony Malabago & 2 others','Inflatable dinghy, occupants: Jasmine Wigley, Greg Wilkie, Phil Rourke & Fleur Anderson','Mini Haa Haar, fiberglass boat, occupants: William Catton, Anthony Green, Tony & Kylie Barnes','rowboat, occupant: Joe Whitted, Christopher Quevedo & 2 Willard Brothers','skiboat, occupants: Gustav Boettger, Clive Mason, Keith Murrison & Sweis Olivier','William Olsen, William Peterson, Albert Thomas & R. Zekoski']\n",
    "five_pers=['Albert Battles, James Dean & 4 crew','4.8-metre skiboat, Occupants: Rod Salm & 4 friends','boat of Dennis Kemp & 4 other occupants','boat Sea Hawk, occupants: R. Roberts & 4 others','boat, occupants:  Mr. Goslin & 4 passengers','Crew of aircraft: McGreevy, Beakley, Rosenthal, Ryan & Hodge','fishing boat, occupants: Simon Hlope & 4 other men','skiboat Double One, occupants: Anton & Michelle Gets, Ray Whitaker, John & Lyn Palmer','surf boat, occupants: Ray Sturdy and 4 other fishermen']\n",
    "six_pers=['7 m fishing boat Metoo, occupants: Nicky & Paul Goles & 4 friends','6 m catamaran, occupants: Peter Robertson, Beauchamp Robertson, Gerald Spence & 3 crew','5 m inflatable boat, occupants: Kobus Potgieter & 5 friends',\"\"\"4.8 m  boat Peggy, occupants: John Oktober, L.A. van Zyl and 4 others\"\"\",'dinghy, occupants: T. Shipston, T. Whitta, L Cox, T. Jones, R. Genet & W. Pearce','motor boat, occupants: Mr. & Mrs. Sidney M. Colgate and their three children, Bayard, Caroline and Margaret ','Occupants: Hamza Humaid Al Sahra’a & 5 crew',\"\"\"Paul Timothy Lovette, Dr. Neal Beardsley, James C. Russell, Harold H. Mackie, Dale Howard & Diego J. Terres on 42' Navy craft, Marie\"\"\"]\n",
    "seven_pers=['boat, occupants: Joseph Fitzback & 6 passengers','The June, occupants Bunny Pendelbury and crew of 6']\n",
    "eight_pers=['Wes Wiggins and 7 others on the boat, Sparetime','7.5 m boat, occupants: 8 men','8 US airmen in the water, 1 was bitten by a shark']\n",
    "for u in unknown:\n",
    "    data['Number of victims']=data['Number of victims'].replace(u,'Unknown')\n",
    "for one in one_pers:\n",
    "    data['Number of victims']=data['Number of victims'].replace(one,1)\n",
    "for two in two_pers:\n",
    "    data['Number of victims']=data['Number of victims'].replace(two,2)\n",
    "for three in three_pers:\n",
    "    data['Number of victims']=data['Number of victims'].replace(three,3)\n",
    "for four in four_pers:\n",
    "    data['Number of victims']=data['Number of victims'].replace(four,4)\n",
    "for five in five_pers:\n",
    "    data['Number of victims']=data['Number of victims'].replace(five,5)\n",
    "for six in six_pers:\n",
    "    data['Number of victims']=data['Number of victims'].replace(six,6)\n",
    "for seven in seven_pers:\n",
    "    data['Number of victims']=data['Number of victims'].replace(seven,7)\n",
    "for eight in eight_pers:\n",
    "    data['Number of victims']=data['Number of victims'].replace(eight,8)\n",
    "data['Number of victims']=data['Number of victims'].replace('boat Swift, occupants: Dolly Samuels & 8 other men',9)\n",
    "data['Number of victims']=data['Number of victims'].replace('\"21 m sportfishing vessel Seabiscuit. Occupants: Captain Louie Abbott & 2 dozen anglers\"',25)\n",
    "data['Number of victims']=data['Number of victims'].replace('\"\"\"15 Royal Canadian Airforce crew & 1 passenger\"\"\"',16)\n",
    "data['Number of victims']=data['Number of victims'].replace('135 passengers & 13 crew',148)\n",
    "data['Number of victims']=data['Number of victims'].replace('No survivors. 189 people were lost',295)\n",
    "data['Number of victims']=data['Number of victims'].replace('Most were women & children',42)\n",
    "data['Number of victims']=data['Number of victims'].replace('Mamerto Daanong, Tomas Inog & others',92)\n",
    "data['Number of victims']=data['Number of victims'].replace('male + 20',21)\n",
    "data['Number of victims']=data['Number of victims'].replace('At least 29 (and possibly another 71) Somali & Ethiopian refugees',90)\n",
    "data['Number of victims']=data['Number of victims'].str.extract('(\\d+)')"
   ]
  },
  {
   "cell_type": "raw",
   "metadata": {},
   "source": [
    "Now that the 'exceptions' are corrected, I fill the remaining cells by 1 because they contain the name of only 1 person."
   ]
  },
  {
   "cell_type": "code",
   "execution_count": 77,
   "metadata": {},
   "outputs": [
    {
     "data": {
      "text/plain": [
       "{0,\n",
       " 1,\n",
       " 2,\n",
       " 3,\n",
       " 4,\n",
       " 5,\n",
       " 6,\n",
       " 7,\n",
       " 8,\n",
       " 9,\n",
       " 10,\n",
       " 11,\n",
       " 12,\n",
       " 13,\n",
       " 14,\n",
       " 15,\n",
       " 20,\n",
       " 21,\n",
       " 23,\n",
       " 28,\n",
       " 31,\n",
       " 40,\n",
       " 48,\n",
       " 65,\n",
       " 68,\n",
       " 69,\n",
       " 130,\n",
       " 200,\n",
       " 206}"
      ]
     },
     "execution_count": 77,
     "metadata": {},
     "output_type": "execute_result"
    }
   ],
   "source": [
    "data['Number of victims'].fillna(1, inplace=True)\n",
    "data['Number of victims']=data['Number of victims'].astype(int)\n",
    "set(data['Number of victims'])"
   ]
  },
  {
   "cell_type": "markdown",
   "metadata": {},
   "source": [
    "#### \"Name\" column"
   ]
  },
  {
   "cell_type": "raw",
   "metadata": {},
   "source": [
    "After creating this new column, I notice that in the \"Name\" column there is some informations that should be in the \"Sex\" column."
   ]
  },
  {
   "cell_type": "code",
   "execution_count": 78,
   "metadata": {},
   "outputs": [
    {
     "data": {
      "text/plain": [
       "{'9 people in the water',\n",
       " 'Adam Johannes Kriel',\n",
       " 'Alan Titchenal',\n",
       " 'Alessandro Russo',\n",
       " 'Andy Thompson',\n",
       " 'Anthony Segrich',\n",
       " 'Bob Purcell',\n",
       " 'Bruce Bourke',\n",
       " 'C.J. Wickersham',\n",
       " 'Carson Jewell',\n",
       " 'Chris Hogan',\n",
       " 'Chris White',\n",
       " 'Douglas Blackmore',\n",
       " 'Douglas Kuchn, Jr.',\n",
       " 'Fuentes Gonzalez Escualo ',\n",
       " 'Hans Kretschmer',\n",
       " 'Henry Usimewa',\n",
       " 'Horace Hewison',\n",
       " 'Huynh Nhu Hoang',\n",
       " 'Jason Coffman',\n",
       " 'John Davy & John Pierpoint',\n",
       " 'Leo Streng',\n",
       " 'Mary Marcus',\n",
       " 'Michael Casey',\n",
       " 'Nkosinathi Mayaba',\n",
       " 'Occupant: Hasan Olta',\n",
       " 'Percy Evensen',\n",
       " 'Rich Reed',\n",
       " 'Richard Peter Bisley',\n",
       " 'Scott Johnson',\n",
       " 'Simeon (Samuel) Ettelton',\n",
       " 'Whitefield Rolle',\n",
       " 'boy',\n",
       " 'female',\n",
       " 'launch, occupant Clive Whitrow, Dick Kuhne & Jim Pergola',\n",
       " 'male',\n",
       " nan}"
      ]
     },
     "execution_count": 78,
     "metadata": {},
     "output_type": "execute_result"
    }
   ],
   "source": [
    "set(data['Name'].sample(n=40))"
   ]
  },
  {
   "cell_type": "raw",
   "metadata": {},
   "source": [
    "Let's check if these informations could help filling the empty cells of the \"Sex\" column.\n",
    "<br> First, there is something we <b>really</b> don't like in Data cleaning : a space in the column's name! Let's clean every columns' name to be sure."
   ]
  },
  {
   "cell_type": "code",
   "execution_count": 79,
   "metadata": {},
   "outputs": [],
   "source": [
    "data.rename(columns={'Sex ': 'Sex'}, inplace=True)\n",
    "data.columns = data.columns.str.strip()"
   ]
  },
  {
   "cell_type": "raw",
   "metadata": {},
   "source": [
    "After that, let's clean the various spellings of sex present in the \"Name\" column and extract them in another column named \"name_corrected\" and fill the empty cells of \"Sex\""
   ]
  },
  {
   "cell_type": "code",
   "execution_count": 80,
   "metadata": {},
   "outputs": [],
   "source": [
    "def correct_name(row):\n",
    "    if row[\"Name\"] == \"girl\" or row[\"Name\"] == \"Girl\":\n",
    "        return \"F\"\n",
    "    elif row[\"Name\"] == \"boy\" or row[\"Name\"] == \"Boy\":\n",
    "        return \"M\"\n",
    "    elif row[\"Name\"] == \"male\" or row[\"Name\"] == \"Male\":\n",
    "        return \"M\"\n",
    "    elif row[\"Name\"] == \"female\" or row[\"Name\"] == \"Female\":\n",
    "        return \"F\"    \n",
    "    else:\n",
    "        return\n",
    "    \n",
    "data[\"name_corrected\"] = data.apply(correct_name, axis=1)\n",
    "data['Sex'].fillna(data.name_corrected, inplace=True)"
   ]
  },
  {
   "cell_type": "raw",
   "metadata": {},
   "source": [
    "Unfortunately, the data on the \"name_corrected\" column seems to contradict some of the \"Sex\" column... I choose to state that the \"Name\" column contains the true data and change the data on the \"Sex\" column accordingly."
   ]
  },
  {
   "cell_type": "code",
   "execution_count": 81,
   "metadata": {},
   "outputs": [],
   "source": [
    "def error_sex(row):\n",
    "    if row['name_corrected']=='F':\n",
    "        return 'F'\n",
    "    elif row['name_corrected']=='M':\n",
    "        return 'M'\n",
    "    else:\n",
    "        return row['Sex']\n",
    "data['Sex']=data.apply(error_sex, axis=1)"
   ]
  },
  {
   "cell_type": "raw",
   "metadata": {},
   "source": [
    "Finally, let's check the data in the \"Sex\" column"
   ]
  },
  {
   "cell_type": "code",
   "execution_count": 82,
   "metadata": {},
   "outputs": [
    {
     "data": {
      "text/plain": [
       "{'.', 'F', 'M', 'M ', 'N', None, 'lli'}"
      ]
     },
     "execution_count": 82,
     "metadata": {},
     "output_type": "execute_result"
    }
   ],
   "source": [
    "set(data['Sex'])"
   ]
  },
  {
   "cell_type": "raw",
   "metadata": {},
   "source": [
    "A little cleaning is necessary."
   ]
  },
  {
   "cell_type": "code",
   "execution_count": 83,
   "metadata": {},
   "outputs": [
    {
     "data": {
      "text/plain": [
       "{'F', 'M', 'Unknown'}"
      ]
     },
     "execution_count": 83,
     "metadata": {},
     "output_type": "execute_result"
    }
   ],
   "source": [
    "data['Sex'] = data['Sex'].str.replace('N', 'M')\n",
    "data['Sex'] = data['Sex'].str.strip()\n",
    "data['Sex'] = data['Sex'].fillna('Unknown')\n",
    "data['Sex'] = data['Sex'].str.replace('lli', 'Unknown')\n",
    "data['Sex'] = data['Sex'].str.replace('.', 'Unknown')\n",
    "set(data['Sex'])"
   ]
  },
  {
   "cell_type": "raw",
   "metadata": {},
   "source": [
    "I think the sex informations have no place in the \"Name\" column, so I delete them by 'Unknown'"
   ]
  },
  {
   "cell_type": "code",
   "execution_count": 84,
   "metadata": {},
   "outputs": [],
   "source": [
    "data['Name'].fillna('Unknown', inplace=True)\n",
    "data.loc[data['Name'].str.contains('male',na=False),'Name']='Unknown'\n",
    "data.loc[data['Name'].str.contains('boy',na=False),'Name']='Unknown'\n",
    "data.loc[data['Name'].str.contains('female',na=False),'Name']='Unknown'\n",
    "data['Name']=data['Name'].str.replace('Anonymous','Unknown')\n",
    "data['Name']=data['Name'].str.replace('Male','Unknown')\n",
    "data['Name']=data['Name'].str.replace('fisherman','Unknown')\n",
    "data['Name']=data['Name'].str.replace('Female','Unknown')\n",
    "data['Name']=data['Name'].str.replace('crewman','Unknown')\n",
    "data['Name']=data['Name'].str.replace('a young Scotsman','Unknown')\n",
    "data['Name']=data['Name'].str.replace('a native ','')\n",
    "data['Name'] = data['Name'].replace('\\s+', ' ', regex=True)"
   ]
  },
  {
   "cell_type": "markdown",
   "metadata": {},
   "source": [
    "#### \"Type\"  column"
   ]
  },
  {
   "cell_type": "code",
   "execution_count": 85,
   "metadata": {},
   "outputs": [
    {
     "data": {
      "text/plain": [
       "{'Boat', 'Boating', 'Invalid', 'Provoked', 'Sea Disaster', 'Unprovoked'}"
      ]
     },
     "execution_count": 85,
     "metadata": {},
     "output_type": "execute_result"
    }
   ],
   "source": [
    "set(data['Type'])"
   ]
  },
  {
   "cell_type": "raw",
   "metadata": {},
   "source": [
    "Surprinsingly, the 'Type' column is almost clean !"
   ]
  },
  {
   "cell_type": "code",
   "execution_count": 86,
   "metadata": {},
   "outputs": [
    {
     "name": "stdout",
     "output_type": "stream",
     "text": [
      "{'Unknown', 'Boat', 'Sea Disaster', 'Unprovoked', 'Provoked'}\n"
     ]
    }
   ],
   "source": [
    "data['Type'] = data['Type'].str.strip()\n",
    "data['Type'] = data['Type'].str.replace('Boating','Boat')\n",
    "data['Type'] = data['Type'].str.replace('Invalid','Unknown')\n",
    "print(set(data['Type']))"
   ]
  },
  {
   "cell_type": "markdown",
   "metadata": {},
   "source": [
    "#### \"Country' column "
   ]
  },
  {
   "cell_type": "code",
   "execution_count": 87,
   "metadata": {},
   "outputs": [
    {
     "name": "stdout",
     "output_type": "stream",
     "text": [
      "{nan, 'PAPUA NEW GUINEA', 'NEW ZEALAND', 'TAIWAN', 'MEDITERRANEAN SEA', 'INDIAN OCEAN', 'JAVA', 'TUVALU', 'SAMOA', 'NEVIS', 'PERSIAN GULF', 'NICARAGUA ', 'GHANA', 'REUNION', 'RED SEA?', 'BELIZE', 'ANDAMAN / NICOBAR ISLANDAS', 'GUYANA', 'TANZANIA', 'BRITISH NEW GUINEA', 'INDIA', 'CAYMAN ISLANDS', 'St Helena', 'NIGERIA', 'CHILE', 'NORTH PACIFIC OCEAN', 'Between PORTUGAL & INDIA', 'INDIAN OCEAN?', 'SENEGAL', 'SAN DOMINGO', 'MEXICO', 'MALAYSIA', 'CROATIA', 'BANGLADESH', 'NETHERLANDS ANTILLES', 'VANUATU', 'BRAZIL', 'GRENADA', 'CAPE VERDE', 'INDONESIA', 'UNITED ARAB EMIRATES (UAE)', 'SRI LANKA', 'Coast of AFRICA', 'UNITED ARAB EMIRATES', 'MICRONESIA', 'EL SALVADOR', 'NEW BRITAIN', 'BAHREIN', 'VENEZUELA', 'FIJI', 'GABON', 'MOZAMBIQUE', 'ATLANTIC OCEAN', 'GEORGIA', 'CEYLON (SRI LANKA)', 'SAUDI ARABIA', 'GREENLAND', 'GUINEA', 'MARSHALL ISLANDS', 'NORTHERN ARABIAN SEA', 'ISRAEL', 'SOLOMON ISLANDS', 'SOUTH ATLANTIC OCEAN', 'SUDAN?', 'ARGENTINA', 'SOLOMON ISLANDS / VANUATU', 'BURMA', 'TASMAN SEA', 'PARAGUAY', 'AZORES', 'SOUTHWEST PACIFIC OCEAN', 'CUBA', 'ALGERIA', 'BERMUDA', 'HONDURAS', 'SWEDEN', 'UNITED KINGDOM', 'TRINIDAD & TOBAGO', 'FEDERATED STATES OF MICRONESIA', 'TONGA', 'NORTH ATLANTIC OCEAN', 'ICELAND', 'ECUADOR', 'KUWAIT', 'THAILAND', 'LEBANON', 'BAHAMAS', 'PALAU', 'PACIFIC OCEAN', 'FRENCH POLYNESIA', 'PUERTO RICO', 'ANTIGUA', 'MADAGASCAR', 'AMERICAN SAMOA', 'SOUTH AFRICA', 'SPAIN', 'EGYPT', 'MEDITERRANEAN SEA?', 'Sierra Leone', 'DOMINICAN REPUBLIC', 'MONACO', 'GUAM', 'RED SEA', 'DJIBOUTI', 'TURKS & CAICOS', 'OCEAN', 'EGYPT ', 'GUATEMALA', 'LIBYA', 'CANADA', 'BAY OF BENGAL', 'KOREA', 'COOK ISLANDS', 'GRAND CAYMAN', 'NEW GUINEA', 'PALESTINIAN TERRITORIES', 'ST. MARTIN', 'SOUTH CHINA SEA', 'MAYOTTE', 'TUNISIA', 'ST. MAARTIN', 'PACIFIC OCEAN ', 'THE BALKANS', 'NAMIBIA', 'HONG KONG', 'DIEGO GARCIA', 'SCOTLAND', 'PHILIPPINES', 'SOUTH PACIFIC OCEAN', 'SUDAN', ' PHILIPPINES', 'RUSSIA', 'JAMAICA', 'ARUBA', 'BRITISH ISLES', 'LIBERIA', 'ANGOLA', 'IRAN', 'CHINA', 'USA', 'CYPRUS', 'MAURITIUS', 'NICARAGUA', 'EGYPT / ISRAEL', 'FRANCE', 'ITALY', 'MARTINIQUE', ' TONGA', 'ADMIRALTY ISLANDS', 'SOMALIA', 'BRITISH WEST INDIES', 'CRETE', 'SEYCHELLES', 'SIERRA LEONE', 'ASIA?', 'MEXICO ', 'JAPAN', 'IRAQ', 'CENTRAL PACIFIC', 'Fiji', 'TURKEY', 'IRELAND', 'YEMEN', 'SYRIA', 'AUSTRALIA', 'NORTH ATLANTIC OCEAN ', 'OKINAWA', 'FALKLAND ISLANDS', 'MALDIVE ISLANDS', 'SLOVENIA', 'PORTUGAL', 'RED SEA / INDIAN OCEAN', 'SINGAPORE', 'VIETNAM', 'BARBADOS', 'NEW CALEDONIA', 'BRITISH VIRGIN ISLANDS', 'NORTHERN MARIANA ISLANDS', 'COSTA RICA', 'COLUMBIA', 'KIRIBATI', 'CARIBBEAN SEA', 'Seychelles', 'MID-PACIFC OCEAN', 'SOUTH KOREA', 'GREECE', 'CURACAO', 'YEMEN ', 'HAITI', 'GULF OF ADEN', 'MONTENEGRO', 'URUGUAY', 'JOHNSTON ISLAND', 'MALTA', 'EQUATORIAL GUINEA / CAMEROON', 'IRAN / IRAQ', 'ITALY / CROATIA', 'KENYA', 'NORWAY', 'WESTERN SAMOA', 'NORTH SEA', 'MID ATLANTIC OCEAN', 'PANAMA', 'ENGLAND'}\n"
     ]
    }
   ],
   "source": [
    "print(set(data['Country']))"
   ]
  },
  {
   "cell_type": "raw",
   "metadata": {},
   "source": [
    "This column is also fairly clean. Let's just transform every lower case name to upper case."
   ]
  },
  {
   "cell_type": "code",
   "execution_count": 88,
   "metadata": {},
   "outputs": [
    {
     "name": "stdout",
     "output_type": "stream",
     "text": [
      "{'PAPUA NEW GUINEA', 'NEW ZEALAND', 'TAIWAN', 'MEDITERRANEAN SEA', 'UNKNOWN', 'INDIAN OCEAN', 'JAVA', 'TUVALU', 'SAMOA', 'NEVIS', 'PERSIAN GULF', 'GHANA', 'REUNION', 'RED SEA?', 'BELIZE', 'ANDAMAN / NICOBAR ISLANDAS', 'GUYANA', 'TANZANIA', 'BRITISH NEW GUINEA', 'INDIA', 'CAYMAN ISLANDS', 'NIGERIA', 'CHILE', 'NORTH PACIFIC OCEAN', 'INDIAN OCEAN?', 'SENEGAL', 'SAN DOMINGO', 'MEXICO', 'MALAYSIA', 'CROATIA', 'BANGLADESH', 'NETHERLANDS ANTILLES', 'ST HELENA', 'VANUATU', 'BRAZIL', 'COAST OF AFRICA', 'GRENADA', 'CAPE VERDE', 'INDONESIA', 'UNITED ARAB EMIRATES (UAE)', 'SRI LANKA', 'UNITED ARAB EMIRATES', 'MICRONESIA', 'EL SALVADOR', 'NEW BRITAIN', 'BAHREIN', 'VENEZUELA', 'FIJI', 'GABON', 'MOZAMBIQUE', 'ATLANTIC OCEAN', 'GEORGIA', 'CEYLON (SRI LANKA)', 'SAUDI ARABIA', 'GREENLAND', 'GUINEA', 'MARSHALL ISLANDS', 'NORTHERN ARABIAN SEA', 'ISRAEL', 'SOLOMON ISLANDS', 'SOUTH ATLANTIC OCEAN', 'SUDAN?', 'ARGENTINA', 'SOLOMON ISLANDS / VANUATU', 'BURMA', 'TASMAN SEA', 'PARAGUAY', 'AZORES', 'SOUTHWEST PACIFIC OCEAN', 'CUBA', 'ALGERIA', 'BERMUDA', 'HONDURAS', 'SWEDEN', 'UNITED KINGDOM', 'TRINIDAD & TOBAGO', 'FEDERATED STATES OF MICRONESIA', 'TONGA', 'NORTH ATLANTIC OCEAN', 'ICELAND', 'ECUADOR', 'KUWAIT', 'THAILAND', 'LEBANON', 'BAHAMAS', 'PALAU', 'PACIFIC OCEAN', 'FRENCH POLYNESIA', 'PUERTO RICO', 'ANTIGUA', 'MADAGASCAR', 'AMERICAN SAMOA', 'SOUTH AFRICA', 'SPAIN', 'EGYPT', 'MEDITERRANEAN SEA?', 'DOMINICAN REPUBLIC', 'MONACO', 'GUAM', 'RED SEA', 'DJIBOUTI', 'TURKS & CAICOS', 'OCEAN', 'GUATEMALA', 'LIBYA', 'CANADA', 'BAY OF BENGAL', 'KOREA', 'COOK ISLANDS', 'GRAND CAYMAN', 'NEW GUINEA', 'PALESTINIAN TERRITORIES', 'ST. MARTIN', 'SOUTH CHINA SEA', 'MAYOTTE', 'TUNISIA', 'ST. MAARTIN', 'THE BALKANS', 'NAMIBIA', 'HONG KONG', 'DIEGO GARCIA', 'SCOTLAND', 'PHILIPPINES', 'SOUTH PACIFIC OCEAN', 'SUDAN', 'RUSSIA', 'JAMAICA', 'ARUBA', 'BRITISH ISLES', 'LIBERIA', 'ANGOLA', 'IRAN', 'CHINA', 'USA', 'CYPRUS', 'MAURITIUS', 'NICARAGUA', 'EGYPT / ISRAEL', 'FRANCE', 'ITALY', 'MARTINIQUE', 'ADMIRALTY ISLANDS', 'SOMALIA', 'BRITISH WEST INDIES', 'CRETE', 'SEYCHELLES', 'SIERRA LEONE', 'ASIA?', 'IRAQ', 'JAPAN', 'CENTRAL PACIFIC', 'TURKEY', 'IRELAND', 'YEMEN', 'SYRIA', 'AUSTRALIA', 'OKINAWA', 'FALKLAND ISLANDS', 'MALDIVE ISLANDS', 'SLOVENIA', 'PORTUGAL', 'RED SEA / INDIAN OCEAN', 'SINGAPORE', 'VIETNAM', 'BARBADOS', 'NEW CALEDONIA', 'BRITISH VIRGIN ISLANDS', 'NORTHERN MARIANA ISLANDS', 'COSTA RICA', 'COLUMBIA', 'KIRIBATI', 'CARIBBEAN SEA', 'MID-PACIFC OCEAN', 'SOUTH KOREA', 'GREECE', 'CURACAO', 'HAITI', 'GULF OF ADEN', 'MONTENEGRO', 'URUGUAY', 'JOHNSTON ISLAND', 'MALTA', 'EQUATORIAL GUINEA / CAMEROON', 'BETWEEN PORTUGAL & INDIA', 'IRAN / IRAQ', 'ITALY / CROATIA', 'KENYA', 'NORWAY', 'WESTERN SAMOA', 'NORTH SEA', 'MID ATLANTIC OCEAN', 'PANAMA', 'ENGLAND'}\n"
     ]
    }
   ],
   "source": [
    "data['Country'].fillna('Unknown', inplace=True)\n",
    "data['Country'] = data['Country'].str.strip().str.upper()\n",
    "print(set(data['Country']))"
   ]
  },
  {
   "cell_type": "markdown",
   "metadata": {},
   "source": [
    "#### \"Species\" column "
   ]
  },
  {
   "cell_type": "code",
   "execution_count": 89,
   "metadata": {},
   "outputs": [
    {
     "name": "stdout",
     "output_type": "stream",
     "text": [
      "{nan, '\"grey-colored shark\"', '40 to 50 sharks attacked survivors in the water', ' ', \"4.6 m [15'] shark\", 'Silvertip shark', '4.5 m white shark', 'White shark', \"Bull shark, 1.8 m to 2.1 m [6' to 7'] \", \"Mako shark (aka bonito shark) 1.2 m [4'] \"}\n"
     ]
    }
   ],
   "source": [
    "print(set(data['Species'].sample(n=20)))"
   ]
  },
  {
   "cell_type": "raw",
   "metadata": {},
   "source": [
    "This column needs a big cleaning but its informations are not pertinent for an analysis in my opinion. I decide to clean it just a little by filling the empty cells with 'Unknown'."
   ]
  },
  {
   "cell_type": "code",
   "execution_count": 90,
   "metadata": {},
   "outputs": [],
   "source": [
    "data['Species'].fillna('Unknown', inplace=True)"
   ]
  },
  {
   "cell_type": "raw",
   "metadata": {},
   "source": [
    "Finally, let's delete our test columns."
   ]
  },
  {
   "cell_type": "code",
   "execution_count": 91,
   "metadata": {},
   "outputs": [],
   "source": [
    "data.drop(['Year_','name_corrected'], axis=1, inplace=True)"
   ]
  },
  {
   "cell_type": "markdown",
   "metadata": {},
   "source": [
    "### Reordering and recording "
   ]
  },
  {
   "cell_type": "raw",
   "metadata": {},
   "source": [
    "The cleaning part is complete, let's now reorder the columns and save the dataset on a new file !"
   ]
  },
  {
   "cell_type": "code",
   "execution_count": 92,
   "metadata": {},
   "outputs": [
    {
     "data": {
      "text/html": [
       "<div>\n",
       "<style scoped>\n",
       "    .dataframe tbody tr th:only-of-type {\n",
       "        vertical-align: middle;\n",
       "    }\n",
       "\n",
       "    .dataframe tbody tr th {\n",
       "        vertical-align: top;\n",
       "    }\n",
       "\n",
       "    .dataframe thead th {\n",
       "        text-align: right;\n",
       "    }\n",
       "</style>\n",
       "<table border=\"1\" class=\"dataframe\">\n",
       "  <thead>\n",
       "    <tr style=\"text-align: right;\">\n",
       "      <th></th>\n",
       "      <th>Case Number</th>\n",
       "      <th>Day</th>\n",
       "      <th>Month</th>\n",
       "      <th>Year</th>\n",
       "      <th>Date comment</th>\n",
       "      <th>Type</th>\n",
       "      <th>Country</th>\n",
       "      <th>Area</th>\n",
       "      <th>Location</th>\n",
       "      <th>Activity</th>\n",
       "      <th>Name</th>\n",
       "      <th>Sex</th>\n",
       "      <th>Age</th>\n",
       "      <th>Injury</th>\n",
       "      <th>Fatal (Y/N/U)</th>\n",
       "      <th>Species</th>\n",
       "      <th>Investigator or Source</th>\n",
       "      <th>href</th>\n",
       "      <th>test</th>\n",
       "      <th>Number of victims</th>\n",
       "    </tr>\n",
       "  </thead>\n",
       "  <tbody>\n",
       "    <tr>\n",
       "      <th>0</th>\n",
       "      <td>2016.09.18.c</td>\n",
       "      <td>18</td>\n",
       "      <td>09</td>\n",
       "      <td>2016</td>\n",
       "      <td>18-Sep-16</td>\n",
       "      <td>Unprovoked</td>\n",
       "      <td>USA</td>\n",
       "      <td>Florida</td>\n",
       "      <td>New Smyrna Beach, Volusia County</td>\n",
       "      <td>Surfing</td>\n",
       "      <td>Unknown</td>\n",
       "      <td>M</td>\n",
       "      <td>16</td>\n",
       "      <td>Minor injury to thigh</td>\n",
       "      <td>N</td>\n",
       "      <td>Unknown</td>\n",
       "      <td>Orlando Sentinel, 9/19/2016</td>\n",
       "      <td>http://sharkattackfile.net/spreadsheets/pdf_di...</td>\n",
       "      <td>True</td>\n",
       "      <td>1</td>\n",
       "    </tr>\n",
       "    <tr>\n",
       "      <th>1</th>\n",
       "      <td>2016.09.18.b</td>\n",
       "      <td>18</td>\n",
       "      <td>09</td>\n",
       "      <td>2016</td>\n",
       "      <td>18-Sep-16</td>\n",
       "      <td>Unprovoked</td>\n",
       "      <td>USA</td>\n",
       "      <td>Florida</td>\n",
       "      <td>New Smyrna Beach, Volusia County</td>\n",
       "      <td>Surfing</td>\n",
       "      <td>Chucky Luciano</td>\n",
       "      <td>M</td>\n",
       "      <td>36</td>\n",
       "      <td>Lacerations to hands</td>\n",
       "      <td>N</td>\n",
       "      <td>Unknown</td>\n",
       "      <td>Orlando Sentinel, 9/19/2016</td>\n",
       "      <td>http://sharkattackfile.net/spreadsheets/pdf_di...</td>\n",
       "      <td>True</td>\n",
       "      <td>1</td>\n",
       "    </tr>\n",
       "    <tr>\n",
       "      <th>2</th>\n",
       "      <td>2016.09.18.a</td>\n",
       "      <td>18</td>\n",
       "      <td>09</td>\n",
       "      <td>2016</td>\n",
       "      <td>18-Sep-16</td>\n",
       "      <td>Unprovoked</td>\n",
       "      <td>USA</td>\n",
       "      <td>Florida</td>\n",
       "      <td>New Smyrna Beach, Volusia County</td>\n",
       "      <td>Surfing</td>\n",
       "      <td>Unknown</td>\n",
       "      <td>M</td>\n",
       "      <td>43</td>\n",
       "      <td>Lacerations to lower leg</td>\n",
       "      <td>N</td>\n",
       "      <td>Unknown</td>\n",
       "      <td>Orlando Sentinel, 9/19/2016</td>\n",
       "      <td>http://sharkattackfile.net/spreadsheets/pdf_di...</td>\n",
       "      <td>True</td>\n",
       "      <td>1</td>\n",
       "    </tr>\n",
       "    <tr>\n",
       "      <th>3</th>\n",
       "      <td>2016.09.17</td>\n",
       "      <td>17</td>\n",
       "      <td>09</td>\n",
       "      <td>2016</td>\n",
       "      <td>17-Sep-16</td>\n",
       "      <td>Unprovoked</td>\n",
       "      <td>AUSTRALIA</td>\n",
       "      <td>Victoria</td>\n",
       "      <td>Thirteenth Beach</td>\n",
       "      <td>Surfing</td>\n",
       "      <td>Rory Angiolella</td>\n",
       "      <td>M</td>\n",
       "      <td>NaN</td>\n",
       "      <td>Struck by fin on chest &amp; leg</td>\n",
       "      <td>N</td>\n",
       "      <td>Unknown</td>\n",
       "      <td>The Age, 9/18/2016</td>\n",
       "      <td>http://sharkattackfile.net/spreadsheets/pdf_di...</td>\n",
       "      <td>True</td>\n",
       "      <td>1</td>\n",
       "    </tr>\n",
       "    <tr>\n",
       "      <th>4</th>\n",
       "      <td>2016.09.15</td>\n",
       "      <td>15</td>\n",
       "      <td>09</td>\n",
       "      <td>2016</td>\n",
       "      <td>16-Sep-16</td>\n",
       "      <td>Unprovoked</td>\n",
       "      <td>AUSTRALIA</td>\n",
       "      <td>Victoria</td>\n",
       "      <td>Bells Beach</td>\n",
       "      <td>Surfing</td>\n",
       "      <td>Unknown</td>\n",
       "      <td>M</td>\n",
       "      <td>NaN</td>\n",
       "      <td>No injury: Knocked off board by shark</td>\n",
       "      <td>N</td>\n",
       "      <td>2 m shark</td>\n",
       "      <td>The Age, 9/16/2016</td>\n",
       "      <td>http://sharkattackfile.net/spreadsheets/pdf_di...</td>\n",
       "      <td>True</td>\n",
       "      <td>1</td>\n",
       "    </tr>\n",
       "  </tbody>\n",
       "</table>\n",
       "</div>"
      ],
      "text/plain": [
       "    Case Number Day Month  Year Date comment        Type    Country      Area  \\\n",
       "0  2016.09.18.c  18    09  2016    18-Sep-16  Unprovoked        USA   Florida   \n",
       "1  2016.09.18.b  18    09  2016    18-Sep-16  Unprovoked        USA   Florida   \n",
       "2  2016.09.18.a  18    09  2016    18-Sep-16  Unprovoked        USA   Florida   \n",
       "3    2016.09.17  17    09  2016    17-Sep-16  Unprovoked  AUSTRALIA  Victoria   \n",
       "4    2016.09.15  15    09  2016    16-Sep-16  Unprovoked  AUSTRALIA  Victoria   \n",
       "\n",
       "                           Location Activity             Name Sex  Age  \\\n",
       "0  New Smyrna Beach, Volusia County  Surfing          Unknown   M   16   \n",
       "1  New Smyrna Beach, Volusia County  Surfing   Chucky Luciano   M   36   \n",
       "2  New Smyrna Beach, Volusia County  Surfing          Unknown   M   43   \n",
       "3                  Thirteenth Beach  Surfing  Rory Angiolella   M  NaN   \n",
       "4                       Bells Beach  Surfing          Unknown   M  NaN   \n",
       "\n",
       "                                  Injury Fatal (Y/N/U)    Species  \\\n",
       "0                  Minor injury to thigh             N    Unknown   \n",
       "1                   Lacerations to hands             N    Unknown   \n",
       "2               Lacerations to lower leg             N    Unknown   \n",
       "3           Struck by fin on chest & leg             N    Unknown   \n",
       "4  No injury: Knocked off board by shark             N  2 m shark   \n",
       "\n",
       "        Investigator or Source  \\\n",
       "0  Orlando Sentinel, 9/19/2016   \n",
       "1  Orlando Sentinel, 9/19/2016   \n",
       "2  Orlando Sentinel, 9/19/2016   \n",
       "3           The Age, 9/18/2016   \n",
       "4           The Age, 9/16/2016   \n",
       "\n",
       "                                                href  test  Number of victims  \n",
       "0  http://sharkattackfile.net/spreadsheets/pdf_di...  True                  1  \n",
       "1  http://sharkattackfile.net/spreadsheets/pdf_di...  True                  1  \n",
       "2  http://sharkattackfile.net/spreadsheets/pdf_di...  True                  1  \n",
       "3  http://sharkattackfile.net/spreadsheets/pdf_di...  True                  1  \n",
       "4  http://sharkattackfile.net/spreadsheets/pdf_di...  True                  1  "
      ]
     },
     "execution_count": 92,
     "metadata": {},
     "output_type": "execute_result"
    }
   ],
   "source": [
    "data.head()"
   ]
  },
  {
   "cell_type": "code",
   "execution_count": 93,
   "metadata": {},
   "outputs": [],
   "source": [
    "data = data[['Case Number','Day','Month','Year','Date comment','Type','Country','Area','Location','Activity','Name','Sex','Age','Injury','Fatal (Y/N/U)','Number of victims','Species','Investigator or Source','href']]"
   ]
  },
  {
   "cell_type": "code",
   "execution_count": 94,
   "metadata": {},
   "outputs": [],
   "source": [
    "data.to_csv('GSAF5_clean.csv', index=False)"
   ]
  },
  {
   "cell_type": "markdown",
   "metadata": {},
   "source": [
    "### <center>The cleaning process is the most time consuming task of a Data analyst but it is essential. This dataset is now ready for analysis !<br> <img src='https://media.giphy.com/media/cCvWHbfVdn2bm/giphy.gif'></center>"
   ]
  }
 ],
 "metadata": {
  "kernelspec": {
   "display_name": "Python 3",
   "language": "python",
   "name": "python3"
  },
  "language_info": {
   "codemirror_mode": {
    "name": "ipython",
    "version": 3
   },
   "file_extension": ".py",
   "mimetype": "text/x-python",
   "name": "python",
   "nbconvert_exporter": "python",
   "pygments_lexer": "ipython3",
   "version": "3.7.3"
  }
 },
 "nbformat": 4,
 "nbformat_minor": 2
}
