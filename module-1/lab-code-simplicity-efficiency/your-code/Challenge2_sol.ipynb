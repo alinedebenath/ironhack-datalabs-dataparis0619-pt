{
 "cells": [
  {
   "cell_type": "code",
   "execution_count": 20,
   "metadata": {},
   "outputs": [
    {
     "name": "stdout",
     "output_type": "stream",
     "text": [
      "Enter minimum string length: 5\n",
      "Enter maximum string length: 7\n",
      "How many random strings to generate? 2\n",
      "['lfhr3n', '0vl70']\n"
     ]
    }
   ],
   "source": [
    "\"\"\"\n",
    "The code below generates a given number of random strings that consists of numbers and \n",
    "lower case English letters. You can also define the range of the variable lengths of\n",
    "the strings being generated.\n",
    "\n",
    "The code is functional but has a lot of room for improvement. Use what you have learned\n",
    "about simple and efficient code, refactor the code.\n",
    "\"\"\"\n",
    "# Plcaing the libraries in the beginning\n",
    "import random\n",
    "import string\n",
    "import sys\n",
    "\n",
    "# Simplifying  the functions\n",
    "def RandomStringGenerator(l):\n",
    "    return ''.join(random.choice(string.ascii_lowercase + string.digits) for _ in range(l))\n",
    "\n",
    "def BatchStringGenerator(n, a, b):\n",
    "    if a > b:\n",
    "        sys.exit('Incorrect min and max string lengths. Try again.')\n",
    "    r = []\n",
    "    for i in range(n):\n",
    "        if a < b:\n",
    "            c = random.choice(range(a, b))\n",
    "        elif a == b:\n",
    "            c = a\n",
    "        r.append(RandomStringGenerator(c))\n",
    "    return r\n",
    "\n",
    "# Naming properly the variables\n",
    "min_lenght = input('Enter minimum string length: ')\n",
    "max_lenght = input('Enter maximum string length: ')\n",
    "many = input('How many random strings to generate? ')\n",
    "\n",
    "print(BatchStringGenerator(int(many), int(min_lenght), int(max_lenght)))\n"
   ]
  },
  {
   "cell_type": "code",
   "execution_count": null,
   "metadata": {},
   "outputs": [],
   "source": []
  }
 ],
 "metadata": {
  "kernelspec": {
   "display_name": "Python 3",
   "language": "python",
   "name": "python3"
  },
  "language_info": {
   "codemirror_mode": {
    "name": "ipython",
    "version": 3
   },
   "file_extension": ".py",
   "mimetype": "text/x-python",
   "name": "python",
   "nbconvert_exporter": "python",
   "pygments_lexer": "ipython3",
   "version": "3.7.3"
  }
 },
 "nbformat": 4,
 "nbformat_minor": 2
}
