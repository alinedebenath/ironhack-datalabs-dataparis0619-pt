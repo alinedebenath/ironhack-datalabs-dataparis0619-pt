{
 "cells": [
  {
   "cell_type": "code",
   "execution_count": 4,
   "metadata": {},
   "outputs": [
    {
     "name": "stdout",
     "output_type": "stream",
     "text": [
      "Welcome to this calculator!\n",
      "It can add and subtract whole numbers from zero to five\n",
      "Please choose your first number (zero to five): zero\n",
      "What do you want to do? plus or minus: minus\n",
      "Please choose your second number (zero to five): four\n",
      "zero minus four equals negative four\n",
      "Thanks for using this calculator, goodbye :)\n"
     ]
    }
   ],
   "source": [
    "# Welcome message\n",
    "print('Welcome to this calculator!\\nIt can add and subtract whole numbers from zero to five')\n",
    "\n",
    "# Function for addition\n",
    "def add(x, y):\n",
    "    return x + y\n",
    "\n",
    "# Function for substraction\n",
    "def subtract(x, y):\n",
    "    return x - y\n",
    "\n",
    "# Creating a dictionnary for the variables of number 1 and number 2 to call an integer\n",
    "numbers = {'zero':0, 'one':1, 'two':2, 'four':4, 'five':5}\n",
    "numbers_r = {-5:'negative five', -4:'negative four', -3:'negative three', -2:'negative two', -1:'negative one',0:'zero', 1:'one', 2:'two', 3:'three', 4:'four', 5:'five', 6:'six', 7:'seven', 8:'eight', 9:'nine', 10:'ten'}\n",
    "\n",
    "# Adding an error message if the user do not enter the proper number\n",
    "number1 = input('Please choose your first number (zero to five): ')\n",
    "while number1 not in numbers:\n",
    "    print('This number is not accepted')\n",
    "    number1 = input('Please choose your first number (zero to five): ')\n",
    "    \n",
    "# Adding an error message if the user do not enter the proper type of operation  \n",
    "lst_operation = ['plus','minus']\n",
    "operation = input('What do you want to do? plus or minus: ')\n",
    "while operation not in lst_operation:\n",
    "    print('This operation cannot be performed.')\n",
    "    operation = input('What do you want to do? plus or minus: ')\n",
    "\n",
    "# Adding an error message if the user do not enter the proper number\n",
    "number2 = input('Please choose your second number (zero to five): ')\n",
    "while number2 not in numbers:\n",
    "    print('This number is not accepted')\n",
    "    number2 = input('Please choose your second number (zero to five): ')\n",
    "\n",
    "# Making the operation\n",
    "if operation == 'plus':\n",
    "    result = add(numbers[number1], numbers[number2])\n",
    "    print(number1, operation, number2, 'equals', numbers_r[result])   \n",
    "if operation == 'minus':\n",
    "    result = subtract(numbers[number1], numbers[number2])\n",
    "    print(number1, operation, number2, 'equals', numbers_r[result])\n",
    "    \n",
    "\n",
    "# Goodbye message\n",
    "print(\"Thanks for using this calculator, goodbye :)\")"
   ]
  },
  {
   "cell_type": "code",
   "execution_count": null,
   "metadata": {},
   "outputs": [],
   "source": []
  }
 ],
 "metadata": {
  "kernelspec": {
   "display_name": "Python 3",
   "language": "python",
   "name": "python3"
  },
  "language_info": {
   "codemirror_mode": {
    "name": "ipython",
    "version": 3
   },
   "file_extension": ".py",
   "mimetype": "text/x-python",
   "name": "python",
   "nbconvert_exporter": "python",
   "pygments_lexer": "ipython3",
   "version": "3.7.3"
  }
 },
 "nbformat": 4,
 "nbformat_minor": 2
}
