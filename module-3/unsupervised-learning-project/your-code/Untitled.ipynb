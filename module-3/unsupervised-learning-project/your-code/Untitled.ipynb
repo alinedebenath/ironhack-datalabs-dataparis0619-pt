{
 "cells": [
  {
   "cell_type": "code",
   "execution_count": 361,
   "metadata": {},
   "outputs": [],
   "source": [
    "import pandas as pd\n",
    "import numpy as np\n",
    "%matplotlib inline\n",
    "import matplotlib.pyplot as plt\n",
    "import seaborn as sns\n",
    "from sklearn.preprocessing import StandardScaler"
   ]
  },
  {
   "cell_type": "code",
   "execution_count": 362,
   "metadata": {},
   "outputs": [],
   "source": [
    "data = pd.read_csv(\"water-treatment_data.csv\", names=['N_attribut','Q-E','ZN-E','PH-E','DBO-E','DQO-E','SS-E',\n",
    "                                                        'SSV-E','SED-E','COND-E','PH-P','DBO-P','SS-P','SSV-P',\n",
    "                                                       'SED-P','COND-P','PH-D','DBO-D','DQO-D','SS-D','SSV-D',\n",
    "                                                       'SED-D','COND-D','PH-S','DBO-S','DQO-S','SS-S','SSV-S',\n",
    "                                                       'SED-S','COND-S','RD-DBO-P','RD-SS-P','RD-SED-P',\n",
    "                                                       'RD-DBO-S','RD-DQO-S','RD-DBO-G','RD-DQO-G','RD-SS-G',\n",
    "                                                      'RD-SED-G'])"
   ]
  },
  {
   "cell_type": "code",
   "execution_count": 363,
   "metadata": {},
   "outputs": [
    {
     "data": {
      "text/html": [
       "<div>\n",
       "<style scoped>\n",
       "    .dataframe tbody tr th:only-of-type {\n",
       "        vertical-align: middle;\n",
       "    }\n",
       "\n",
       "    .dataframe tbody tr th {\n",
       "        vertical-align: top;\n",
       "    }\n",
       "\n",
       "    .dataframe thead th {\n",
       "        text-align: right;\n",
       "    }\n",
       "</style>\n",
       "<table border=\"1\" class=\"dataframe\">\n",
       "  <thead>\n",
       "    <tr style=\"text-align: right;\">\n",
       "      <th></th>\n",
       "      <th>N_attribut</th>\n",
       "      <th>Q-E</th>\n",
       "      <th>ZN-E</th>\n",
       "      <th>PH-E</th>\n",
       "      <th>DBO-E</th>\n",
       "      <th>DQO-E</th>\n",
       "      <th>SS-E</th>\n",
       "      <th>SSV-E</th>\n",
       "      <th>SED-E</th>\n",
       "      <th>COND-E</th>\n",
       "      <th>PH-P</th>\n",
       "      <th>DBO-P</th>\n",
       "      <th>SS-P</th>\n",
       "      <th>SSV-P</th>\n",
       "      <th>SED-P</th>\n",
       "      <th>COND-P</th>\n",
       "      <th>PH-D</th>\n",
       "      <th>DBO-D</th>\n",
       "      <th>DQO-D</th>\n",
       "      <th>SS-D</th>\n",
       "      <th>SSV-D</th>\n",
       "      <th>SED-D</th>\n",
       "      <th>COND-D</th>\n",
       "      <th>PH-S</th>\n",
       "      <th>DBO-S</th>\n",
       "      <th>DQO-S</th>\n",
       "      <th>SS-S</th>\n",
       "      <th>SSV-S</th>\n",
       "      <th>SED-S</th>\n",
       "      <th>COND-S</th>\n",
       "      <th>RD-DBO-P</th>\n",
       "      <th>RD-SS-P</th>\n",
       "      <th>RD-SED-P</th>\n",
       "      <th>RD-DBO-S</th>\n",
       "      <th>RD-DQO-S</th>\n",
       "      <th>RD-DBO-G</th>\n",
       "      <th>RD-DQO-G</th>\n",
       "      <th>RD-SS-G</th>\n",
       "      <th>RD-SED-G</th>\n",
       "    </tr>\n",
       "  </thead>\n",
       "  <tbody>\n",
       "    <tr>\n",
       "      <th>0</th>\n",
       "      <td>D-1/3/90</td>\n",
       "      <td>44101</td>\n",
       "      <td>1.50</td>\n",
       "      <td>7.8</td>\n",
       "      <td>?</td>\n",
       "      <td>407</td>\n",
       "      <td>166</td>\n",
       "      <td>66.3</td>\n",
       "      <td>4.5</td>\n",
       "      <td>2110</td>\n",
       "      <td>7.9</td>\n",
       "      <td>?</td>\n",
       "      <td>228</td>\n",
       "      <td>70.2</td>\n",
       "      <td>5.5</td>\n",
       "      <td>2120</td>\n",
       "      <td>7.9</td>\n",
       "      <td>?</td>\n",
       "      <td>280</td>\n",
       "      <td>94</td>\n",
       "      <td>72.3</td>\n",
       "      <td>0.3</td>\n",
       "      <td>2010</td>\n",
       "      <td>7.3</td>\n",
       "      <td>?</td>\n",
       "      <td>84</td>\n",
       "      <td>21</td>\n",
       "      <td>81.0</td>\n",
       "      <td>0.02</td>\n",
       "      <td>2000</td>\n",
       "      <td>?</td>\n",
       "      <td>58.8</td>\n",
       "      <td>95.5</td>\n",
       "      <td>?</td>\n",
       "      <td>70.0</td>\n",
       "      <td>?</td>\n",
       "      <td>79.4</td>\n",
       "      <td>87.3</td>\n",
       "      <td>99.6</td>\n",
       "    </tr>\n",
       "    <tr>\n",
       "      <th>1</th>\n",
       "      <td>D-2/3/90</td>\n",
       "      <td>39024</td>\n",
       "      <td>3.00</td>\n",
       "      <td>7.7</td>\n",
       "      <td>?</td>\n",
       "      <td>443</td>\n",
       "      <td>214</td>\n",
       "      <td>69.2</td>\n",
       "      <td>6.5</td>\n",
       "      <td>2660</td>\n",
       "      <td>7.7</td>\n",
       "      <td>?</td>\n",
       "      <td>244</td>\n",
       "      <td>75.4</td>\n",
       "      <td>7.7</td>\n",
       "      <td>2570</td>\n",
       "      <td>7.6</td>\n",
       "      <td>?</td>\n",
       "      <td>474</td>\n",
       "      <td>96</td>\n",
       "      <td>79.2</td>\n",
       "      <td>0.4</td>\n",
       "      <td>2700</td>\n",
       "      <td>7.5</td>\n",
       "      <td>?</td>\n",
       "      <td>91</td>\n",
       "      <td>17</td>\n",
       "      <td>94.1</td>\n",
       "      <td>0.00</td>\n",
       "      <td>2590</td>\n",
       "      <td>?</td>\n",
       "      <td>60.7</td>\n",
       "      <td>94.8</td>\n",
       "      <td>?</td>\n",
       "      <td>80.8</td>\n",
       "      <td>?</td>\n",
       "      <td>79.5</td>\n",
       "      <td>92.1</td>\n",
       "      <td>100</td>\n",
       "    </tr>\n",
       "    <tr>\n",
       "      <th>2</th>\n",
       "      <td>D-4/3/90</td>\n",
       "      <td>32229</td>\n",
       "      <td>5.00</td>\n",
       "      <td>7.6</td>\n",
       "      <td>?</td>\n",
       "      <td>528</td>\n",
       "      <td>186</td>\n",
       "      <td>69.9</td>\n",
       "      <td>3.4</td>\n",
       "      <td>1666</td>\n",
       "      <td>7.7</td>\n",
       "      <td>?</td>\n",
       "      <td>220</td>\n",
       "      <td>72.7</td>\n",
       "      <td>4.5</td>\n",
       "      <td>1594</td>\n",
       "      <td>7.7</td>\n",
       "      <td>?</td>\n",
       "      <td>272</td>\n",
       "      <td>92</td>\n",
       "      <td>78.3</td>\n",
       "      <td>0.2</td>\n",
       "      <td>1742</td>\n",
       "      <td>7.6</td>\n",
       "      <td>?</td>\n",
       "      <td>128</td>\n",
       "      <td>21</td>\n",
       "      <td>81</td>\n",
       "      <td>0.05</td>\n",
       "      <td>1888</td>\n",
       "      <td>?</td>\n",
       "      <td>58.2</td>\n",
       "      <td>95.6</td>\n",
       "      <td>?</td>\n",
       "      <td>52.9</td>\n",
       "      <td>?</td>\n",
       "      <td>75.8</td>\n",
       "      <td>88.7</td>\n",
       "      <td>98.5</td>\n",
       "    </tr>\n",
       "    <tr>\n",
       "      <th>3</th>\n",
       "      <td>D-5/3/90</td>\n",
       "      <td>35023</td>\n",
       "      <td>3.50</td>\n",
       "      <td>7.9</td>\n",
       "      <td>205</td>\n",
       "      <td>588</td>\n",
       "      <td>192</td>\n",
       "      <td>65.6</td>\n",
       "      <td>4.5</td>\n",
       "      <td>2430</td>\n",
       "      <td>7.8</td>\n",
       "      <td>236</td>\n",
       "      <td>268</td>\n",
       "      <td>73.1</td>\n",
       "      <td>8.5</td>\n",
       "      <td>2280</td>\n",
       "      <td>7.8</td>\n",
       "      <td>158</td>\n",
       "      <td>376</td>\n",
       "      <td>96</td>\n",
       "      <td>77.1</td>\n",
       "      <td>0.4</td>\n",
       "      <td>2060</td>\n",
       "      <td>7.6</td>\n",
       "      <td>20</td>\n",
       "      <td>104</td>\n",
       "      <td>20</td>\n",
       "      <td>96.7</td>\n",
       "      <td>0.00</td>\n",
       "      <td>1840</td>\n",
       "      <td>33.1</td>\n",
       "      <td>64.2</td>\n",
       "      <td>95.3</td>\n",
       "      <td>87.3</td>\n",
       "      <td>72.3</td>\n",
       "      <td>90.2</td>\n",
       "      <td>82.3</td>\n",
       "      <td>89.6</td>\n",
       "      <td>100</td>\n",
       "    </tr>\n",
       "    <tr>\n",
       "      <th>4</th>\n",
       "      <td>D-6/3/90</td>\n",
       "      <td>36924</td>\n",
       "      <td>1.50</td>\n",
       "      <td>8.0</td>\n",
       "      <td>242</td>\n",
       "      <td>496</td>\n",
       "      <td>176</td>\n",
       "      <td>64.8</td>\n",
       "      <td>4.0</td>\n",
       "      <td>2110</td>\n",
       "      <td>7.9</td>\n",
       "      <td>?</td>\n",
       "      <td>236</td>\n",
       "      <td>57.6</td>\n",
       "      <td>4.5</td>\n",
       "      <td>2020</td>\n",
       "      <td>7.8</td>\n",
       "      <td>?</td>\n",
       "      <td>372</td>\n",
       "      <td>88</td>\n",
       "      <td>68.2</td>\n",
       "      <td>0.2</td>\n",
       "      <td>2250</td>\n",
       "      <td>7.6</td>\n",
       "      <td>19</td>\n",
       "      <td>108</td>\n",
       "      <td>22</td>\n",
       "      <td>65.9</td>\n",
       "      <td>0.02</td>\n",
       "      <td>2120</td>\n",
       "      <td>?</td>\n",
       "      <td>62.7</td>\n",
       "      <td>95.6</td>\n",
       "      <td>?</td>\n",
       "      <td>71.0</td>\n",
       "      <td>92.1</td>\n",
       "      <td>78.2</td>\n",
       "      <td>87.5</td>\n",
       "      <td>99.5</td>\n",
       "    </tr>\n",
       "  </tbody>\n",
       "</table>\n",
       "</div>"
      ],
      "text/plain": [
       "  N_attribut    Q-E  ZN-E  PH-E DBO-E DQO-E SS-E SSV-E SED-E  COND-E  PH-P  \\\n",
       "0   D-1/3/90  44101  1.50   7.8     ?   407  166  66.3   4.5    2110   7.9   \n",
       "1   D-2/3/90  39024  3.00   7.7     ?   443  214  69.2   6.5    2660   7.7   \n",
       "2   D-4/3/90  32229  5.00   7.6     ?   528  186  69.9   3.4    1666   7.7   \n",
       "3   D-5/3/90  35023  3.50   7.9   205   588  192  65.6   4.5    2430   7.8   \n",
       "4   D-6/3/90  36924  1.50   8.0   242   496  176  64.8   4.0    2110   7.9   \n",
       "\n",
       "  DBO-P  SS-P SSV-P SED-P  COND-P  PH-D DBO-D DQO-D SS-D SSV-D SED-D  COND-D  \\\n",
       "0     ?   228  70.2   5.5    2120   7.9     ?   280   94  72.3   0.3    2010   \n",
       "1     ?   244  75.4   7.7    2570   7.6     ?   474   96  79.2   0.4    2700   \n",
       "2     ?   220  72.7   4.5    1594   7.7     ?   272   92  78.3   0.2    1742   \n",
       "3   236   268  73.1   8.5    2280   7.8   158   376   96  77.1   0.4    2060   \n",
       "4     ?   236  57.6   4.5    2020   7.8     ?   372   88  68.2   0.2    2250   \n",
       "\n",
       "  PH-S DBO-S DQO-S SS-S SSV-S SED-S COND-S RD-DBO-P RD-SS-P RD-SED-P RD-DBO-S  \\\n",
       "0  7.3     ?    84   21  81.0  0.02   2000        ?    58.8     95.5        ?   \n",
       "1  7.5     ?    91   17  94.1  0.00   2590        ?    60.7     94.8        ?   \n",
       "2  7.6     ?   128   21    81  0.05   1888        ?    58.2     95.6        ?   \n",
       "3  7.6    20   104   20  96.7  0.00   1840     33.1    64.2     95.3     87.3   \n",
       "4  7.6    19   108   22  65.9  0.02   2120        ?    62.7     95.6        ?   \n",
       "\n",
       "  RD-DQO-S RD-DBO-G RD-DQO-G RD-SS-G RD-SED-G  \n",
       "0     70.0        ?     79.4    87.3     99.6  \n",
       "1     80.8        ?     79.5    92.1      100  \n",
       "2     52.9        ?     75.8    88.7     98.5  \n",
       "3     72.3     90.2     82.3    89.6      100  \n",
       "4     71.0     92.1     78.2    87.5     99.5  "
      ]
     },
     "execution_count": 363,
     "metadata": {},
     "output_type": "execute_result"
    }
   ],
   "source": [
    "data.head()"
   ]
  },
  {
   "cell_type": "code",
   "execution_count": 364,
   "metadata": {
    "scrolled": true
   },
   "outputs": [
    {
     "data": {
      "text/plain": [
       "N_attribut     object\n",
       "Q-E            object\n",
       "ZN-E           object\n",
       "PH-E          float64\n",
       "DBO-E          object\n",
       "DQO-E          object\n",
       "SS-E           object\n",
       "SSV-E          object\n",
       "SED-E          object\n",
       "COND-E          int64\n",
       "PH-P          float64\n",
       "DBO-P          object\n",
       "SS-P            int64\n",
       "SSV-P          object\n",
       "SED-P          object\n",
       "COND-P          int64\n",
       "PH-D          float64\n",
       "DBO-D          object\n",
       "DQO-D          object\n",
       "SS-D           object\n",
       "SSV-D          object\n",
       "SED-D          object\n",
       "COND-D          int64\n",
       "PH-S           object\n",
       "DBO-S          object\n",
       "DQO-S          object\n",
       "SS-S           object\n",
       "SSV-S          object\n",
       "SED-S          object\n",
       "COND-S         object\n",
       "RD-DBO-P       object\n",
       "RD-SS-P        object\n",
       "RD-SED-P       object\n",
       "RD-DBO-S       object\n",
       "RD-DQO-S       object\n",
       "RD-DBO-G       object\n",
       "RD-DQO-G       object\n",
       "RD-SS-G        object\n",
       "RD-SED-G       object\n",
       "dtype: object"
      ]
     },
     "execution_count": 364,
     "metadata": {},
     "output_type": "execute_result"
    }
   ],
   "source": [
    "data.dtypes"
   ]
  },
  {
   "cell_type": "code",
   "execution_count": 365,
   "metadata": {},
   "outputs": [],
   "source": [
    "data.replace('?',np.nan,inplace=True)"
   ]
  },
  {
   "cell_type": "code",
   "execution_count": 366,
   "metadata": {},
   "outputs": [],
   "source": [
    "data = data.drop(columns=['N_attribut','RD-DBO-P','RD-DBO-S','DBO-P'])"
   ]
  },
  {
   "cell_type": "code",
   "execution_count": 367,
   "metadata": {},
   "outputs": [
    {
     "data": {
      "text/plain": [
       "RD-DBO-G    36\n",
       "RD-SED-G    31\n",
       "SED-S       28\n",
       "DBO-D       28\n",
       "RD-SED-P    27\n",
       "RD-DQO-S    26\n",
       "RD-DQO-G    25\n",
       "SED-E       25\n",
       "SED-D       25\n",
       "SED-P       24\n",
       "DBO-S       23\n",
       "DBO-E       23\n",
       "Q-E         18\n",
       "DQO-S       18\n",
       "SSV-S       17\n",
       "SSV-D       13\n",
       "SSV-P       11\n",
       "SSV-E       11\n",
       "DQO-D        9\n",
       "RD-SS-G      8\n",
       "DQO-E        6\n",
       "SS-S         5\n",
       "RD-SS-P      4\n",
       "ZN-E         3\n",
       "SS-D         2\n",
       "COND-S       1\n",
       "SS-E         1\n",
       "PH-S         1\n",
       "COND-E       0\n",
       "PH-P         0\n",
       "COND-D       0\n",
       "COND-P       0\n",
       "PH-E         0\n",
       "PH-D         0\n",
       "SS-P         0\n",
       "dtype: int64"
      ]
     },
     "execution_count": 367,
     "metadata": {},
     "output_type": "execute_result"
    }
   ],
   "source": [
    "data.isna().sum().sort_values(ascending=False)"
   ]
  },
  {
   "cell_type": "code",
   "execution_count": 368,
   "metadata": {},
   "outputs": [],
   "source": [
    "data = data.dropna()"
   ]
  },
  {
   "cell_type": "code",
   "execution_count": 369,
   "metadata": {},
   "outputs": [],
   "source": [
    "for cols in data.columns.values[data.dtypes == object]:\n",
    "    data[cols] = pd.to_numeric(data[cols], errors='ignore')"
   ]
  },
  {
   "cell_type": "code",
   "execution_count": 370,
   "metadata": {},
   "outputs": [
    {
     "data": {
      "text/plain": [
       "Q-E           int64\n",
       "ZN-E        float64\n",
       "PH-E        float64\n",
       "DBO-E         int64\n",
       "DQO-E         int64\n",
       "SS-E          int64\n",
       "SSV-E       float64\n",
       "SED-E       float64\n",
       "COND-E        int64\n",
       "PH-P        float64\n",
       "SS-P          int64\n",
       "SSV-P       float64\n",
       "SED-P       float64\n",
       "COND-P        int64\n",
       "PH-D        float64\n",
       "DBO-D         int64\n",
       "DQO-D         int64\n",
       "SS-D          int64\n",
       "SSV-D       float64\n",
       "SED-D       float64\n",
       "COND-D        int64\n",
       "PH-S        float64\n",
       "DBO-S         int64\n",
       "DQO-S         int64\n",
       "SS-S          int64\n",
       "SSV-S       float64\n",
       "SED-S       float64\n",
       "COND-S        int64\n",
       "RD-SS-P     float64\n",
       "RD-SED-P    float64\n",
       "RD-DQO-S    float64\n",
       "RD-DBO-G    float64\n",
       "RD-DQO-G    float64\n",
       "RD-SS-G     float64\n",
       "RD-SED-G    float64\n",
       "dtype: object"
      ]
     },
     "execution_count": 370,
     "metadata": {},
     "output_type": "execute_result"
    }
   ],
   "source": [
    "data.dtypes"
   ]
  },
  {
   "cell_type": "code",
   "execution_count": 371,
   "metadata": {},
   "outputs": [
    {
     "name": "stderr",
     "output_type": "stream",
     "text": [
      "C:\\Users\\aline.debenath\\AppData\\Local\\Continuum\\anaconda3\\lib\\site-packages\\sklearn\\preprocessing\\data.py:645: DataConversionWarning: Data with input dtype int64, float64 were all converted to float64 by StandardScaler.\n",
      "  return self.partial_fit(X, y)\n",
      "C:\\Users\\aline.debenath\\AppData\\Local\\Continuum\\anaconda3\\lib\\site-packages\\sklearn\\base.py:464: DataConversionWarning: Data with input dtype int64, float64 were all converted to float64 by StandardScaler.\n",
      "  return self.fit(X, **fit_params).transform(X)\n"
     ]
    }
   ],
   "source": [
    "from sklearn.preprocessing import StandardScaler\n",
    "\n",
    "scaler = StandardScaler()\n",
    "data = pd.DataFrame(scaler.fit_transform(data), columns=data.columns)"
   ]
  },
  {
   "cell_type": "code",
   "execution_count": 372,
   "metadata": {},
   "outputs": [
    {
     "data": {
      "image/png": "[encoded data removed]",
      "text/plain": [
       "<Figure size 432x288 with 2 Axes>"
      ]
     },
     "metadata": {},
     "output_type": "display_data"
    },
    {
     "data": {
      "text/plain": [
       "<matplotlib.axes._subplots.AxesSubplot at 0x1fa22b2f128>"
      ]
     },
     "execution_count": 372,
     "metadata": {},
     "output_type": "execute_result"
    }
   ],
   "source": [
    "from yellowbrick.cluster import KElbowVisualizer\n",
    "from sklearn.cluster import KMeans\n",
    "model = KMeans()\n",
    "visualizer = KElbowVisualizer(model, k=(4,16))\n",
    "visualizer.fit(data)\n",
    "visualizer.poof()"
   ]
  },
  {
   "cell_type": "code",
   "execution_count": 373,
   "metadata": {},
   "outputs": [
    {
     "data": {
      "text/plain": [
       "<seaborn.axisgrid.FacetGrid at 0x1fa22cbc160>"
      ]
     },
     "execution_count": 373,
     "metadata": {},
     "output_type": "execute_result"
    },
    {
     "data": {
      "image/png": "[encoded data removed]",
      "text/plain": [
       "<Figure size 401.625x360 with 1 Axes>"
      ]
     },
     "metadata": {
      "needs_background": "light"
     },
     "output_type": "display_data"
    }
   ],
   "source": [
    "from sklearn.decomposition import PCA\n",
    "import numpy as np\n",
    "\n",
    "pca = PCA()\n",
    "pca.fit(data)\n",
    "pca_x = pca.transform(data)\n",
    "pca_df = pd.DataFrame([pca_x[:, 0], pca_x[:, 1]]).T\n",
    "pca_df.columns = ['PC1', 'PC2']\n",
    "\n",
    "from sklearn.cluster import KMeans\n",
    "kmeans = KMeans(n_clusters=8).fit(data)\n",
    "data['Cluster'] = kmeans.labels_\n",
    "\n",
    "pca_df = pd.concat([pca_df, data['Cluster']], axis=1)\n",
    "sns.lmplot('PC1', 'PC2', data=pca_df, hue='Cluster', fit_reg=False)"
   ]
  },
  {
   "cell_type": "code",
   "execution_count": 374,
   "metadata": {},
   "outputs": [],
   "source": [
    "data.drop(columns=['Cluster'], inplace=True)"
   ]
  },
  {
   "cell_type": "code",
   "execution_count": 375,
   "metadata": {},
   "outputs": [
    {
     "data": {
      "text/plain": [
       "0.09503826458685144"
      ]
     },
     "execution_count": 375,
     "metadata": {},
     "output_type": "execute_result"
    }
   ],
   "source": [
    "from sklearn.metrics import silhouette_score\n",
    "silhouette_score(data, kmeans.predict(data))"
   ]
  },
  {
   "cell_type": "code",
   "execution_count": 376,
   "metadata": {},
   "outputs": [
    {
     "data": {
      "text/plain": [
       "<seaborn.axisgrid.FacetGrid at 0x1fa22d21710>"
      ]
     },
     "execution_count": 376,
     "metadata": {},
     "output_type": "execute_result"
    },
    {
     "data": {
      "image/png": "[encoded data removed]",
      "text/plain": [
       "<Figure size 405x360 with 1 Axes>"
      ]
     },
     "metadata": {
      "needs_background": "light"
     },
     "output_type": "display_data"
    }
   ],
   "source": [
    "from sklearn.cluster import DBSCAN\n",
    "dbscan = DBSCAN(eps=0.5)\n",
    "dbscan.fit(data)\n",
    "data['Cluster2'] = dbscan.labels_\n",
    "pca_df = pd.concat([pca_df, data['Cluster2']], axis=1)\n",
    "sns.lmplot('PC1', 'PC2', data=pca_df, hue='Cluster2', fit_reg=False)"
   ]
  },
  {
   "cell_type": "code",
   "execution_count": null,
   "metadata": {},
   "outputs": [],
   "source": []
  },
  {
   "cell_type": "code",
   "execution_count": null,
   "metadata": {},
   "outputs": [],
   "source": []
  },
  {
   "cell_type": "code",
   "execution_count": null,
   "metadata": {},
   "outputs": [],
   "source": []
  }
 ],
 "metadata": {
  "kernelspec": {
   "display_name": "Python 3",
   "language": "python",
   "name": "python3"
  },
  "language_info": {
   "codemirror_mode": {
    "name": "ipython",
    "version": 3
   },
   "file_extension": ".py",
   "mimetype": "text/x-python",
   "name": "python",
   "nbconvert_exporter": "python",
   "pygments_lexer": "ipython3",
   "version": "3.7.3"
  }
 },
 "nbformat": 4,
 "nbformat_minor": 2
}
