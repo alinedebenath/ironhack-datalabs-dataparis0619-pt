{
 "cells": [
  {
   "cell_type": "markdown",
   "metadata": {},
   "source": [
    "# Maladie de Parkinson, segmentation par probabilité de développer la maladie"
   ]
  },
  {
   "cell_type": "code",
   "execution_count": 519,
   "metadata": {},
   "outputs": [],
   "source": [
    "import pandas as pd\n",
    "%matplotlib inline\n",
    "import matplotlib.pyplot as plt\n",
    "import seaborn as sns\n",
    "pd.options.display.max_rows = 999\n",
    "pd.options.display.max_columns = 999"
   ]
  },
  {
   "cell_type": "markdown",
   "metadata": {},
   "source": [
    "## Import du dataset "
   ]
  },
  {
   "cell_type": "code",
   "execution_count": 520,
   "metadata": {},
   "outputs": [],
   "source": [
    "data = pd.read_csv(\"dataset_2.csv\")"
   ]
  },
  {
   "cell_type": "code",
   "execution_count": 521,
   "metadata": {},
   "outputs": [
    {
     "data": {
      "text/html": [
       "<div>\n",
       "<style scoped>\n",
       "    .dataframe tbody tr th:only-of-type {\n",
       "        vertical-align: middle;\n",
       "    }\n",
       "\n",
       "    .dataframe tbody tr th {\n",
       "        vertical-align: top;\n",
       "    }\n",
       "\n",
       "    .dataframe thead th {\n",
       "        text-align: right;\n",
       "    }\n",
       "</style>\n",
       "<table border=\"1\" class=\"dataframe\">\n",
       "  <thead>\n",
       "    <tr style=\"text-align: right;\">\n",
       "      <th></th>\n",
       "      <th>Participant  code</th>\n",
       "      <th>Age  (years)</th>\n",
       "      <th>Gender</th>\n",
       "      <th>Positive  history  of  Parkinson  disease  in  family</th>\n",
       "      <th>18.  Speech</th>\n",
       "      <th>19.  Facial  Expression</th>\n",
       "      <th>20.  Tremor  at  Rest  -  head</th>\n",
       "      <th>20.  Tremor  at  Rest  -  RUE</th>\n",
       "      <th>20.  Tremor  at  Rest  -  LUE</th>\n",
       "      <th>20.  Tremor  at  Rest  -  RLE</th>\n",
       "      <th>20.  Tremor  at  Rest  -  LLE</th>\n",
       "      <th>21.  Action  or  Postural  Tremor  -  RUE</th>\n",
       "      <th>21.  Action  or  Postural  Tremor  -  LUE</th>\n",
       "      <th>22.  Rigidity  -  neck</th>\n",
       "      <th>22.  Rigidity  -  RUE</th>\n",
       "      <th>22.  Rigidity  -  LUE</th>\n",
       "      <th>22.  Rigidity  -  RLE</th>\n",
       "      <th>22.  Rigidity  -  LLE</th>\n",
       "      <th>23.Finger  Taps  -  RUE</th>\n",
       "      <th>23.Finger  Taps  -  LUE</th>\n",
       "      <th>24.  Hand  Movements  -  RUE</th>\n",
       "      <th>24.  Hand  Movements  -  LUE</th>\n",
       "      <th>25.  Rapid  Alternating  Movements  -  RUE</th>\n",
       "      <th>25.  Rapid  Alternating  Movements  -  LUE</th>\n",
       "      <th>26.  Leg  Agility  -  RLE</th>\n",
       "      <th>26.  Leg  Agility  -  LLE</th>\n",
       "      <th>27.  Arising  from  Chair</th>\n",
       "      <th>28.  Posture</th>\n",
       "      <th>29.  Gait</th>\n",
       "      <th>30.  Postural  Stability</th>\n",
       "      <th>31.  Body  Bradykinesia  and  Hypokinesia</th>\n",
       "    </tr>\n",
       "  </thead>\n",
       "  <tbody>\n",
       "    <tr>\n",
       "      <td>0</td>\n",
       "      <td>PD01</td>\n",
       "      <td>58</td>\n",
       "      <td>F</td>\n",
       "      <td>No</td>\n",
       "      <td>0</td>\n",
       "      <td>1</td>\n",
       "      <td>0</td>\n",
       "      <td>0</td>\n",
       "      <td>2</td>\n",
       "      <td>0</td>\n",
       "      <td>2</td>\n",
       "      <td>0</td>\n",
       "      <td>0</td>\n",
       "      <td>0</td>\n",
       "      <td>0</td>\n",
       "      <td>1</td>\n",
       "      <td>0</td>\n",
       "      <td>0</td>\n",
       "      <td>0</td>\n",
       "      <td>1</td>\n",
       "      <td>0</td>\n",
       "      <td>0</td>\n",
       "      <td>0</td>\n",
       "      <td>1</td>\n",
       "      <td>0</td>\n",
       "      <td>0</td>\n",
       "      <td>0</td>\n",
       "      <td>0</td>\n",
       "      <td>0</td>\n",
       "      <td>0</td>\n",
       "      <td>0</td>\n",
       "    </tr>\n",
       "    <tr>\n",
       "      <td>1</td>\n",
       "      <td>PD02</td>\n",
       "      <td>68</td>\n",
       "      <td>F</td>\n",
       "      <td>No</td>\n",
       "      <td>1</td>\n",
       "      <td>1</td>\n",
       "      <td>0</td>\n",
       "      <td>0</td>\n",
       "      <td>0</td>\n",
       "      <td>0</td>\n",
       "      <td>0</td>\n",
       "      <td>1</td>\n",
       "      <td>1</td>\n",
       "      <td>1</td>\n",
       "      <td>0</td>\n",
       "      <td>1</td>\n",
       "      <td>1</td>\n",
       "      <td>2</td>\n",
       "      <td>1</td>\n",
       "      <td>2</td>\n",
       "      <td>0</td>\n",
       "      <td>1</td>\n",
       "      <td>1</td>\n",
       "      <td>2</td>\n",
       "      <td>1</td>\n",
       "      <td>2</td>\n",
       "      <td>0</td>\n",
       "      <td>1</td>\n",
       "      <td>0</td>\n",
       "      <td>1</td>\n",
       "      <td>1</td>\n",
       "    </tr>\n",
       "    <tr>\n",
       "      <td>2</td>\n",
       "      <td>PD03</td>\n",
       "      <td>68</td>\n",
       "      <td>M</td>\n",
       "      <td>No</td>\n",
       "      <td>0</td>\n",
       "      <td>2</td>\n",
       "      <td>0</td>\n",
       "      <td>0</td>\n",
       "      <td>0</td>\n",
       "      <td>0</td>\n",
       "      <td>0</td>\n",
       "      <td>0</td>\n",
       "      <td>0</td>\n",
       "      <td>2</td>\n",
       "      <td>0</td>\n",
       "      <td>0</td>\n",
       "      <td>2</td>\n",
       "      <td>2</td>\n",
       "      <td>1</td>\n",
       "      <td>1</td>\n",
       "      <td>0</td>\n",
       "      <td>1</td>\n",
       "      <td>0</td>\n",
       "      <td>0</td>\n",
       "      <td>1</td>\n",
       "      <td>2</td>\n",
       "      <td>0</td>\n",
       "      <td>3</td>\n",
       "      <td>0</td>\n",
       "      <td>0</td>\n",
       "      <td>2</td>\n",
       "    </tr>\n",
       "    <tr>\n",
       "      <td>3</td>\n",
       "      <td>PD04</td>\n",
       "      <td>75</td>\n",
       "      <td>M</td>\n",
       "      <td>No</td>\n",
       "      <td>0</td>\n",
       "      <td>2</td>\n",
       "      <td>0</td>\n",
       "      <td>1</td>\n",
       "      <td>0</td>\n",
       "      <td>1</td>\n",
       "      <td>0</td>\n",
       "      <td>1</td>\n",
       "      <td>1</td>\n",
       "      <td>1</td>\n",
       "      <td>1</td>\n",
       "      <td>1</td>\n",
       "      <td>1</td>\n",
       "      <td>1</td>\n",
       "      <td>1</td>\n",
       "      <td>1</td>\n",
       "      <td>2</td>\n",
       "      <td>2</td>\n",
       "      <td>1</td>\n",
       "      <td>2</td>\n",
       "      <td>1</td>\n",
       "      <td>0</td>\n",
       "      <td>0</td>\n",
       "      <td>1</td>\n",
       "      <td>1</td>\n",
       "      <td>0</td>\n",
       "      <td>1</td>\n",
       "    </tr>\n",
       "    <tr>\n",
       "      <td>4</td>\n",
       "      <td>PD05</td>\n",
       "      <td>61</td>\n",
       "      <td>M</td>\n",
       "      <td>Yes</td>\n",
       "      <td>1</td>\n",
       "      <td>3</td>\n",
       "      <td>3</td>\n",
       "      <td>2</td>\n",
       "      <td>1</td>\n",
       "      <td>1</td>\n",
       "      <td>0</td>\n",
       "      <td>1</td>\n",
       "      <td>2</td>\n",
       "      <td>3</td>\n",
       "      <td>3</td>\n",
       "      <td>3</td>\n",
       "      <td>1</td>\n",
       "      <td>1</td>\n",
       "      <td>3</td>\n",
       "      <td>4</td>\n",
       "      <td>2</td>\n",
       "      <td>4</td>\n",
       "      <td>2</td>\n",
       "      <td>3</td>\n",
       "      <td>1</td>\n",
       "      <td>3</td>\n",
       "      <td>1</td>\n",
       "      <td>2</td>\n",
       "      <td>1</td>\n",
       "      <td>1</td>\n",
       "      <td>2</td>\n",
       "    </tr>\n",
       "  </tbody>\n",
       "</table>\n",
       "</div>"
      ],
      "text/plain": [
       "  Participant  code  Age  (years) Gender  \\\n",
       "0              PD01            58      F   \n",
       "1              PD02            68      F   \n",
       "2              PD03            68      M   \n",
       "3              PD04            75      M   \n",
       "4              PD05            61      M   \n",
       "\n",
       "  Positive  history  of  Parkinson  disease  in  family 18.  Speech  \\\n",
       "0                                                 No              0   \n",
       "1                                                 No              1   \n",
       "2                                                 No              0   \n",
       "3                                                 No              0   \n",
       "4                                                Yes              1   \n",
       "\n",
       "  19.  Facial  Expression 20.  Tremor  at  Rest  -  head  \\\n",
       "0                       1                              0   \n",
       "1                       1                              0   \n",
       "2                       2                              0   \n",
       "3                       2                              0   \n",
       "4                       3                              3   \n",
       "\n",
       "  20.  Tremor  at  Rest  -  RUE 20.  Tremor  at  Rest  -  LUE  \\\n",
       "0                             0                             2   \n",
       "1                             0                             0   \n",
       "2                             0                             0   \n",
       "3                             1                             0   \n",
       "4                             2                             1   \n",
       "\n",
       "  20.  Tremor  at  Rest  -  RLE 20.  Tremor  at  Rest  -  LLE  \\\n",
       "0                             0                             2   \n",
       "1                             0                             0   \n",
       "2                             0                             0   \n",
       "3                             1                             0   \n",
       "4                             1                             0   \n",
       "\n",
       "  21.  Action  or  Postural  Tremor  -  RUE  \\\n",
       "0                                         0   \n",
       "1                                         1   \n",
       "2                                         0   \n",
       "3                                         1   \n",
       "4                                         1   \n",
       "\n",
       "  21.  Action  or  Postural  Tremor  -  LUE 22.  Rigidity  -  neck  \\\n",
       "0                                         0                      0   \n",
       "1                                         1                      1   \n",
       "2                                         0                      2   \n",
       "3                                         1                      1   \n",
       "4                                         2                      3   \n",
       "\n",
       "  22.  Rigidity  -  RUE 22.  Rigidity  -  LUE 22.  Rigidity  -  RLE  \\\n",
       "0                     0                     1                     0   \n",
       "1                     0                     1                     1   \n",
       "2                     0                     0                     2   \n",
       "3                     1                     1                     1   \n",
       "4                     3                     3                     1   \n",
       "\n",
       "  22.  Rigidity  -  LLE 23.Finger  Taps  -  RUE 23.Finger  Taps  -  LUE  \\\n",
       "0                     0                       0                       1   \n",
       "1                     2                       1                       2   \n",
       "2                     2                       1                       1   \n",
       "3                     1                       1                       1   \n",
       "4                     1                       3                       4   \n",
       "\n",
       "  24.  Hand  Movements  -  RUE 24.  Hand  Movements  -  LUE  \\\n",
       "0                            0                            0   \n",
       "1                            0                            1   \n",
       "2                            0                            1   \n",
       "3                            2                            2   \n",
       "4                            2                            4   \n",
       "\n",
       "  25.  Rapid  Alternating  Movements  -  RUE  \\\n",
       "0                                          0   \n",
       "1                                          1   \n",
       "2                                          0   \n",
       "3                                          1   \n",
       "4                                          2   \n",
       "\n",
       "  25.  Rapid  Alternating  Movements  -  LUE 26.  Leg  Agility  -  RLE  \\\n",
       "0                                          1                         0   \n",
       "1                                          2                         1   \n",
       "2                                          0                         1   \n",
       "3                                          2                         1   \n",
       "4                                          3                         1   \n",
       "\n",
       "  26.  Leg  Agility  -  LLE 27.  Arising  from  Chair 28.  Posture 29.  Gait  \\\n",
       "0                         0                         0            0         0   \n",
       "1                         2                         0            1         0   \n",
       "2                         2                         0            3         0   \n",
       "3                         0                         0            1         1   \n",
       "4                         3                         1            2         1   \n",
       "\n",
       "  30.  Postural  Stability 31.  Body  Bradykinesia  and  Hypokinesia  \n",
       "0                        0                                         0  \n",
       "1                        1                                         1  \n",
       "2                        0                                         2  \n",
       "3                        0                                         1  \n",
       "4                        1                                         2  "
      ]
     },
     "execution_count": 521,
     "metadata": {},
     "output_type": "execute_result"
    }
   ],
   "source": [
    "data.head()"
   ]
  },
  {
   "cell_type": "code",
   "execution_count": 522,
   "metadata": {},
   "outputs": [
    {
     "data": {
      "text/plain": [
       "Index(['Participant  code', 'Age  (years)', 'Gender',\n",
       "       'Positive  history  of  Parkinson  disease  in  family', '18.  Speech',\n",
       "       '19.  Facial  Expression', '20.  Tremor  at  Rest  -  head',\n",
       "       '20.  Tremor  at  Rest  -  RUE', '20.  Tremor  at  Rest  -  LUE',\n",
       "       '20.  Tremor  at  Rest  -  RLE', '20.  Tremor  at  Rest  -  LLE',\n",
       "       '21.  Action  or  Postural  Tremor  -  RUE',\n",
       "       '21.  Action  or  Postural  Tremor  -  LUE', '22.  Rigidity  -  neck',\n",
       "       '22.  Rigidity  -  RUE', '22.  Rigidity  -  LUE',\n",
       "       '22.  Rigidity  -  RLE', '22.  Rigidity  -  LLE',\n",
       "       '23.Finger  Taps  -  RUE', '23.Finger  Taps  -  LUE',\n",
       "       '24.  Hand  Movements  -  RUE', '24.  Hand  Movements  -  LUE',\n",
       "       '25.  Rapid  Alternating  Movements  -  RUE',\n",
       "       '25.  Rapid  Alternating  Movements  -  LUE',\n",
       "       '26.  Leg  Agility  -  RLE', '26.  Leg  Agility  -  LLE',\n",
       "       '27.  Arising  from  Chair', '28.  Posture', '29.  Gait',\n",
       "       '30.  Postural  Stability',\n",
       "       '31.  Body  Bradykinesia  and  Hypokinesia'],\n",
       "      dtype='object')"
      ]
     },
     "execution_count": 522,
     "metadata": {},
     "output_type": "execute_result"
    }
   ],
   "source": [
    "data.columns"
   ]
  },
  {
   "cell_type": "code",
   "execution_count": 523,
   "metadata": {},
   "outputs": [
    {
     "data": {
      "text/plain": [
       "Participant  code                                        object\n",
       "Age  (years)                                              int64\n",
       "Gender                                                   object\n",
       "Positive  history  of  Parkinson  disease  in  family    object\n",
       "18.  Speech                                              object\n",
       "19.  Facial  Expression                                  object\n",
       "20.  Tremor  at  Rest  -  head                           object\n",
       "20.  Tremor  at  Rest  -  RUE                            object\n",
       "20.  Tremor  at  Rest  -  LUE                            object\n",
       "20.  Tremor  at  Rest  -  RLE                            object\n",
       "20.  Tremor  at  Rest  -  LLE                            object\n",
       "21.  Action  or  Postural  Tremor  -  RUE                object\n",
       "21.  Action  or  Postural  Tremor  -  LUE                object\n",
       "22.  Rigidity  -  neck                                   object\n",
       "22.  Rigidity  -  RUE                                    object\n",
       "22.  Rigidity  -  LUE                                    object\n",
       "22.  Rigidity  -  RLE                                    object\n",
       "22.  Rigidity  -  LLE                                    object\n",
       "23.Finger  Taps  -  RUE                                  object\n",
       "23.Finger  Taps  -  LUE                                  object\n",
       "24.  Hand  Movements  -  RUE                             object\n",
       "24.  Hand  Movements  -  LUE                             object\n",
       "25.  Rapid  Alternating  Movements  -  RUE               object\n",
       "25.  Rapid  Alternating  Movements  -  LUE               object\n",
       "26.  Leg  Agility  -  RLE                                object\n",
       "26.  Leg  Agility  -  LLE                                object\n",
       "27.  Arising  from  Chair                                object\n",
       "28.  Posture                                             object\n",
       "29.  Gait                                                object\n",
       "30.  Postural  Stability                                 object\n",
       "31.  Body  Bradykinesia  and  Hypokinesia                object\n",
       "dtype: object"
      ]
     },
     "execution_count": 523,
     "metadata": {},
     "output_type": "execute_result"
    }
   ],
   "source": [
    "data.dtypes"
   ]
  },
  {
   "cell_type": "markdown",
   "metadata": {},
   "source": [
    "## Data cleaning "
   ]
  },
  {
   "cell_type": "code",
   "execution_count": 524,
   "metadata": {},
   "outputs": [],
   "source": [
    "data.columns = data.columns.str.replace('\\d+', '')\n",
    "data.columns = data.columns.str.strip()\n",
    "data.columns = data.columns.str.replace('.','')\n",
    "data.columns = data.columns.str.replace(' ','_')\n",
    "data.columns = data.columns.str.replace('__','',1)\n",
    "data.columns = data.columns.str.replace('_','',1)"
   ]
  },
  {
   "cell_type": "markdown",
   "metadata": {},
   "source": [
    "## Data featuring "
   ]
  },
  {
   "cell_type": "code",
   "execution_count": 525,
   "metadata": {},
   "outputs": [
    {
     "data": {
      "text/plain": [
       "Participantcode                                       0\n",
       "Age(years)                                            0\n",
       "Gender                                                0\n",
       "Positivehistory_of__Parkinson__disease__in__family    0\n",
       "Speech                                                0\n",
       "Facial_Expression                                     0\n",
       "Tremor_at__Rest__-__head                              0\n",
       "Tremor_at__Rest__-__RUE                               0\n",
       "Tremor_at__Rest__-__LUE                               0\n",
       "Tremor_at__Rest__-__RLE                               0\n",
       "Tremor_at__Rest__-__LLE                               0\n",
       "Action_or__Postural__Tremor__-__RUE                   0\n",
       "Action_or__Postural__Tremor__-__LUE                   0\n",
       "Rigidity_-__neck                                      0\n",
       "Rigidity_-__RUE                                       0\n",
       "Rigidity_-__LUE                                       0\n",
       "Rigidity_-__RLE                                       0\n",
       "Rigidity_-__LLE                                       0\n",
       "FingerTaps_-__RUE                                     0\n",
       "FingerTaps_-__LUE                                     0\n",
       "Hand_Movements__-__RUE                                0\n",
       "Hand_Movements__-__LUE                                0\n",
       "Rapid_Alternating__Movements__-__RUE                  0\n",
       "Rapid_Alternating__Movements__-__LUE                  0\n",
       "Leg_Agility__-__RLE                                   0\n",
       "Leg_Agility__-__LLE                                   0\n",
       "Arising_from__Chair                                   0\n",
       "Posture                                               0\n",
       "Gait                                                  0\n",
       "Postural_Stability                                    0\n",
       "Body_Bradykinesia__and__Hypokinesia                   0\n",
       "dtype: int64"
      ]
     },
     "execution_count": 525,
     "metadata": {},
     "output_type": "execute_result"
    }
   ],
   "source": [
    "data.isna().sum()"
   ]
  },
  {
   "cell_type": "code",
   "execution_count": 526,
   "metadata": {},
   "outputs": [],
   "source": [
    "data.drop(columns=['Participantcode'], inplace=True)"
   ]
  },
  {
   "cell_type": "code",
   "execution_count": 532,
   "metadata": {},
   "outputs": [
    {
     "ename": "TypeError",
     "evalue": "(\"to_numeric() got an unexpected keyword argument 'inplace'\", 'occurred at index Age(years)')",
     "output_type": "error",
     "traceback": [
      "\u001b[1;31m---------------------------------------------------------------------------\u001b[0m",
      "\u001b[1;31mTypeError\u001b[0m                                 Traceback (most recent call last)",
      "\u001b[1;32m<ipython-input-532-a7c84d03a8d5>\u001b[0m in \u001b[0;36m<module>\u001b[1;34m\u001b[0m\n\u001b[1;32m----> 1\u001b[1;33m \u001b[0mdata\u001b[0m\u001b[1;33m.\u001b[0m\u001b[0mapply\u001b[0m\u001b[1;33m(\u001b[0m\u001b[0mpd\u001b[0m\u001b[1;33m.\u001b[0m\u001b[0mto_numeric\u001b[0m\u001b[1;33m,\u001b[0m \u001b[0merrors\u001b[0m\u001b[1;33m=\u001b[0m\u001b[1;34m'ignore'\u001b[0m\u001b[1;33m,\u001b[0m \u001b[0minplace\u001b[0m\u001b[1;33m=\u001b[0m\u001b[1;32mTrue\u001b[0m\u001b[1;33m)\u001b[0m\u001b[1;33m\u001b[0m\u001b[1;33m\u001b[0m\u001b[0m\n\u001b[0m\u001b[0;32m      2\u001b[0m \u001b[0mdata\u001b[0m\u001b[1;33m.\u001b[0m\u001b[0mdtypes\u001b[0m\u001b[1;33m\u001b[0m\u001b[1;33m\u001b[0m\u001b[0m\n",
      "\u001b[1;32m~\\AppData\\Roaming\\Python\\Python37\\site-packages\\pandas\\core\\frame.py\u001b[0m in \u001b[0;36mapply\u001b[1;34m(self, func, axis, broadcast, raw, reduce, result_type, args, **kwds)\u001b[0m\n\u001b[0;32m   6911\u001b[0m             \u001b[0mkwds\u001b[0m\u001b[1;33m=\u001b[0m\u001b[0mkwds\u001b[0m\u001b[1;33m,\u001b[0m\u001b[1;33m\u001b[0m\u001b[1;33m\u001b[0m\u001b[0m\n\u001b[0;32m   6912\u001b[0m         )\n\u001b[1;32m-> 6913\u001b[1;33m         \u001b[1;32mreturn\u001b[0m \u001b[0mop\u001b[0m\u001b[1;33m.\u001b[0m\u001b[0mget_result\u001b[0m\u001b[1;33m(\u001b[0m\u001b[1;33m)\u001b[0m\u001b[1;33m\u001b[0m\u001b[1;33m\u001b[0m\u001b[0m\n\u001b[0m\u001b[0;32m   6914\u001b[0m \u001b[1;33m\u001b[0m\u001b[0m\n\u001b[0;32m   6915\u001b[0m     \u001b[1;32mdef\u001b[0m \u001b[0mapplymap\u001b[0m\u001b[1;33m(\u001b[0m\u001b[0mself\u001b[0m\u001b[1;33m,\u001b[0m \u001b[0mfunc\u001b[0m\u001b[1;33m)\u001b[0m\u001b[1;33m:\u001b[0m\u001b[1;33m\u001b[0m\u001b[1;33m\u001b[0m\u001b[0m\n",
      "\u001b[1;32m~\\AppData\\Roaming\\Python\\Python37\\site-packages\\pandas\\core\\apply.py\u001b[0m in \u001b[0;36mget_result\u001b[1;34m(self)\u001b[0m\n\u001b[0;32m    184\u001b[0m             \u001b[1;32mreturn\u001b[0m \u001b[0mself\u001b[0m\u001b[1;33m.\u001b[0m\u001b[0mapply_raw\u001b[0m\u001b[1;33m(\u001b[0m\u001b[1;33m)\u001b[0m\u001b[1;33m\u001b[0m\u001b[1;33m\u001b[0m\u001b[0m\n\u001b[0;32m    185\u001b[0m \u001b[1;33m\u001b[0m\u001b[0m\n\u001b[1;32m--> 186\u001b[1;33m         \u001b[1;32mreturn\u001b[0m \u001b[0mself\u001b[0m\u001b[1;33m.\u001b[0m\u001b[0mapply_standard\u001b[0m\u001b[1;33m(\u001b[0m\u001b[1;33m)\u001b[0m\u001b[1;33m\u001b[0m\u001b[1;33m\u001b[0m\u001b[0m\n\u001b[0m\u001b[0;32m    187\u001b[0m \u001b[1;33m\u001b[0m\u001b[0m\n\u001b[0;32m    188\u001b[0m     \u001b[1;32mdef\u001b[0m \u001b[0mapply_empty_result\u001b[0m\u001b[1;33m(\u001b[0m\u001b[0mself\u001b[0m\u001b[1;33m)\u001b[0m\u001b[1;33m:\u001b[0m\u001b[1;33m\u001b[0m\u001b[1;33m\u001b[0m\u001b[0m\n",
      "\u001b[1;32m~\\AppData\\Roaming\\Python\\Python37\\site-packages\\pandas\\core\\apply.py\u001b[0m in \u001b[0;36mapply_standard\u001b[1;34m(self)\u001b[0m\n\u001b[0;32m    290\u001b[0m \u001b[1;33m\u001b[0m\u001b[0m\n\u001b[0;32m    291\u001b[0m         \u001b[1;31m# compute the result using the series generator\u001b[0m\u001b[1;33m\u001b[0m\u001b[1;33m\u001b[0m\u001b[1;33m\u001b[0m\u001b[0m\n\u001b[1;32m--> 292\u001b[1;33m         \u001b[0mself\u001b[0m\u001b[1;33m.\u001b[0m\u001b[0mapply_series_generator\u001b[0m\u001b[1;33m(\u001b[0m\u001b[1;33m)\u001b[0m\u001b[1;33m\u001b[0m\u001b[1;33m\u001b[0m\u001b[0m\n\u001b[0m\u001b[0;32m    293\u001b[0m \u001b[1;33m\u001b[0m\u001b[0m\n\u001b[0;32m    294\u001b[0m         \u001b[1;31m# wrap results\u001b[0m\u001b[1;33m\u001b[0m\u001b[1;33m\u001b[0m\u001b[1;33m\u001b[0m\u001b[0m\n",
      "\u001b[1;32m~\\AppData\\Roaming\\Python\\Python37\\site-packages\\pandas\\core\\apply.py\u001b[0m in \u001b[0;36mapply_series_generator\u001b[1;34m(self)\u001b[0m\n\u001b[0;32m    319\u001b[0m             \u001b[1;32mtry\u001b[0m\u001b[1;33m:\u001b[0m\u001b[1;33m\u001b[0m\u001b[1;33m\u001b[0m\u001b[0m\n\u001b[0;32m    320\u001b[0m                 \u001b[1;32mfor\u001b[0m \u001b[0mi\u001b[0m\u001b[1;33m,\u001b[0m \u001b[0mv\u001b[0m \u001b[1;32min\u001b[0m \u001b[0menumerate\u001b[0m\u001b[1;33m(\u001b[0m\u001b[0mseries_gen\u001b[0m\u001b[1;33m)\u001b[0m\u001b[1;33m:\u001b[0m\u001b[1;33m\u001b[0m\u001b[1;33m\u001b[0m\u001b[0m\n\u001b[1;32m--> 321\u001b[1;33m                     \u001b[0mresults\u001b[0m\u001b[1;33m[\u001b[0m\u001b[0mi\u001b[0m\u001b[1;33m]\u001b[0m \u001b[1;33m=\u001b[0m \u001b[0mself\u001b[0m\u001b[1;33m.\u001b[0m\u001b[0mf\u001b[0m\u001b[1;33m(\u001b[0m\u001b[0mv\u001b[0m\u001b[1;33m)\u001b[0m\u001b[1;33m\u001b[0m\u001b[1;33m\u001b[0m\u001b[0m\n\u001b[0m\u001b[0;32m    322\u001b[0m                     \u001b[0mkeys\u001b[0m\u001b[1;33m.\u001b[0m\u001b[0mappend\u001b[0m\u001b[1;33m(\u001b[0m\u001b[0mv\u001b[0m\u001b[1;33m.\u001b[0m\u001b[0mname\u001b[0m\u001b[1;33m)\u001b[0m\u001b[1;33m\u001b[0m\u001b[1;33m\u001b[0m\u001b[0m\n\u001b[0;32m    323\u001b[0m             \u001b[1;32mexcept\u001b[0m \u001b[0mException\u001b[0m \u001b[1;32mas\u001b[0m \u001b[0me\u001b[0m\u001b[1;33m:\u001b[0m\u001b[1;33m\u001b[0m\u001b[1;33m\u001b[0m\u001b[0m\n",
      "\u001b[1;32m~\\AppData\\Roaming\\Python\\Python37\\site-packages\\pandas\\core\\apply.py\u001b[0m in \u001b[0;36mf\u001b[1;34m(x)\u001b[0m\n\u001b[0;32m    110\u001b[0m \u001b[1;33m\u001b[0m\u001b[0m\n\u001b[0;32m    111\u001b[0m             \u001b[1;32mdef\u001b[0m \u001b[0mf\u001b[0m\u001b[1;33m(\u001b[0m\u001b[0mx\u001b[0m\u001b[1;33m)\u001b[0m\u001b[1;33m:\u001b[0m\u001b[1;33m\u001b[0m\u001b[1;33m\u001b[0m\u001b[0m\n\u001b[1;32m--> 112\u001b[1;33m                 \u001b[1;32mreturn\u001b[0m \u001b[0mfunc\u001b[0m\u001b[1;33m(\u001b[0m\u001b[0mx\u001b[0m\u001b[1;33m,\u001b[0m \u001b[1;33m*\u001b[0m\u001b[0margs\u001b[0m\u001b[1;33m,\u001b[0m \u001b[1;33m**\u001b[0m\u001b[0mkwds\u001b[0m\u001b[1;33m)\u001b[0m\u001b[1;33m\u001b[0m\u001b[1;33m\u001b[0m\u001b[0m\n\u001b[0m\u001b[0;32m    113\u001b[0m \u001b[1;33m\u001b[0m\u001b[0m\n\u001b[0;32m    114\u001b[0m         \u001b[1;32melse\u001b[0m\u001b[1;33m:\u001b[0m\u001b[1;33m\u001b[0m\u001b[1;33m\u001b[0m\u001b[0m\n",
      "\u001b[1;31mTypeError\u001b[0m: (\"to_numeric() got an unexpected keyword argument 'inplace'\", 'occurred at index Age(years)')"
     ]
    }
   ],
   "source": [
    "data.apply(pd.to_numeric, errors='ignore')\n",
    "data.dtypes"
   ]
  },
  {
   "cell_type": "code",
   "execution_count": 530,
   "metadata": {},
   "outputs": [
    {
     "data": {
      "text/plain": [
       "Age(years)                                             int64\n",
       "Gender                                                object\n",
       "Positivehistory_of__Parkinson__disease__in__family    object\n",
       "Speech                                                object\n",
       "Facial_Expression                                     object\n",
       "Tremor_at__Rest__-__head                              object\n",
       "Tremor_at__Rest__-__RUE                               object\n",
       "Tremor_at__Rest__-__LUE                               object\n",
       "Tremor_at__Rest__-__RLE                               object\n",
       "Tremor_at__Rest__-__LLE                               object\n",
       "Action_or__Postural__Tremor__-__RUE                   object\n",
       "Action_or__Postural__Tremor__-__LUE                   object\n",
       "Rigidity_-__neck                                      object\n",
       "Rigidity_-__RUE                                       object\n",
       "Rigidity_-__LUE                                       object\n",
       "Rigidity_-__RLE                                       object\n",
       "Rigidity_-__LLE                                       object\n",
       "FingerTaps_-__RUE                                     object\n",
       "FingerTaps_-__LUE                                     object\n",
       "Hand_Movements__-__RUE                                object\n",
       "Hand_Movements__-__LUE                                object\n",
       "Rapid_Alternating__Movements__-__RUE                  object\n",
       "Rapid_Alternating__Movements__-__LUE                  object\n",
       "Leg_Agility__-__RLE                                   object\n",
       "Leg_Agility__-__LLE                                   object\n",
       "Arising_from__Chair                                   object\n",
       "Posture                                               object\n",
       "Gait                                                  object\n",
       "Postural_Stability                                    object\n",
       "Body_Bradykinesia__and__Hypokinesia                   object\n",
       "dtype: object"
      ]
     },
     "execution_count": 530,
     "metadata": {},
     "output_type": "execute_result"
    }
   ],
   "source": [
    "data.dtypes"
   ]
  },
  {
   "cell_type": "code",
   "execution_count": 529,
   "metadata": {},
   "outputs": [
    {
     "ename": "AttributeError",
     "evalue": "'DataFrame' object has no attribute 'FacialExpression'",
     "output_type": "error",
     "traceback": [
      "\u001b[1;31m---------------------------------------------------------------------------\u001b[0m",
      "\u001b[1;31mAttributeError\u001b[0m                            Traceback (most recent call last)",
      "\u001b[1;32m<ipython-input-529-6db3df5760b5>\u001b[0m in \u001b[0;36m<module>\u001b[1;34m\u001b[0m\n\u001b[0;32m      1\u001b[0m \u001b[1;31m#wine.quality[wine['quality']<=5]=0\u001b[0m\u001b[1;33m\u001b[0m\u001b[1;33m\u001b[0m\u001b[1;33m\u001b[0m\u001b[0m\n\u001b[0;32m      2\u001b[0m \u001b[1;31m#wine.quality[wine['quality']>5]=1\u001b[0m\u001b[1;33m\u001b[0m\u001b[1;33m\u001b[0m\u001b[1;33m\u001b[0m\u001b[0m\n\u001b[1;32m----> 3\u001b[1;33m \u001b[0mdata\u001b[0m\u001b[1;33m.\u001b[0m\u001b[0mFacialExpression\u001b[0m\u001b[1;33m[\u001b[0m\u001b[0mdata\u001b[0m\u001b[1;33m[\u001b[0m\u001b[1;34m'FacialExpression'\u001b[0m\u001b[1;33m]\u001b[0m\u001b[1;33m>\u001b[0m\u001b[1;36m1\u001b[0m\u001b[1;33m]\u001b[0m\u001b[1;33m=\u001b[0m\u001b[1;36m1\u001b[0m\u001b[1;33m\u001b[0m\u001b[1;33m\u001b[0m\u001b[0m\n\u001b[0m\u001b[0;32m      4\u001b[0m \u001b[1;31m#data['20.  Tremor  at  Rest  -  head'][data['20.  Tremor  at  Rest  -  head']>1]=1\u001b[0m\u001b[1;33m\u001b[0m\u001b[1;33m\u001b[0m\u001b[1;33m\u001b[0m\u001b[0m\n\u001b[0;32m      5\u001b[0m \u001b[1;31m#20.  Tremor  at  Rest  -  RUE_2\u001b[0m\u001b[1;33m\u001b[0m\u001b[1;33m\u001b[0m\u001b[1;33m\u001b[0m\u001b[0m\n",
      "\u001b[1;32m~\\AppData\\Roaming\\Python\\Python37\\site-packages\\pandas\\core\\generic.py\u001b[0m in \u001b[0;36m__getattr__\u001b[1;34m(self, name)\u001b[0m\n\u001b[0;32m   5177\u001b[0m             \u001b[1;32mif\u001b[0m \u001b[0mself\u001b[0m\u001b[1;33m.\u001b[0m\u001b[0m_info_axis\u001b[0m\u001b[1;33m.\u001b[0m\u001b[0m_can_hold_identifiers_and_holds_name\u001b[0m\u001b[1;33m(\u001b[0m\u001b[0mname\u001b[0m\u001b[1;33m)\u001b[0m\u001b[1;33m:\u001b[0m\u001b[1;33m\u001b[0m\u001b[1;33m\u001b[0m\u001b[0m\n\u001b[0;32m   5178\u001b[0m                 \u001b[1;32mreturn\u001b[0m \u001b[0mself\u001b[0m\u001b[1;33m[\u001b[0m\u001b[0mname\u001b[0m\u001b[1;33m]\u001b[0m\u001b[1;33m\u001b[0m\u001b[1;33m\u001b[0m\u001b[0m\n\u001b[1;32m-> 5179\u001b[1;33m             \u001b[1;32mreturn\u001b[0m \u001b[0mobject\u001b[0m\u001b[1;33m.\u001b[0m\u001b[0m__getattribute__\u001b[0m\u001b[1;33m(\u001b[0m\u001b[0mself\u001b[0m\u001b[1;33m,\u001b[0m \u001b[0mname\u001b[0m\u001b[1;33m)\u001b[0m\u001b[1;33m\u001b[0m\u001b[1;33m\u001b[0m\u001b[0m\n\u001b[0m\u001b[0;32m   5180\u001b[0m \u001b[1;33m\u001b[0m\u001b[0m\n\u001b[0;32m   5181\u001b[0m     \u001b[1;32mdef\u001b[0m \u001b[0m__setattr__\u001b[0m\u001b[1;33m(\u001b[0m\u001b[0mself\u001b[0m\u001b[1;33m,\u001b[0m \u001b[0mname\u001b[0m\u001b[1;33m,\u001b[0m \u001b[0mvalue\u001b[0m\u001b[1;33m)\u001b[0m\u001b[1;33m:\u001b[0m\u001b[1;33m\u001b[0m\u001b[1;33m\u001b[0m\u001b[0m\n",
      "\u001b[1;31mAttributeError\u001b[0m: 'DataFrame' object has no attribute 'FacialExpression'"
     ]
    }
   ],
   "source": [
    "#wine.quality[wine['quality']<=5]=0\n",
    "#wine.quality[wine['quality']>5]=1\n",
    "data.FacialExpression[data['FacialExpression']>1]=1\n",
    "#data['20.  Tremor  at  Rest  -  head'][data['20.  Tremor  at  Rest  -  head']>1]=1\n",
    "#20.  Tremor  at  Rest  -  RUE_2 "
   ]
  },
  {
   "cell_type": "code",
   "execution_count": 300,
   "metadata": {},
   "outputs": [],
   "source": [
    "cols = data.columns.values[data.dtypes == object]\n",
    "data = pd.get_dummies(data, columns=cols, drop_first=True)"
   ]
  },
  {
   "cell_type": "code",
   "execution_count": 301,
   "metadata": {
    "scrolled": false
   },
   "outputs": [
    {
     "data": {
      "text/plain": [
       "Age  (years)                                                 int64\n",
       "Gender_M                                                     uint8\n",
       "Positive  history  of  Parkinson  disease  in  family_No     uint8\n",
       "Positive  history  of  Parkinson  disease  in  family_Yes    uint8\n",
       "18.  Speech_0                                                uint8\n",
       "18.  Speech_1                                                uint8\n",
       "19.  Facial  Expression_0                                    uint8\n",
       "19.  Facial  Expression_1                                    uint8\n",
       "19.  Facial  Expression_2                                    uint8\n",
       "19.  Facial  Expression_3                                    uint8\n",
       "20.  Tremor  at  Rest  -  head_0                             uint8\n",
       "20.  Tremor  at  Rest  -  head_1                             uint8\n",
       "20.  Tremor  at  Rest  -  head_2                             uint8\n",
       "20.  Tremor  at  Rest  -  head_3                             uint8\n",
       "20.  Tremor  at  Rest  -  RUE_0                              uint8\n",
       "20.  Tremor  at  Rest  -  RUE_1                              uint8\n",
       "20.  Tremor  at  Rest  -  RUE_2                              uint8\n",
       "20.  Tremor  at  Rest  -  LUE_0                              uint8\n",
       "20.  Tremor  at  Rest  -  LUE_1                              uint8\n",
       "20.  Tremor  at  Rest  -  LUE_2                              uint8\n",
       "20.  Tremor  at  Rest  -  RLE_0                              uint8\n",
       "20.  Tremor  at  Rest  -  RLE_1                              uint8\n",
       "20.  Tremor  at  Rest  -  LLE_0                              uint8\n",
       "20.  Tremor  at  Rest  -  LLE_1                              uint8\n",
       "20.  Tremor  at  Rest  -  LLE_2                              uint8\n",
       "21.  Action  or  Postural  Tremor  -  RUE_0                  uint8\n",
       "21.  Action  or  Postural  Tremor  -  RUE_1                  uint8\n",
       "21.  Action  or  Postural  Tremor  -  RUE_2                  uint8\n",
       "21.  Action  or  Postural  Tremor  -  LUE_0                  uint8\n",
       "21.  Action  or  Postural  Tremor  -  LUE_1                  uint8\n",
       "21.  Action  or  Postural  Tremor  -  LUE_2                  uint8\n",
       "22.  Rigidity  -  neck_0                                     uint8\n",
       "22.  Rigidity  -  neck_1                                     uint8\n",
       "22.  Rigidity  -  neck_2                                     uint8\n",
       "22.  Rigidity  -  neck_3                                     uint8\n",
       "22.  Rigidity  -  RUE_0                                      uint8\n",
       "22.  Rigidity  -  RUE_1                                      uint8\n",
       "22.  Rigidity  -  RUE_2                                      uint8\n",
       "22.  Rigidity  -  RUE_3                                      uint8\n",
       "22.  Rigidity  -  LUE_0                                      uint8\n",
       "22.  Rigidity  -  LUE_1                                      uint8\n",
       "22.  Rigidity  -  LUE_2                                      uint8\n",
       "22.  Rigidity  -  LUE_3                                      uint8\n",
       "22.  Rigidity  -  RLE_0                                      uint8\n",
       "22.  Rigidity  -  RLE_1                                      uint8\n",
       "22.  Rigidity  -  RLE_2                                      uint8\n",
       "22.  Rigidity  -  LLE_0                                      uint8\n",
       "22.  Rigidity  -  LLE_1                                      uint8\n",
       "22.  Rigidity  -  LLE_2                                      uint8\n",
       "23.Finger  Taps  -  RUE_0                                    uint8\n",
       "23.Finger  Taps  -  RUE_1                                    uint8\n",
       "23.Finger  Taps  -  RUE_2                                    uint8\n",
       "23.Finger  Taps  -  RUE_3                                    uint8\n",
       "23.Finger  Taps  -  RUE_4                                    uint8\n",
       "23.Finger  Taps  -  LUE_0                                    uint8\n",
       "23.Finger  Taps  -  LUE_1                                    uint8\n",
       "23.Finger  Taps  -  LUE_2                                    uint8\n",
       "23.Finger  Taps  -  LUE_3                                    uint8\n",
       "23.Finger  Taps  -  LUE_4                                    uint8\n",
       "24.  Hand  Movements  -  RUE_0                               uint8\n",
       "24.  Hand  Movements  -  RUE_1                               uint8\n",
       "24.  Hand  Movements  -  RUE_2                               uint8\n",
       "24.  Hand  Movements  -  RUE_3                               uint8\n",
       "24.  Hand  Movements  -  LUE_0                               uint8\n",
       "24.  Hand  Movements  -  LUE_1                               uint8\n",
       "24.  Hand  Movements  -  LUE_2                               uint8\n",
       "24.  Hand  Movements  -  LUE_3                               uint8\n",
       "24.  Hand  Movements  -  LUE_4                               uint8\n",
       "25.  Rapid  Alternating  Movements  -  RUE_0                 uint8\n",
       "25.  Rapid  Alternating  Movements  -  RUE_1                 uint8\n",
       "25.  Rapid  Alternating  Movements  -  RUE_2                 uint8\n",
       "25.  Rapid  Alternating  Movements  -  RUE_3                 uint8\n",
       "25.  Rapid  Alternating  Movements  -  RUE_4                 uint8\n",
       "25.  Rapid  Alternating  Movements  -  LUE_0                 uint8\n",
       "25.  Rapid  Alternating  Movements  -  LUE_1                 uint8\n",
       "25.  Rapid  Alternating  Movements  -  LUE_2                 uint8\n",
       "25.  Rapid  Alternating  Movements  -  LUE_3                 uint8\n",
       "26.  Leg  Agility  -  RLE_0                                  uint8\n",
       "26.  Leg  Agility  -  RLE_1                                  uint8\n",
       "26.  Leg  Agility  -  RLE_2                                  uint8\n",
       "26.  Leg  Agility  -  RLE_3                                  uint8\n",
       "26.  Leg  Agility  -  LLE_0                                  uint8\n",
       "26.  Leg  Agility  -  LLE_1                                  uint8\n",
       "26.  Leg  Agility  -  LLE_2                                  uint8\n",
       "26.  Leg  Agility  -  LLE_3                                  uint8\n",
       "27.  Arising  from  Chair_0                                  uint8\n",
       "27.  Arising  from  Chair_1                                  uint8\n",
       "28.  Posture_0                                               uint8\n",
       "28.  Posture_1                                               uint8\n",
       "28.  Posture_2                                               uint8\n",
       "28.  Posture_3                                               uint8\n",
       "29.  Gait_0                                                  uint8\n",
       "29.  Gait_1                                                  uint8\n",
       "29.  Gait_2                                                  uint8\n",
       "30.  Postural  Stability_0                                   uint8\n",
       "30.  Postural  Stability_1                                   uint8\n",
       "30.  Postural  Stability_2                                   uint8\n",
       "31.  Body  Bradykinesia  and  Hypokinesia_0                  uint8\n",
       "31.  Body  Bradykinesia  and  Hypokinesia_1                  uint8\n",
       "31.  Body  Bradykinesia  and  Hypokinesia_2                  uint8\n",
       "31.  Body  Bradykinesia  and  Hypokinesia_3                  uint8\n",
       "dtype: object"
      ]
     },
     "execution_count": 301,
     "metadata": {},
     "output_type": "execute_result"
    }
   ],
   "source": [
    "data.dtypes"
   ]
  },
  {
   "cell_type": "code",
   "execution_count": 306,
   "metadata": {},
   "outputs": [],
   "source": [
    "from sklearn.cluster import KMeans\n",
    "\n",
    "kmeans = KMeans(n_clusters=3)"
   ]
  },
  {
   "cell_type": "code",
   "execution_count": 307,
   "metadata": {},
   "outputs": [],
   "source": [
    "parkinson_clusters = kmeans.fit(data)"
   ]
  },
  {
   "cell_type": "code",
   "execution_count": 308,
   "metadata": {},
   "outputs": [],
   "source": [
    "data['Cluster'] = parkinson_clusters.fit_predict(data)"
   ]
  },
  {
   "cell_type": "code",
   "execution_count": 309,
   "metadata": {},
   "outputs": [
    {
     "data": {
      "text/plain": [
       "0    65\n",
       "1    46\n",
       "2    19\n",
       "Name: Cluster, dtype: int64"
      ]
     },
     "execution_count": 309,
     "metadata": {},
     "output_type": "execute_result"
    }
   ],
   "source": [
    "data['Cluster'].value_counts()"
   ]
  },
  {
   "cell_type": "code",
   "execution_count": 310,
   "metadata": {
    "scrolled": false
   },
   "outputs": [
    {
     "data": {
      "text/plain": [
       "Age  (years)                                                 45.789474\n",
       "Gender_M                                                      0.842105\n",
       "Positive  history  of  Parkinson  disease  in  family_No      0.473684\n",
       "Positive  history  of  Parkinson  disease  in  family_Yes     0.000000\n",
       "18.  Speech_0                                                 0.473684\n",
       "18.  Speech_1                                                 0.000000\n",
       "19.  Facial  Expression_0                                     0.421053\n",
       "19.  Facial  Expression_1                                     0.000000\n",
       "19.  Facial  Expression_2                                     0.052632\n",
       "19.  Facial  Expression_3                                     0.000000\n",
       "20.  Tremor  at  Rest  -  head_0                              0.421053\n",
       "20.  Tremor  at  Rest  -  head_1                              0.052632\n",
       "20.  Tremor  at  Rest  -  head_2                              0.000000\n",
       "20.  Tremor  at  Rest  -  head_3                              0.000000\n",
       "20.  Tremor  at  Rest  -  RUE_0                               0.368421\n",
       "20.  Tremor  at  Rest  -  RUE_1                               0.105263\n",
       "20.  Tremor  at  Rest  -  RUE_2                               0.000000\n",
       "20.  Tremor  at  Rest  -  LUE_0                               0.473684\n",
       "20.  Tremor  at  Rest  -  LUE_1                               0.000000\n",
       "20.  Tremor  at  Rest  -  LUE_2                               0.000000\n",
       "20.  Tremor  at  Rest  -  RLE_0                               0.421053\n",
       "20.  Tremor  at  Rest  -  RLE_1                               0.052632\n",
       "20.  Tremor  at  Rest  -  LLE_0                               0.473684\n",
       "20.  Tremor  at  Rest  -  LLE_1                               0.000000\n",
       "20.  Tremor  at  Rest  -  LLE_2                               0.000000\n",
       "21.  Action  or  Postural  Tremor  -  RUE_0                   0.263158\n",
       "21.  Action  or  Postural  Tremor  -  RUE_1                   0.157895\n",
       "21.  Action  or  Postural  Tremor  -  RUE_2                   0.052632\n",
       "21.  Action  or  Postural  Tremor  -  LUE_0                   0.263158\n",
       "21.  Action  or  Postural  Tremor  -  LUE_1                   0.210526\n",
       "21.  Action  or  Postural  Tremor  -  LUE_2                   0.000000\n",
       "22.  Rigidity  -  neck_0                                      0.421053\n",
       "22.  Rigidity  -  neck_1                                      0.000000\n",
       "22.  Rigidity  -  neck_2                                      0.000000\n",
       "22.  Rigidity  -  neck_3                                      0.052632\n",
       "22.  Rigidity  -  RUE_0                                       0.421053\n",
       "22.  Rigidity  -  RUE_1                                       0.000000\n",
       "22.  Rigidity  -  RUE_2                                       0.000000\n",
       "22.  Rigidity  -  RUE_3                                       0.052632\n",
       "22.  Rigidity  -  LUE_0                                       0.368421\n",
       "22.  Rigidity  -  LUE_1                                       0.105263\n",
       "22.  Rigidity  -  LUE_2                                       0.000000\n",
       "22.  Rigidity  -  LUE_3                                       0.000000\n",
       "22.  Rigidity  -  RLE_0                                       0.421053\n",
       "22.  Rigidity  -  RLE_1                                       0.000000\n",
       "22.  Rigidity  -  RLE_2                                       0.052632\n",
       "22.  Rigidity  -  LLE_0                                       0.368421\n",
       "22.  Rigidity  -  LLE_1                                       0.105263\n",
       "22.  Rigidity  -  LLE_2                                       0.000000\n",
       "23.Finger  Taps  -  RUE_0                                     0.368421\n",
       "23.Finger  Taps  -  RUE_1                                     0.052632\n",
       "23.Finger  Taps  -  RUE_2                                     0.000000\n",
       "23.Finger  Taps  -  RUE_3                                     0.052632\n",
       "23.Finger  Taps  -  RUE_4                                     0.000000\n",
       "23.Finger  Taps  -  LUE_0                                     0.263158\n",
       "23.Finger  Taps  -  LUE_1                                     0.157895\n",
       "23.Finger  Taps  -  LUE_2                                     0.052632\n",
       "23.Finger  Taps  -  LUE_3                                     0.000000\n",
       "23.Finger  Taps  -  LUE_4                                     0.000000\n",
       "24.  Hand  Movements  -  RUE_0                                0.315789\n",
       "24.  Hand  Movements  -  RUE_1                                0.105263\n",
       "24.  Hand  Movements  -  RUE_2                                0.000000\n",
       "24.  Hand  Movements  -  RUE_3                                0.052632\n",
       "24.  Hand  Movements  -  LUE_0                                0.263158\n",
       "24.  Hand  Movements  -  LUE_1                                0.157895\n",
       "24.  Hand  Movements  -  LUE_2                                0.052632\n",
       "24.  Hand  Movements  -  LUE_3                                0.000000\n",
       "24.  Hand  Movements  -  LUE_4                                0.000000\n",
       "25.  Rapid  Alternating  Movements  -  RUE_0                  0.368421\n",
       "25.  Rapid  Alternating  Movements  -  RUE_1                  0.052632\n",
       "25.  Rapid  Alternating  Movements  -  RUE_2                  0.000000\n",
       "25.  Rapid  Alternating  Movements  -  RUE_3                  0.000000\n",
       "25.  Rapid  Alternating  Movements  -  RUE_4                  0.052632\n",
       "25.  Rapid  Alternating  Movements  -  LUE_0                  0.210526\n",
       "25.  Rapid  Alternating  Movements  -  LUE_1                  0.210526\n",
       "25.  Rapid  Alternating  Movements  -  LUE_2                  0.052632\n",
       "25.  Rapid  Alternating  Movements  -  LUE_3                  0.000000\n",
       "26.  Leg  Agility  -  RLE_0                                   0.421053\n",
       "26.  Leg  Agility  -  RLE_1                                   0.000000\n",
       "26.  Leg  Agility  -  RLE_2                                   0.000000\n",
       "26.  Leg  Agility  -  RLE_3                                   0.052632\n",
       "26.  Leg  Agility  -  LLE_0                                   0.315789\n",
       "26.  Leg  Agility  -  LLE_1                                   0.105263\n",
       "26.  Leg  Agility  -  LLE_2                                   0.052632\n",
       "26.  Leg  Agility  -  LLE_3                                   0.000000\n",
       "27.  Arising  from  Chair_0                                   0.473684\n",
       "27.  Arising  from  Chair_1                                   0.000000\n",
       "28.  Posture_0                                                0.368421\n",
       "28.  Posture_1                                                0.105263\n",
       "28.  Posture_2                                                0.000000\n",
       "28.  Posture_3                                                0.000000\n",
       "29.  Gait_0                                                   0.315789\n",
       "29.  Gait_1                                                   0.105263\n",
       "29.  Gait_2                                                   0.052632\n",
       "30.  Postural  Stability_0                                    0.368421\n",
       "30.  Postural  Stability_1                                    0.105263\n",
       "30.  Postural  Stability_2                                    0.000000\n",
       "31.  Body  Bradykinesia  and  Hypokinesia_0                   0.368421\n",
       "31.  Body  Bradykinesia  and  Hypokinesia_1                   0.052632\n",
       "31.  Body  Bradykinesia  and  Hypokinesia_2                   0.052632\n",
       "31.  Body  Bradykinesia  and  Hypokinesia_3                   0.000000\n",
       "Cluster                                                       2.000000\n",
       "dtype: float64"
      ]
     },
     "execution_count": 310,
     "metadata": {},
     "output_type": "execute_result"
    }
   ],
   "source": [
    "data[data['Cluster']==2].mean()"
   ]
  },
  {
   "cell_type": "code",
   "execution_count": 311,
   "metadata": {},
   "outputs": [],
   "source": [
    "from sklearn.decomposition import PCA\n",
    "import numpy as np\n",
    "\n",
    "pca = PCA()\n",
    "pca.fit(data)\n",
    "pca_x = pca.transform(data)"
   ]
  },
  {
   "cell_type": "code",
   "execution_count": 312,
   "metadata": {},
   "outputs": [
    {
     "data": {
      "text/plain": [
       "<seaborn.axisgrid.FacetGrid at 0x21a7a6b0b00>"
      ]
     },
     "execution_count": 312,
     "metadata": {},
     "output_type": "execute_result"
    },
    {
     "data": {
      "image/png": "[encoded data removed]",
      "text/plain": [
       "<Figure size 403.5x360 with 1 Axes>"
      ]
     },
     "metadata": {
      "needs_background": "light"
     },
     "output_type": "display_data"
    }
   ],
   "source": [
    "pca_df = pd.DataFrame([pca_x[:, 0], pca_x[:, 1]]).T\n",
    "pca_df.columns = ['PC1', 'PC2']\n",
    "pca_df = pd.concat([pca_df, data['Cluster']], axis=1)\n",
    "sns.lmplot('PC1', 'PC2', data=pca_df, hue='Cluster', fit_reg=False)"
   ]
  },
  {
   "cell_type": "code",
   "execution_count": null,
   "metadata": {},
   "outputs": [],
   "source": []
  }
 ],
 "metadata": {
  "kernelspec": {
   "display_name": "Python 3",
   "language": "python",
   "name": "python3"
  },
  "language_info": {
   "codemirror_mode": {
    "name": "ipython",
    "version": 3
   },
   "file_extension": ".py",
   "mimetype": "text/x-python",
   "name": "python",
   "nbconvert_exporter": "python",
   "pygments_lexer": "ipython3",
   "version": "3.7.3"
  }
 },
 "nbformat": 4,
 "nbformat_minor": 2
}
