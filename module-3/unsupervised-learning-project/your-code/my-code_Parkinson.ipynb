{
 "cells": [
  {
   "cell_type": "markdown",
   "metadata": {},
   "source": [
    "# Maladie de Parkinson, segmentation par probabilité de développer la maladie"
   ]
  },
  {
   "cell_type": "code",
   "execution_count": 742,
   "metadata": {},
   "outputs": [],
   "source": [
    "import pandas as pd\n",
    "%matplotlib inline\n",
    "import matplotlib.pyplot as plt\n",
    "import seaborn as sns\n",
    "pd.options.display.max_rows = 999\n",
    "pd.options.display.max_columns = 999"
   ]
  },
  {
   "cell_type": "markdown",
   "metadata": {},
   "source": [
    "## Import du dataset "
   ]
  },
  {
   "cell_type": "code",
   "execution_count": 743,
   "metadata": {},
   "outputs": [],
   "source": [
    "data = pd.read_csv(\"dataset_2.csv\")"
   ]
  },
  {
   "cell_type": "code",
   "execution_count": 744,
   "metadata": {},
   "outputs": [
    {
     "data": {
      "text/plain": [
       "(130, 31)"
      ]
     },
     "execution_count": 744,
     "metadata": {},
     "output_type": "execute_result"
    }
   ],
   "source": [
    "data.shape"
   ]
  },
  {
   "cell_type": "code",
   "execution_count": 745,
   "metadata": {},
   "outputs": [
    {
     "data": {
      "text/html": [
       "<div>\n",
       "<style scoped>\n",
       "    .dataframe tbody tr th:only-of-type {\n",
       "        vertical-align: middle;\n",
       "    }\n",
       "\n",
       "    .dataframe tbody tr th {\n",
       "        vertical-align: top;\n",
       "    }\n",
       "\n",
       "    .dataframe thead th {\n",
       "        text-align: right;\n",
       "    }\n",
       "</style>\n",
       "<table border=\"1\" class=\"dataframe\">\n",
       "  <thead>\n",
       "    <tr style=\"text-align: right;\">\n",
       "      <th></th>\n",
       "      <th>Participant  code</th>\n",
       "      <th>Age  (years)</th>\n",
       "      <th>Gender</th>\n",
       "      <th>Positive  history  of  Parkinson  disease  in  family</th>\n",
       "      <th>18.  Speech</th>\n",
       "      <th>19.  Facial  Expression</th>\n",
       "      <th>20.  Tremor  at  Rest  -  head</th>\n",
       "      <th>20.  Tremor  at  Rest  -  RUE</th>\n",
       "      <th>20.  Tremor  at  Rest  -  LUE</th>\n",
       "      <th>20.  Tremor  at  Rest  -  RLE</th>\n",
       "      <th>20.  Tremor  at  Rest  -  LLE</th>\n",
       "      <th>21.  Action  or  Postural  Tremor  -  RUE</th>\n",
       "      <th>21.  Action  or  Postural  Tremor  -  LUE</th>\n",
       "      <th>22.  Rigidity  -  neck</th>\n",
       "      <th>22.  Rigidity  -  RUE</th>\n",
       "      <th>22.  Rigidity  -  LUE</th>\n",
       "      <th>22.  Rigidity  -  RLE</th>\n",
       "      <th>22.  Rigidity  -  LLE</th>\n",
       "      <th>23.Finger  Taps  -  RUE</th>\n",
       "      <th>23.Finger  Taps  -  LUE</th>\n",
       "      <th>24.  Hand  Movements  -  RUE</th>\n",
       "      <th>24.  Hand  Movements  -  LUE</th>\n",
       "      <th>25.  Rapid  Alternating  Movements  -  RUE</th>\n",
       "      <th>25.  Rapid  Alternating  Movements  -  LUE</th>\n",
       "      <th>26.  Leg  Agility  -  RLE</th>\n",
       "      <th>26.  Leg  Agility  -  LLE</th>\n",
       "      <th>27.  Arising  from  Chair</th>\n",
       "      <th>28.  Posture</th>\n",
       "      <th>29.  Gait</th>\n",
       "      <th>30.  Postural  Stability</th>\n",
       "      <th>31.  Body  Bradykinesia  and  Hypokinesia</th>\n",
       "    </tr>\n",
       "  </thead>\n",
       "  <tbody>\n",
       "    <tr>\n",
       "      <td>0</td>\n",
       "      <td>PD01</td>\n",
       "      <td>58</td>\n",
       "      <td>F</td>\n",
       "      <td>No</td>\n",
       "      <td>0</td>\n",
       "      <td>1</td>\n",
       "      <td>0</td>\n",
       "      <td>0</td>\n",
       "      <td>2</td>\n",
       "      <td>0</td>\n",
       "      <td>2</td>\n",
       "      <td>0</td>\n",
       "      <td>0</td>\n",
       "      <td>0</td>\n",
       "      <td>0</td>\n",
       "      <td>1</td>\n",
       "      <td>0</td>\n",
       "      <td>0</td>\n",
       "      <td>0</td>\n",
       "      <td>1</td>\n",
       "      <td>0</td>\n",
       "      <td>0</td>\n",
       "      <td>0</td>\n",
       "      <td>1</td>\n",
       "      <td>0</td>\n",
       "      <td>0</td>\n",
       "      <td>0</td>\n",
       "      <td>0</td>\n",
       "      <td>0</td>\n",
       "      <td>0</td>\n",
       "      <td>0</td>\n",
       "    </tr>\n",
       "    <tr>\n",
       "      <td>1</td>\n",
       "      <td>PD02</td>\n",
       "      <td>68</td>\n",
       "      <td>F</td>\n",
       "      <td>No</td>\n",
       "      <td>1</td>\n",
       "      <td>1</td>\n",
       "      <td>0</td>\n",
       "      <td>0</td>\n",
       "      <td>0</td>\n",
       "      <td>0</td>\n",
       "      <td>0</td>\n",
       "      <td>1</td>\n",
       "      <td>1</td>\n",
       "      <td>1</td>\n",
       "      <td>0</td>\n",
       "      <td>1</td>\n",
       "      <td>1</td>\n",
       "      <td>2</td>\n",
       "      <td>1</td>\n",
       "      <td>2</td>\n",
       "      <td>0</td>\n",
       "      <td>1</td>\n",
       "      <td>1</td>\n",
       "      <td>2</td>\n",
       "      <td>1</td>\n",
       "      <td>2</td>\n",
       "      <td>0</td>\n",
       "      <td>1</td>\n",
       "      <td>0</td>\n",
       "      <td>1</td>\n",
       "      <td>1</td>\n",
       "    </tr>\n",
       "    <tr>\n",
       "      <td>2</td>\n",
       "      <td>PD03</td>\n",
       "      <td>68</td>\n",
       "      <td>M</td>\n",
       "      <td>No</td>\n",
       "      <td>0</td>\n",
       "      <td>2</td>\n",
       "      <td>0</td>\n",
       "      <td>0</td>\n",
       "      <td>0</td>\n",
       "      <td>0</td>\n",
       "      <td>0</td>\n",
       "      <td>0</td>\n",
       "      <td>0</td>\n",
       "      <td>2</td>\n",
       "      <td>0</td>\n",
       "      <td>0</td>\n",
       "      <td>2</td>\n",
       "      <td>2</td>\n",
       "      <td>1</td>\n",
       "      <td>1</td>\n",
       "      <td>0</td>\n",
       "      <td>1</td>\n",
       "      <td>0</td>\n",
       "      <td>0</td>\n",
       "      <td>1</td>\n",
       "      <td>2</td>\n",
       "      <td>0</td>\n",
       "      <td>3</td>\n",
       "      <td>0</td>\n",
       "      <td>0</td>\n",
       "      <td>2</td>\n",
       "    </tr>\n",
       "    <tr>\n",
       "      <td>3</td>\n",
       "      <td>PD04</td>\n",
       "      <td>75</td>\n",
       "      <td>M</td>\n",
       "      <td>No</td>\n",
       "      <td>0</td>\n",
       "      <td>2</td>\n",
       "      <td>0</td>\n",
       "      <td>1</td>\n",
       "      <td>0</td>\n",
       "      <td>1</td>\n",
       "      <td>0</td>\n",
       "      <td>1</td>\n",
       "      <td>1</td>\n",
       "      <td>1</td>\n",
       "      <td>1</td>\n",
       "      <td>1</td>\n",
       "      <td>1</td>\n",
       "      <td>1</td>\n",
       "      <td>1</td>\n",
       "      <td>1</td>\n",
       "      <td>2</td>\n",
       "      <td>2</td>\n",
       "      <td>1</td>\n",
       "      <td>2</td>\n",
       "      <td>1</td>\n",
       "      <td>0</td>\n",
       "      <td>0</td>\n",
       "      <td>1</td>\n",
       "      <td>1</td>\n",
       "      <td>0</td>\n",
       "      <td>1</td>\n",
       "    </tr>\n",
       "    <tr>\n",
       "      <td>4</td>\n",
       "      <td>PD05</td>\n",
       "      <td>61</td>\n",
       "      <td>M</td>\n",
       "      <td>Yes</td>\n",
       "      <td>1</td>\n",
       "      <td>3</td>\n",
       "      <td>3</td>\n",
       "      <td>2</td>\n",
       "      <td>1</td>\n",
       "      <td>1</td>\n",
       "      <td>0</td>\n",
       "      <td>1</td>\n",
       "      <td>2</td>\n",
       "      <td>3</td>\n",
       "      <td>3</td>\n",
       "      <td>3</td>\n",
       "      <td>1</td>\n",
       "      <td>1</td>\n",
       "      <td>3</td>\n",
       "      <td>4</td>\n",
       "      <td>2</td>\n",
       "      <td>4</td>\n",
       "      <td>2</td>\n",
       "      <td>3</td>\n",
       "      <td>1</td>\n",
       "      <td>3</td>\n",
       "      <td>1</td>\n",
       "      <td>2</td>\n",
       "      <td>1</td>\n",
       "      <td>1</td>\n",
       "      <td>2</td>\n",
       "    </tr>\n",
       "  </tbody>\n",
       "</table>\n",
       "</div>"
      ],
      "text/plain": [
       "  Participant  code  Age  (years) Gender  \\\n",
       "0              PD01            58      F   \n",
       "1              PD02            68      F   \n",
       "2              PD03            68      M   \n",
       "3              PD04            75      M   \n",
       "4              PD05            61      M   \n",
       "\n",
       "  Positive  history  of  Parkinson  disease  in  family 18.  Speech  \\\n",
       "0                                                 No              0   \n",
       "1                                                 No              1   \n",
       "2                                                 No              0   \n",
       "3                                                 No              0   \n",
       "4                                                Yes              1   \n",
       "\n",
       "  19.  Facial  Expression 20.  Tremor  at  Rest  -  head  \\\n",
       "0                       1                              0   \n",
       "1                       1                              0   \n",
       "2                       2                              0   \n",
       "3                       2                              0   \n",
       "4                       3                              3   \n",
       "\n",
       "  20.  Tremor  at  Rest  -  RUE 20.  Tremor  at  Rest  -  LUE  \\\n",
       "0                             0                             2   \n",
       "1                             0                             0   \n",
       "2                             0                             0   \n",
       "3                             1                             0   \n",
       "4                             2                             1   \n",
       "\n",
       "  20.  Tremor  at  Rest  -  RLE 20.  Tremor  at  Rest  -  LLE  \\\n",
       "0                             0                             2   \n",
       "1                             0                             0   \n",
       "2                             0                             0   \n",
       "3                             1                             0   \n",
       "4                             1                             0   \n",
       "\n",
       "  21.  Action  or  Postural  Tremor  -  RUE  \\\n",
       "0                                         0   \n",
       "1                                         1   \n",
       "2                                         0   \n",
       "3                                         1   \n",
       "4                                         1   \n",
       "\n",
       "  21.  Action  or  Postural  Tremor  -  LUE 22.  Rigidity  -  neck  \\\n",
       "0                                         0                      0   \n",
       "1                                         1                      1   \n",
       "2                                         0                      2   \n",
       "3                                         1                      1   \n",
       "4                                         2                      3   \n",
       "\n",
       "  22.  Rigidity  -  RUE 22.  Rigidity  -  LUE 22.  Rigidity  -  RLE  \\\n",
       "0                     0                     1                     0   \n",
       "1                     0                     1                     1   \n",
       "2                     0                     0                     2   \n",
       "3                     1                     1                     1   \n",
       "4                     3                     3                     1   \n",
       "\n",
       "  22.  Rigidity  -  LLE 23.Finger  Taps  -  RUE 23.Finger  Taps  -  LUE  \\\n",
       "0                     0                       0                       1   \n",
       "1                     2                       1                       2   \n",
       "2                     2                       1                       1   \n",
       "3                     1                       1                       1   \n",
       "4                     1                       3                       4   \n",
       "\n",
       "  24.  Hand  Movements  -  RUE 24.  Hand  Movements  -  LUE  \\\n",
       "0                            0                            0   \n",
       "1                            0                            1   \n",
       "2                            0                            1   \n",
       "3                            2                            2   \n",
       "4                            2                            4   \n",
       "\n",
       "  25.  Rapid  Alternating  Movements  -  RUE  \\\n",
       "0                                          0   \n",
       "1                                          1   \n",
       "2                                          0   \n",
       "3                                          1   \n",
       "4                                          2   \n",
       "\n",
       "  25.  Rapid  Alternating  Movements  -  LUE 26.  Leg  Agility  -  RLE  \\\n",
       "0                                          1                         0   \n",
       "1                                          2                         1   \n",
       "2                                          0                         1   \n",
       "3                                          2                         1   \n",
       "4                                          3                         1   \n",
       "\n",
       "  26.  Leg  Agility  -  LLE 27.  Arising  from  Chair 28.  Posture 29.  Gait  \\\n",
       "0                         0                         0            0         0   \n",
       "1                         2                         0            1         0   \n",
       "2                         2                         0            3         0   \n",
       "3                         0                         0            1         1   \n",
       "4                         3                         1            2         1   \n",
       "\n",
       "  30.  Postural  Stability 31.  Body  Bradykinesia  and  Hypokinesia  \n",
       "0                        0                                         0  \n",
       "1                        1                                         1  \n",
       "2                        0                                         2  \n",
       "3                        0                                         1  \n",
       "4                        1                                         2  "
      ]
     },
     "execution_count": 745,
     "metadata": {},
     "output_type": "execute_result"
    }
   ],
   "source": [
    "data.head()"
   ]
  },
  {
   "cell_type": "code",
   "execution_count": 746,
   "metadata": {},
   "outputs": [
    {
     "data": {
      "text/plain": [
       "Index(['Participant  code', 'Age  (years)', 'Gender',\n",
       "       'Positive  history  of  Parkinson  disease  in  family', '18.  Speech',\n",
       "       '19.  Facial  Expression', '20.  Tremor  at  Rest  -  head',\n",
       "       '20.  Tremor  at  Rest  -  RUE', '20.  Tremor  at  Rest  -  LUE',\n",
       "       '20.  Tremor  at  Rest  -  RLE', '20.  Tremor  at  Rest  -  LLE',\n",
       "       '21.  Action  or  Postural  Tremor  -  RUE',\n",
       "       '21.  Action  or  Postural  Tremor  -  LUE', '22.  Rigidity  -  neck',\n",
       "       '22.  Rigidity  -  RUE', '22.  Rigidity  -  LUE',\n",
       "       '22.  Rigidity  -  RLE', '22.  Rigidity  -  LLE',\n",
       "       '23.Finger  Taps  -  RUE', '23.Finger  Taps  -  LUE',\n",
       "       '24.  Hand  Movements  -  RUE', '24.  Hand  Movements  -  LUE',\n",
       "       '25.  Rapid  Alternating  Movements  -  RUE',\n",
       "       '25.  Rapid  Alternating  Movements  -  LUE',\n",
       "       '26.  Leg  Agility  -  RLE', '26.  Leg  Agility  -  LLE',\n",
       "       '27.  Arising  from  Chair', '28.  Posture', '29.  Gait',\n",
       "       '30.  Postural  Stability',\n",
       "       '31.  Body  Bradykinesia  and  Hypokinesia'],\n",
       "      dtype='object')"
      ]
     },
     "execution_count": 746,
     "metadata": {},
     "output_type": "execute_result"
    }
   ],
   "source": [
    "data.columns"
   ]
  },
  {
   "cell_type": "code",
   "execution_count": 747,
   "metadata": {},
   "outputs": [
    {
     "data": {
      "text/plain": [
       "Participant  code                                        object\n",
       "Age  (years)                                              int64\n",
       "Gender                                                   object\n",
       "Positive  history  of  Parkinson  disease  in  family    object\n",
       "18.  Speech                                              object\n",
       "19.  Facial  Expression                                  object\n",
       "20.  Tremor  at  Rest  -  head                           object\n",
       "20.  Tremor  at  Rest  -  RUE                            object\n",
       "20.  Tremor  at  Rest  -  LUE                            object\n",
       "20.  Tremor  at  Rest  -  RLE                            object\n",
       "20.  Tremor  at  Rest  -  LLE                            object\n",
       "21.  Action  or  Postural  Tremor  -  RUE                object\n",
       "21.  Action  or  Postural  Tremor  -  LUE                object\n",
       "22.  Rigidity  -  neck                                   object\n",
       "22.  Rigidity  -  RUE                                    object\n",
       "22.  Rigidity  -  LUE                                    object\n",
       "22.  Rigidity  -  RLE                                    object\n",
       "22.  Rigidity  -  LLE                                    object\n",
       "23.Finger  Taps  -  RUE                                  object\n",
       "23.Finger  Taps  -  LUE                                  object\n",
       "24.  Hand  Movements  -  RUE                             object\n",
       "24.  Hand  Movements  -  LUE                             object\n",
       "25.  Rapid  Alternating  Movements  -  RUE               object\n",
       "25.  Rapid  Alternating  Movements  -  LUE               object\n",
       "26.  Leg  Agility  -  RLE                                object\n",
       "26.  Leg  Agility  -  LLE                                object\n",
       "27.  Arising  from  Chair                                object\n",
       "28.  Posture                                             object\n",
       "29.  Gait                                                object\n",
       "30.  Postural  Stability                                 object\n",
       "31.  Body  Bradykinesia  and  Hypokinesia                object\n",
       "dtype: object"
      ]
     },
     "execution_count": 747,
     "metadata": {},
     "output_type": "execute_result"
    }
   ],
   "source": [
    "data.dtypes"
   ]
  },
  {
   "cell_type": "markdown",
   "metadata": {},
   "source": [
    "## Data cleaning "
   ]
  },
  {
   "cell_type": "code",
   "execution_count": 748,
   "metadata": {},
   "outputs": [],
   "source": [
    "data.columns = data.columns.str.replace('\\d+', '')\n",
    "data.columns = data.columns.str.strip()\n",
    "data.columns = data.columns.str.replace('.','')\n",
    "data.columns = data.columns.str.replace(' ','_')\n",
    "data.columns = data.columns.str.replace('__','',1)\n",
    "data.columns = data.columns.str.replace('_','',1)"
   ]
  },
  {
   "cell_type": "markdown",
   "metadata": {},
   "source": [
    "## Data featuring "
   ]
  },
  {
   "cell_type": "code",
   "execution_count": 749,
   "metadata": {},
   "outputs": [],
   "source": [
    "data.drop(columns=['Participantcode'], inplace=True)"
   ]
  },
  {
   "cell_type": "code",
   "execution_count": 750,
   "metadata": {},
   "outputs": [
    {
     "data": {
      "text/plain": [
       "Age(years)                                            0\n",
       "Gender                                                0\n",
       "Positivehistory_of__Parkinson__disease__in__family    0\n",
       "Speech                                                0\n",
       "Facial_Expression                                     0\n",
       "Tremor_at__Rest__-__head                              0\n",
       "Tremor_at__Rest__-__RUE                               0\n",
       "Tremor_at__Rest__-__LUE                               0\n",
       "Tremor_at__Rest__-__RLE                               0\n",
       "Tremor_at__Rest__-__LLE                               0\n",
       "Action_or__Postural__Tremor__-__RUE                   0\n",
       "Action_or__Postural__Tremor__-__LUE                   0\n",
       "Rigidity_-__neck                                      0\n",
       "Rigidity_-__RUE                                       0\n",
       "Rigidity_-__LUE                                       0\n",
       "Rigidity_-__RLE                                       0\n",
       "Rigidity_-__LLE                                       0\n",
       "FingerTaps_-__RUE                                     0\n",
       "FingerTaps_-__LUE                                     0\n",
       "Hand_Movements__-__RUE                                0\n",
       "Hand_Movements__-__LUE                                0\n",
       "Rapid_Alternating__Movements__-__RUE                  0\n",
       "Rapid_Alternating__Movements__-__LUE                  0\n",
       "Leg_Agility__-__RLE                                   0\n",
       "Leg_Agility__-__LLE                                   0\n",
       "Arising_from__Chair                                   0\n",
       "Posture                                               0\n",
       "Gait                                                  0\n",
       "Postural_Stability                                    0\n",
       "Body_Bradykinesia__and__Hypokinesia                   0\n",
       "dtype: int64"
      ]
     },
     "execution_count": 750,
     "metadata": {},
     "output_type": "execute_result"
    }
   ],
   "source": [
    "data.isna().sum()"
   ]
  },
  {
   "cell_type": "code",
   "execution_count": 751,
   "metadata": {},
   "outputs": [
    {
     "data": {
      "text/plain": [
       "-    50\n",
       "0    44\n",
       "1    23\n",
       "2     9\n",
       "3     4\n",
       "Name: Posture, dtype: int64"
      ]
     },
     "execution_count": 751,
     "metadata": {},
     "output_type": "execute_result"
    }
   ],
   "source": [
    "data['Posture'].value_counts()"
   ]
  },
  {
   "cell_type": "markdown",
   "metadata": {},
   "source": [
    "Healthy controls patients did not attend the physical session, I replace the value '-' by 0"
   ]
  },
  {
   "cell_type": "code",
   "execution_count": 752,
   "metadata": {},
   "outputs": [],
   "source": [
    "data.replace('-',0,inplace=True)"
   ]
  },
  {
   "cell_type": "code",
   "execution_count": 753,
   "metadata": {},
   "outputs": [],
   "source": [
    "for col in  data.columns[3:]:\n",
    "    data[col] = pd.to_numeric(data[col], errors='coerce')"
   ]
  },
  {
   "cell_type": "code",
   "execution_count": 754,
   "metadata": {},
   "outputs": [
    {
     "data": {
      "text/plain": [
       "Age(years)                                             int64\n",
       "Gender                                                object\n",
       "Positivehistory_of__Parkinson__disease__in__family    object\n",
       "Speech                                                 int64\n",
       "Facial_Expression                                      int64\n",
       "Tremor_at__Rest__-__head                               int64\n",
       "Tremor_at__Rest__-__RUE                                int64\n",
       "Tremor_at__Rest__-__LUE                                int64\n",
       "Tremor_at__Rest__-__RLE                                int64\n",
       "Tremor_at__Rest__-__LLE                                int64\n",
       "Action_or__Postural__Tremor__-__RUE                    int64\n",
       "Action_or__Postural__Tremor__-__LUE                    int64\n",
       "Rigidity_-__neck                                       int64\n",
       "Rigidity_-__RUE                                        int64\n",
       "Rigidity_-__LUE                                        int64\n",
       "Rigidity_-__RLE                                        int64\n",
       "Rigidity_-__LLE                                        int64\n",
       "FingerTaps_-__RUE                                      int64\n",
       "FingerTaps_-__LUE                                      int64\n",
       "Hand_Movements__-__RUE                                 int64\n",
       "Hand_Movements__-__LUE                                 int64\n",
       "Rapid_Alternating__Movements__-__RUE                   int64\n",
       "Rapid_Alternating__Movements__-__LUE                   int64\n",
       "Leg_Agility__-__RLE                                    int64\n",
       "Leg_Agility__-__LLE                                    int64\n",
       "Arising_from__Chair                                    int64\n",
       "Posture                                                int64\n",
       "Gait                                                   int64\n",
       "Postural_Stability                                     int64\n",
       "Body_Bradykinesia__and__Hypokinesia                    int64\n",
       "dtype: object"
      ]
     },
     "execution_count": 754,
     "metadata": {},
     "output_type": "execute_result"
    }
   ],
   "source": [
    "data.dtypes"
   ]
  },
  {
   "cell_type": "code",
   "execution_count": 755,
   "metadata": {},
   "outputs": [],
   "source": [
    "#data = data[[i for i in list(data.columns) if i != 'Age(years)']].replace(2,1)"
   ]
  },
  {
   "cell_type": "code",
   "execution_count": 756,
   "metadata": {},
   "outputs": [],
   "source": [
    "#data = data[[i for i in list(data.columns) if i != 'Age(years)']].replace(3,1)"
   ]
  },
  {
   "cell_type": "code",
   "execution_count": 757,
   "metadata": {},
   "outputs": [],
   "source": [
    "cols = data.columns.values[data.dtypes == object]\n",
    "data = pd.get_dummies(data, columns=cols, drop_first=True)"
   ]
  },
  {
   "cell_type": "code",
   "execution_count": 758,
   "metadata": {
    "scrolled": false
   },
   "outputs": [
    {
     "data": {
      "text/plain": [
       "Age(years)                                                int64\n",
       "Speech                                                    int64\n",
       "Facial_Expression                                         int64\n",
       "Tremor_at__Rest__-__head                                  int64\n",
       "Tremor_at__Rest__-__RUE                                   int64\n",
       "Tremor_at__Rest__-__LUE                                   int64\n",
       "Tremor_at__Rest__-__RLE                                   int64\n",
       "Tremor_at__Rest__-__LLE                                   int64\n",
       "Action_or__Postural__Tremor__-__RUE                       int64\n",
       "Action_or__Postural__Tremor__-__LUE                       int64\n",
       "Rigidity_-__neck                                          int64\n",
       "Rigidity_-__RUE                                           int64\n",
       "Rigidity_-__LUE                                           int64\n",
       "Rigidity_-__RLE                                           int64\n",
       "Rigidity_-__LLE                                           int64\n",
       "FingerTaps_-__RUE                                         int64\n",
       "FingerTaps_-__LUE                                         int64\n",
       "Hand_Movements__-__RUE                                    int64\n",
       "Hand_Movements__-__LUE                                    int64\n",
       "Rapid_Alternating__Movements__-__RUE                      int64\n",
       "Rapid_Alternating__Movements__-__LUE                      int64\n",
       "Leg_Agility__-__RLE                                       int64\n",
       "Leg_Agility__-__LLE                                       int64\n",
       "Arising_from__Chair                                       int64\n",
       "Posture                                                   int64\n",
       "Gait                                                      int64\n",
       "Postural_Stability                                        int64\n",
       "Body_Bradykinesia__and__Hypokinesia                       int64\n",
       "Gender_M                                                  uint8\n",
       "Positivehistory_of__Parkinson__disease__in__family_No     uint8\n",
       "Positivehistory_of__Parkinson__disease__in__family_Yes    uint8\n",
       "dtype: object"
      ]
     },
     "execution_count": 758,
     "metadata": {},
     "output_type": "execute_result"
    }
   ],
   "source": [
    "data.dtypes"
   ]
  },
  {
   "cell_type": "code",
   "execution_count": 759,
   "metadata": {},
   "outputs": [],
   "source": [
    "from sklearn.decomposition import PCA\n",
    "import numpy as np\n",
    "\n",
    "pca = PCA()\n",
    "pca.fit(data)\n",
    "pca_x = pca.transform(data)\n",
    "pca_df = pd.DataFrame([pca_x[:, 0], pca_x[:, 1]]).T\n",
    "pca_df.columns = ['PC1', 'PC2']"
   ]
  },
  {
   "cell_type": "markdown",
   "metadata": {},
   "source": [
    "## Model KMeans "
   ]
  },
  {
   "cell_type": "code",
   "execution_count": 760,
   "metadata": {},
   "outputs": [
    {
     "data": {
      "image/png": "[encoded data removed]",
      "text/plain": [
       "<Figure size 432x288 with 2 Axes>"
      ]
     },
     "metadata": {},
     "output_type": "display_data"
    },
    {
     "data": {
      "text/plain": [
       "<matplotlib.axes._subplots.AxesSubplot at 0x21a02d5d710>"
      ]
     },
     "execution_count": 760,
     "metadata": {},
     "output_type": "execute_result"
    }
   ],
   "source": [
    "from yellowbrick.cluster import KElbowVisualizer\n",
    "from sklearn.cluster import KMeans\n",
    "model = KMeans()\n",
    "visualizer = KElbowVisualizer(model, k=(4,14))\n",
    "visualizer.fit(data)\n",
    "visualizer.poof()"
   ]
  },
  {
   "cell_type": "code",
   "execution_count": 761,
   "metadata": {},
   "outputs": [],
   "source": [
    "from sklearn.preprocessing import StandardScaler\n",
    "\n",
    "scaler = StandardScaler()\n",
    "data = pd.DataFrame(scaler.fit_transform(data), columns=data.columns)"
   ]
  },
  {
   "cell_type": "code",
   "execution_count": 762,
   "metadata": {},
   "outputs": [],
   "source": [
    "kmeans = KMeans(n_clusters=8)\n",
    "parkinson_clusters = kmeans.fit(data)\n",
    "data['Cluster'] = parkinson_clusters.fit_predict(data)"
   ]
  },
  {
   "cell_type": "code",
   "execution_count": 763,
   "metadata": {},
   "outputs": [
    {
     "data": {
      "text/plain": [
       "0    70\n",
       "1     5\n",
       "2     2\n",
       "3     5\n",
       "4     8\n",
       "5     1\n",
       "6     2\n",
       "7    37\n",
       "Name: Cluster, dtype: int64"
      ]
     },
     "execution_count": 763,
     "metadata": {},
     "output_type": "execute_result"
    }
   ],
   "source": [
    "data['Cluster'].value_counts(sort=False)"
   ]
  },
  {
   "cell_type": "markdown",
   "metadata": {},
   "source": [
    "data characterization"
   ]
  },
  {
   "cell_type": "code",
   "execution_count": 764,
   "metadata": {},
   "outputs": [
    {
     "data": {
      "text/plain": [
       "Age(years)                                                0.759746\n",
       "Speech                                                   -0.374634\n",
       "Facial_Expression                                         2.091977\n",
       "Tremor_at__Rest__-__head                                 -0.315440\n",
       "Tremor_at__Rest__-__RUE                                  -0.376412\n",
       "Tremor_at__Rest__-__LUE                                  -0.209072\n",
       "Tremor_at__Rest__-__RLE                                  -0.153695\n",
       "Tremor_at__Rest__-__LLE                                  -0.188365\n",
       "Action_or__Postural__Tremor__-__RUE                       1.199511\n",
       "Action_or__Postural__Tremor__-__LUE                       1.048645\n",
       "Rigidity_-__neck                                          1.222202\n",
       "Rigidity_-__RUE                                           0.402492\n",
       "Rigidity_-__LUE                                          -0.374634\n",
       "Rigidity_-__RLE                                           1.055266\n",
       "Rigidity_-__LLE                                          -0.271010\n",
       "FingerTaps_-__RUE                                         0.727607\n",
       "FingerTaps_-__LUE                                         0.686736\n",
       "Hand_Movements__-__RUE                                   -0.471888\n",
       "Hand_Movements__-__LUE                                    0.172043\n",
       "Rapid_Alternating__Movements__-__RUE                     -0.394181\n",
       "Rapid_Alternating__Movements__-__LUE                     -0.540229\n",
       "Leg_Agility__-__RLE                                       0.462296\n",
       "Leg_Agility__-__LLE                                      -0.489032\n",
       "Arising_from__Chair                                      -0.304034\n",
       "Posture                                                   2.119207\n",
       "Gait                                                      1.652527\n",
       "Postural_Stability                                        2.158945\n",
       "Body_Bradykinesia__and__Hypokinesia                       1.177759\n",
       "Gender_M                                                  0.511992\n",
       "Positivehistory_of__Parkinson__disease__in__family_No     0.829646\n",
       "Positivehistory_of__Parkinson__disease__in__family_Yes   -0.153695\n",
       "Cluster                                                   4.000000\n",
       "dtype: float64"
      ]
     },
     "execution_count": 764,
     "metadata": {},
     "output_type": "execute_result"
    }
   ],
   "source": [
    "data[data['Cluster']==4].median()"
   ]
  },
  {
   "cell_type": "code",
   "execution_count": 765,
   "metadata": {},
   "outputs": [
    {
     "data": {
      "text/plain": [
       "Age(years)                                               -0.120510\n",
       "Speech                                                   -0.331150\n",
       "Facial_Expression                                        -0.569317\n",
       "Tremor_at__Rest__-__head                                 -0.315440\n",
       "Tremor_at__Rest__-__RUE                                  -0.376412\n",
       "Tremor_at__Rest__-__LUE                                  -0.209072\n",
       "Tremor_at__Rest__-__RLE                                  -0.153695\n",
       "Tremor_at__Rest__-__LLE                                  -0.188365\n",
       "Action_or__Postural__Tremor__-__RUE                      -0.577315\n",
       "Action_or__Postural__Tremor__-__LUE                      -0.631060\n",
       "Rigidity_-__neck                                         -0.350929\n",
       "Rigidity_-__RUE                                          -0.391711\n",
       "Rigidity_-__LUE                                          -0.229687\n",
       "Rigidity_-__RLE                                          -0.316580\n",
       "Rigidity_-__LLE                                          -0.271010\n",
       "FingerTaps_-__RUE                                        -0.443494\n",
       "FingerTaps_-__LUE                                        -0.498816\n",
       "Hand_Movements__-__RUE                                   -0.407764\n",
       "Hand_Movements__-__LUE                                   -0.447005\n",
       "Rapid_Alternating__Movements__-__RUE                     -0.356640\n",
       "Rapid_Alternating__Movements__-__LUE                     -0.430780\n",
       "Leg_Agility__-__RLE                                      -0.421505\n",
       "Leg_Agility__-__LLE                                      -0.466881\n",
       "Arising_from__Chair                                      -0.304034\n",
       "Posture                                                  -0.523586\n",
       "Gait                                                     -0.517458\n",
       "Postural_Stability                                       -0.379159\n",
       "Body_Bradykinesia__and__Hypokinesia                      -0.417123\n",
       "Gender_M                                                 -0.016254\n",
       "Positivehistory_of__Parkinson__disease__in__family_No    -0.652982\n",
       "Positivehistory_of__Parkinson__disease__in__family_Yes   -0.058550\n",
       "Cluster                                                   0.000000\n",
       "dtype: float64"
      ]
     },
     "execution_count": 765,
     "metadata": {},
     "output_type": "execute_result"
    }
   ],
   "source": [
    "data[data['Cluster']==0].mean()"
   ]
  },
  {
   "cell_type": "code",
   "execution_count": 766,
   "metadata": {},
   "outputs": [
    {
     "data": {
      "text/plain": [
       "<seaborn.axisgrid.FacetGrid at 0x21a02fd3e10>"
      ]
     },
     "execution_count": 766,
     "metadata": {},
     "output_type": "execute_result"
    },
    {
     "data": {
      "image/png": "[encoded data removed]",
      "text/plain": [
       "<Figure size 401.625x360 with 1 Axes>"
      ]
     },
     "metadata": {
      "needs_background": "light"
     },
     "output_type": "display_data"
    }
   ],
   "source": [
    "pca_df = pd.concat([pca_df, data['Cluster']], axis=1)\n",
    "sns.lmplot('PC1', 'PC2', data=pca_df, hue='Cluster', fit_reg=False)"
   ]
  },
  {
   "cell_type": "code",
   "execution_count": 767,
   "metadata": {},
   "outputs": [],
   "source": [
    "data.drop(columns=['Cluster'], inplace=True)"
   ]
  },
  {
   "cell_type": "code",
   "execution_count": 768,
   "metadata": {},
   "outputs": [
    {
     "data": {
      "text/plain": [
       "0.2711391127679956"
      ]
     },
     "execution_count": 768,
     "metadata": {},
     "output_type": "execute_result"
    }
   ],
   "source": [
    "from sklearn.metrics import silhouette_score\n",
    "silhouette_score(data, kmeans.predict(data))"
   ]
  },
  {
   "cell_type": "markdown",
   "metadata": {},
   "source": [
    "## Model DBscan "
   ]
  },
  {
   "cell_type": "code",
   "execution_count": 769,
   "metadata": {},
   "outputs": [],
   "source": [
    "from sklearn.cluster import DBSCAN\n",
    "dbscan = DBSCAN(eps=0.5)\n",
    "dbscan.fit(data)\n",
    "data['Cluster2'] = dbscan.labels_"
   ]
  },
  {
   "cell_type": "code",
   "execution_count": 770,
   "metadata": {},
   "outputs": [
    {
     "data": {
      "text/plain": [
       "<seaborn.axisgrid.FacetGrid at 0x21a02fd30f0>"
      ]
     },
     "execution_count": 770,
     "metadata": {},
     "output_type": "execute_result"
    },
    {
     "data": {
      "image/png": "[encoded data removed]",
      "text/plain": [
       "<Figure size 405x360 with 1 Axes>"
      ]
     },
     "metadata": {
      "needs_background": "light"
     },
     "output_type": "display_data"
    }
   ],
   "source": [
    "pca_df = pd.concat([pca_df, data['Cluster2']], axis=1)\n",
    "sns.lmplot('PC1', 'PC2', data=pca_df, hue='Cluster2', fit_reg=False)"
   ]
  },
  {
   "cell_type": "code",
   "execution_count": 771,
   "metadata": {},
   "outputs": [],
   "source": [
    "data.drop(columns=['Cluster2'], inplace=True)"
   ]
  },
  {
   "cell_type": "code",
   "execution_count": 772,
   "metadata": {},
   "outputs": [
    {
     "data": {
      "text/plain": [
       "0.073098768535085"
      ]
     },
     "execution_count": 772,
     "metadata": {},
     "output_type": "execute_result"
    }
   ],
   "source": [
    "silhouette_score(data, dbscan.labels_, metric='euclidean')"
   ]
  },
  {
   "cell_type": "markdown",
   "metadata": {},
   "source": [
    "## Model Gaussian mixture "
   ]
  },
  {
   "cell_type": "code",
   "execution_count": 773,
   "metadata": {},
   "outputs": [
    {
     "data": {
      "text/plain": [
       "<seaborn.axisgrid.FacetGrid at 0x21a03064390>"
      ]
     },
     "execution_count": 773,
     "metadata": {},
     "output_type": "execute_result"
    },
    {
     "data": {
      "image/png": "[encoded data removed]",
      "text/plain": [
       "<Figure size 402.875x360 with 1 Axes>"
      ]
     },
     "metadata": {
      "needs_background": "light"
     },
     "output_type": "display_data"
    }
   ],
   "source": [
    "from sklearn.mixture import GaussianMixture\n",
    "gmm = GaussianMixture(n_components=3).fit(data)\n",
    "data['Cluster3']= gmm.predict(data)\n",
    "pca_df = pd.concat([pca_df, data['Cluster3']], axis=1)\n",
    "sns.lmplot('PC1', 'PC2', data=pca_df, hue='Cluster3', fit_reg=False)"
   ]
  },
  {
   "cell_type": "code",
   "execution_count": 774,
   "metadata": {},
   "outputs": [],
   "source": [
    "data.drop(columns=['Cluster3'], inplace=True)"
   ]
  },
  {
   "cell_type": "code",
   "execution_count": 775,
   "metadata": {},
   "outputs": [
    {
     "data": {
      "text/plain": [
       "0.2840327462997352"
      ]
     },
     "execution_count": 775,
     "metadata": {},
     "output_type": "execute_result"
    }
   ],
   "source": [
    "silhouette_score(data, gmm.predict(data), metric='euclidean')"
   ]
  },
  {
   "cell_type": "code",
   "execution_count": null,
   "metadata": {},
   "outputs": [],
   "source": []
  }
 ],
 "metadata": {
  "kernelspec": {
   "display_name": "Python 3",
   "language": "python",
   "name": "python3"
  },
  "language_info": {
   "codemirror_mode": {
    "name": "ipython",
    "version": 3
   },
   "file_extension": ".py",
   "mimetype": "text/x-python",
   "name": "python",
   "nbconvert_exporter": "python",
   "pygments_lexer": "ipython3",
   "version": "3.7.3"
  }
 },
 "nbformat": 4,
 "nbformat_minor": 2
}
