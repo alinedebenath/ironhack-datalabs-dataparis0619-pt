{
 "cells": [
  {
   "cell_type": "markdown",
   "metadata": {},
   "source": [
    "# Honeybees and Neonic Pesticides\n",
    "# Are Neonic pesticides connected to the decline of the production of honey?"
   ]
  },
  {
   "cell_type": "markdown",
   "metadata": {},
   "source": [
    "### Libraries"
   ]
  },
  {
   "cell_type": "code",
   "execution_count": 228,
   "metadata": {},
   "outputs": [
    {
     "data": {
      "text/html": [
       "        <script type=\"text/javascript\">\n",
       "        window.PlotlyConfig = {MathJaxConfig: 'local'};\n",
       "        if (window.MathJax) {MathJax.Hub.Config({SVG: {font: \"STIX-Web\"}});}\n",
       "        if (typeof require !== 'undefined') {\n",
       "        require.undef(\"plotly\");\n",
       "        requirejs.config({\n",
       "            paths: {\n",
       "                'plotly': ['https://cdn.plot.ly/plotly-latest.min']\n",
       "            }\n",
       "        });\n",
       "        require(['plotly'], function(Plotly) {\n",
       "            window._Plotly = Plotly;\n",
       "        });\n",
       "        }\n",
       "        </script>\n",
       "        "
      ]
     },
     "metadata": {},
     "output_type": "display_data"
    }
   ],
   "source": [
    "import pandas as pd\n",
    "import numpy as np\n",
    "import matplotlib.pyplot as plt\n",
    "import plotly as py\n",
    "import cufflinks as cf\n",
    "cf.go_offline()\n",
    "pd.set_option('display.max_columns', 30)"
   ]
  },
  {
   "cell_type": "markdown",
   "metadata": {},
   "source": [
    "## Data cleaning"
   ]
  },
  {
   "cell_type": "markdown",
   "metadata": {},
   "source": [
    "### Importing dataset"
   ]
  },
  {
   "cell_type": "code",
   "execution_count": 229,
   "metadata": {},
   "outputs": [],
   "source": [
    "data = pd.read_csv(\"./data/vHoneyNeonic_v03.csv\")"
   ]
  },
  {
   "cell_type": "code",
   "execution_count": 230,
   "metadata": {},
   "outputs": [
    {
     "data": {
      "text/html": [
       "<div>\n",
       "<style scoped>\n",
       "    .dataframe tbody tr th:only-of-type {\n",
       "        vertical-align: middle;\n",
       "    }\n",
       "\n",
       "    .dataframe tbody tr th {\n",
       "        vertical-align: top;\n",
       "    }\n",
       "\n",
       "    .dataframe thead th {\n",
       "        text-align: right;\n",
       "    }\n",
       "</style>\n",
       "<table border=\"1\" class=\"dataframe\">\n",
       "  <thead>\n",
       "    <tr style=\"text-align: right;\">\n",
       "      <th></th>\n",
       "      <th>state</th>\n",
       "      <th>numcol</th>\n",
       "      <th>yieldpercol</th>\n",
       "      <th>totalprod</th>\n",
       "      <th>stocks</th>\n",
       "      <th>priceperlb</th>\n",
       "      <th>prodvalue</th>\n",
       "      <th>year</th>\n",
       "      <th>StateName</th>\n",
       "      <th>Region</th>\n",
       "      <th>FIPS</th>\n",
       "      <th>nCLOTHIANIDIN</th>\n",
       "      <th>nIMIDACLOPRID</th>\n",
       "      <th>nTHIAMETHOXAM</th>\n",
       "      <th>nACETAMIPRID</th>\n",
       "      <th>nTHIACLOPRID</th>\n",
       "      <th>nAllNeonic</th>\n",
       "    </tr>\n",
       "  </thead>\n",
       "  <tbody>\n",
       "    <tr>\n",
       "      <td>0</td>\n",
       "      <td>AL</td>\n",
       "      <td>14000.0</td>\n",
       "      <td>66</td>\n",
       "      <td>924000.0</td>\n",
       "      <td>92000.0</td>\n",
       "      <td>0.81</td>\n",
       "      <td>748000.0</td>\n",
       "      <td>1997</td>\n",
       "      <td>Alabama</td>\n",
       "      <td>South</td>\n",
       "      <td>1</td>\n",
       "      <td>0.0</td>\n",
       "      <td>6704.8</td>\n",
       "      <td>0.0</td>\n",
       "      <td>0.0</td>\n",
       "      <td>0.0</td>\n",
       "      <td>6704.8</td>\n",
       "    </tr>\n",
       "    <tr>\n",
       "      <td>1</td>\n",
       "      <td>AL</td>\n",
       "      <td>15000.0</td>\n",
       "      <td>64</td>\n",
       "      <td>960000.0</td>\n",
       "      <td>96000.0</td>\n",
       "      <td>0.87</td>\n",
       "      <td>835000.0</td>\n",
       "      <td>1996</td>\n",
       "      <td>Alabama</td>\n",
       "      <td>South</td>\n",
       "      <td>1</td>\n",
       "      <td>0.0</td>\n",
       "      <td>371.6</td>\n",
       "      <td>0.0</td>\n",
       "      <td>0.0</td>\n",
       "      <td>0.0</td>\n",
       "      <td>371.6</td>\n",
       "    </tr>\n",
       "    <tr>\n",
       "      <td>2</td>\n",
       "      <td>AL</td>\n",
       "      <td>16000.0</td>\n",
       "      <td>58</td>\n",
       "      <td>928000.0</td>\n",
       "      <td>28000.0</td>\n",
       "      <td>0.69</td>\n",
       "      <td>640000.0</td>\n",
       "      <td>1995</td>\n",
       "      <td>Alabama</td>\n",
       "      <td>South</td>\n",
       "      <td>1</td>\n",
       "      <td>0.0</td>\n",
       "      <td>716.5</td>\n",
       "      <td>0.0</td>\n",
       "      <td>0.0</td>\n",
       "      <td>0.0</td>\n",
       "      <td>716.5</td>\n",
       "    </tr>\n",
       "    <tr>\n",
       "      <td>3</td>\n",
       "      <td>AL</td>\n",
       "      <td>18000.0</td>\n",
       "      <td>50</td>\n",
       "      <td>900000.0</td>\n",
       "      <td>99000.0</td>\n",
       "      <td>0.52</td>\n",
       "      <td>468000.0</td>\n",
       "      <td>1994</td>\n",
       "      <td>Alabama</td>\n",
       "      <td>South</td>\n",
       "      <td>1</td>\n",
       "      <td>NaN</td>\n",
       "      <td>NaN</td>\n",
       "      <td>NaN</td>\n",
       "      <td>NaN</td>\n",
       "      <td>NaN</td>\n",
       "      <td>NaN</td>\n",
       "    </tr>\n",
       "    <tr>\n",
       "      <td>4</td>\n",
       "      <td>AL</td>\n",
       "      <td>19000.0</td>\n",
       "      <td>45</td>\n",
       "      <td>855000.0</td>\n",
       "      <td>103000.0</td>\n",
       "      <td>0.59</td>\n",
       "      <td>504000.0</td>\n",
       "      <td>1993</td>\n",
       "      <td>Alabama</td>\n",
       "      <td>South</td>\n",
       "      <td>1</td>\n",
       "      <td>NaN</td>\n",
       "      <td>NaN</td>\n",
       "      <td>NaN</td>\n",
       "      <td>NaN</td>\n",
       "      <td>NaN</td>\n",
       "      <td>NaN</td>\n",
       "    </tr>\n",
       "  </tbody>\n",
       "</table>\n",
       "</div>"
      ],
      "text/plain": [
       "  state   numcol  yieldpercol  totalprod    stocks  priceperlb  prodvalue  \\\n",
       "0    AL  14000.0           66   924000.0   92000.0        0.81   748000.0   \n",
       "1    AL  15000.0           64   960000.0   96000.0        0.87   835000.0   \n",
       "2    AL  16000.0           58   928000.0   28000.0        0.69   640000.0   \n",
       "3    AL  18000.0           50   900000.0   99000.0        0.52   468000.0   \n",
       "4    AL  19000.0           45   855000.0  103000.0        0.59   504000.0   \n",
       "\n",
       "   year StateName Region  FIPS  nCLOTHIANIDIN  nIMIDACLOPRID  nTHIAMETHOXAM  \\\n",
       "0  1997   Alabama  South     1            0.0         6704.8            0.0   \n",
       "1  1996   Alabama  South     1            0.0          371.6            0.0   \n",
       "2  1995   Alabama  South     1            0.0          716.5            0.0   \n",
       "3  1994   Alabama  South     1            NaN            NaN            NaN   \n",
       "4  1993   Alabama  South     1            NaN            NaN            NaN   \n",
       "\n",
       "   nACETAMIPRID  nTHIACLOPRID  nAllNeonic  \n",
       "0           0.0           0.0      6704.8  \n",
       "1           0.0           0.0       371.6  \n",
       "2           0.0           0.0       716.5  \n",
       "3           NaN           NaN         NaN  \n",
       "4           NaN           NaN         NaN  "
      ]
     },
     "execution_count": 230,
     "metadata": {},
     "output_type": "execute_result"
    }
   ],
   "source": [
    "data.head()"
   ]
  },
  {
   "cell_type": "code",
   "execution_count": 231,
   "metadata": {},
   "outputs": [
    {
     "data": {
      "text/plain": [
       "(1132, 17)"
      ]
     },
     "execution_count": 231,
     "metadata": {},
     "output_type": "execute_result"
    }
   ],
   "source": [
    "data.shape"
   ]
  },
  {
   "cell_type": "code",
   "execution_count": 232,
   "metadata": {},
   "outputs": [
    {
     "data": {
      "text/plain": [
       "Index(['state', 'numcol', 'yieldpercol', 'totalprod', 'stocks', 'priceperlb',\n",
       "       'prodvalue', 'year', 'StateName', 'Region', 'FIPS', 'nCLOTHIANIDIN',\n",
       "       'nIMIDACLOPRID', 'nTHIAMETHOXAM', 'nACETAMIPRID', 'nTHIACLOPRID',\n",
       "       'nAllNeonic'],\n",
       "      dtype='object')"
      ]
     },
     "execution_count": 232,
     "metadata": {},
     "output_type": "execute_result"
    }
   ],
   "source": [
    "data.columns"
   ]
  },
  {
   "cell_type": "markdown",
   "metadata": {},
   "source": [
    "### I convert the columns using pounds to kg "
   ]
  },
  {
   "cell_type": "code",
   "execution_count": 233,
   "metadata": {},
   "outputs": [
    {
     "data": {
      "text/html": [
       "<div>\n",
       "<style scoped>\n",
       "    .dataframe tbody tr th:only-of-type {\n",
       "        vertical-align: middle;\n",
       "    }\n",
       "\n",
       "    .dataframe tbody tr th {\n",
       "        vertical-align: top;\n",
       "    }\n",
       "\n",
       "    .dataframe thead th {\n",
       "        text-align: right;\n",
       "    }\n",
       "</style>\n",
       "<table border=\"1\" class=\"dataframe\">\n",
       "  <thead>\n",
       "    <tr style=\"text-align: right;\">\n",
       "      <th></th>\n",
       "      <th>state</th>\n",
       "      <th>numcol</th>\n",
       "      <th>yieldpercol</th>\n",
       "      <th>yieldpercol_kg</th>\n",
       "      <th>totalprod</th>\n",
       "      <th>totalprod_kg</th>\n",
       "      <th>totalprod_to</th>\n",
       "      <th>stocks</th>\n",
       "      <th>stocks_to</th>\n",
       "      <th>priceperlb</th>\n",
       "      <th>priceperkg</th>\n",
       "      <th>pricepertonne</th>\n",
       "      <th>prodvalue</th>\n",
       "      <th>year</th>\n",
       "      <th>StateName</th>\n",
       "      <th>Region</th>\n",
       "      <th>FIPS</th>\n",
       "      <th>nCLOTHIANIDIN</th>\n",
       "      <th>nIMIDACLOPRID</th>\n",
       "      <th>nTHIAMETHOXAM</th>\n",
       "      <th>nACETAMIPRID</th>\n",
       "      <th>nTHIACLOPRID</th>\n",
       "      <th>nAllNeonic</th>\n",
       "    </tr>\n",
       "  </thead>\n",
       "  <tbody>\n",
       "    <tr>\n",
       "      <td>0</td>\n",
       "      <td>AL</td>\n",
       "      <td>14000.0</td>\n",
       "      <td>66</td>\n",
       "      <td>29.937096</td>\n",
       "      <td>924000.0</td>\n",
       "      <td>419119.34988</td>\n",
       "      <td>419.119350</td>\n",
       "      <td>92000.0</td>\n",
       "      <td>41.730498</td>\n",
       "      <td>0.81</td>\n",
       "      <td>1.785744</td>\n",
       "      <td>1785.744324</td>\n",
       "      <td>748000.0</td>\n",
       "      <td>1997</td>\n",
       "      <td>Alabama</td>\n",
       "      <td>South</td>\n",
       "      <td>1</td>\n",
       "      <td>0.0</td>\n",
       "      <td>6704.8</td>\n",
       "      <td>0.0</td>\n",
       "      <td>0.0</td>\n",
       "      <td>0.0</td>\n",
       "      <td>6704.8</td>\n",
       "    </tr>\n",
       "    <tr>\n",
       "      <td>1</td>\n",
       "      <td>AL</td>\n",
       "      <td>15000.0</td>\n",
       "      <td>64</td>\n",
       "      <td>29.029912</td>\n",
       "      <td>960000.0</td>\n",
       "      <td>435448.67520</td>\n",
       "      <td>435.448675</td>\n",
       "      <td>96000.0</td>\n",
       "      <td>43.544868</td>\n",
       "      <td>0.87</td>\n",
       "      <td>1.918022</td>\n",
       "      <td>1918.021681</td>\n",
       "      <td>835000.0</td>\n",
       "      <td>1996</td>\n",
       "      <td>Alabama</td>\n",
       "      <td>South</td>\n",
       "      <td>1</td>\n",
       "      <td>0.0</td>\n",
       "      <td>371.6</td>\n",
       "      <td>0.0</td>\n",
       "      <td>0.0</td>\n",
       "      <td>0.0</td>\n",
       "      <td>371.6</td>\n",
       "    </tr>\n",
       "    <tr>\n",
       "      <td>2</td>\n",
       "      <td>AL</td>\n",
       "      <td>16000.0</td>\n",
       "      <td>58</td>\n",
       "      <td>26.308357</td>\n",
       "      <td>928000.0</td>\n",
       "      <td>420933.71936</td>\n",
       "      <td>420.933719</td>\n",
       "      <td>28000.0</td>\n",
       "      <td>12.700586</td>\n",
       "      <td>0.69</td>\n",
       "      <td>1.521190</td>\n",
       "      <td>1521.189609</td>\n",
       "      <td>640000.0</td>\n",
       "      <td>1995</td>\n",
       "      <td>Alabama</td>\n",
       "      <td>South</td>\n",
       "      <td>1</td>\n",
       "      <td>0.0</td>\n",
       "      <td>716.5</td>\n",
       "      <td>0.0</td>\n",
       "      <td>0.0</td>\n",
       "      <td>0.0</td>\n",
       "      <td>716.5</td>\n",
       "    </tr>\n",
       "    <tr>\n",
       "      <td>3</td>\n",
       "      <td>AL</td>\n",
       "      <td>18000.0</td>\n",
       "      <td>50</td>\n",
       "      <td>22.679619</td>\n",
       "      <td>900000.0</td>\n",
       "      <td>408233.13300</td>\n",
       "      <td>408.233133</td>\n",
       "      <td>99000.0</td>\n",
       "      <td>44.905645</td>\n",
       "      <td>0.52</td>\n",
       "      <td>1.146404</td>\n",
       "      <td>1146.403763</td>\n",
       "      <td>468000.0</td>\n",
       "      <td>1994</td>\n",
       "      <td>Alabama</td>\n",
       "      <td>South</td>\n",
       "      <td>1</td>\n",
       "      <td>NaN</td>\n",
       "      <td>NaN</td>\n",
       "      <td>NaN</td>\n",
       "      <td>NaN</td>\n",
       "      <td>NaN</td>\n",
       "      <td>NaN</td>\n",
       "    </tr>\n",
       "    <tr>\n",
       "      <td>4</td>\n",
       "      <td>AL</td>\n",
       "      <td>19000.0</td>\n",
       "      <td>45</td>\n",
       "      <td>20.411657</td>\n",
       "      <td>855000.0</td>\n",
       "      <td>387821.47635</td>\n",
       "      <td>387.821476</td>\n",
       "      <td>103000.0</td>\n",
       "      <td>46.720014</td>\n",
       "      <td>0.59</td>\n",
       "      <td>1.300727</td>\n",
       "      <td>1300.727347</td>\n",
       "      <td>504000.0</td>\n",
       "      <td>1993</td>\n",
       "      <td>Alabama</td>\n",
       "      <td>South</td>\n",
       "      <td>1</td>\n",
       "      <td>NaN</td>\n",
       "      <td>NaN</td>\n",
       "      <td>NaN</td>\n",
       "      <td>NaN</td>\n",
       "      <td>NaN</td>\n",
       "      <td>NaN</td>\n",
       "    </tr>\n",
       "  </tbody>\n",
       "</table>\n",
       "</div>"
      ],
      "text/plain": [
       "  state   numcol  yieldpercol  yieldpercol_kg  totalprod  totalprod_kg  \\\n",
       "0    AL  14000.0           66       29.937096   924000.0  419119.34988   \n",
       "1    AL  15000.0           64       29.029912   960000.0  435448.67520   \n",
       "2    AL  16000.0           58       26.308357   928000.0  420933.71936   \n",
       "3    AL  18000.0           50       22.679619   900000.0  408233.13300   \n",
       "4    AL  19000.0           45       20.411657   855000.0  387821.47635   \n",
       "\n",
       "   totalprod_to    stocks  stocks_to  priceperlb  priceperkg  pricepertonne  \\\n",
       "0    419.119350   92000.0  41.730498        0.81    1.785744    1785.744324   \n",
       "1    435.448675   96000.0  43.544868        0.87    1.918022    1918.021681   \n",
       "2    420.933719   28000.0  12.700586        0.69    1.521190    1521.189609   \n",
       "3    408.233133   99000.0  44.905645        0.52    1.146404    1146.403763   \n",
       "4    387.821476  103000.0  46.720014        0.59    1.300727    1300.727347   \n",
       "\n",
       "   prodvalue  year StateName Region  FIPS  nCLOTHIANIDIN  nIMIDACLOPRID  \\\n",
       "0   748000.0  1997   Alabama  South     1            0.0         6704.8   \n",
       "1   835000.0  1996   Alabama  South     1            0.0          371.6   \n",
       "2   640000.0  1995   Alabama  South     1            0.0          716.5   \n",
       "3   468000.0  1994   Alabama  South     1            NaN            NaN   \n",
       "4   504000.0  1993   Alabama  South     1            NaN            NaN   \n",
       "\n",
       "   nTHIAMETHOXAM  nACETAMIPRID  nTHIACLOPRID  nAllNeonic  \n",
       "0            0.0           0.0           0.0      6704.8  \n",
       "1            0.0           0.0           0.0       371.6  \n",
       "2            0.0           0.0           0.0       716.5  \n",
       "3            NaN           NaN           NaN         NaN  \n",
       "4            NaN           NaN           NaN         NaN  "
      ]
     },
     "execution_count": 233,
     "metadata": {},
     "output_type": "execute_result"
    }
   ],
   "source": [
    "data.insert(loc=3, column='yieldpercol_kg', value=data[\"yieldpercol\"]*0.45359237)\n",
    "data.insert(loc=5, column='totalprod_kg', value=data[\"totalprod\"]*0.45359237)\n",
    "data.insert(loc=6, column='totalprod_to', value=data[\"totalprod\"]*0.00045359237)\n",
    "data.insert(loc=8, column='stocks_to', value=data[\"stocks\"]*0.00045359237)\n",
    "data.insert(loc=10, column='priceperkg', value=data[\"priceperlb\"]/0.45359237)\n",
    "data.insert(loc=11, column='pricepertonne', value=data[\"priceperlb\"]/0.00045359237)\n",
    "data.head()"
   ]
  },
  {
   "cell_type": "code",
   "execution_count": 237,
   "metadata": {},
   "outputs": [],
   "source": [
    "data = data.rename(columns={\"nCLOTHIANIDIN\": \"CLOTHIANIDIN\", \"nIMIDACLOPRID\": \"IMIDACLOPRID\",\n",
    "                     \"nTHIAMETHOXAM\": \"THIAMETHOXAM\", \"nACETAMIPRID\": \"ACETAMIPRID\",\n",
    "                    \"nTHIACLOPRID\": \"THIACLOPRID\",\"nAllNeonic\":\"AllNeonic\"})\n",
    "data.to_csv('./data/vHoneyNeonic_v04.csv')"
   ]
  },
  {
   "cell_type": "code",
   "execution_count": 235,
   "metadata": {},
   "outputs": [
    {
     "data": {
      "text/plain": [
       "state               0\n",
       "numcol              0\n",
       "yieldpercol         0\n",
       "yieldpercol_kg      0\n",
       "totalprod           0\n",
       "totalprod_kg        0\n",
       "totalprod_to        0\n",
       "stocks              0\n",
       "stocks_to           0\n",
       "priceperlb          0\n",
       "priceperkg          0\n",
       "pricepertonne       0\n",
       "prodvalue           0\n",
       "year                0\n",
       "StateName           0\n",
       "Region              0\n",
       "FIPS                0\n",
       "CLOTHIANIDIN      237\n",
       "IMIDACLOPRID      237\n",
       "THIAMETHOXAM      237\n",
       "ACETAMIPRID       237\n",
       "THIACLOPRID       237\n",
       "AllNeonic         237\n",
       "dtype: int64"
      ]
     },
     "execution_count": 235,
     "metadata": {},
     "output_type": "execute_result"
    }
   ],
   "source": [
    "data.isnull().sum()"
   ]
  },
  {
   "cell_type": "markdown",
   "metadata": {},
   "source": [
    "### Deleting rows with missing values because they concern Neonic pesticides features and I want to analyze their effects on the honey production. We already know that 237 honey producers that were'nt analyze or did'nt want to display this information"
   ]
  },
  {
   "cell_type": "code",
   "execution_count": 215,
   "metadata": {},
   "outputs": [],
   "source": [
    "data = data.dropna()"
   ]
  },
  {
   "cell_type": "code",
   "execution_count": 216,
   "metadata": {},
   "outputs": [
    {
     "data": {
      "text/plain": [
       "(895, 23)"
      ]
     },
     "execution_count": 216,
     "metadata": {},
     "output_type": "execute_result"
    }
   ],
   "source": [
    "data.shape"
   ]
  },
  {
   "cell_type": "markdown",
   "metadata": {},
   "source": [
    "## Data Analyse"
   ]
  },
  {
   "cell_type": "markdown",
   "metadata": {},
   "source": [
    "### Top 10 of States producing honey"
   ]
  },
  {
   "cell_type": "code",
   "execution_count": 217,
   "metadata": {},
   "outputs": [
    {
     "data": {
      "text/plain": [
       "StateName\n",
       "North Dakota    294351.964626\n",
       "California      227256.581256\n",
       "South Dakota    183088.477819\n",
       "Florida         171538.655302\n",
       "Montana         108165.904512\n",
       "Minnesota        95751.988530\n",
       "Texas            77622.355093\n",
       "Michigan         53207.292186\n",
       "Wisconsin        50328.795006\n",
       "Idaho            47393.598779\n",
       "Name: totalprod_to, dtype: float64"
      ]
     },
     "execution_count": 217,
     "metadata": {},
     "output_type": "execute_result"
    }
   ],
   "source": [
    "data.groupby(\"StateName\")['totalprod_to'].sum().sort_values(ascending=False)[:10]"
   ]
  },
  {
   "cell_type": "code",
   "execution_count": 218,
   "metadata": {},
   "outputs": [
    {
     "data": {
      "text/plain": [
       "Region\n",
       "Midwest      7.685361e+08\n",
       "West         5.204415e+08\n",
       "South        3.922662e+08\n",
       "Northeast    6.140779e+07\n",
       "Name: totalprod_kg, dtype: float64"
      ]
     },
     "execution_count": 218,
     "metadata": {},
     "output_type": "execute_result"
    }
   ],
   "source": [
    "data.groupby(\"Region\")['totalprod_kg'].sum().sort_values(ascending=False)"
   ]
  },
  {
   "cell_type": "markdown",
   "metadata": {},
   "source": [
    "### Evolution of the price of honey"
   ]
  },
  {
   "cell_type": "code",
   "execution_count": 219,
   "metadata": {},
   "outputs": [
    {
     "data": {
      "application/vnd.plotly.v1+json": {
       "config": {
        "linkText": "Export to plot.ly",
        "plotlyServerURL": "https://plot.ly",
        "showLink": true
       },
       "data": [
        {
         "line": {
          "color": "rgba(255, 153, 51, 1.0)",
          "dash": "solid",
          "shape": "linear",
          "width": 1.3
         },
         "mode": "lines",
         "name": "priceperkg",
         "text": "",
         "type": "scatter",
         "uid": "39325d14-a06d-4227-b3e4-2f2dba543ae9",
         "x": [
          1994,
          1995,
          1996,
          1997,
          1998,
          1999,
          2000,
          2001,
          2002,
          2003,
          2004,
          2005,
          2006,
          2007,
          2008,
          2009,
          2010,
          2011,
          2012,
          2013,
          2014,
          2015,
          2016
         ],
         "y": [
          1.2814368989496006,
          1.7505753437775398,
          2.1951742391837095,
          2.0161798786955125,
          1.8387602486514907,
          1.7731464801440864,
          1.7432266017047107,
          2.0123590211061506,
          3.03673948586286,
          3.297705279937517,
          2.8153030881008867,
          2.621847453033656,
          2.879237144134501,
          3.1564684388319852,
          3.5858186944370347,
          3.9977156876191136,
          4.206306904917112,
          4.694150320982623,
          5.117550921947939,
          5.784813726961616,
          6.247561337608377,
          6.508724325119693,
          6.672873941601693
         ]
        }
       ],
       "layout": {
        "legend": {
         "bgcolor": "#F5F6F9",
         "font": {
          "color": "#4D5663"
         }
        },
        "paper_bgcolor": "#F5F6F9",
        "plot_bgcolor": "#F5F6F9",
        "title": {
         "font": {
          "color": "#4D5663"
         },
         "text": "Evolution of the price of honey"
        },
        "xaxis": {
         "gridcolor": "#E1E5ED",
         "showgrid": true,
         "tickfont": {
          "color": "#4D5663"
         },
         "title": {
          "font": {
           "color": "#4D5663"
          },
          "text": "Year"
         },
         "zerolinecolor": "#E1E5ED"
        },
        "yaxis": {
         "gridcolor": "#E1E5ED",
         "showgrid": true,
         "tickfont": {
          "color": "#4D5663"
         },
         "title": {
          "font": {
           "color": "#4D5663"
          },
          "text": "Price of honey (dollars)"
         },
         "zerolinecolor": "#E1E5ED"
        }
       }
      },
      "text/html": [
       "<div>\n",
       "        \n",
       "        \n",
       "            <div id=\"622d9737-6332-4821-858a-8e8b70c730f3\" class=\"plotly-graph-div\" style=\"height:525px; width:100%;\"></div>\n",
       "            <script type=\"text/javascript\">\n",
       "                require([\"plotly\"], function(Plotly) {\n",
       "                    window.PLOTLYENV=window.PLOTLYENV || {};\n",
       "                    window.PLOTLYENV.BASE_URL='https://plot.ly';\n",
       "                    \n",
       "                if (document.getElementById(\"622d9737-6332-4821-858a-8e8b70c730f3\")) {\n",
       "                    Plotly.newPlot(\n",
       "                        '622d9737-6332-4821-858a-8e8b70c730f3',\n",
       "                        [{\"line\": {\"color\": \"rgba(255, 153, 51, 1.0)\", \"dash\": \"solid\", \"shape\": \"linear\", \"width\": 1.3}, \"mode\": \"lines\", \"name\": \"priceperkg\", \"text\": \"\", \"type\": \"scatter\", \"uid\": \"39325d14-a06d-4227-b3e4-2f2dba543ae9\", \"x\": [1994, 1995, 1996, 1997, 1998, 1999, 2000, 2001, 2002, 2003, 2004, 2005, 2006, 2007, 2008, 2009, 2010, 2011, 2012, 2013, 2014, 2015, 2016], \"y\": [1.2814368989496006, 1.7505753437775398, 2.1951742391837095, 2.0161798786955125, 1.8387602486514907, 1.7731464801440864, 1.7432266017047107, 2.0123590211061506, 3.03673948586286, 3.297705279937517, 2.8153030881008867, 2.621847453033656, 2.879237144134501, 3.1564684388319852, 3.5858186944370347, 3.9977156876191136, 4.206306904917112, 4.694150320982623, 5.117550921947939, 5.784813726961616, 6.247561337608377, 6.508724325119693, 6.672873941601693]}],\n",
       "                        {\"legend\": {\"bgcolor\": \"#F5F6F9\", \"font\": {\"color\": \"#4D5663\"}}, \"paper_bgcolor\": \"#F5F6F9\", \"plot_bgcolor\": \"#F5F6F9\", \"title\": {\"font\": {\"color\": \"#4D5663\"}, \"text\": \"Evolution of the price of honey\"}, \"xaxis\": {\"gridcolor\": \"#E1E5ED\", \"showgrid\": true, \"tickfont\": {\"color\": \"#4D5663\"}, \"title\": {\"font\": {\"color\": \"#4D5663\"}, \"text\": \"Year\"}, \"zerolinecolor\": \"#E1E5ED\"}, \"yaxis\": {\"gridcolor\": \"#E1E5ED\", \"showgrid\": true, \"tickfont\": {\"color\": \"#4D5663\"}, \"title\": {\"font\": {\"color\": \"#4D5663\"}, \"text\": \"Price of honey (dollars)\"}, \"zerolinecolor\": \"#E1E5ED\"}},\n",
       "                        {\"showLink\": true, \"linkText\": \"Export to plot.ly\", \"plotlyServerURL\": \"https://plot.ly\", \"responsive\": true}\n",
       "                    ).then(function(){\n",
       "                            \n",
       "var gd = document.getElementById('622d9737-6332-4821-858a-8e8b70c730f3');\n",
       "var x = new MutationObserver(function (mutations, observer) {{\n",
       "        var display = window.getComputedStyle(gd).display;\n",
       "        if (!display || display === 'none') {{\n",
       "            console.log([gd, 'removed!']);\n",
       "            Plotly.purge(gd);\n",
       "            observer.disconnect();\n",
       "        }}\n",
       "}});\n",
       "\n",
       "// Listen for the removal of the full notebook cells\n",
       "var notebookContainer = gd.closest('#notebook-container');\n",
       "if (notebookContainer) {{\n",
       "    x.observe(notebookContainer, {childList: true});\n",
       "}}\n",
       "\n",
       "// Listen for the clearing of the current output cell\n",
       "var outputEl = gd.closest('.output');\n",
       "if (outputEl) {{\n",
       "    x.observe(outputEl, {childList: true});\n",
       "}}\n",
       "\n",
       "                        })\n",
       "                };\n",
       "                });\n",
       "            </script>\n",
       "        </div>"
      ]
     },
     "metadata": {},
     "output_type": "display_data"
    }
   ],
   "source": [
    "evo_price = data.groupby(\"year\", as_index=False).agg({'priceperkg':'mean'})\n",
    "evo_price.iplot(kind='line', x='year', xTitle='Year', color='orange',\n",
    "           yTitle='Price of honey (dollars)', title='Evolution of the price of honey')"
   ]
  },
  {
   "cell_type": "markdown",
   "metadata": {},
   "source": [
    "The price of honey has seen a five-fold increase in 12 years !"
   ]
  },
  {
   "cell_type": "markdown",
   "metadata": {},
   "source": [
    "### Production by year "
   ]
  },
  {
   "cell_type": "code",
   "execution_count": 220,
   "metadata": {},
   "outputs": [
    {
     "data": {
      "application/vnd.plotly.v1+json": {
       "config": {
        "linkText": "Export to plot.ly",
        "plotlyServerURL": "https://plot.ly",
        "showLink": true
       },
       "data": [
        {
         "marker": {
          "color": "rgba(219, 64, 82, 0.6)",
          "line": {
           "color": "rgba(219, 64, 82, 1.0)",
           "width": 1
          }
         },
         "name": "totalprod_to",
         "orientation": "v",
         "text": "",
         "type": "bar",
         "uid": "bd1ad2e0-a631-47bc-8c85-af58485d676b",
         "x": [
          1994,
          1995,
          1996,
          1997,
          1998,
          1999,
          2000,
          2001,
          2002,
          2003,
          2004,
          2005,
          2006,
          2007,
          2008,
          2009,
          2010,
          2011,
          2012,
          2013,
          2014,
          2015,
          2016
         ],
         "y": [
          3908.4920541975,
          2003.2151033766659,
          1910.3582653466663,
          2095.0459586649995,
          2360.570292208333,
          2178.8309492949993,
          2362.719456056666,
          1952.0505872846504,
          1796.5738909723261,
          1904.813688846046,
          2063.403030939251,
          1959.4056403074997,
          1738.4834764989998,
          1663.5613567842497,
          1837.8655647659998,
          1676.1750046066663,
          2029.8142251764098,
          1704.286100973077,
          1630.106302617692,
          1756.178353585526,
          2040.8283783658978,
          1790.503542993846,
          1905.714978746765
         ]
        }
       ],
       "layout": {
        "legend": {
         "bgcolor": "#F5F6F9",
         "font": {
          "color": "#4D5663"
         }
        },
        "paper_bgcolor": "#F5F6F9",
        "plot_bgcolor": "#F5F6F9",
        "title": {
         "font": {
          "color": "#4D5663"
         },
         "text": "Evolution of the production of honey"
        },
        "xaxis": {
         "gridcolor": "#E1E5ED",
         "showgrid": true,
         "tickfont": {
          "color": "#4D5663"
         },
         "title": {
          "font": {
           "color": "#4D5663"
          },
          "text": "Year"
         },
         "zerolinecolor": "#E1E5ED"
        },
        "yaxis": {
         "gridcolor": "#E1E5ED",
         "showgrid": true,
         "tickfont": {
          "color": "#4D5663"
         },
         "title": {
          "font": {
           "color": "#4D5663"
          },
          "text": "Production of honey (Tonne)"
         },
         "zerolinecolor": "#E1E5ED"
        }
       }
      },
      "text/html": [
       "<div>\n",
       "        \n",
       "        \n",
       "            <div id=\"c8e4919d-d921-4695-8ef9-205ea77a081f\" class=\"plotly-graph-div\" style=\"height:525px; width:100%;\"></div>\n",
       "            <script type=\"text/javascript\">\n",
       "                require([\"plotly\"], function(Plotly) {\n",
       "                    window.PLOTLYENV=window.PLOTLYENV || {};\n",
       "                    window.PLOTLYENV.BASE_URL='https://plot.ly';\n",
       "                    \n",
       "                if (document.getElementById(\"c8e4919d-d921-4695-8ef9-205ea77a081f\")) {\n",
       "                    Plotly.newPlot(\n",
       "                        'c8e4919d-d921-4695-8ef9-205ea77a081f',\n",
       "                        [{\"marker\": {\"color\": \"rgba(219, 64, 82, 0.6)\", \"line\": {\"color\": \"rgba(219, 64, 82, 1.0)\", \"width\": 1}}, \"name\": \"totalprod_to\", \"orientation\": \"v\", \"text\": \"\", \"type\": \"bar\", \"uid\": \"bd1ad2e0-a631-47bc-8c85-af58485d676b\", \"x\": [1994, 1995, 1996, 1997, 1998, 1999, 2000, 2001, 2002, 2003, 2004, 2005, 2006, 2007, 2008, 2009, 2010, 2011, 2012, 2013, 2014, 2015, 2016], \"y\": [3908.4920541975, 2003.2151033766659, 1910.3582653466663, 2095.0459586649995, 2360.570292208333, 2178.8309492949993, 2362.719456056666, 1952.0505872846504, 1796.5738909723261, 1904.813688846046, 2063.403030939251, 1959.4056403074997, 1738.4834764989998, 1663.5613567842497, 1837.8655647659998, 1676.1750046066663, 2029.8142251764098, 1704.286100973077, 1630.106302617692, 1756.178353585526, 2040.8283783658978, 1790.503542993846, 1905.714978746765]}],\n",
       "                        {\"legend\": {\"bgcolor\": \"#F5F6F9\", \"font\": {\"color\": \"#4D5663\"}}, \"paper_bgcolor\": \"#F5F6F9\", \"plot_bgcolor\": \"#F5F6F9\", \"title\": {\"font\": {\"color\": \"#4D5663\"}, \"text\": \"Evolution of the production of honey\"}, \"xaxis\": {\"gridcolor\": \"#E1E5ED\", \"showgrid\": true, \"tickfont\": {\"color\": \"#4D5663\"}, \"title\": {\"font\": {\"color\": \"#4D5663\"}, \"text\": \"Year\"}, \"zerolinecolor\": \"#E1E5ED\"}, \"yaxis\": {\"gridcolor\": \"#E1E5ED\", \"showgrid\": true, \"tickfont\": {\"color\": \"#4D5663\"}, \"title\": {\"font\": {\"color\": \"#4D5663\"}, \"text\": \"Production of honey (Tonne)\"}, \"zerolinecolor\": \"#E1E5ED\"}},\n",
       "                        {\"showLink\": true, \"linkText\": \"Export to plot.ly\", \"plotlyServerURL\": \"https://plot.ly\", \"responsive\": true}\n",
       "                    ).then(function(){\n",
       "                            \n",
       "var gd = document.getElementById('c8e4919d-d921-4695-8ef9-205ea77a081f');\n",
       "var x = new MutationObserver(function (mutations, observer) {{\n",
       "        var display = window.getComputedStyle(gd).display;\n",
       "        if (!display || display === 'none') {{\n",
       "            console.log([gd, 'removed!']);\n",
       "            Plotly.purge(gd);\n",
       "            observer.disconnect();\n",
       "        }}\n",
       "}});\n",
       "\n",
       "// Listen for the removal of the full notebook cells\n",
       "var notebookContainer = gd.closest('#notebook-container');\n",
       "if (notebookContainer) {{\n",
       "    x.observe(notebookContainer, {childList: true});\n",
       "}}\n",
       "\n",
       "// Listen for the clearing of the current output cell\n",
       "var outputEl = gd.closest('.output');\n",
       "if (outputEl) {{\n",
       "    x.observe(outputEl, {childList: true});\n",
       "}}\n",
       "\n",
       "                        })\n",
       "                };\n",
       "                });\n",
       "            </script>\n",
       "        </div>"
      ]
     },
     "metadata": {},
     "output_type": "display_data"
    }
   ],
   "source": [
    "prod_by_year = data.groupby(\"year\", as_index=False).agg({'totalprod_to':'mean'})\n",
    "prod_by_year.iplot(kind='bar', x='year', xTitle='Year', color='red',\n",
    "           yTitle='Production of honey (Tonne)', title='Evolution of the production of honey')"
   ]
  },
  {
   "cell_type": "markdown",
   "metadata": {},
   "source": [
    "### Is there a correlation between the price and the production ? "
   ]
  },
  {
   "cell_type": "code",
   "execution_count": 221,
   "metadata": {},
   "outputs": [
    {
     "data": {
      "text/plain": [
       "-0.23140516338289166"
      ]
     },
     "execution_count": 221,
     "metadata": {},
     "output_type": "execute_result"
    }
   ],
   "source": [
    "data['priceperkg'].corr(data['totalprod_kg'])"
   ]
  },
  {
   "cell_type": "markdown",
   "metadata": {},
   "source": [
    "The production only has a 23% impact on the price of honey ! Other features should enter into account... The market ?"
   ]
  },
  {
   "cell_type": "markdown",
   "metadata": {},
   "source": [
    "### Use of Neonic by state"
   ]
  },
  {
   "cell_type": "code",
   "execution_count": 222,
   "metadata": {},
   "outputs": [
    {
     "data": {
      "text/plain": [
       "StateName\n",
       "California        1993527.1\n",
       "Illinois          1978523.1\n",
       "Iowa              1974038.9\n",
       "Minnesota         1288217.3\n",
       "Nebraska          1231300.7\n",
       "Texas             1146020.6\n",
       "Indiana           1135627.8\n",
       "South Dakota       834293.9\n",
       "Missouri           753323.4\n",
       "Kansas             721914.5\n",
       "North Dakota       683578.0\n",
       "Ohio               683522.8\n",
       "Florida            665890.4\n",
       "Michigan           550048.4\n",
       "Wisconsin          535772.7\n",
       "Mississippi        501019.2\n",
       "Arkansas           481926.0\n",
       "Washington         476307.3\n",
       "Georgia            455796.9\n",
       "North Carolina     424006.2\n",
       "Tennessee          381524.2\n",
       "Louisiana          361382.7\n",
       "Idaho              326371.6\n",
       "Kentucky           326303.3\n",
       "New York           274042.0\n",
       "Pennsylvania       265164.6\n",
       "Arizona            242326.7\n",
       "Alabama            185986.5\n",
       "Colorado           172937.9\n",
       "Virginia           146227.4\n",
       "Oregon             116928.4\n",
       "Montana             93737.8\n",
       "Maine               85701.7\n",
       "New Mexico          46606.7\n",
       "South Carolina      41571.0\n",
       "New Jersey          36659.7\n",
       "West Virginia       15852.8\n",
       "Wyoming             13265.8\n",
       "Vermont             11965.7\n",
       "Utah                 8787.6\n",
       "Maryland             3976.9\n",
       "Oklahoma             2438.2\n",
       "Nevada               2303.3\n",
       "Name: AllNeonic, dtype: float64"
      ]
     },
     "execution_count": 222,
     "metadata": {},
     "output_type": "execute_result"
    }
   ],
   "source": [
    "data.groupby(\"StateName\")['AllNeonic'].sum().sort_values(ascending=False)"
   ]
  },
  {
   "cell_type": "markdown",
   "metadata": {},
   "source": [
    "### Evolution of the use of Neonic pesticides "
   ]
  },
  {
   "cell_type": "code",
   "execution_count": 223,
   "metadata": {
    "scrolled": true
   },
   "outputs": [
    {
     "data": {
      "application/vnd.plotly.v1+json": {
       "config": {
        "linkText": "Export to plot.ly",
        "plotlyServerURL": "https://plot.ly",
        "showLink": true
       },
       "data": [
        {
         "marker": {
          "color": "rgba(0, 128, 0, 0.6)",
          "line": {
           "color": "rgba(0, 128, 0, 1.0)",
           "width": 1
          }
         },
         "name": "AllNeonic",
         "orientation": "v",
         "text": "",
         "type": "bar",
         "uid": "e3eff136-baee-472a-8c16-59a542e326b6",
         "x": [
          1994,
          1995,
          1996,
          1997,
          1998,
          1999,
          2000,
          2001,
          2002,
          2003,
          2004,
          2005,
          2006,
          2007,
          2008,
          2009,
          2010,
          2011,
          2012,
          2013,
          2014,
          2015,
          2016
         ],
         "y": [
          1400.9,
          1955.5714285714282,
          2404.821428571429,
          4426.159523809523,
          3960.104761904764,
          3338.757142857143,
          3189.266666666667,
          3341.637209302326,
          3924.3302325581385,
          4727.06976744186,
          15103.232500000002,
          18148.410000000003,
          19615.942500000005,
          25999.445,
          30648.5925,
          37637.951282051275,
          43816.91794871796,
          57627.341025641035,
          70066.00769230768,
          81172.0947368421,
          89191.76666666666,
          20540.230769230766,
          12905.305882352943
         ]
        }
       ],
       "layout": {
        "legend": {
         "bgcolor": "#F5F6F9",
         "font": {
          "color": "#4D5663"
         }
        },
        "paper_bgcolor": "#F5F6F9",
        "plot_bgcolor": "#F5F6F9",
        "title": {
         "font": {
          "color": "#4D5663"
         },
         "text": "Evolution of the use of Neonic pesticides"
        },
        "xaxis": {
         "gridcolor": "#E1E5ED",
         "showgrid": true,
         "tickfont": {
          "color": "#4D5663"
         },
         "title": {
          "font": {
           "color": "#4D5663"
          },
          "text": "Year"
         },
         "zerolinecolor": "#E1E5ED"
        },
        "yaxis": {
         "gridcolor": "#E1E5ED",
         "showgrid": true,
         "tickfont": {
          "color": "#4D5663"
         },
         "title": {
          "font": {
           "color": "#4D5663"
          },
          "text": "Use of Neonic pesticides (kg)"
         },
         "zerolinecolor": "#E1E5ED"
        }
       }
      },
      "text/html": [
       "<div>\n",
       "        \n",
       "        \n",
       "            <div id=\"57ad7ef6-9a58-4450-9160-bfe5b1450108\" class=\"plotly-graph-div\" style=\"height:525px; width:100%;\"></div>\n",
       "            <script type=\"text/javascript\">\n",
       "                require([\"plotly\"], function(Plotly) {\n",
       "                    window.PLOTLYENV=window.PLOTLYENV || {};\n",
       "                    window.PLOTLYENV.BASE_URL='https://plot.ly';\n",
       "                    \n",
       "                if (document.getElementById(\"57ad7ef6-9a58-4450-9160-bfe5b1450108\")) {\n",
       "                    Plotly.newPlot(\n",
       "                        '57ad7ef6-9a58-4450-9160-bfe5b1450108',\n",
       "                        [{\"marker\": {\"color\": \"rgba(0, 128, 0, 0.6)\", \"line\": {\"color\": \"rgba(0, 128, 0, 1.0)\", \"width\": 1}}, \"name\": \"AllNeonic\", \"orientation\": \"v\", \"text\": \"\", \"type\": \"bar\", \"uid\": \"e3eff136-baee-472a-8c16-59a542e326b6\", \"x\": [1994, 1995, 1996, 1997, 1998, 1999, 2000, 2001, 2002, 2003, 2004, 2005, 2006, 2007, 2008, 2009, 2010, 2011, 2012, 2013, 2014, 2015, 2016], \"y\": [1400.9, 1955.5714285714282, 2404.821428571429, 4426.159523809523, 3960.104761904764, 3338.757142857143, 3189.266666666667, 3341.637209302326, 3924.3302325581385, 4727.06976744186, 15103.232500000002, 18148.410000000003, 19615.942500000005, 25999.445, 30648.5925, 37637.951282051275, 43816.91794871796, 57627.341025641035, 70066.00769230768, 81172.0947368421, 89191.76666666666, 20540.230769230766, 12905.305882352943]}],\n",
       "                        {\"legend\": {\"bgcolor\": \"#F5F6F9\", \"font\": {\"color\": \"#4D5663\"}}, \"paper_bgcolor\": \"#F5F6F9\", \"plot_bgcolor\": \"#F5F6F9\", \"title\": {\"font\": {\"color\": \"#4D5663\"}, \"text\": \"Evolution of the use of Neonic pesticides\"}, \"xaxis\": {\"gridcolor\": \"#E1E5ED\", \"showgrid\": true, \"tickfont\": {\"color\": \"#4D5663\"}, \"title\": {\"font\": {\"color\": \"#4D5663\"}, \"text\": \"Year\"}, \"zerolinecolor\": \"#E1E5ED\"}, \"yaxis\": {\"gridcolor\": \"#E1E5ED\", \"showgrid\": true, \"tickfont\": {\"color\": \"#4D5663\"}, \"title\": {\"font\": {\"color\": \"#4D5663\"}, \"text\": \"Use of Neonic pesticides (kg)\"}, \"zerolinecolor\": \"#E1E5ED\"}},\n",
       "                        {\"showLink\": true, \"linkText\": \"Export to plot.ly\", \"plotlyServerURL\": \"https://plot.ly\", \"responsive\": true}\n",
       "                    ).then(function(){\n",
       "                            \n",
       "var gd = document.getElementById('57ad7ef6-9a58-4450-9160-bfe5b1450108');\n",
       "var x = new MutationObserver(function (mutations, observer) {{\n",
       "        var display = window.getComputedStyle(gd).display;\n",
       "        if (!display || display === 'none') {{\n",
       "            console.log([gd, 'removed!']);\n",
       "            Plotly.purge(gd);\n",
       "            observer.disconnect();\n",
       "        }}\n",
       "}});\n",
       "\n",
       "// Listen for the removal of the full notebook cells\n",
       "var notebookContainer = gd.closest('#notebook-container');\n",
       "if (notebookContainer) {{\n",
       "    x.observe(notebookContainer, {childList: true});\n",
       "}}\n",
       "\n",
       "// Listen for the clearing of the current output cell\n",
       "var outputEl = gd.closest('.output');\n",
       "if (outputEl) {{\n",
       "    x.observe(outputEl, {childList: true});\n",
       "}}\n",
       "\n",
       "                        })\n",
       "                };\n",
       "                });\n",
       "            </script>\n",
       "        </div>"
      ]
     },
     "metadata": {},
     "output_type": "display_data"
    }
   ],
   "source": [
    "evo_neonic = data.groupby(\"year\", as_index=False).agg({'AllNeonic':'mean'})\n",
    "evo_neonic.iplot(kind='bar', x='year', xTitle='Year', color='green',\n",
    "           yTitle='Use of Neonic pesticides (kg)', title='Evolution of the use of Neonic pesticides')"
   ]
  },
  {
   "cell_type": "markdown",
   "metadata": {},
   "source": [
    "There is an 4460% increase of use of Neonic between 1995 and 2014 !"
   ]
  },
  {
   "cell_type": "markdown",
   "metadata": {},
   "source": [
    "### Is there a correlation between the production and the use of Neonic ?"
   ]
  },
  {
   "cell_type": "code",
   "execution_count": 224,
   "metadata": {},
   "outputs": [
    {
     "data": {
      "text/plain": [
       "0.11863126185912874"
      ]
     },
     "execution_count": 224,
     "metadata": {},
     "output_type": "execute_result"
    }
   ],
   "source": [
    "data['totalprod_kg'].corr(data['AllNeonic'])"
   ]
  },
  {
   "cell_type": "markdown",
   "metadata": {},
   "source": [
    "The correlation is low between the production of honey and the use of Neonic pesticides (11%)"
   ]
  },
  {
   "cell_type": "code",
   "execution_count": 225,
   "metadata": {},
   "outputs": [
    {
     "data": {
      "application/vnd.plotly.v1+json": {
       "config": {
        "linkText": "Export to plot.ly",
        "plotlyServerURL": "https://plot.ly",
        "showLink": true
       },
       "data": [
        {
         "line": {
          "color": "rgba(128, 0, 128, 1.0)",
          "dash": "solid",
          "shape": "linear",
          "width": 1.3
         },
         "mode": "lines",
         "name": "numcol",
         "text": "",
         "type": "scatter",
         "uid": "a3777f1e-6647-4641-a887-8d5d4bfbcedd",
         "x": [
          1994,
          1995,
          1996,
          1997,
          1998,
          1999,
          2000,
          2001,
          2002,
          2003,
          2004,
          2005,
          2006,
          2007,
          2008,
          2009,
          2010,
          2011,
          2012,
          2013,
          2014,
          2015,
          2016
         ],
         "y": [
          8,
          42,
          42,
          42,
          42,
          42,
          42,
          43,
          43,
          43,
          40,
          40,
          40,
          40,
          40,
          39,
          39,
          39,
          39,
          38,
          39,
          39,
          34
         ]
        }
       ],
       "layout": {
        "legend": {
         "bgcolor": "#F5F6F9",
         "font": {
          "color": "#4D5663"
         }
        },
        "paper_bgcolor": "#F5F6F9",
        "plot_bgcolor": "#F5F6F9",
        "title": {
         "font": {
          "color": "#4D5663"
         },
         "text": "Evolution of the number of colonies"
        },
        "xaxis": {
         "gridcolor": "#E1E5ED",
         "showgrid": true,
         "tickfont": {
          "color": "#4D5663"
         },
         "title": {
          "font": {
           "color": "#4D5663"
          },
          "text": "Year"
         },
         "zerolinecolor": "#E1E5ED"
        },
        "yaxis": {
         "gridcolor": "#E1E5ED",
         "showgrid": true,
         "tickfont": {
          "color": "#4D5663"
         },
         "title": {
          "font": {
           "color": "#4D5663"
          },
          "text": "Number of colonies"
         },
         "zerolinecolor": "#E1E5ED"
        }
       }
      },
      "text/html": [
       "<div>\n",
       "        \n",
       "        \n",
       "            <div id=\"3aa06349-9011-4667-af01-f9ca12781b29\" class=\"plotly-graph-div\" style=\"height:525px; width:100%;\"></div>\n",
       "            <script type=\"text/javascript\">\n",
       "                require([\"plotly\"], function(Plotly) {\n",
       "                    window.PLOTLYENV=window.PLOTLYENV || {};\n",
       "                    window.PLOTLYENV.BASE_URL='https://plot.ly';\n",
       "                    \n",
       "                if (document.getElementById(\"3aa06349-9011-4667-af01-f9ca12781b29\")) {\n",
       "                    Plotly.newPlot(\n",
       "                        '3aa06349-9011-4667-af01-f9ca12781b29',\n",
       "                        [{\"line\": {\"color\": \"rgba(128, 0, 128, 1.0)\", \"dash\": \"solid\", \"shape\": \"linear\", \"width\": 1.3}, \"mode\": \"lines\", \"name\": \"numcol\", \"text\": \"\", \"type\": \"scatter\", \"uid\": \"a3777f1e-6647-4641-a887-8d5d4bfbcedd\", \"x\": [1994, 1995, 1996, 1997, 1998, 1999, 2000, 2001, 2002, 2003, 2004, 2005, 2006, 2007, 2008, 2009, 2010, 2011, 2012, 2013, 2014, 2015, 2016], \"y\": [8, 42, 42, 42, 42, 42, 42, 43, 43, 43, 40, 40, 40, 40, 40, 39, 39, 39, 39, 38, 39, 39, 34]}],\n",
       "                        {\"legend\": {\"bgcolor\": \"#F5F6F9\", \"font\": {\"color\": \"#4D5663\"}}, \"paper_bgcolor\": \"#F5F6F9\", \"plot_bgcolor\": \"#F5F6F9\", \"title\": {\"font\": {\"color\": \"#4D5663\"}, \"text\": \"Evolution of the number of colonies\"}, \"xaxis\": {\"gridcolor\": \"#E1E5ED\", \"showgrid\": true, \"tickfont\": {\"color\": \"#4D5663\"}, \"title\": {\"font\": {\"color\": \"#4D5663\"}, \"text\": \"Year\"}, \"zerolinecolor\": \"#E1E5ED\"}, \"yaxis\": {\"gridcolor\": \"#E1E5ED\", \"showgrid\": true, \"tickfont\": {\"color\": \"#4D5663\"}, \"title\": {\"font\": {\"color\": \"#4D5663\"}, \"text\": \"Number of colonies\"}, \"zerolinecolor\": \"#E1E5ED\"}},\n",
       "                        {\"showLink\": true, \"linkText\": \"Export to plot.ly\", \"plotlyServerURL\": \"https://plot.ly\", \"responsive\": true}\n",
       "                    ).then(function(){\n",
       "                            \n",
       "var gd = document.getElementById('3aa06349-9011-4667-af01-f9ca12781b29');\n",
       "var x = new MutationObserver(function (mutations, observer) {{\n",
       "        var display = window.getComputedStyle(gd).display;\n",
       "        if (!display || display === 'none') {{\n",
       "            console.log([gd, 'removed!']);\n",
       "            Plotly.purge(gd);\n",
       "            observer.disconnect();\n",
       "        }}\n",
       "}});\n",
       "\n",
       "// Listen for the removal of the full notebook cells\n",
       "var notebookContainer = gd.closest('#notebook-container');\n",
       "if (notebookContainer) {{\n",
       "    x.observe(notebookContainer, {childList: true});\n",
       "}}\n",
       "\n",
       "// Listen for the clearing of the current output cell\n",
       "var outputEl = gd.closest('.output');\n",
       "if (outputEl) {{\n",
       "    x.observe(outputEl, {childList: true});\n",
       "}}\n",
       "\n",
       "                        })\n",
       "                };\n",
       "                });\n",
       "            </script>\n",
       "        </div>"
      ]
     },
     "metadata": {},
     "output_type": "display_data"
    }
   ],
   "source": [
    "evo_col = data.groupby(\"year\", as_index=False).agg({'numcol':'count'})\n",
    "evo_col.iplot(x='year', xTitle='Year', color='purple',\n",
    "           yTitle='Number of colonies', title='Evolution of the number of colonies')"
   ]
  },
  {
   "cell_type": "markdown",
   "metadata": {},
   "source": [
    "### Is there a correlation between the number of colonies and the use of Neonic pesticides ?"
   ]
  },
  {
   "cell_type": "code",
   "execution_count": 226,
   "metadata": {},
   "outputs": [
    {
     "data": {
      "text/plain": [
       "0.18999631567917497"
      ]
     },
     "execution_count": 226,
     "metadata": {},
     "output_type": "execute_result"
    }
   ],
   "source": [
    "data['numcol'].corr(data['AllNeonic'])"
   ]
  },
  {
   "cell_type": "markdown",
   "metadata": {},
   "source": [
    "The correlation is low between the number of colonies and the use of Neonic pesticides (19%)"
   ]
  },
  {
   "cell_type": "code",
   "execution_count": null,
   "metadata": {},
   "outputs": [],
   "source": []
  }
 ],
 "metadata": {
  "kernelspec": {
   "display_name": "Python 3",
   "language": "python",
   "name": "python3"
  },
  "language_info": {
   "codemirror_mode": {
    "name": "ipython",
    "version": 3
   },
   "file_extension": ".py",
   "mimetype": "text/x-python",
   "name": "python",
   "nbconvert_exporter": "python",
   "pygments_lexer": "ipython3",
   "version": "3.7.3"
  }
 },
 "nbformat": 4,
 "nbformat_minor": 2
}
