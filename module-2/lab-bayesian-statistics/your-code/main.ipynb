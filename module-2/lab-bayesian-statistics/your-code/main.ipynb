{
 "cells": [
  {
   "cell_type": "markdown",
   "metadata": {},
   "source": [
    "# Intro to Bayesian Statistics Lab\n",
    "\n",
    "Complete the following set of exercises to solidify your knowledge of Bayesian statistics and Bayesian data analysis."
   ]
  },
  {
   "cell_type": "code",
   "execution_count": 1,
   "metadata": {},
   "outputs": [],
   "source": [
    "import pandas as pd\n",
    "import numpy as np\n",
    "import matplotlib.pyplot as plt"
   ]
  },
  {
   "cell_type": "markdown",
   "metadata": {},
   "source": [
    "## 1. Cookie Problem\n",
    "\n",
    "Suppose we have two bowls of cookies. Bowl 1 contains 30 vanilla cookies and 10 chocolate cookies. Bowl 2 contains 20 of each. You randomly pick one cookie out of one of the bowls, and it is vanilla. Use Bayes Theorem to calculate the probability that the vanilla cookie you picked came from Bowl 1?"
   ]
  },
  {
   "cell_type": "code",
   "execution_count": 8,
   "metadata": {},
   "outputs": [],
   "source": [
    "Bowl1_v = 30/40\n",
    "Bowl2_v = 20/40"
   ]
  },
  {
   "cell_type": "markdown",
   "metadata": {},
   "source": [
    "What is the probability that it came from Bowl 2?"
   ]
  },
  {
   "cell_type": "code",
   "execution_count": 14,
   "metadata": {},
   "outputs": [
    {
     "name": "stdout",
     "output_type": "stream",
     "text": [
      "The chance of picking a vanilla cookie in bowl 1 is : 75.0 %\n",
      "The chance of picking a vanilla cookie in bowl 2 is : 50.0 %\n"
     ]
    }
   ],
   "source": [
    "print('The chance of picking a vanilla cookie in bowl 1 is :',Bowl1_v*100,'%')\n",
    "print('The chance of picking a vanilla cookie in bowl 2 is :',Bowl2_v*100,'%')"
   ]
  },
  {
   "cell_type": "markdown",
   "metadata": {},
   "source": [
    "What if the cookie you had picked was chocolate? What are the probabilities that the chocolate cookie came from Bowl 1 and Bowl 2 respectively?"
   ]
  },
  {
   "cell_type": "code",
   "execution_count": 13,
   "metadata": {},
   "outputs": [
    {
     "name": "stdout",
     "output_type": "stream",
     "text": [
      "The chance of picking a vanilla cookie in bowl 1 is : 25.0 %\n",
      "The chance of picking a vanilla cookie in bowl 2 is : 50.0 %\n"
     ]
    }
   ],
   "source": [
    "Bowl1_c = 10/40\n",
    "Bowl2_c = 20/40\n",
    "print('The chance of picking a vanilla cookie in bowl 1 is :',Bowl1_c*100,'%')\n",
    "print('The chance of picking a vanilla cookie in bowl 2 is :',Bowl2_c*100,'%')"
   ]
  },
  {
   "cell_type": "markdown",
   "metadata": {},
   "source": [
    "## 2. Candy Problem\n",
    "\n",
    "Suppose you have two bags of candies:\n",
    "\n",
    "- In Bag 1, the mix of colors is:\n",
    "    - Brown - 30%\n",
    "    - Yellow - 20%\n",
    "    - Red - 20%\n",
    "    - Green - 10%\n",
    "    - Orange - 10%\n",
    "    - Tan - 10%\n",
    "    \n",
    "- In Bag 2, the mix of colors is:\n",
    "    - Blue - 24%\n",
    "    - Green - 20%\n",
    "    - Orange - 16%\n",
    "    - Yellow - 14%\n",
    "    - Red - 13%\n",
    "    - Brown - 13%\n",
    "    \n",
    "Not knowing which bag is which, you randomly draw one candy from each bag. One is yellow and one is green. What is the probability that the yellow one came from the Bag 1?\n",
    "\n",
    "*Hint: For the likelihoods, you will need to multiply the probabilities of drawing yellow from one bag and green from the other bag and vice versa.*"
   ]
  },
  {
   "cell_type": "code",
   "execution_count": 23,
   "metadata": {},
   "outputs": [
    {
     "name": "stdout",
     "output_type": "stream",
     "text": [
      "probability that the yellow one came from the Bag 1: 74.07407407407408 %\n"
     ]
    }
   ],
   "source": [
    "def bayes_rule(priors, likelihoods):\n",
    "    marg = sum(np.multiply(priors, likelihoods))\n",
    "    post = np.divide(np.multiply(priors, likelihoods), marg)\n",
    "    return post\n",
    "priors = [1/6, 1/6]\n",
    "likelihoods = [0.2*0.2, 0.14*0.1]\n",
    "\n",
    "print('probability that the yellow one came from the Bag 1:',bayes_rule(priors, likelihoods)[0]*100,'%')"
   ]
  },
  {
   "cell_type": "markdown",
   "metadata": {},
   "source": [
    "What is the probability that the yellow candy came from Bag 2?"
   ]
  },
  {
   "cell_type": "code",
   "execution_count": 24,
   "metadata": {},
   "outputs": [
    {
     "name": "stdout",
     "output_type": "stream",
     "text": [
      "probability that the yellow one came from the Bag 2: 25.925925925925924 %\n"
     ]
    }
   ],
   "source": [
    "print('probability that the yellow one came from the Bag 2:',bayes_rule(priors, likelihoods)[1]*100,'%')"
   ]
  },
  {
   "cell_type": "markdown",
   "metadata": {},
   "source": [
    "What are the probabilities that the green one came from Bag 1 and Bag 2 respectively?"
   ]
  },
  {
   "cell_type": "code",
   "execution_count": 26,
   "metadata": {},
   "outputs": [
    {
     "name": "stdout",
     "output_type": "stream",
     "text": [
      "probabilities that the green one came from Bag 1: 25.925925925925924 %\n",
      "probabilities that the green one came from Bag 2: 74.07407407407408 %\n"
     ]
    }
   ],
   "source": [
    "priors = [1/6, 1/6]\n",
    "likelihoods = [0.1*0.14,0.2*0.2]\n",
    "\n",
    "print('probabilities that the green one came from Bag 1:',bayes_rule(priors, likelihoods)[0]*100,'%')\n",
    "print('probabilities that the green one came from Bag 2:',bayes_rule(priors, likelihoods)[1]*100,'%')"
   ]
  },
  {
   "cell_type": "markdown",
   "metadata": {},
   "source": [
    "## 3. Monty Hall Problem\n",
    "\n",
    "Suppose you are a contestant on the popular game show *Let's Make a Deal*. The host of the show (Monty Hall) presents you with three doors - Door A, Door B, and Door C. He tells you that there is a sports car behind one of them and if you choose the correct one, you win the car!\n",
    "\n",
    "You select Door A, but then Monty makes things a little more interesting. He opens Door B to reveal that there is no sports car behind it and asks you if you would like to stick with your choice of Door A or switch your choice to Door C. Given this new information, what are the probabilities of you winning the car if you stick with Door A versus if you switch to Door C?"
   ]
  },
  {
   "cell_type": "code",
   "execution_count": 36,
   "metadata": {},
   "outputs": [
    {
     "name": "stdout",
     "output_type": "stream",
     "text": [
      "Choice 1 : 33.33333333333333 % \n",
      "Choice 2 (door A): 50.0 % \n",
      "Choice 2 (door C): 50.0 %\n"
     ]
    }
   ],
   "source": [
    "choice1 = 1/3\n",
    "choice2 = 1/2\n",
    "print('Choice 1 :', choice1*100,'%', '\\nChoice 2 (door A):',choice2*100,'%','\\nChoice 2 (door C):',choice2*100,'%')"
   ]
  },
  {
   "cell_type": "markdown",
   "metadata": {},
   "source": [
    "## 4. Bayesian Analysis \n",
    "\n",
    "Suppose you work for a landscaping company, and they want to advertise their service online. They create an ad and sit back waiting for the money to roll in. On the first day, the ad sends 100 visitors to the site and 14 of them sign up for landscaping services. Create a generative model to come up with the posterior distribution and produce a visualization of what the posterior distribution would look like given the observed data."
   ]
  },
  {
   "cell_type": "code",
   "execution_count": 31,
   "metadata": {},
   "outputs": [
    {
     "data": {
      "text/plain": [
       "<matplotlib.axes._subplots.AxesSubplot at 0x1e1137dce48>"
      ]
     },
     "execution_count": 31,
     "metadata": {},
     "output_type": "execute_result"
    },
    {
     "data": {
      "image/png": "[encoded data removed]",
      "text/plain": [
       "<Figure size 432x288 with 1 Axes>"
      ]
     },
     "metadata": {
      "needs_background": "light"
     },
     "output_type": "display_data"
    }
   ],
   "source": [
    "n_draws = 100000\n",
    "prior = pd.Series(np.random.uniform(0, 1, size=n_draws))\n",
    "observed = 14\n",
    "def generative_model(param):\n",
    "    result = np.random.binomial(100, param)\n",
    "    return result\n",
    "sim_data = list()\n",
    "\n",
    "for p in prior:\n",
    "    sim_data.append(generative_model(p))\n",
    "posterior = prior[list(map(lambda x: x == observed, sim_data))]\n",
    "posterior.hist()"
   ]
  },
  {
   "cell_type": "markdown",
   "metadata": {},
   "source": [
    "Produce a set of descriptive statistics for the posterior distribution."
   ]
  },
  {
   "cell_type": "code",
   "execution_count": 33,
   "metadata": {},
   "outputs": [
    {
     "data": {
      "text/plain": [
       "count    970.000000\n",
       "mean       0.147875\n",
       "std        0.035277\n",
       "min        0.062649\n",
       "25%        0.123910\n",
       "50%        0.146372\n",
       "75%        0.170954\n",
       "max        0.276962\n",
       "dtype: float64"
      ]
     },
     "execution_count": 33,
     "metadata": {},
     "output_type": "execute_result"
    }
   ],
   "source": [
    "posterior.describe()"
   ]
  },
  {
   "cell_type": "markdown",
   "metadata": {},
   "source": [
    "What is the 90% credible interval range?"
   ]
  },
  {
   "cell_type": "code",
   "execution_count": 34,
   "metadata": {},
   "outputs": [
    {
     "name": "stdout",
     "output_type": "stream",
     "text": [
      "0.08218470503580654 | 0.22111086321551712\n"
     ]
    }
   ],
   "source": [
    "print(posterior.quantile(.025), '|', posterior.quantile(.975))"
   ]
  },
  {
   "cell_type": "markdown",
   "metadata": {},
   "source": [
    "What is the Maximum Likelihood Estimate?"
   ]
  },
  {
   "cell_type": "code",
   "execution_count": 35,
   "metadata": {},
   "outputs": [
    {
     "name": "stdout",
     "output_type": "stream",
     "text": [
      "Maximum Likelihood Estimate:  0.13 | 0.1134020618556701\n"
     ]
    }
   ],
   "source": [
    "rounded = posterior.round(2)\n",
    "mode = rounded.mode()[0]\n",
    "probability = list(rounded).count(mode)/len(rounded)\n",
    "print('Maximum Likelihood Estimate: ', mode, '|',probability)"
   ]
  },
  {
   "cell_type": "code",
   "execution_count": null,
   "metadata": {},
   "outputs": [],
   "source": []
  }
 ],
 "metadata": {
  "kernelspec": {
   "display_name": "Python 3",
   "language": "python",
   "name": "python3"
  },
  "language_info": {
   "codemirror_mode": {
    "name": "ipython",
    "version": 3
   },
   "file_extension": ".py",
   "mimetype": "text/x-python",
   "name": "python",
   "nbconvert_exporter": "python",
   "pygments_lexer": "ipython3",
   "version": "3.7.3"
  }
 },
 "nbformat": 4,
 "nbformat_minor": 2
}
