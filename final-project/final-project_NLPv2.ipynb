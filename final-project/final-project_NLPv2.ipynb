{
 "cells": [
  {
   "cell_type": "code",
   "execution_count": 1,
   "metadata": {},
   "outputs": [],
   "source": [
    "import nltk"
   ]
  },
  {
   "cell_type": "code",
   "execution_count": 2,
   "metadata": {},
   "outputs": [],
   "source": [
    "import pandas as pd\n",
    "train= pd.read_csv('./nlp/tweets.csv', sep='^([^,]+),', engine='python', error_bad_lines=False, encoding='utf-8', index_col=[0])"
   ]
  },
  {
   "cell_type": "code",
   "execution_count": 3,
   "metadata": {},
   "outputs": [],
   "source": [
    "train = train.reset_index(drop=True)"
   ]
  },
  {
   "cell_type": "code",
   "execution_count": 4,
   "metadata": {},
   "outputs": [],
   "source": [
    "train['polarity'] = train['polarity'].str.replace(\"0\",\"negatif\").str.replace(\"4\",\"positif\")"
   ]
  },
  {
   "cell_type": "code",
   "execution_count": 5,
   "metadata": {},
   "outputs": [],
   "source": [
    "index_zero = train[(train['polarity'] != 'positif') & (train['polarity']!= 'negatif')].index"
   ]
  },
  {
   "cell_type": "code",
   "execution_count": 6,
   "metadata": {},
   "outputs": [],
   "source": [
    "train.drop(index_zero, inplace=True)"
   ]
  },
  {
   "cell_type": "code",
   "execution_count": 7,
   "metadata": {},
   "outputs": [],
   "source": [
    "train = train.sample(n=100000)"
   ]
  },
  {
   "cell_type": "code",
   "execution_count": 8,
   "metadata": {},
   "outputs": [],
   "source": [
    "def clean_up(s):\n",
    "    import re\n",
    "    s= re.sub(r'http\\S+|(www\\.[^\\s]+)|(@\\S+)',' ',s)\n",
    "    s=re.sub('[\\d]',' ',s)\n",
    "    s= re.sub('[^\\w\\s]',' ',s)\n",
    "    s= re.sub('\\s\\s+',' ',s)\n",
    "    s=s.lower().strip()\n",
    "    return s\n",
    "def tokenize(s):\n",
    "    from nltk.tokenize import word_tokenize\n",
    "    return word_tokenize(s)\n",
    "def stem_spacy(s):\n",
    "    import spacy\n",
    "    nlp = spacy.load('fr_core_news_sm')\n",
    "    s = s.apply(nlp)\n",
    "    tokens=[]\n",
    "    for doc in s:\n",
    "        tokens.append([n.lemma_ for n in doc])\n",
    "    return tokens\n",
    "def stem(tweet):\n",
    "    from nltk.stem.snowball import FrenchStemmer\n",
    "    stemmer = FrenchStemmer()\n",
    "    return list(map(lambda s: stemmer.stem(s), tweet))\n",
    "def remove_stopwords(s):\n",
    "    from nltk.corpus import stopwords\n",
    "    stop_words = stopwords.words('french')\n",
    "    s=[x for x in s if x not in stop_words]\n",
    "    s=[x for x in s if len(x)>1]\n",
    "    return s"
   ]
  },
  {
   "cell_type": "code",
   "execution_count": 9,
   "metadata": {},
   "outputs": [],
   "source": [
    "train.statutnull=train.statutnull.astype(str)"
   ]
  },
  {
   "cell_type": "code",
   "execution_count": 10,
   "metadata": {},
   "outputs": [],
   "source": [
    "train.statutnull = train.statutnull.apply(lambda s: clean_up(s))"
   ]
  },
  {
   "cell_type": "code",
   "execution_count": 11,
   "metadata": {},
   "outputs": [
    {
     "data": {
      "text/html": [
       "<div>\n",
       "<style scoped>\n",
       "    .dataframe tbody tr th:only-of-type {\n",
       "        vertical-align: middle;\n",
       "    }\n",
       "\n",
       "    .dataframe tbody tr th {\n",
       "        vertical-align: top;\n",
       "    }\n",
       "\n",
       "    .dataframe thead th {\n",
       "        text-align: right;\n",
       "    }\n",
       "</style>\n",
       "<table border=\"1\" class=\"dataframe\">\n",
       "  <thead>\n",
       "    <tr style=\"text-align: right;\">\n",
       "      <th></th>\n",
       "      <th>polarity</th>\n",
       "      <th>statutnull</th>\n",
       "    </tr>\n",
       "  </thead>\n",
       "  <tbody>\n",
       "    <tr>\n",
       "      <td>445938</td>\n",
       "      <td>negatif</td>\n",
       "      <td>j ai besoin de prendre mes drogues à nouveau j...</td>\n",
       "    </tr>\n",
       "    <tr>\n",
       "      <td>1358033</td>\n",
       "      <td>positif</td>\n",
       "      <td>se lèvera quand je me réveillerai</td>\n",
       "    </tr>\n",
       "    <tr>\n",
       "      <td>1132766</td>\n",
       "      <td>positif</td>\n",
       "      <td>omg j adore cette chanson</td>\n",
       "    </tr>\n",
       "    <tr>\n",
       "      <td>686640</td>\n",
       "      <td>negatif</td>\n",
       "      <td>votre blog était très instructif comment peut ...</td>\n",
       "    </tr>\n",
       "    <tr>\n",
       "      <td>228905</td>\n",
       "      <td>negatif</td>\n",
       "      <td>j ai pleuré pendant minutes après les nuits à ...</td>\n",
       "    </tr>\n",
       "  </tbody>\n",
       "</table>\n",
       "</div>"
      ],
      "text/plain": [
       "        polarity                                         statutnull\n",
       "445938   negatif  j ai besoin de prendre mes drogues à nouveau j...\n",
       "1358033  positif                  se lèvera quand je me réveillerai\n",
       "1132766  positif                          omg j adore cette chanson\n",
       "686640   negatif  votre blog était très instructif comment peut ...\n",
       "228905   negatif  j ai pleuré pendant minutes après les nuits à ..."
      ]
     },
     "execution_count": 11,
     "metadata": {},
     "output_type": "execute_result"
    }
   ],
   "source": [
    "train.head()"
   ]
  },
  {
   "cell_type": "code",
   "execution_count": 12,
   "metadata": {},
   "outputs": [],
   "source": [
    "train.statutnull = train.statutnull.apply(lambda s: tokenize(s))"
   ]
  },
  {
   "cell_type": "code",
   "execution_count": 13,
   "metadata": {},
   "outputs": [
    {
     "data": {
      "text/html": [
       "<div>\n",
       "<style scoped>\n",
       "    .dataframe tbody tr th:only-of-type {\n",
       "        vertical-align: middle;\n",
       "    }\n",
       "\n",
       "    .dataframe tbody tr th {\n",
       "        vertical-align: top;\n",
       "    }\n",
       "\n",
       "    .dataframe thead th {\n",
       "        text-align: right;\n",
       "    }\n",
       "</style>\n",
       "<table border=\"1\" class=\"dataframe\">\n",
       "  <thead>\n",
       "    <tr style=\"text-align: right;\">\n",
       "      <th></th>\n",
       "      <th>polarity</th>\n",
       "      <th>statutnull</th>\n",
       "    </tr>\n",
       "  </thead>\n",
       "  <tbody>\n",
       "    <tr>\n",
       "      <td>445938</td>\n",
       "      <td>negatif</td>\n",
       "      <td>[j, ai, besoin, de, prendre, mes, drogues, à, ...</td>\n",
       "    </tr>\n",
       "    <tr>\n",
       "      <td>1358033</td>\n",
       "      <td>positif</td>\n",
       "      <td>[se, lèvera, quand, je, me, réveillerai]</td>\n",
       "    </tr>\n",
       "    <tr>\n",
       "      <td>1132766</td>\n",
       "      <td>positif</td>\n",
       "      <td>[omg, j, adore, cette, chanson]</td>\n",
       "    </tr>\n",
       "    <tr>\n",
       "      <td>686640</td>\n",
       "      <td>negatif</td>\n",
       "      <td>[votre, blog, était, très, instructif, comment...</td>\n",
       "    </tr>\n",
       "    <tr>\n",
       "      <td>228905</td>\n",
       "      <td>negatif</td>\n",
       "      <td>[j, ai, pleuré, pendant, minutes, après, les, ...</td>\n",
       "    </tr>\n",
       "  </tbody>\n",
       "</table>\n",
       "</div>"
      ],
      "text/plain": [
       "        polarity                                         statutnull\n",
       "445938   negatif  [j, ai, besoin, de, prendre, mes, drogues, à, ...\n",
       "1358033  positif           [se, lèvera, quand, je, me, réveillerai]\n",
       "1132766  positif                    [omg, j, adore, cette, chanson]\n",
       "686640   negatif  [votre, blog, était, très, instructif, comment...\n",
       "228905   negatif  [j, ai, pleuré, pendant, minutes, après, les, ..."
      ]
     },
     "execution_count": 13,
     "metadata": {},
     "output_type": "execute_result"
    }
   ],
   "source": [
    "train.head()"
   ]
  },
  {
   "cell_type": "code",
   "execution_count": 14,
   "metadata": {},
   "outputs": [],
   "source": [
    "train.statutnull = train.statutnull.apply(lambda s: stem(s))"
   ]
  },
  {
   "cell_type": "code",
   "execution_count": 15,
   "metadata": {},
   "outputs": [
    {
     "data": {
      "text/html": [
       "<div>\n",
       "<style scoped>\n",
       "    .dataframe tbody tr th:only-of-type {\n",
       "        vertical-align: middle;\n",
       "    }\n",
       "\n",
       "    .dataframe tbody tr th {\n",
       "        vertical-align: top;\n",
       "    }\n",
       "\n",
       "    .dataframe thead th {\n",
       "        text-align: right;\n",
       "    }\n",
       "</style>\n",
       "<table border=\"1\" class=\"dataframe\">\n",
       "  <thead>\n",
       "    <tr style=\"text-align: right;\">\n",
       "      <th></th>\n",
       "      <th>polarity</th>\n",
       "      <th>statutnull</th>\n",
       "    </tr>\n",
       "  </thead>\n",
       "  <tbody>\n",
       "    <tr>\n",
       "      <td>445938</td>\n",
       "      <td>negatif</td>\n",
       "      <td>[j, ai, besoin, de, prendr, me, drogu, à, nouv...</td>\n",
       "    </tr>\n",
       "    <tr>\n",
       "      <td>1358033</td>\n",
       "      <td>positif</td>\n",
       "      <td>[se, lev, quand, je, me, réveil]</td>\n",
       "    </tr>\n",
       "    <tr>\n",
       "      <td>1132766</td>\n",
       "      <td>positif</td>\n",
       "      <td>[omg, j, ador, cet, chanson]</td>\n",
       "    </tr>\n",
       "    <tr>\n",
       "      <td>686640</td>\n",
       "      <td>negatif</td>\n",
       "      <td>[votr, blog, était, tres, instruct, comment, p...</td>\n",
       "    </tr>\n",
       "    <tr>\n",
       "      <td>228905</td>\n",
       "      <td>negatif</td>\n",
       "      <td>[j, ai, pleur, pend, minut, apres, le, nuit, à...</td>\n",
       "    </tr>\n",
       "  </tbody>\n",
       "</table>\n",
       "</div>"
      ],
      "text/plain": [
       "        polarity                                         statutnull\n",
       "445938   negatif  [j, ai, besoin, de, prendr, me, drogu, à, nouv...\n",
       "1358033  positif                   [se, lev, quand, je, me, réveil]\n",
       "1132766  positif                       [omg, j, ador, cet, chanson]\n",
       "686640   negatif  [votr, blog, était, tres, instruct, comment, p...\n",
       "228905   negatif  [j, ai, pleur, pend, minut, apres, le, nuit, à..."
      ]
     },
     "execution_count": 15,
     "metadata": {},
     "output_type": "execute_result"
    }
   ],
   "source": [
    "train.head()"
   ]
  },
  {
   "cell_type": "code",
   "execution_count": 16,
   "metadata": {},
   "outputs": [],
   "source": [
    "train.statutnull = train.statutnull.apply(lambda s: remove_stopwords(s))"
   ]
  },
  {
   "cell_type": "code",
   "execution_count": 17,
   "metadata": {},
   "outputs": [
    {
     "data": {
      "text/html": [
       "<div>\n",
       "<style scoped>\n",
       "    .dataframe tbody tr th:only-of-type {\n",
       "        vertical-align: middle;\n",
       "    }\n",
       "\n",
       "    .dataframe tbody tr th {\n",
       "        vertical-align: top;\n",
       "    }\n",
       "\n",
       "    .dataframe thead th {\n",
       "        text-align: right;\n",
       "    }\n",
       "</style>\n",
       "<table border=\"1\" class=\"dataframe\">\n",
       "  <thead>\n",
       "    <tr style=\"text-align: right;\">\n",
       "      <th></th>\n",
       "      <th>polarity</th>\n",
       "      <th>statutnull</th>\n",
       "    </tr>\n",
       "  </thead>\n",
       "  <tbody>\n",
       "    <tr>\n",
       "      <td>445938</td>\n",
       "      <td>negatif</td>\n",
       "      <td>[besoin, prendr, drogu, nouveau, souffr, nouveau]</td>\n",
       "    </tr>\n",
       "    <tr>\n",
       "      <td>1358033</td>\n",
       "      <td>positif</td>\n",
       "      <td>[lev, quand, réveil]</td>\n",
       "    </tr>\n",
       "    <tr>\n",
       "      <td>1132766</td>\n",
       "      <td>positif</td>\n",
       "      <td>[omg, ador, cet, chanson]</td>\n",
       "    </tr>\n",
       "    <tr>\n",
       "      <td>686640</td>\n",
       "      <td>negatif</td>\n",
       "      <td>[votr, blog, tres, instruct, comment, peut, to...</td>\n",
       "    </tr>\n",
       "    <tr>\n",
       "      <td>228905</td>\n",
       "      <td>negatif</td>\n",
       "      <td>[pleur, pend, minut, apres, nuit, rodanth, ple...</td>\n",
       "    </tr>\n",
       "  </tbody>\n",
       "</table>\n",
       "</div>"
      ],
      "text/plain": [
       "        polarity                                         statutnull\n",
       "445938   negatif  [besoin, prendr, drogu, nouveau, souffr, nouveau]\n",
       "1358033  positif                               [lev, quand, réveil]\n",
       "1132766  positif                          [omg, ador, cet, chanson]\n",
       "686640   negatif  [votr, blog, tres, instruct, comment, peut, to...\n",
       "228905   negatif  [pleur, pend, minut, apres, nuit, rodanth, ple..."
      ]
     },
     "execution_count": 17,
     "metadata": {},
     "output_type": "execute_result"
    }
   ],
   "source": [
    "train.head()"
   ]
  },
  {
   "cell_type": "code",
   "execution_count": 18,
   "metadata": {},
   "outputs": [],
   "source": [
    "train.rename(columns={'statutnull':'tweet'},inplace=True)"
   ]
  },
  {
   "cell_type": "raw",
   "metadata": {},
   "source": [
    "from wordcloud import WordCloud\n",
    "import matplotlib.pyplot as plt\n",
    "all_text= ' '.join([x for text in train.tweet for x in text])\n",
    "wordcloud = WordCloud(width=800, height=500, random_state=21,max_font_size=110).generate(all_text)\n",
    "plt.imshow(wordcloud, interpolation=\"bilinear\")\n",
    "plt.axis('off')"
   ]
  },
  {
   "cell_type": "code",
   "execution_count": 19,
   "metadata": {},
   "outputs": [],
   "source": [
    "all_words = []\n",
    "import nltk\n",
    "NUM_FEATURES = 5000\n",
    "for index, value in train.tweet.iteritems():\n",
    "    if value not in all_words:\n",
    "        all_words += value\n",
    "\n",
    "top_features = [x[0] for x in nltk.FreqDist(all_words).most_common(NUM_FEATURES)]"
   ]
  },
  {
   "cell_type": "code",
   "execution_count": 20,
   "metadata": {},
   "outputs": [],
   "source": [
    "def build_features(words):\n",
    "    features = {}\n",
    "    for w in top_features:\n",
    "        features[w] = (w in words)\n",
    "    return features"
   ]
  },
  {
   "cell_type": "code",
   "execution_count": 21,
   "metadata": {},
   "outputs": [],
   "source": [
    "featuresets = []\n",
    "\n",
    "for index, row in train.iterrows():\n",
    "    featuresets.append((build_features(row['tweet']), row['polarity']))"
   ]
  },
  {
   "cell_type": "code",
   "execution_count": 22,
   "metadata": {},
   "outputs": [],
   "source": [
    "from nltk import NaiveBayesClassifier\n",
    "from sklearn.model_selection import train_test_split\n",
    "train_set, test = train_test_split(featuresets, test_size=0.2)\n",
    "classifier = NaiveBayesClassifier.train(train_set)"
   ]
  },
  {
   "cell_type": "code",
   "execution_count": 23,
   "metadata": {},
   "outputs": [
    {
     "data": {
      "text/plain": [
       "0.7372"
      ]
     },
     "execution_count": 23,
     "metadata": {},
     "output_type": "execute_result"
    }
   ],
   "source": [
    "nltk.classify.accuracy(classifier, test)"
   ]
  }
 ],
 "metadata": {
  "kernelspec": {
   "display_name": "Python 3",
   "language": "python",
   "name": "python3"
  },
  "language_info": {
   "codemirror_mode": {
    "name": "ipython",
    "version": 3
   },
   "file_extension": ".py",
   "mimetype": "text/x-python",
   "name": "python",
   "nbconvert_exporter": "python",
   "pygments_lexer": "ipython3",
   "version": "3.7.5"
  }
 },
 "nbformat": 4,
 "nbformat_minor": 2
}
