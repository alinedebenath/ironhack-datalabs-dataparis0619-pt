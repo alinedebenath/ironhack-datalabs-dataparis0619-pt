{
 "cells": [
  {
   "cell_type": "markdown",
   "metadata": {},
   "source": [
    "# <center>NLP with french tweets dataset</center>"
   ]
  },
  {
   "cell_type": "raw",
   "metadata": {},
   "source": [
    "Origin of train dataset  : https://github.com/gamebusterz/French-Sentiment-Analysis-Dataset (sample of 300.000, origin = './nlp/tweets.csv' (concatenate=cat x* > tweets.csv))\n",
    "How to :\n",
    "    1. train from French sentiment analysis dataset\n",
    "    2. cleaning : cleaning, token, stop-words then split in train/test\n",
    "    3. Count vectorization\n",
    "    4. NLP classification models : xgboost, logreg, naive bayes\n",
    "    5. Scores and time evaluation\n"
   ]
  },
  {
   "cell_type": "code",
   "execution_count": 2,
   "metadata": {},
   "outputs": [],
   "source": [
    "from datetime import datetime\n",
    "start_time0 = datetime.now()\n",
    "import spacy\n",
    "import numpy as np\n",
    "import re\n",
    "import nltk\n",
    "import pandas as pd\n",
    "pd.set_option('display.max_colwidth', None)\n",
    "import pickle\n",
    "import xgboost as xgb\n",
    "from ipynb.fs.full.my_functions import clean_up, stem_spacy\n",
    "from nltk.tokenize import word_tokenize\n",
    "from nltk.corpus import stopwords\n",
    "from nltk.stem.snowball import FrenchStemmer\n",
    "from nltk import NaiveBayesClassifier\n",
    "from sklearn.svm import SVC\n",
    "from sklearn.model_selection import train_test_split,  GridSearchCV\n",
    "from sklearn.feature_extraction.text import CountVectorizer\n",
    "from sklearn.linear_model import LogisticRegression \n",
    "from sklearn.metrics import accuracy_score, classification_report\n",
    "from xgboost import XGBClassifier"
   ]
  },
  {
   "cell_type": "markdown",
   "metadata": {},
   "source": [
    "## Step 1 :  ML model construction "
   ]
  },
  {
   "cell_type": "code",
   "execution_count": 3,
   "metadata": {},
   "outputs": [
    {
     "data": {
      "text/html": [
       "<div>\n",
       "<style scoped>\n",
       "    .dataframe tbody tr th:only-of-type {\n",
       "        vertical-align: middle;\n",
       "    }\n",
       "\n",
       "    .dataframe tbody tr th {\n",
       "        vertical-align: top;\n",
       "    }\n",
       "\n",
       "    .dataframe thead th {\n",
       "        text-align: right;\n",
       "    }\n",
       "</style>\n",
       "<table border=\"1\" class=\"dataframe\">\n",
       "  <thead>\n",
       "    <tr style=\"text-align: right;\">\n",
       "      <th></th>\n",
       "      <th>polarity</th>\n",
       "      <th>statutnull</th>\n",
       "    </tr>\n",
       "  </thead>\n",
       "  <tbody>\n",
       "    <tr>\n",
       "      <th>0</th>\n",
       "      <td>0</td>\n",
       "      <td>Un avertissement juste: en raison de ce refus obstiné d'envisager des exemptions sans but lucratif, nous devons ne pas suivre ceux qui ne nous suivent pas.</td>\n",
       "    </tr>\n",
       "    <tr>\n",
       "      <th>1</th>\n",
       "      <td>4</td>\n",
       "      <td>merci!</td>\n",
       "    </tr>\n",
       "    <tr>\n",
       "      <th>2</th>\n",
       "      <td>0</td>\n",
       "      <td>Réussi à écrire quelque chose en valeur! Au lit maintenant. J'espère que les musiques resteront ou bien, je pourrais pleurer.</td>\n",
       "    </tr>\n",
       "    <tr>\n",
       "      <th>3</th>\n",
       "      <td>4</td>\n",
       "      <td>En allant à kroger puis à la piscine. Attendant un thé à mcdon.</td>\n",
       "    </tr>\n",
       "    <tr>\n",
       "      <th>4</th>\n",
       "      <td>4</td>\n",
       "      <td>c'est génial</td>\n",
       "    </tr>\n",
       "  </tbody>\n",
       "</table>\n",
       "</div>"
      ],
      "text/plain": [
       "  polarity  \\\n",
       "0        0   \n",
       "1        4   \n",
       "2        0   \n",
       "3        4   \n",
       "4        4   \n",
       "\n",
       "                                                                                                                                                    statutnull  \n",
       "0  Un avertissement juste: en raison de ce refus obstiné d'envisager des exemptions sans but lucratif, nous devons ne pas suivre ceux qui ne nous suivent pas.  \n",
       "1                                                                                                                                                       merci!  \n",
       "2                                Réussi à écrire quelque chose en valeur! Au lit maintenant. J'espère que les musiques resteront ou bien, je pourrais pleurer.  \n",
       "3                                                                                              En allant à kroger puis à la piscine. Attendant un thé à mcdon.  \n",
       "4                                                                                                                                                 c'est génial  "
      ]
     },
     "execution_count": 3,
     "metadata": {},
     "output_type": "execute_result"
    }
   ],
   "source": [
    "train= pd.read_csv('tweets.csv',index_col=[0]).reset_index(drop=True)\n",
    "train.head()"
   ]
  },
  {
   "cell_type": "code",
   "execution_count": 4,
   "metadata": {},
   "outputs": [],
   "source": [
    "train = train.reset_index(drop=True)"
   ]
  },
  {
   "cell_type": "code",
   "execution_count": 5,
   "metadata": {},
   "outputs": [
    {
     "data": {
      "text/html": [
       "<div>\n",
       "<style scoped>\n",
       "    .dataframe tbody tr th:only-of-type {\n",
       "        vertical-align: middle;\n",
       "    }\n",
       "\n",
       "    .dataframe tbody tr th {\n",
       "        vertical-align: top;\n",
       "    }\n",
       "\n",
       "    .dataframe thead th {\n",
       "        text-align: right;\n",
       "    }\n",
       "</style>\n",
       "<table border=\"1\" class=\"dataframe\">\n",
       "  <thead>\n",
       "    <tr style=\"text-align: right;\">\n",
       "      <th></th>\n",
       "      <th>polarity</th>\n",
       "      <th>statutnull</th>\n",
       "    </tr>\n",
       "  </thead>\n",
       "  <tbody>\n",
       "    <tr>\n",
       "      <th>0</th>\n",
       "      <td>0</td>\n",
       "      <td>Un avertissement juste: en raison de ce refus obstiné d'envisager des exemptions sans but lucratif, nous devons ne pas suivre ceux qui ne nous suivent pas.</td>\n",
       "    </tr>\n",
       "    <tr>\n",
       "      <th>1</th>\n",
       "      <td>4</td>\n",
       "      <td>merci!</td>\n",
       "    </tr>\n",
       "    <tr>\n",
       "      <th>2</th>\n",
       "      <td>0</td>\n",
       "      <td>Réussi à écrire quelque chose en valeur! Au lit maintenant. J'espère que les musiques resteront ou bien, je pourrais pleurer.</td>\n",
       "    </tr>\n",
       "    <tr>\n",
       "      <th>3</th>\n",
       "      <td>4</td>\n",
       "      <td>En allant à kroger puis à la piscine. Attendant un thé à mcdon.</td>\n",
       "    </tr>\n",
       "    <tr>\n",
       "      <th>4</th>\n",
       "      <td>4</td>\n",
       "      <td>c'est génial</td>\n",
       "    </tr>\n",
       "  </tbody>\n",
       "</table>\n",
       "</div>"
      ],
      "text/plain": [
       "  polarity  \\\n",
       "0        0   \n",
       "1        4   \n",
       "2        0   \n",
       "3        4   \n",
       "4        4   \n",
       "\n",
       "                                                                                                                                                    statutnull  \n",
       "0  Un avertissement juste: en raison de ce refus obstiné d'envisager des exemptions sans but lucratif, nous devons ne pas suivre ceux qui ne nous suivent pas.  \n",
       "1                                                                                                                                                       merci!  \n",
       "2                                Réussi à écrire quelque chose en valeur! Au lit maintenant. J'espère que les musiques resteront ou bien, je pourrais pleurer.  \n",
       "3                                                                                              En allant à kroger puis à la piscine. Attendant un thé à mcdon.  \n",
       "4                                                                                                                                                 c'est génial  "
      ]
     },
     "execution_count": 5,
     "metadata": {},
     "output_type": "execute_result"
    }
   ],
   "source": [
    "train.head()"
   ]
  },
  {
   "cell_type": "code",
   "execution_count": 6,
   "metadata": {},
   "outputs": [
    {
     "data": {
      "text/plain": [
       "Index(['polarity', 'statutnull'], dtype='object')"
      ]
     },
     "execution_count": 6,
     "metadata": {},
     "output_type": "execute_result"
    }
   ],
   "source": [
    "train.columns"
   ]
  },
  {
   "cell_type": "code",
   "execution_count": 7,
   "metadata": {},
   "outputs": [],
   "source": [
    "\n",
    "train = train.dropna()\n",
    "train['polarity'] = train['polarity'].str.replace(\"0\",\"negatif\").str.replace(\"4\",\"positif\")\n",
    "index_zero = train[(train['polarity'] != 'positif') & (train['polarity']!= 'negatif')].index\n",
    "train.drop(index_zero, inplace=True)"
   ]
  },
  {
   "cell_type": "code",
   "execution_count": 8,
   "metadata": {},
   "outputs": [
    {
     "data": {
      "text/plain": [
       "negatif    149815\n",
       "positif    149583\n",
       "Name: polarity, dtype: int64"
      ]
     },
     "execution_count": 8,
     "metadata": {},
     "output_type": "execute_result"
    }
   ],
   "source": [
    "train['polarity'].value_counts()\n",
    "#.plot(kind='bar')"
   ]
  },
  {
   "cell_type": "raw",
   "metadata": {},
   "source": [
    "New column with clean tweet"
   ]
  },
  {
   "cell_type": "code",
   "execution_count": 9,
   "metadata": {},
   "outputs": [
    {
     "data": {
      "text/html": [
       "<div>\n",
       "<style scoped>\n",
       "    .dataframe tbody tr th:only-of-type {\n",
       "        vertical-align: middle;\n",
       "    }\n",
       "\n",
       "    .dataframe tbody tr th {\n",
       "        vertical-align: top;\n",
       "    }\n",
       "\n",
       "    .dataframe thead th {\n",
       "        text-align: right;\n",
       "    }\n",
       "</style>\n",
       "<table border=\"1\" class=\"dataframe\">\n",
       "  <thead>\n",
       "    <tr style=\"text-align: right;\">\n",
       "      <th></th>\n",
       "      <th>polarity</th>\n",
       "      <th>tweet</th>\n",
       "      <th>original</th>\n",
       "      <th>tweet_stem</th>\n",
       "    </tr>\n",
       "  </thead>\n",
       "  <tbody>\n",
       "    <tr>\n",
       "      <th>0</th>\n",
       "      <td>negatif</td>\n",
       "      <td>avertissement juste raison refus obstiné d'envisager exemptions sans but lucratif devons suivre ceux suivent</td>\n",
       "      <td>Un avertissement juste: en raison de ce refus obstiné d'envisager des exemptions sans but lucratif, nous devons ne pas suivre ceux qui ne nous suivent pas.</td>\n",
       "      <td>[avertissement, juste, raison, refus, obstiner, de, envisager, exemption, sans, boire, lucratif, devon, suivre, celui, suivre]</td>\n",
       "    </tr>\n",
       "    <tr>\n",
       "      <th>1</th>\n",
       "      <td>positif</td>\n",
       "      <td>merci</td>\n",
       "      <td>merci!</td>\n",
       "      <td>[merci]</td>\n",
       "    </tr>\n",
       "    <tr>\n",
       "      <th>2</th>\n",
       "      <td>negatif</td>\n",
       "      <td>réussi écrire quelque chose valeur lit maintenant j'espère musiques resteront bien pourrais pleurer</td>\n",
       "      <td>Réussi à écrire quelque chose en valeur! Au lit maintenant. J'espère que les musiques resteront ou bien, je pourrais pleurer.</td>\n",
       "      <td>[réussir, écrire, quelque, chose, valeur, lire, maintenir, il, espérer, musiqu, rester, bien, pouvoir, pleurer]</td>\n",
       "    </tr>\n",
       "    <tr>\n",
       "      <th>3</th>\n",
       "      <td>positif</td>\n",
       "      <td>allant kroger puis piscine attendant thé mcdon</td>\n",
       "      <td>En allant à kroger puis à la piscine. Attendant un thé à mcdon.</td>\n",
       "      <td>[aller, kroger, pouvoir, piscine, attendre, thé, mcdon]</td>\n",
       "    </tr>\n",
       "    <tr>\n",
       "      <th>4</th>\n",
       "      <td>positif</td>\n",
       "      <td>c'est génial</td>\n",
       "      <td>c'est génial</td>\n",
       "      <td>[ce, être, génial]</td>\n",
       "    </tr>\n",
       "  </tbody>\n",
       "</table>\n",
       "</div>"
      ],
      "text/plain": [
       "  polarity  \\\n",
       "0  negatif   \n",
       "1  positif   \n",
       "2  negatif   \n",
       "3  positif   \n",
       "4  positif   \n",
       "\n",
       "                                                                                                          tweet  \\\n",
       "0  avertissement juste raison refus obstiné d'envisager exemptions sans but lucratif devons suivre ceux suivent   \n",
       "1                                                                                                         merci   \n",
       "2           réussi écrire quelque chose valeur lit maintenant j'espère musiques resteront bien pourrais pleurer   \n",
       "3                                                                allant kroger puis piscine attendant thé mcdon   \n",
       "4                                                                                                  c'est génial   \n",
       "\n",
       "                                                                                                                                                      original  \\\n",
       "0  Un avertissement juste: en raison de ce refus obstiné d'envisager des exemptions sans but lucratif, nous devons ne pas suivre ceux qui ne nous suivent pas.   \n",
       "1                                                                                                                                                       merci!   \n",
       "2                                Réussi à écrire quelque chose en valeur! Au lit maintenant. J'espère que les musiques resteront ou bien, je pourrais pleurer.   \n",
       "3                                                                                              En allant à kroger puis à la piscine. Attendant un thé à mcdon.   \n",
       "4                                                                                                                                                 c'est génial   \n",
       "\n",
       "                                                                                                                       tweet_stem  \n",
       "0  [avertissement, juste, raison, refus, obstiner, de, envisager, exemption, sans, boire, lucratif, devon, suivre, celui, suivre]  \n",
       "1                                                                                                                         [merci]  \n",
       "2                 [réussir, écrire, quelque, chose, valeur, lire, maintenir, il, espérer, musiqu, rester, bien, pouvoir, pleurer]  \n",
       "3                                                                         [aller, kroger, pouvoir, piscine, attendre, thé, mcdon]  \n",
       "4                                                                                                              [ce, être, génial]  "
      ]
     },
     "execution_count": 9,
     "metadata": {},
     "output_type": "execute_result"
    }
   ],
   "source": [
    "from ipynb.fs.full.my_functions import clean_up\n",
    "from ipynb.fs.full.my_functions import stem_spacy\n",
    "train.statutnull = train.statutnull.astype(str)\n",
    "train['original'] = train['statutnull']\n",
    "train.statutnull = train.statutnull.apply(lambda s: clean_up(s))\n",
    "train['tweet_stem'] = stem_spacy(train.statutnull)\n",
    "train.rename(columns={'statutnull':'tweet'},inplace=True)\n",
    "train.head()"
   ]
  },
  {
   "cell_type": "code",
   "execution_count": 10,
   "metadata": {},
   "outputs": [
    {
     "data": {
      "text/plain": [
       "(299398, 4)"
      ]
     },
     "execution_count": 10,
     "metadata": {},
     "output_type": "execute_result"
    }
   ],
   "source": [
    "train.shape"
   ]
  },
  {
   "cell_type": "code",
   "execution_count": 11,
   "metadata": {},
   "outputs": [
    {
     "data": {
      "text/html": [
       "<div>\n",
       "<style scoped>\n",
       "    .dataframe tbody tr th:only-of-type {\n",
       "        vertical-align: middle;\n",
       "    }\n",
       "\n",
       "    .dataframe tbody tr th {\n",
       "        vertical-align: top;\n",
       "    }\n",
       "\n",
       "    .dataframe thead th {\n",
       "        text-align: right;\n",
       "    }\n",
       "</style>\n",
       "<table border=\"1\" class=\"dataframe\">\n",
       "  <thead>\n",
       "    <tr style=\"text-align: right;\">\n",
       "      <th></th>\n",
       "      <th>polarity</th>\n",
       "      <th>tweet</th>\n",
       "      <th>original</th>\n",
       "      <th>tweet_stem</th>\n",
       "    </tr>\n",
       "  </thead>\n",
       "  <tbody>\n",
       "    <tr>\n",
       "      <th>0</th>\n",
       "      <td>negatif</td>\n",
       "      <td>avertissement juste raison refus obstiné d'envisager exemptions sans but lucratif devons suivre ceux suivent</td>\n",
       "      <td>Un avertissement juste: en raison de ce refus obstiné d'envisager des exemptions sans but lucratif, nous devons ne pas suivre ceux qui ne nous suivent pas.</td>\n",
       "      <td>[avertissement, juste, raison, refus, obstiner, de, envisager, exemption, sans, boire, lucratif, devon, suivre, celui, suivre]</td>\n",
       "    </tr>\n",
       "    <tr>\n",
       "      <th>1</th>\n",
       "      <td>positif</td>\n",
       "      <td>merci</td>\n",
       "      <td>merci!</td>\n",
       "      <td>[merci]</td>\n",
       "    </tr>\n",
       "    <tr>\n",
       "      <th>2</th>\n",
       "      <td>negatif</td>\n",
       "      <td>réussi écrire quelque chose valeur lit maintenant j'espère musiques resteront bien pourrais pleurer</td>\n",
       "      <td>Réussi à écrire quelque chose en valeur! Au lit maintenant. J'espère que les musiques resteront ou bien, je pourrais pleurer.</td>\n",
       "      <td>[réussir, écrire, quelque, chose, valeur, lire, maintenir, il, espérer, musiqu, rester, bien, pouvoir, pleurer]</td>\n",
       "    </tr>\n",
       "    <tr>\n",
       "      <th>3</th>\n",
       "      <td>positif</td>\n",
       "      <td>allant kroger puis piscine attendant thé mcdon</td>\n",
       "      <td>En allant à kroger puis à la piscine. Attendant un thé à mcdon.</td>\n",
       "      <td>[aller, kroger, pouvoir, piscine, attendre, thé, mcdon]</td>\n",
       "    </tr>\n",
       "    <tr>\n",
       "      <th>4</th>\n",
       "      <td>positif</td>\n",
       "      <td>c'est génial</td>\n",
       "      <td>c'est génial</td>\n",
       "      <td>[ce, être, génial]</td>\n",
       "    </tr>\n",
       "  </tbody>\n",
       "</table>\n",
       "</div>"
      ],
      "text/plain": [
       "  polarity  \\\n",
       "0  negatif   \n",
       "1  positif   \n",
       "2  negatif   \n",
       "3  positif   \n",
       "4  positif   \n",
       "\n",
       "                                                                                                          tweet  \\\n",
       "0  avertissement juste raison refus obstiné d'envisager exemptions sans but lucratif devons suivre ceux suivent   \n",
       "1                                                                                                         merci   \n",
       "2           réussi écrire quelque chose valeur lit maintenant j'espère musiques resteront bien pourrais pleurer   \n",
       "3                                                                allant kroger puis piscine attendant thé mcdon   \n",
       "4                                                                                                  c'est génial   \n",
       "\n",
       "                                                                                                                                                      original  \\\n",
       "0  Un avertissement juste: en raison de ce refus obstiné d'envisager des exemptions sans but lucratif, nous devons ne pas suivre ceux qui ne nous suivent pas.   \n",
       "1                                                                                                                                                       merci!   \n",
       "2                                Réussi à écrire quelque chose en valeur! Au lit maintenant. J'espère que les musiques resteront ou bien, je pourrais pleurer.   \n",
       "3                                                                                              En allant à kroger puis à la piscine. Attendant un thé à mcdon.   \n",
       "4                                                                                                                                                 c'est génial   \n",
       "\n",
       "                                                                                                                       tweet_stem  \n",
       "0  [avertissement, juste, raison, refus, obstiner, de, envisager, exemption, sans, boire, lucratif, devon, suivre, celui, suivre]  \n",
       "1                                                                                                                         [merci]  \n",
       "2                 [réussir, écrire, quelque, chose, valeur, lire, maintenir, il, espérer, musiqu, rester, bien, pouvoir, pleurer]  \n",
       "3                                                                         [aller, kroger, pouvoir, piscine, attendre, thé, mcdon]  \n",
       "4                                                                                                              [ce, être, génial]  "
      ]
     },
     "execution_count": 11,
     "metadata": {},
     "output_type": "execute_result"
    }
   ],
   "source": [
    "train.reset_index(drop=True).head()"
   ]
  },
  {
   "cell_type": "raw",
   "metadata": {},
   "source": [
    "New column for XGboost, SVM and Logistic regression and count vectorizer"
   ]
  },
  {
   "cell_type": "code",
   "execution_count": 12,
   "metadata": {},
   "outputs": [
    {
     "data": {
      "text/html": [
       "<div>\n",
       "<style scoped>\n",
       "    .dataframe tbody tr th:only-of-type {\n",
       "        vertical-align: middle;\n",
       "    }\n",
       "\n",
       "    .dataframe tbody tr th {\n",
       "        vertical-align: top;\n",
       "    }\n",
       "\n",
       "    .dataframe thead th {\n",
       "        text-align: right;\n",
       "    }\n",
       "</style>\n",
       "<table border=\"1\" class=\"dataframe\">\n",
       "  <thead>\n",
       "    <tr style=\"text-align: right;\">\n",
       "      <th></th>\n",
       "      <th>polarity</th>\n",
       "      <th>tweet</th>\n",
       "      <th>original</th>\n",
       "      <th>tweet_stem</th>\n",
       "      <th>tweet_stem_join</th>\n",
       "    </tr>\n",
       "  </thead>\n",
       "  <tbody>\n",
       "    <tr>\n",
       "      <th>0</th>\n",
       "      <td>negatif</td>\n",
       "      <td>avertissement juste raison refus obstiné d'envisager exemptions sans but lucratif devons suivre ceux suivent</td>\n",
       "      <td>Un avertissement juste: en raison de ce refus obstiné d'envisager des exemptions sans but lucratif, nous devons ne pas suivre ceux qui ne nous suivent pas.</td>\n",
       "      <td>[avertissement, juste, raison, refus, obstiner, de, envisager, exemption, sans, boire, lucratif, devon, suivre, celui, suivre]</td>\n",
       "      <td>avertissement juste raison refus obstiner de envisager exemption sans boire lucratif devon suivre celui suivre</td>\n",
       "    </tr>\n",
       "    <tr>\n",
       "      <th>1</th>\n",
       "      <td>positif</td>\n",
       "      <td>merci</td>\n",
       "      <td>merci!</td>\n",
       "      <td>[merci]</td>\n",
       "      <td>merci</td>\n",
       "    </tr>\n",
       "    <tr>\n",
       "      <th>2</th>\n",
       "      <td>negatif</td>\n",
       "      <td>réussi écrire quelque chose valeur lit maintenant j'espère musiques resteront bien pourrais pleurer</td>\n",
       "      <td>Réussi à écrire quelque chose en valeur! Au lit maintenant. J'espère que les musiques resteront ou bien, je pourrais pleurer.</td>\n",
       "      <td>[réussir, écrire, quelque, chose, valeur, lire, maintenir, il, espérer, musiqu, rester, bien, pouvoir, pleurer]</td>\n",
       "      <td>réussir écrire quelque chose valeur lire maintenir il espérer musiqu rester bien pouvoir pleurer</td>\n",
       "    </tr>\n",
       "    <tr>\n",
       "      <th>3</th>\n",
       "      <td>positif</td>\n",
       "      <td>allant kroger puis piscine attendant thé mcdon</td>\n",
       "      <td>En allant à kroger puis à la piscine. Attendant un thé à mcdon.</td>\n",
       "      <td>[aller, kroger, pouvoir, piscine, attendre, thé, mcdon]</td>\n",
       "      <td>aller kroger pouvoir piscine attendre thé mcdon</td>\n",
       "    </tr>\n",
       "    <tr>\n",
       "      <th>4</th>\n",
       "      <td>positif</td>\n",
       "      <td>c'est génial</td>\n",
       "      <td>c'est génial</td>\n",
       "      <td>[ce, être, génial]</td>\n",
       "      <td>ce être génial</td>\n",
       "    </tr>\n",
       "  </tbody>\n",
       "</table>\n",
       "</div>"
      ],
      "text/plain": [
       "  polarity  \\\n",
       "0  negatif   \n",
       "1  positif   \n",
       "2  negatif   \n",
       "3  positif   \n",
       "4  positif   \n",
       "\n",
       "                                                                                                          tweet  \\\n",
       "0  avertissement juste raison refus obstiné d'envisager exemptions sans but lucratif devons suivre ceux suivent   \n",
       "1                                                                                                         merci   \n",
       "2           réussi écrire quelque chose valeur lit maintenant j'espère musiques resteront bien pourrais pleurer   \n",
       "3                                                                allant kroger puis piscine attendant thé mcdon   \n",
       "4                                                                                                  c'est génial   \n",
       "\n",
       "                                                                                                                                                      original  \\\n",
       "0  Un avertissement juste: en raison de ce refus obstiné d'envisager des exemptions sans but lucratif, nous devons ne pas suivre ceux qui ne nous suivent pas.   \n",
       "1                                                                                                                                                       merci!   \n",
       "2                                Réussi à écrire quelque chose en valeur! Au lit maintenant. J'espère que les musiques resteront ou bien, je pourrais pleurer.   \n",
       "3                                                                                              En allant à kroger puis à la piscine. Attendant un thé à mcdon.   \n",
       "4                                                                                                                                                 c'est génial   \n",
       "\n",
       "                                                                                                                       tweet_stem  \\\n",
       "0  [avertissement, juste, raison, refus, obstiner, de, envisager, exemption, sans, boire, lucratif, devon, suivre, celui, suivre]   \n",
       "1                                                                                                                         [merci]   \n",
       "2                 [réussir, écrire, quelque, chose, valeur, lire, maintenir, il, espérer, musiqu, rester, bien, pouvoir, pleurer]   \n",
       "3                                                                         [aller, kroger, pouvoir, piscine, attendre, thé, mcdon]   \n",
       "4                                                                                                              [ce, être, génial]   \n",
       "\n",
       "                                                                                                  tweet_stem_join  \n",
       "0  avertissement juste raison refus obstiner de envisager exemption sans boire lucratif devon suivre celui suivre  \n",
       "1                                                                                                           merci  \n",
       "2                réussir écrire quelque chose valeur lire maintenir il espérer musiqu rester bien pouvoir pleurer  \n",
       "3                                                                 aller kroger pouvoir piscine attendre thé mcdon  \n",
       "4                                                                                                  ce être génial  "
      ]
     },
     "execution_count": 12,
     "metadata": {},
     "output_type": "execute_result"
    }
   ],
   "source": [
    "train['tweet_stem_join'] = train.tweet_stem.apply(lambda x: ' '.join(x)).astype(str)\n",
    "train.head()"
   ]
  },
  {
   "cell_type": "code",
   "execution_count": 13,
   "metadata": {},
   "outputs": [],
   "source": [
    "count_vectorizer = CountVectorizer(analyzer='word') \n",
    "cv = count_vectorizer.fit(train['tweet_stem_join'])\n",
    "pickle.dump(cv, open(\"cv1.pkl\", \"wb\"))"
   ]
  },
  {
   "cell_type": "code",
   "execution_count": 14,
   "metadata": {},
   "outputs": [
    {
     "data": {
      "text/plain": [
       "(299398, 84662)"
      ]
     },
     "execution_count": 14,
     "metadata": {},
     "output_type": "execute_result"
    }
   ],
   "source": [
    "cv_ = count_vectorizer.fit_transform(train['tweet_stem_join'])\n",
    "cv_.shape"
   ]
  },
  {
   "cell_type": "code",
   "execution_count": 15,
   "metadata": {},
   "outputs": [
    {
     "data": {
      "text/plain": [
       "(299398, 84662)"
      ]
     },
     "execution_count": 15,
     "metadata": {},
     "output_type": "execute_result"
    }
   ],
   "source": [
    "cv1 = pickle.load(open(\"cv1.pkl\", 'rb'))\n",
    "cv1_new = CountVectorizer(vocabulary = cv1.vocabulary_)\n",
    "X_cv1 = cv1_new.transform(train['tweet_stem_join'])\n",
    "X_cv1.shape"
   ]
  },
  {
   "cell_type": "raw",
   "metadata": {},
   "source": [
    "OR vectorization with tfidf module\n",
    "from sklearn.feature_extraction.text import TfidfVectorizer  \n",
    "tfidfconverter = TfidfVectorizer(max_features=2000, min_df=5, max_df=0.7, stop_words=stopwords.words('french'))  \n",
    "X = tfidfconverter.fit_transform(train['tweet_stem_join']).toarray()"
   ]
  },
  {
   "cell_type": "raw",
   "metadata": {},
   "source": [
    "X_train,X_test,y_train,y_test = train_test_split(X,train['polarity'] , test_size=.2,\n",
    "                                                 stratify=train['polarity'], random_state=42)\n",
    "# Lower score with tfidf because the corpus is weak (traduction)\n",
    "# https://datascience.stackexchange.com/questions/49047/will-a-count-vectorizer-ever-perform-slightly-better-than-tf-idf"
   ]
  },
  {
   "cell_type": "code",
   "execution_count": 16,
   "metadata": {},
   "outputs": [
    {
     "name": "stdout",
     "output_type": "stream",
     "text": [
      "Time import and clean: 1:35:16.193779\n"
     ]
    }
   ],
   "source": [
    "end_time0 = datetime.now()\n",
    "print('Time import and clean: {}'.format(end_time0 - start_time0))"
   ]
  },
  {
   "cell_type": "markdown",
   "metadata": {},
   "source": [
    "## SVM"
   ]
  },
  {
   "cell_type": "code",
   "execution_count": 17,
   "metadata": {},
   "outputs": [],
   "source": [
    "start_time_svc = datetime.now()\n",
    "X_train_svc,X_test_svc,y_train_svc,y_test_svc = train_test_split(cv_,train['polarity'],test_size=.2,\n",
    "                                                 stratify=train['polarity'], random_state=42)"
   ]
  },
  {
   "cell_type": "raw",
   "metadata": {},
   "source": [
    "grid = {'C':[1,10,100,1000],'gamma':[1,0.1,0.001,0.0001], 'kernel':['linear','rbf']}\n",
    "svc = SVC()\n",
    "svc_wv=GridSearchCV(svc,grid,cv=10)\n",
    "svc_wv.fit(X_train_svc,y_train_svc)\n",
    "print(\"tuned hpyerparameters :(best parameters) \",svc_wv.best_params_)\n",
    "print(\"accuracy :\",svc_wv.best_score_)"
   ]
  },
  {
   "cell_type": "code",
   "execution_count": 18,
   "metadata": {},
   "outputs": [
    {
     "name": "stderr",
     "output_type": "stream",
     "text": [
      "C:\\Users\\aline.debenath\\AppData\\Local\\Continuum\\anaconda3\\envs\\spacy\\lib\\site-packages\\sklearn\\svm\\base.py:196: FutureWarning: The default value of gamma will change from 'auto' to 'scale' in version 0.22 to account better for unscaled features. Set gamma explicitly to 'auto' or 'scale' to avoid this warning.\n",
      "  \"avoid this warning.\", FutureWarning)\n"
     ]
    },
    {
     "name": "stdout",
     "output_type": "stream",
     "text": [
      "              precision    recall  f1-score   support\n",
      "\n",
      "     negatif       0.42      0.63      0.50     19969\n",
      "     positif       0.75      0.56      0.65     39911\n",
      "\n",
      "   micro avg       0.59      0.59      0.59     59880\n",
      "   macro avg       0.59      0.60      0.57     59880\n",
      "weighted avg       0.64      0.59      0.60     59880\n",
      "\n",
      "Temps modèle SVM : 4:23:08.189041\n"
     ]
    }
   ],
   "source": [
    "svc = SVC()\n",
    "svc.fit(X_train_svc,y_train_svc)\n",
    "prediction_svc = svc.predict(X_test_svc)\n",
    "print(classification_report(prediction_svc,y_test_svc))\n",
    "end_time_svc = datetime.now()\n",
    "print('Temps modèle SVM : {}'.format(end_time_svc - start_time_svc))"
   ]
  },
  {
   "cell_type": "markdown",
   "metadata": {},
   "source": [
    "## XGBoost model"
   ]
  },
  {
   "cell_type": "code",
   "execution_count": 19,
   "metadata": {},
   "outputs": [],
   "source": [
    "start_time1 = datetime.now()\n",
    "X_train_xg,X_test_xg,y_train_xg,y_test_xg = train_test_split(cv_,train['polarity'],test_size=.2,stratify=train['polarity'], random_state=42)"
   ]
  },
  {
   "cell_type": "raw",
   "metadata": {},
   "source": [
    "#grid search xgb\n",
    "grid={\"max_depth\":[3,6,9],'min_child_weight':[4,5,6]}\n",
    "xgbc = XGBClassifier(n_estimators=1000, nthread=6, objective= 'binary:logistic')\n",
    "xgbc_cv=GridSearchCV(xgbc,grid,cv=10)\n",
    "xgbc_cv.fit(X_train_xg,y_train_xg)\n",
    "print(\"tuned hpyerparameters :(best parameters) \",xgbc_cv.best_params_)\n",
    "print(\"accuracy :\",xgbc_cv.best_score_)\n",
    "#tuned hpyerparameters :(best parameters)  {'max_depth': 9, 'min_child_weight': 4}\n",
    "#accuracy : 0.7395625"
   ]
  },
  {
   "cell_type": "code",
   "execution_count": 20,
   "metadata": {},
   "outputs": [
    {
     "name": "stdout",
     "output_type": "stream",
     "text": [
      "              precision    recall  f1-score   support\n",
      "\n",
      "     negatif       0.71      0.78      0.75     27366\n",
      "     positif       0.80      0.74      0.77     32514\n",
      "\n",
      "   micro avg       0.76      0.76      0.76     59880\n",
      "   macro avg       0.76      0.76      0.76     59880\n",
      "weighted avg       0.76      0.76      0.76     59880\n",
      "\n",
      "0.7559285237140948\n",
      "Temps modèle XGBoost : 10:36:01.214269\n"
     ]
    }
   ],
   "source": [
    "xgbc = XGBClassifier(max_depth=9, min_child_weight=4, n_estimators=1000, nthread= 3)\n",
    "xgbc.fit(X_train_xg,y_train_xg)\n",
    "prediction_xgb = xgbc.predict(X_test_xg)\n",
    "print(classification_report(prediction_xgb,y_test_xg))\n",
    "#0.742425 count vectorizer (max_depth=6, n_estimators=1000, nthread= 3)\n",
    "#0.7415 tfidf\n",
    "print(accuracy_score(prediction_xgb,y_test_xg))\n",
    "#0.7531 300.000 sample 21/01\n",
    "end_time1 = datetime.now()\n",
    "print('Temps modèle XGBoost : {}'.format(end_time1 - start_time1))"
   ]
  },
  {
   "cell_type": "markdown",
   "metadata": {},
   "source": [
    "## Logistic regression model"
   ]
  },
  {
   "cell_type": "code",
   "execution_count": 21,
   "metadata": {},
   "outputs": [],
   "source": [
    "start_time2 = datetime.now()\n",
    "X_train_logreg,X_test_logreg,y_train_logreg,y_test_logreg = train_test_split(cv_,train['polarity'] , test_size=.2,\n",
    "                                                 stratify=train['polarity'], random_state=42)"
   ]
  },
  {
   "cell_type": "raw",
   "metadata": {},
   "source": [
    "#grid search logreg\n",
    "grid={\"C\":np.logspace(-3,3,7), \"penalty\":[\"l1\",\"l2\"]}# l1 lasso l2 ridge\n",
    "logreg=LogisticRegression()\n",
    "cv_logreg=GridSearchCV(logreg,grid,cv=10)\n",
    "cv_logreg.fit(X_train_logreg,y_train_logreg)\n",
    "\n",
    "print(\"tuned hpyerparameters :(best parameters) \",cv_logreg.best_params_)\n",
    "print(\"accuracy :\",cv_logreg.best_score_)\n",
    "#tuned hpyerparameters :(best parameters)  {'C': 0.1, 'penalty': 'l2'}\n",
    "#accuracy : 0.7391625"
   ]
  },
  {
   "cell_type": "code",
   "execution_count": 22,
   "metadata": {},
   "outputs": [
    {
     "name": "stderr",
     "output_type": "stream",
     "text": [
      "C:\\Users\\aline.debenath\\AppData\\Local\\Continuum\\anaconda3\\envs\\spacy\\lib\\site-packages\\sklearn\\linear_model\\logistic.py:433: FutureWarning: Default solver will be changed to 'lbfgs' in 0.22. Specify a solver to silence this warning.\n",
      "  FutureWarning)\n"
     ]
    },
    {
     "name": "stdout",
     "output_type": "stream",
     "text": [
      "              precision    recall  f1-score   support\n",
      "\n",
      "     negatif       0.73      0.77      0.75     28267\n",
      "     positif       0.78      0.74      0.76     31613\n",
      "\n",
      "   micro avg       0.76      0.76      0.76     59880\n",
      "   macro avg       0.76      0.76      0.76     59880\n",
      "weighted avg       0.76      0.76      0.76     59880\n",
      "\n",
      "0.755377421509686\n",
      "Time Logistic regression model: 0:00:23.267863\n"
     ]
    }
   ],
   "source": [
    "logreg = LogisticRegression(C=0.1,penalty=\"l2\")\n",
    "logreg.fit(X_train_logreg,y_train_logreg)\n",
    "prediction_logreg = logreg.predict(X_test_logreg)\n",
    "print(classification_report(prediction_logreg,y_test_logreg))\n",
    "#0.7628 count vectorizer\n",
    "#0.74105 tfidf\n",
    "print(accuracy_score(prediction_logreg,y_test_logreg))\n",
    "end_time2 = datetime.now()\n",
    "print('Time Logistic regression model: {}'.format(end_time2 - start_time2))"
   ]
  },
  {
   "cell_type": "markdown",
   "metadata": {},
   "source": [
    "## Naive Bayes model"
   ]
  },
  {
   "cell_type": "code",
   "execution_count": 24,
   "metadata": {},
   "outputs": [
    {
     "ename": "KeyboardInterrupt",
     "evalue": "",
     "output_type": "error",
     "traceback": [
      "\u001b[1;31m---------------------------------------------------------------------------\u001b[0m",
      "\u001b[1;31mKeyboardInterrupt\u001b[0m                         Traceback (most recent call last)",
      "\u001b[1;32m<ipython-input-24-2d8e6818b021>\u001b[0m in \u001b[0;36m<module>\u001b[1;34m\u001b[0m\n\u001b[0;32m      5\u001b[0m \u001b[1;32mfor\u001b[0m \u001b[0mindex\u001b[0m\u001b[1;33m,\u001b[0m \u001b[0mvalue\u001b[0m \u001b[1;32min\u001b[0m \u001b[0mtrain2\u001b[0m\u001b[1;33m.\u001b[0m\u001b[0mtweet\u001b[0m\u001b[1;33m.\u001b[0m\u001b[0miteritems\u001b[0m\u001b[1;33m(\u001b[0m\u001b[1;33m)\u001b[0m\u001b[1;33m:\u001b[0m\u001b[1;33m\u001b[0m\u001b[1;33m\u001b[0m\u001b[0m\n\u001b[0;32m      6\u001b[0m     \u001b[1;32mif\u001b[0m \u001b[0mvalue\u001b[0m \u001b[1;32mnot\u001b[0m \u001b[1;32min\u001b[0m \u001b[0mall_words\u001b[0m\u001b[1;33m:\u001b[0m\u001b[1;33m\u001b[0m\u001b[1;33m\u001b[0m\u001b[0m\n\u001b[1;32m----> 7\u001b[1;33m         \u001b[0mall_words\u001b[0m \u001b[1;33m+=\u001b[0m \u001b[0mvalue\u001b[0m\u001b[1;33m\u001b[0m\u001b[1;33m\u001b[0m\u001b[0m\n\u001b[0m\u001b[0;32m      8\u001b[0m \u001b[0mtop_features\u001b[0m \u001b[1;33m=\u001b[0m \u001b[1;33m[\u001b[0m\u001b[0mx\u001b[0m\u001b[1;33m[\u001b[0m\u001b[1;36m0\u001b[0m\u001b[1;33m]\u001b[0m \u001b[1;32mfor\u001b[0m \u001b[0mx\u001b[0m \u001b[1;32min\u001b[0m \u001b[0mnltk\u001b[0m\u001b[1;33m.\u001b[0m\u001b[0mFreqDist\u001b[0m\u001b[1;33m(\u001b[0m\u001b[0mall_words\u001b[0m\u001b[1;33m)\u001b[0m\u001b[1;33m.\u001b[0m\u001b[0mmost_common\u001b[0m\u001b[1;33m(\u001b[0m\u001b[0mNUM_FEATURES\u001b[0m\u001b[1;33m)\u001b[0m\u001b[1;33m]\u001b[0m\u001b[1;33m\u001b[0m\u001b[1;33m\u001b[0m\u001b[0m\n\u001b[0;32m      9\u001b[0m \u001b[0mdf\u001b[0m\u001b[1;33m=\u001b[0m\u001b[0mpd\u001b[0m\u001b[1;33m.\u001b[0m\u001b[0mDataFrame\u001b[0m\u001b[1;33m.\u001b[0m\u001b[0mfrom_dict\u001b[0m\u001b[1;33m(\u001b[0m\u001b[0mnltk\u001b[0m\u001b[1;33m.\u001b[0m\u001b[0mFreqDist\u001b[0m\u001b[1;33m(\u001b[0m\u001b[0mall_words\u001b[0m\u001b[1;33m)\u001b[0m\u001b[1;33m,\u001b[0m\u001b[0morient\u001b[0m\u001b[1;33m=\u001b[0m\u001b[1;34m'index'\u001b[0m\u001b[1;33m)\u001b[0m\u001b[1;33m\u001b[0m\u001b[1;33m\u001b[0m\u001b[0m\n",
      "\u001b[1;31mKeyboardInterrupt\u001b[0m: "
     ]
    }
   ],
   "source": [
    "train2 = train.sample(100000)\n",
    "start_time3 = datetime.now()\n",
    "all_words = []\n",
    "NUM_FEATURES = 5000\n",
    "for index, value in train2.tweet.iteritems():\n",
    "    if value not in all_words:\n",
    "        all_words += value\n",
    "top_features = [x[0] for x in nltk.FreqDist(all_words).most_common(NUM_FEATURES)]\n",
    "df=pd.DataFrame.from_dict(nltk.FreqDist(all_words),orient='index')\n",
    "df.sort_values(by=0, ascending=False).reset_index().head(10)\n",
    "def build_features(words):\n",
    "    features = {}\n",
    "    for w in top_features:\n",
    "        features[w] = (w in words)\n",
    "    return features\n",
    "featuresets = []\n",
    "for index, row in train.iterrows():\n",
    "    featuresets.append((build_features(row['tweet']), row['polarity']))\n",
    "print(featuresets[:2])"
   ]
  },
  {
   "cell_type": "code",
   "execution_count": null,
   "metadata": {},
   "outputs": [],
   "source": [
    "train_set, test = train_test_split(featuresets, test_size=0.2)\n",
    "classifier = NaiveBayesClassifier.train(train_set)\n",
    "print(classifier.show_most_informative_features(n=10))\n",
    "print(nltk.classify.accuracy(classifier, test))\n",
    "# score 73,56% pour sample 100.000 avec stem nltk\n",
    "# score 73,88% avec sample 100.000 avec stem spacy "
   ]
  },
  {
   "cell_type": "code",
   "execution_count": null,
   "metadata": {},
   "outputs": [],
   "source": [
    "print(classification_report(classifier, test))\n",
    "end_time3 = datetime.now()\n",
    "print('Time Naive Bayes model: {}'.format(end_time3 - start_time3))"
   ]
  },
  {
   "cell_type": "markdown",
   "metadata": {},
   "source": [
    "# Step 2 : applying final model on API twitter extraction "
   ]
  },
  {
   "cell_type": "code",
   "execution_count": null,
   "metadata": {},
   "outputs": [],
   "source": [
    "greve_twitter=pd.read_csv('greve_twitter_final.csv',index_col=[0])\n",
    "greve_twitter.head()"
   ]
  },
  {
   "cell_type": "code",
   "execution_count": null,
   "metadata": {},
   "outputs": [],
   "source": [
    "X_cv2 = cv1_new.transform(greve_twitter['tweet_processed2'])\n",
    "greve_twitter['polarity']=logreg.predict(X_cv2)\n",
    "greve_twitter.head()"
   ]
  },
  {
   "cell_type": "code",
   "execution_count": null,
   "metadata": {},
   "outputs": [],
   "source": [
    "greve_twitter.to_csv('greve_twitter_class.csv')"
   ]
  }
 ],
 "metadata": {
  "kernelspec": {
   "display_name": "Python 3",
   "language": "python",
   "name": "python3"
  },
  "language_info": {
   "codemirror_mode": {
    "name": "ipython",
    "version": 3
   },
   "file_extension": ".py",
   "mimetype": "text/x-python",
   "name": "python",
   "nbconvert_exporter": "python",
   "pygments_lexer": "ipython3",
   "version": "3.7.6"
  }
 },
 "nbformat": 4,
 "nbformat_minor": 2
}
