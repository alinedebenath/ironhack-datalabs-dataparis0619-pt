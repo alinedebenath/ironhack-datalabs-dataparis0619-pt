{
 "cells": [
  {
   "cell_type": "markdown",
   "metadata": {},
   "source": [
    "## <center>NLP with manual classification</center> "
   ]
  },
  {
   "cell_type": "code",
   "execution_count": 61,
   "metadata": {},
   "outputs": [],
   "source": [
    "import pandas as pd\n",
    "pd.set_option('display.max_colwidth', 250)\n",
    "pd.set_option('max_rows', 2500)\n",
    "import pickle\n",
    "from sklearn.model_selection import train_test_split\n",
    "from sklearn.feature_extraction.text import CountVectorizer\n",
    "from sklearn.linear_model import LogisticRegression\n",
    "from sklearn.metrics import accuracy_score, classification_report\n",
    "from sklearn.utils import resample"
   ]
  },
  {
   "cell_type": "code",
   "execution_count": 62,
   "metadata": {},
   "outputs": [],
   "source": [
    "stopwords=['reformedesretraites','réformedesretraites','retraiter','grevegenerale','reformedesretraites']"
   ]
  },
  {
   "cell_type": "code",
   "execution_count": 63,
   "metadata": {
    "scrolled": false
   },
   "outputs": [],
   "source": [
    "greve_twitter_origin=pd.read_csv('greve_twitter_class.csv', index_col=[0])"
   ]
  },
  {
   "cell_type": "code",
   "execution_count": 64,
   "metadata": {},
   "outputs": [],
   "source": [
    "greve_twitter_origin.tweet_processed2=[x.replace(\"\"\"'\"\"\",'') for x in greve_twitter_origin.tweet_processed2]\n",
    "greve_twitter_origin.date = greve_twitter_origin.date.map(lambda x: str(x)[:-15])"
   ]
  },
  {
   "cell_type": "code",
   "execution_count": 1,
   "metadata": {},
   "outputs": [
    {
     "ename": "NameError",
     "evalue": "name 'greve_twitter_origin' is not defined",
     "output_type": "error",
     "traceback": [
      "\u001b[1;31m---------------------------------------------------------------------------\u001b[0m",
      "\u001b[1;31mNameError\u001b[0m                                 Traceback (most recent call last)",
      "\u001b[1;32m<ipython-input-1-0c9e90a80ad0>\u001b[0m in \u001b[0;36m<module>\u001b[1;34m\u001b[0m\n\u001b[0;32m     25\u001b[0m           \u001b[1;36m528\u001b[0m\u001b[1;33m,\u001b[0m\u001b[1;36m569\u001b[0m\u001b[1;33m,\u001b[0m\u001b[1;36m617\u001b[0m\u001b[1;33m,\u001b[0m\u001b[1;36m666\u001b[0m\u001b[1;33m,\u001b[0m\u001b[1;36m741\u001b[0m\u001b[1;33m,\u001b[0m\u001b[1;36m755\u001b[0m\u001b[1;33m,\u001b[0m\u001b[1;36m855\u001b[0m\u001b[1;33m,\u001b[0m\u001b[1;36m919\u001b[0m\u001b[1;33m,\u001b[0m\u001b[1;36m942\u001b[0m\u001b[1;33m,\u001b[0m\u001b[1;36m974\u001b[0m\u001b[1;33m,\u001b[0m\u001b[1;36m975\u001b[0m\u001b[1;33m,\u001b[0m\u001b[1;36m1027\u001b[0m\u001b[1;33m,\u001b[0m\u001b[1;36m1055\u001b[0m\u001b[1;33m,\u001b[0m\u001b[1;36m1167\u001b[0m\u001b[1;33m,\u001b[0m\u001b[1;36m1179\u001b[0m\u001b[1;33m,\u001b[0m\u001b[1;36m1465\u001b[0m\u001b[1;33m,\u001b[0m\u001b[1;36m1513\u001b[0m\u001b[1;33m,\u001b[0m\u001b[1;36m1520\u001b[0m\u001b[1;33m,\u001b[0m\u001b[1;36m1614\u001b[0m\u001b[1;33m,\u001b[0m\u001b[1;33m\u001b[0m\u001b[1;33m\u001b[0m\u001b[0m\n\u001b[0;32m     26\u001b[0m           1817,1818,1819,1820]\n\u001b[1;32m---> 27\u001b[1;33m \u001b[0mgreve_twitter_origin\u001b[0m\u001b[1;33m[\u001b[0m\u001b[1;34m'polarity'\u001b[0m\u001b[1;33m]\u001b[0m\u001b[1;33m.\u001b[0m\u001b[0miloc\u001b[0m\u001b[1;33m[\u001b[0m\u001b[0mindex_neg\u001b[0m\u001b[1;33m]\u001b[0m \u001b[1;33m=\u001b[0m \u001b[1;34m'negatif'\u001b[0m\u001b[1;33m\u001b[0m\u001b[1;33m\u001b[0m\u001b[0m\n\u001b[0m\u001b[0;32m     28\u001b[0m \u001b[0mgreve_twitter_origin\u001b[0m\u001b[1;33m[\u001b[0m\u001b[1;34m'polarity'\u001b[0m\u001b[1;33m]\u001b[0m\u001b[1;33m.\u001b[0m\u001b[0miloc\u001b[0m\u001b[1;33m[\u001b[0m\u001b[0mindex_pos\u001b[0m\u001b[1;33m]\u001b[0m \u001b[1;33m=\u001b[0m \u001b[1;34m'positif'\u001b[0m\u001b[1;33m\u001b[0m\u001b[1;33m\u001b[0m\u001b[0m\n",
      "\u001b[1;31mNameError\u001b[0m: name 'greve_twitter_origin' is not defined"
     ]
    }
   ],
   "source": [
    "index_neg=[31,33,44,46,55,59,61,74,78,108,119,121,130,136,141,149,154,162,168,175,180,186,\n",
    "           187,188,193,199,219,220,240,267,274,276,279,284,289,292,303,312,323,328,330,339,341,\n",
    "           346,347,348,349,361,363,396,403,404,417,440,441,442,447,451,462,465,466,477,487,488,\n",
    "           491,493,496,497,2,20,24,25,28,504,516,521,525,532,536,540,544,545,552,554,557,558,\n",
    "           563,576,579,585,591,592,595,599,602,634,658,659,660,661,675,681,685,688,690,699,709,\n",
    "          711,715,722,723,733,736,746,747,753,756,762,763,764,766,783,788,798,801,803,805,810,\n",
    "           813,816,826,827,828,829,831,839,850,854,856,861,878,889,890,893,900,902,906,908,910,\n",
    "           916,929,930,937,940,953,956,958,966,970,973,976,982,988,997,998,1001,1003,1006,1007,\n",
    "           1008,1010,1011,1030,1031,1026,1034,1036,1037,1038,1039,1040,1042,1047,1049,1051,1053,\n",
    "          1056,1057,1058,1060,1063,1064,1065,1067,1068,1069,1072,1074,1077,1081,1083,1084,1087,\n",
    "          1091,1096,1097,1098,1100,1103,1108,1109,1116,117,1125,1145,1153,1154,1156,1158,1161,\n",
    "          1169,1175,1178,1180,1192,1193,1203,1205,1207,1208,1210,1214,1237,1262,1264,1266,1279,\n",
    "          1280,1282,1290,1293,1298,1305,1314,1316,1343,1345,1350,1351,1352,1353,1354,1356,1357,\n",
    "           1361,1368,1374,1375,1377,1379,1380,1389,1396,1398,1400,1404,1407,1408,1410,1415,1421,\n",
    "           1423,1424,1427,1430,1431,1433,1434,1437,1441,1442,1445,1453,1458,1468,1474,1485,1486,\n",
    "           1493,1494,1495,1500,1501,1507,1509,1512,1517,1522,1527,1528,1530,1543,1544,1550,1553,\n",
    "          1564,1565,1568,1569,1570,1574,1576,1583,1584,1597,1598,1600,1601,1606,1612,1617,1621,\n",
    "          1623,1626,1626,1628,1630,1631,1634,1637,1645,1648,1650,1657,1664,1648,1650,1657,1664,\n",
    "          1666,1669,1672,1673,1674,1682,1683,1690,1694,1696,1698,1700,1701,1702,1704,1705,1706,\n",
    "          1707,1708,1710,1716,1717,1721,1732,1733,1736,1739,1748,1758,1776,1778,1782,1784,1785,\n",
    "          1794, 1797,1799,1814,1826,1832,1835,1838,1839,1840,1842,1846,1849,1854,1856,1882,1883,\n",
    "           1887,1901,1906,1907,1914,1917,1918,1923,1924,1928,1932,1935,1936,1942,1944,1947,1953,\n",
    "          1954,1955,1960,1961,1967,1968,1972,1975,1983,1984,1987,1990,1992,1997,2001,2009,2012,\n",
    "          2017,2020,2022,2033,2040,2041,2042,2045,2047,2048,2053,2056,2060,2062,2063,2064,2065,\n",
    "          2070,2081,2084,2085,2088,2105,2106,2119,2128,2129,2130,2131,2134,2135,2139,2140,2143,\n",
    "          2149,2158,2159,2163,2173,2175,2177,2178,2179,2181,2189,2190,2191,2192,2195,2200,2206,\n",
    "          2207,2215,2221,2224,2226,2228,2233,2235,2240,2241,2242,2243,2249,2252,2253,2256,2257,\n",
    "          2261,2263,2269,2275,2276,2281,2295,2299,2300,2302,2305,2311,2312,2313,2321,2322,2325,\n",
    "          2326,2329,2330,2333,2336,2338,2340,2341,2342,2347,2349,2350,2352,2353,2354,2358,2360,\n",
    "          2361,2364,2366,2367,2372,2379,2381,2383,2385,2394,2400,2402,2403,2405,2406,2411,2413,\n",
    "          2417,2425,2431,2437,2440,2441,2448,2452,2453,2457,2461,2473,2485,2487,2488,2494,2497,\n",
    "          2499,2503,2505,2507,2508,2511,2512,2518,2522,2524,2529,2535,2536,2543,2544,2545,2546,\n",
    "          2547,2549,2551,2553,2554,2558,2561,2565,2569,2571,2572,2573,2574,2576,2583,2585,2586,\n",
    "          2587,2588,2593,2600,2601,2607,2611,2612,2617,2625,2626,2629,2634,2636,2640,2641,2646,\n",
    "          2651,2654,2655,2662,2663,2666,2667,2670,2675,2681,2684,2688,2691,2693,2695,2697,2703,\n",
    "          2715,2718,2724,2729,2730,2731,2734,2746,2753,2754,2757,2764,2765,2766,2768,2776,2777,\n",
    "          2778,2779,2781,2782,2792,2794,2797,2801,2802,2804,2806,2808,2811,2816,2817,2818,2824,\n",
    "          2828,2829,2830,2832,2838,2839,2840,2842,2843,2851,2853,2856,2857,2858,2864,2872,2878,\n",
    "           2894,2898,2899,2901,2902,2905,2909,2913,2919,2920,2924,2929,2931,2932,2936,2937,2939,\n",
    "           2940,2941,2942,2945,2966,2968,2970,2975,2978,2986,2991,2996,2998]\n",
    "index_pos=[14,22,56,79,122,163,195,237,242,253,400,407,408,410,434,435,439,443,457,459,479,\n",
    "          528,569,617,666,741,755,855,919,942,974,975,1027,1055,1167,1179,1465,1513,1520,1614,\n",
    "          1817,1818,1819,1820,2004,2021,2069,2137,2334,2610,2664,2696,2705,2739,2770,2796,2813]\n",
    "greve_twitter_origin['polarity'].iloc[index_neg] = 'negatif'\n",
    "greve_twitter_origin['polarity'].iloc[index_pos] = 'positif'\n"
   ]
  },
  {
   "cell_type": "code",
   "execution_count": 152,
   "metadata": {},
   "outputs": [
    {
     "data": {
      "text/plain": [
       "negatif    1383\n",
       "positif     617\n",
       "Name: polarity, dtype: int64"
      ]
     },
     "execution_count": 152,
     "metadata": {},
     "output_type": "execute_result"
    }
   ],
   "source": [
    "greve_twitter_train = greve_twitter_origin[0:2000]\n",
    "greve_twitter_train['polarity'].value_counts()"
   ]
  },
  {
   "cell_type": "code",
   "execution_count": 154,
   "metadata": {},
   "outputs": [
    {
     "data": {
      "text/plain": [
       "negatif    1383\n",
       "positif    1383\n",
       "Name: polarity, dtype: int64"
      ]
     },
     "execution_count": 154,
     "metadata": {},
     "output_type": "execute_result"
    }
   ],
   "source": [
    "df_majority = greve_twitter_train[greve_twitter_train.polarity=='negatif']\n",
    "df_minority = greve_twitter_train[greve_twitter_train.polarity=='positif']\n",
    " \n",
    "# Upsample minority class\n",
    "df_minority_upsampled = resample(df_minority, \n",
    "                                 replace=True,     # sample with replacement\n",
    "                                 n_samples=1383,    # to match majority class\n",
    "                                 random_state=123) # reproducible results\n",
    " \n",
    "# Combine majority class with upsampled minority class\n",
    "greve_twitter_train = pd.concat([df_majority, df_minority_upsampled])\n",
    " \n",
    "# Display new class counts\n",
    "greve_twitter_train.polarity.value_counts()"
   ]
  },
  {
   "cell_type": "raw",
   "metadata": {},
   "source": [
    "greve_twitter_train = greve_twitter_origin[0:1000]\n",
    "greve_twitter_test = greve_twitter_origin[1000:-1]\n",
    "greve_twitter_train.to_csv('greve_twitter_train.csv')\n",
    "greve_twitter_test.to_csv('greve_twitter_test.csv')"
   ]
  },
  {
   "cell_type": "code",
   "execution_count": 155,
   "metadata": {},
   "outputs": [],
   "source": [
    "count_vectorizer = CountVectorizer(analyzer='word') \n",
    "cv = count_vectorizer.fit(greve_twitter_train['tweet_processed2'])\n",
    "pickle.dump(cv, open(\"cv1.pkl\", \"wb\"))\n",
    "cv_ = count_vectorizer.fit_transform(greve_twitter_train['tweet_processed2'])\n",
    "cv1 = pickle.load(open(\"cv1.pkl\", 'rb'))\n",
    "cv1_new = CountVectorizer(vocabulary = cv1.vocabulary_)"
   ]
  },
  {
   "cell_type": "code",
   "execution_count": 156,
   "metadata": {},
   "outputs": [],
   "source": [
    "X_train_logreg,X_test_logreg,y_train_logreg,y_test_logreg = train_test_split(cv_,\n",
    "                                                greve_twitter_train['polarity'] , test_size=.2,\n",
    "                                                 random_state=42)"
   ]
  },
  {
   "cell_type": "code",
   "execution_count": 157,
   "metadata": {},
   "outputs": [
    {
     "name": "stdout",
     "output_type": "stream",
     "text": [
      "              precision    recall  f1-score   support\n",
      "\n",
      "     negatif       0.80      0.94      0.86       243\n",
      "     positif       0.95      0.81      0.88       311\n",
      "\n",
      "   micro avg       0.87      0.87      0.87       554\n",
      "   macro avg       0.87      0.88      0.87       554\n",
      "weighted avg       0.88      0.87      0.87       554\n",
      "\n"
     ]
    }
   ],
   "source": [
    "logreg = LogisticRegression(C=1,penalty=\"l2\")\n",
    "logreg.fit(X_train_logreg,y_train_logreg)\n",
    "prediction_logreg = logreg.predict(X_test_logreg)\n",
    "print(classification_report(prediction_logreg,y_test_logreg))"
   ]
  },
  {
   "cell_type": "code",
   "execution_count": 2,
   "metadata": {},
   "outputs": [
    {
     "ename": "NameError",
     "evalue": "name 'train_test_split' is not defined",
     "output_type": "error",
     "traceback": [
      "\u001b[1;31m---------------------------------------------------------------------------\u001b[0m",
      "\u001b[1;31mNameError\u001b[0m                                 Traceback (most recent call last)",
      "\u001b[1;32m<ipython-input-2-63dc682d3825>\u001b[0m in \u001b[0;36m<module>\u001b[1;34m\u001b[0m\n\u001b[1;32m----> 1\u001b[1;33m \u001b[0mX_train_xg\u001b[0m\u001b[1;33m,\u001b[0m\u001b[0mX_test_xg\u001b[0m\u001b[1;33m,\u001b[0m\u001b[0my_train_xg\u001b[0m\u001b[1;33m,\u001b[0m\u001b[0my_test_xg\u001b[0m \u001b[1;33m=\u001b[0m \u001b[0mtrain_test_split\u001b[0m\u001b[1;33m(\u001b[0m\u001b[0mcv_\u001b[0m\u001b[1;33m,\u001b[0m \u001b[0mgreve_twitter_train\u001b[0m\u001b[1;33m[\u001b[0m\u001b[1;34m'polarity'\u001b[0m\u001b[1;33m]\u001b[0m \u001b[1;33m,\u001b[0m\u001b[0mtest_size\u001b[0m\u001b[1;33m=\u001b[0m\u001b[1;36m.2\u001b[0m\u001b[1;33m,\u001b[0m\u001b[0mstratify\u001b[0m\u001b[1;33m=\u001b[0m\u001b[0mtrain\u001b[0m\u001b[1;33m[\u001b[0m\u001b[1;34m'polarity'\u001b[0m\u001b[1;33m]\u001b[0m\u001b[1;33m,\u001b[0m \u001b[0mrandom_state\u001b[0m\u001b[1;33m=\u001b[0m\u001b[1;36m42\u001b[0m\u001b[1;33m)\u001b[0m\u001b[1;33m\u001b[0m\u001b[1;33m\u001b[0m\u001b[0m\n\u001b[0m",
      "\u001b[1;31mNameError\u001b[0m: name 'train_test_split' is not defined"
     ]
    }
   ],
   "source": [
    "X_train_xg,X_test_xg,y_train_xg,y_test_xg = train_test_split(cv_,greve_twitter_train['polarity'],\n",
    "                                                             test_size=.2,random_state=42)\n",
    "xgbc = XGBClassifier(max_depth=9, min_child_weight=4, n_estimators=1000, nthread= 3)\n",
    "xgbc.fit(X_train_xg,y_train_xg)\n",
    "prediction_xgb = xgbc.predict(X_test_xg)\n",
    "print(classification_report(prediction_xgb,y_test_xg))"
   ]
  },
  {
   "cell_type": "code",
   "execution_count": 158,
   "metadata": {},
   "outputs": [],
   "source": [
    "greve_twitter_test = greve_twitter_origin[3000:-1]\n",
    "X_cv2 = cv1_new.transform(greve_twitter_test['tweet_processed2'])\n",
    "greve_twitter_test['polarity']=logreg.predict(X_cv2)\n",
    "greve_twitter = pd.concat([greve_twitter_train, greve_twitter_test], ignore_index=True)"
   ]
  },
  {
   "cell_type": "code",
   "execution_count": null,
   "metadata": {},
   "outputs": [],
   "source": [
    "#grevetwitter = greve_twitter.drop(columns='polarity2',inplace=True)\n",
    "greve_twitter.to_csv('greve_twitter_classif2.csv')"
   ]
  }
 ],
 "metadata": {
  "kernelspec": {
   "display_name": "Python 3",
   "language": "python",
   "name": "python3"
  },
  "language_info": {
   "codemirror_mode": {
    "name": "ipython",
    "version": 3
   },
   "file_extension": ".py",
   "mimetype": "text/x-python",
   "name": "python",
   "nbconvert_exporter": "python",
   "pygments_lexer": "ipython3",
   "version": "3.7.6"
  }
 },
 "nbformat": 4,
 "nbformat_minor": 2
}
