{
 "cells": [
  {
   "cell_type": "raw",
   "metadata": {},
   "source": [
    "methodo : \n",
    "    1. scraping twitter des tweets contenant un # entre 2 dates\n",
    "    2. cleaning, token, stop-words\n",
    "    3. stockage dans un dataset -> ce sera le test\n",
    "    4. Avec le premier essai, je sors mon train que je note manuellement\n",
    "    5. Dév modèle de classification NLP pour déterminer l'opinion sur le hashtag (positif/neutre/négatif)"
   ]
  },
  {
   "cell_type": "code",
   "execution_count": 134,
   "metadata": {},
   "outputs": [],
   "source": [
    "import tweepy\n",
    "\n",
    "API_KEY = \"HZh8MFUydAVaIN50fYh2w5iVr\"\n",
    "API_SECRET = \"BjkcY9H2tZhTHH2gDiyeByRJaBWExXxW523ZXvhy5jyh0mTlLn\"\n",
    "ACCESS_TOKEN = \"301590896-xTlLyxVVYURtMRFDyhBa4BHEOEAHheCa9iEdicQv\"\n",
    "ACCESS_TOKEN_SECRET = \"90soM5pLMXfuWkP1BIGVEDZFrBWkearvAiEeJ72JbW5rc\"\n",
    "\n",
    "auth = tweepy.OAuthHandler(API_KEY, API_SECRET)\n",
    "auth.set_access_token(ACCESS_TOKEN, ACCESS_TOKEN_SECRET)\n",
    "api = tweepy.API(auth, wait_on_rate_limit=True)"
   ]
  },
  {
   "cell_type": "code",
   "execution_count": 135,
   "metadata": {},
   "outputs": [],
   "source": [
    "def tweetSearch(query, limit = 100, language = \"fr\", date_since=\"2019-12-05\", date_until=\"2019-12-06\"):\n",
    "    text = \"\"\n",
    "    for tweet in tweepy.Cursor(api.search, q=query, lang=language, since=date_since, until=date_until).items(limit):\n",
    "        text += tweet.text.lower() + \";;\"\n",
    "    return text"
   ]
  },
  {
   "cell_type": "code",
   "execution_count": 136,
   "metadata": {},
   "outputs": [],
   "source": [
    "greve = tweetSearch(\"#Grève\")"
   ]
  },
  {
   "cell_type": "code",
   "execution_count": 137,
   "metadata": {},
   "outputs": [],
   "source": [
    "greve = greve.split(';;')\n",
    "greve = set(greve)\n",
    "greve = [i for i in greve if i] "
   ]
  },
  {
   "cell_type": "code",
   "execution_count": 138,
   "metadata": {},
   "outputs": [
    {
     "data": {
      "text/plain": [
       "[\"rt @caathaarsis: une lacrymo tombe dans le système de filtration d'air d'une salle de sport de wazemmes. plusieurs gamines gazées. un flic…\",\n",
       " \"rt @f3aquitaine: #grève &gt; à quoi faut-il s'attendre demain vendredi 6 décembre en aquitaine ? \\nhttps://t.co/yzrkqqq8iz\",\n",
       " 'rt @triboque: la meilleure chose qui pourrait sortir du mouvement contre la réforme des retraites serait que les moins de 45ans prennent co…',\n",
       " 'rt @stylos_les: on manifeste sous toutes les latitudes contre la réforme des retraites. #tahiti \\n\\n#stylosrouges #5decembre #5decembre2019 #…',\n",
       " 'rt @aquatennens: j’étais invité ce soir à intervenir en duplex sur @france2tv pour l’émission #valp afin d’interpeller le gouvernement dont…',\n",
       " 'rt @stylos_les: les enseignants défilent à #grenoble contre la réforme des retraites !\\n\\n#stylosrouges #5decembre #5decembre2019 #greve5dece…',\n",
       " 'rt @jlmelenchon: énorme succès de la mobilisation partout en france ! \\n\\nça sent le roussi pour #macron !\\n\\n#greve5decembre #grevedu5décembre…',\n",
       " \"rt @valcharliepop: 800000 selon la police. c'est donc que le million a été atteint. \\nbravo à tous et merci !\\n#5decembre2019 #greve\\n#solidar…\",\n",
       " 'rt @dionjack2: la presse s’interroge : comment travailler en période de grève? ou : comment aller au boulot par temps de grève ? un jour, p…',\n",
       " 'rt @stylos_les: manifestation interprofessionnelle à #cholet où les #stylosrouges étaient représentés \\n\\n#stylosrouges #5decembre #5decembre…']"
      ]
     },
     "execution_count": 138,
     "metadata": {},
     "output_type": "execute_result"
    }
   ],
   "source": [
    "greve[:10]"
   ]
  },
  {
   "cell_type": "code",
   "execution_count": 147,
   "metadata": {},
   "outputs": [],
   "source": [
    "def clean_up(x):\n",
    "    import re\n",
    "    a=[]\n",
    "    for s in x:\n",
    "        s=s.replace(\"\"\"'\"\"\",' ')\n",
    "        s= re.sub(r'http\\S+|(www\\.[^\\s]+)|(@\\S+)',' ',s)\n",
    "        s=re.sub('[\\d]',' ',s)\n",
    "        s= re.sub('[^\\w\\s]',' ',s)\n",
    "        s= re.sub('\\s\\s+',' ',s)\n",
    "        s=s.lower().strip()\n",
    "        a.append(s)\n",
    "    return a\n",
    "def stem_and_lemmatize(l):\n",
    "    from nltk import stem\n",
    "    stemmer = stem.PorterStemmer()\n",
    "    o=[]\n",
    "    for b in l:\n",
    "        o.append(stemmer.stem(b))\n",
    "    from nltk.stem import WordNetLemmatizer\n",
    "    lemmatizer = WordNetLemmatizer()\n",
    "    p=[]\n",
    "    for a in o:\n",
    "        p.append(lemmatizer.lemmatize(a))\n",
    "    return p\n",
    "def stop_word(l):\n",
    "    from nltk.corpus import stopwords \n",
    "    from nltk.tokenize import word_tokenize \n",
    "    stop_words = stopwords.words('french')\n",
    "    stop_words.append('rt')\n",
    "    filtered_sentence=[]\n",
    "    for a in l:\n",
    "        word_tokens = word_tokenize(a)\n",
    "        filtered_sentence.append([w for w in word_tokens if not w in stop_words])\n",
    "    return [' '.join(x) for x in filtered_sentence]"
   ]
  },
  {
   "cell_type": "code",
   "execution_count": 148,
   "metadata": {},
   "outputs": [],
   "source": [
    "greve_clean = clean_up(greve)"
   ]
  },
  {
   "cell_type": "code",
   "execution_count": 149,
   "metadata": {},
   "outputs": [
    {
     "data": {
      "text/plain": [
       "['rt une lacrymo tombe dans le système de filtration d air d une salle de sport de wazemmes plusieurs gamines gazées un flic',\n",
       " 'rt grève gt à quoi faut il s attendre demain vendredi décembre en aquitaine',\n",
       " 'rt la meilleure chose qui pourrait sortir du mouvement contre la réforme des retraites serait que les moins de ans prennent co',\n",
       " 'rt on manifeste sous toutes les latitudes contre la réforme des retraites tahiti stylosrouges decembre decembre',\n",
       " 'rt j étais invité ce soir à intervenir en duplex sur pour l émission valp afin d interpeller le gouvernement dont']"
      ]
     },
     "execution_count": 149,
     "metadata": {},
     "output_type": "execute_result"
    }
   ],
   "source": [
    "greve_clean[:5]"
   ]
  },
  {
   "cell_type": "code",
   "execution_count": 150,
   "metadata": {},
   "outputs": [
    {
     "data": {
      "text/plain": [
       "['lacrymo tombe système filtration air salle sport wazemmes plusieurs gamines gazées flic',\n",
       " 'grève gt quoi faut attendre demain vendredi décembre aquitaine',\n",
       " 'meilleure chose pourrait sortir mouvement contre réforme retraites moins ans prennent co',\n",
       " 'manifeste sous toutes latitudes contre réforme retraites tahiti stylosrouges decembre decembre',\n",
       " 'invité soir intervenir duplex émission valp afin interpeller gouvernement dont']"
      ]
     },
     "execution_count": 150,
     "metadata": {},
     "output_type": "execute_result"
    }
   ],
   "source": [
    "greve_clean2 = stop_word(greve_clean)\n",
    "greve_clean2[:5]"
   ]
  },
  {
   "cell_type": "code",
   "execution_count": 151,
   "metadata": {},
   "outputs": [],
   "source": [
    "import pandas as pd\n",
    "greve_tweets = pd.DataFrame(columns=['tweet','positif/negatif'])"
   ]
  },
  {
   "cell_type": "code",
   "execution_count": 152,
   "metadata": {},
   "outputs": [],
   "source": [
    "greve_tweets['tweet']=greve_clean2"
   ]
  },
  {
   "cell_type": "code",
   "execution_count": 153,
   "metadata": {},
   "outputs": [],
   "source": [
    "greve_tweets.to_csv('greve_tweets.csv')"
   ]
  },
  {
   "cell_type": "code",
   "execution_count": null,
   "metadata": {},
   "outputs": [],
   "source": []
  }
 ],
 "metadata": {
  "kernelspec": {
   "display_name": "Python 3",
   "language": "python",
   "name": "python3"
  },
  "language_info": {
   "codemirror_mode": {
    "name": "ipython",
    "version": 3
   },
   "file_extension": ".py",
   "mimetype": "text/x-python",
   "name": "python",
   "nbconvert_exporter": "python",
   "pygments_lexer": "ipython3",
   "version": "3.7.3"
  }
 },
 "nbformat": 4,
 "nbformat_minor": 2
}
