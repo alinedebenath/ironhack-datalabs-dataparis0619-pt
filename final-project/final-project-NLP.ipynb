{
 "cells": [
  {
   "cell_type": "code",
   "execution_count": null,
   "metadata": {},
   "outputs": [],
   "source": []
  },
  {
   "cell_type": "code",
   "execution_count": 1,
   "metadata": {},
   "outputs": [],
   "source": [
    "import tweepy\n",
    "\n",
    "API_KEY = \"HZh8MFUydAVaIN50fYh2w5iVr\"\n",
    "API_SECRET = \"BjkcY9H2tZhTHH2gDiyeByRJaBWExXxW523ZXvhy5jyh0mTlLn\"\n",
    "ACCESS_TOKEN = \"301590896-xTlLyxVVYURtMRFDyhBa4BHEOEAHheCa9iEdicQv\"\n",
    "ACCESS_TOKEN_SECRET = \"90soM5pLMXfuWkP1BIGVEDZFrBWkearvAiEeJ72JbW5rc\"\n",
    "\n",
    "auth = tweepy.OAuthHandler(API_KEY, API_SECRET)\n",
    "auth.set_access_token(ACCESS_TOKEN, ACCESS_TOKEN_SECRET)\n",
    "api = tweepy.API(auth, wait_on_rate_limit=True)"
   ]
  },
  {
   "cell_type": "code",
   "execution_count": 3,
   "metadata": {},
   "outputs": [],
   "source": [
    "def tweetSearch(query, limit = 10000, language = \"fr\", date_since=\"2019-12-05\"):\n",
    "    text = \"\"\n",
    "    for tweet in tweepy.Cursor(api.search, q=query, lang=language, since=date_since).items(limit):\n",
    "        text += tweet.text.lower()\n",
    "    return text"
   ]
  },
  {
   "cell_type": "code",
   "execution_count": null,
   "metadata": {},
   "outputs": [],
   "source": [
    "greve = tweetSearch(\"grève\")"
   ]
  },
  {
   "cell_type": "code",
   "execution_count": null,
   "metadata": {},
   "outputs": [],
   "source": []
  }
 ],
 "metadata": {
  "kernelspec": {
   "display_name": "Python 3",
   "language": "python",
   "name": "python3"
  },
  "language_info": {
   "codemirror_mode": {
    "name": "ipython",
    "version": 3
   },
   "file_extension": ".py",
   "mimetype": "text/x-python",
   "name": "python",
   "nbconvert_exporter": "python",
   "pygments_lexer": "ipython3",
   "version": "3.7.3"
  }
 },
 "nbformat": 4,
 "nbformat_minor": 2
}
