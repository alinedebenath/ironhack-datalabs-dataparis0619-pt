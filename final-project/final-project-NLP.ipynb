{
 "cells": [
  {
   "cell_type": "raw",
   "metadata": {},
   "source": [
    "provenance dataset train : https://github.com/gamebusterz/French-Sentiment-Analysis-Dataset\n",
    "methodo :\n",
    "    1. train à partir du dataset French sentiment analysis\n",
    "    ou 1b. 1ere extraction = train (1000 ?) avec labellisation manuelle (positif/neutre/négatif) -> NON\n",
    "    2. ML workflow : cleaning, token, stop-words puis séparation en train/test\n",
    "    3. Count vectorization\n",
    "    4. Dév modèle de classification NLP\n",
    "    \n",
    "NLP2 :\n",
    "    5. scraping twitter des tweets contenant un # entre 2 dates\n",
    "    6. Classification des tweets\n",
    "    \n",
    "à faire : \n",
    "- ajouter aux stop words les mots d'une seule lettre -> fait avec POS tag\n",
    "- input/output test\n"
   ]
  },
  {
   "cell_type": "code",
   "execution_count": 23,
   "metadata": {},
   "outputs": [],
   "source": [
    "from datetime import datetime\n",
    "start_time = datetime.now()\n",
    "import os\n",
    "import re\n",
    "import nltk\n",
    "import pandas as pd\n",
    "import got3\n",
    "import matplotlib.pyplot as plt\n",
    "from nltk.tokenize import word_tokenize\n",
    "from nltk.corpus import stopwords\n",
    "from nltk.stem.snowball import FrenchStemmer\n",
    "from nltk import NaiveBayesClassifier\n",
    "from sklearn.model_selection import train_test_split"
   ]
  },
  {
   "cell_type": "markdown",
   "metadata": {},
   "source": [
    "## Importing and cleaning train "
   ]
  },
  {
   "cell_type": "code",
   "execution_count": 24,
   "metadata": {},
   "outputs": [],
   "source": [
    "train= pd.read_csv('./nlp/tweets.csv', sep='^([^,]+),', engine='python', error_bad_lines=False, encoding='utf-8', index_col=[0])"
   ]
  },
  {
   "cell_type": "code",
   "execution_count": 25,
   "metadata": {},
   "outputs": [
    {
     "data": {
      "text/html": [
       "<div>\n",
       "<style scoped>\n",
       "    .dataframe tbody tr th:only-of-type {\n",
       "        vertical-align: middle;\n",
       "    }\n",
       "\n",
       "    .dataframe tbody tr th {\n",
       "        vertical-align: top;\n",
       "    }\n",
       "\n",
       "    .dataframe thead th {\n",
       "        text-align: right;\n",
       "    }\n",
       "</style>\n",
       "<table border=\"1\" class=\"dataframe\">\n",
       "  <thead>\n",
       "    <tr style=\"text-align: right;\">\n",
       "      <th></th>\n",
       "      <th>polarity</th>\n",
       "      <th>statutnull</th>\n",
       "    </tr>\n",
       "  </thead>\n",
       "  <tbody>\n",
       "    <tr>\n",
       "      <td>NaN</td>\n",
       "      <td>0</td>\n",
       "      <td>- Awww, c'est nul. Tu aurais du prendre David ...</td>\n",
       "    </tr>\n",
       "    <tr>\n",
       "      <td>NaN</td>\n",
       "      <td>0</td>\n",
       "      <td>Est contrarié qu'il ne puisse pas mettre à jou...</td>\n",
       "    </tr>\n",
       "    <tr>\n",
       "      <td>NaN</td>\n",
       "      <td>0</td>\n",
       "      <td>J'ai plongé plusieurs fois pour la balle. A ré...</td>\n",
       "    </tr>\n",
       "    <tr>\n",
       "      <td>NaN</td>\n",
       "      <td>0</td>\n",
       "      <td>Tout mon corps a des démangeaisons et comme si...</td>\n",
       "    </tr>\n",
       "    <tr>\n",
       "      <td>NaN</td>\n",
       "      <td>0</td>\n",
       "      <td>Non, il ne se comporte pas bien du tout. je su...</td>\n",
       "    </tr>\n",
       "  </tbody>\n",
       "</table>\n",
       "</div>"
      ],
      "text/plain": [
       "    polarity                                         statutnull\n",
       "NaN        0  - Awww, c'est nul. Tu aurais du prendre David ...\n",
       "NaN        0  Est contrarié qu'il ne puisse pas mettre à jou...\n",
       "NaN        0  J'ai plongé plusieurs fois pour la balle. A ré...\n",
       "NaN        0  Tout mon corps a des démangeaisons et comme si...\n",
       "NaN        0  Non, il ne se comporte pas bien du tout. je su..."
      ]
     },
     "execution_count": 25,
     "metadata": {},
     "output_type": "execute_result"
    }
   ],
   "source": [
    "train.head()"
   ]
  },
  {
   "cell_type": "code",
   "execution_count": 26,
   "metadata": {},
   "outputs": [],
   "source": [
    "train = train.reset_index(drop=True)"
   ]
  },
  {
   "cell_type": "code",
   "execution_count": 27,
   "metadata": {},
   "outputs": [
    {
     "data": {
      "text/html": [
       "<div>\n",
       "<style scoped>\n",
       "    .dataframe tbody tr th:only-of-type {\n",
       "        vertical-align: middle;\n",
       "    }\n",
       "\n",
       "    .dataframe tbody tr th {\n",
       "        vertical-align: top;\n",
       "    }\n",
       "\n",
       "    .dataframe thead th {\n",
       "        text-align: right;\n",
       "    }\n",
       "</style>\n",
       "<table border=\"1\" class=\"dataframe\">\n",
       "  <thead>\n",
       "    <tr style=\"text-align: right;\">\n",
       "      <th></th>\n",
       "      <th>polarity</th>\n",
       "      <th>statutnull</th>\n",
       "    </tr>\n",
       "  </thead>\n",
       "  <tbody>\n",
       "    <tr>\n",
       "      <td>0</td>\n",
       "      <td>0</td>\n",
       "      <td>- Awww, c'est nul. Tu aurais du prendre David ...</td>\n",
       "    </tr>\n",
       "    <tr>\n",
       "      <td>1</td>\n",
       "      <td>0</td>\n",
       "      <td>Est contrarié qu'il ne puisse pas mettre à jou...</td>\n",
       "    </tr>\n",
       "    <tr>\n",
       "      <td>2</td>\n",
       "      <td>0</td>\n",
       "      <td>J'ai plongé plusieurs fois pour la balle. A ré...</td>\n",
       "    </tr>\n",
       "    <tr>\n",
       "      <td>3</td>\n",
       "      <td>0</td>\n",
       "      <td>Tout mon corps a des démangeaisons et comme si...</td>\n",
       "    </tr>\n",
       "    <tr>\n",
       "      <td>4</td>\n",
       "      <td>0</td>\n",
       "      <td>Non, il ne se comporte pas bien du tout. je su...</td>\n",
       "    </tr>\n",
       "  </tbody>\n",
       "</table>\n",
       "</div>"
      ],
      "text/plain": [
       "  polarity                                         statutnull\n",
       "0        0  - Awww, c'est nul. Tu aurais du prendre David ...\n",
       "1        0  Est contrarié qu'il ne puisse pas mettre à jou...\n",
       "2        0  J'ai plongé plusieurs fois pour la balle. A ré...\n",
       "3        0  Tout mon corps a des démangeaisons et comme si...\n",
       "4        0  Non, il ne se comporte pas bien du tout. je su..."
      ]
     },
     "execution_count": 27,
     "metadata": {},
     "output_type": "execute_result"
    }
   ],
   "source": [
    "train.head()"
   ]
  },
  {
   "cell_type": "code",
   "execution_count": 28,
   "metadata": {},
   "outputs": [
    {
     "data": {
      "text/plain": [
       "Index(['polarity', 'statutnull'], dtype='object')"
      ]
     },
     "execution_count": 28,
     "metadata": {},
     "output_type": "execute_result"
    }
   ],
   "source": [
    "train.columns"
   ]
  },
  {
   "cell_type": "code",
   "execution_count": 29,
   "metadata": {},
   "outputs": [],
   "source": [
    "train['polarity'] = train['polarity'].str.replace(\"0\",\"negatif\").str.replace(\"4\",\"positif\")"
   ]
  },
  {
   "cell_type": "code",
   "execution_count": 30,
   "metadata": {},
   "outputs": [],
   "source": [
    "index_zero = train[(train['polarity'] != 'positif') & (train['polarity']!= 'negatif')].index"
   ]
  },
  {
   "cell_type": "code",
   "execution_count": 31,
   "metadata": {},
   "outputs": [],
   "source": [
    "train.drop(index_zero, inplace=True)"
   ]
  },
  {
   "cell_type": "code",
   "execution_count": 32,
   "metadata": {},
   "outputs": [],
   "source": [
    "train = train.dropna()"
   ]
  },
  {
   "cell_type": "code",
   "execution_count": 33,
   "metadata": {},
   "outputs": [],
   "source": [
    "train = train.sample(n=200000)"
   ]
  },
  {
   "cell_type": "code",
   "execution_count": 34,
   "metadata": {},
   "outputs": [
    {
     "data": {
      "text/plain": [
       "positif    100400\n",
       "negatif     99600\n",
       "Name: polarity, dtype: int64"
      ]
     },
     "execution_count": 34,
     "metadata": {},
     "output_type": "execute_result"
    }
   ],
   "source": [
    "train['polarity'].value_counts()\n",
    "#.plot(kind='bar')"
   ]
  },
  {
   "cell_type": "code",
   "execution_count": 35,
   "metadata": {},
   "outputs": [
    {
     "data": {
      "text/plain": [
       "{'negatif', 'positif'}"
      ]
     },
     "execution_count": 35,
     "metadata": {},
     "output_type": "execute_result"
    }
   ],
   "source": [
    "set(train['polarity'])"
   ]
  },
  {
   "cell_type": "code",
   "execution_count": 36,
   "metadata": {},
   "outputs": [],
   "source": [
    "def clean_up(tweet):\n",
    "    tweet = re.sub(r'http\\S+|(pic.twitter\\.[^\\s]+)|(www\\.[^\\s]+)|(@\\S+)|\\s\\s+|[^\\w\\s]',' ',tweet) \n",
    "    #1:http+suite/2.pic.twitter+suite/3.www.+suite/4.@+suite/5.espaces++/6.ponctuation\n",
    "    tweet = tweet.lower().strip() #bdc\n",
    "    tweet = word_tokenize(tweet) #tokenisation\n",
    "    stop_words = stopwords.words('french') #stopwords nltk\n",
    "    stop_words.append('rt') #+'rt'\n",
    "    tweet = [word for word in tweet if word not in stop_words]\n",
    "    tweet = [word for word in tweet if len(word)>1] #exclus mot de 1 lettre\n",
    "    return ' '.join(tweet) #retour sans tokenisation, requis par spacy\n",
    "def stem_spacy(tweet):\n",
    "    import spacy\n",
    "    nlp = spacy.load('fr_core_news_sm')\n",
    "    tweet = tweet.apply(nlp)\n",
    "    tweet_stem=[]\n",
    "    for doc in tweet:\n",
    "        tweet_stem.append([word.lemma_ for word in doc])\n",
    "    return tweet_stem"
   ]
  },
  {
   "cell_type": "code",
   "execution_count": 37,
   "metadata": {},
   "outputs": [],
   "source": [
    "train.statutnull = train.statutnull.astype(str)"
   ]
  },
  {
   "cell_type": "code",
   "execution_count": 38,
   "metadata": {},
   "outputs": [],
   "source": [
    "train['original'] = train['statutnull']"
   ]
  },
  {
   "cell_type": "code",
   "execution_count": 39,
   "metadata": {},
   "outputs": [],
   "source": [
    "train.statutnull = train.statutnull.apply(lambda s: clean_up(s))"
   ]
  },
  {
   "cell_type": "code",
   "execution_count": 40,
   "metadata": {},
   "outputs": [
    {
     "data": {
      "text/html": [
       "<div>\n",
       "<style scoped>\n",
       "    .dataframe tbody tr th:only-of-type {\n",
       "        vertical-align: middle;\n",
       "    }\n",
       "\n",
       "    .dataframe tbody tr th {\n",
       "        vertical-align: top;\n",
       "    }\n",
       "\n",
       "    .dataframe thead th {\n",
       "        text-align: right;\n",
       "    }\n",
       "</style>\n",
       "<table border=\"1\" class=\"dataframe\">\n",
       "  <thead>\n",
       "    <tr style=\"text-align: right;\">\n",
       "      <th></th>\n",
       "      <th>polarity</th>\n",
       "      <th>statutnull</th>\n",
       "      <th>original</th>\n",
       "    </tr>\n",
       "  </thead>\n",
       "  <tbody>\n",
       "    <tr>\n",
       "      <td>699617</td>\n",
       "      <td>negatif</td>\n",
       "      <td>coincé travail alors 160 haralson détruit croi...</td>\n",
       "      <td>Je suis coincé au travail alors que 160 harals...</td>\n",
       "    </tr>\n",
       "    <tr>\n",
       "      <td>1392903</td>\n",
       "      <td>positif</td>\n",
       "      <td>droit queue</td>\n",
       "      <td>Droit sur la queue</td>\n",
       "    </tr>\n",
       "    <tr>\n",
       "      <td>165893</td>\n",
       "      <td>negatif</td>\n",
       "      <td>travail nul</td>\n",
       "      <td>Mon travail est nul !!!</td>\n",
       "    </tr>\n",
       "    <tr>\n",
       "      <td>406813</td>\n",
       "      <td>negatif</td>\n",
       "      <td>argh trouvais logistique aller où courir lorsq...</td>\n",
       "      <td>Argh. Je trouvais la logistique d'aller et d'o...</td>\n",
       "    </tr>\n",
       "    <tr>\n",
       "      <td>1085748</td>\n",
       "      <td>positif</td>\n",
       "      <td>avoir belle journée famille fait bien</td>\n",
       "      <td>Avoir une belle journée avec la famille. sa fa...</td>\n",
       "    </tr>\n",
       "  </tbody>\n",
       "</table>\n",
       "</div>"
      ],
      "text/plain": [
       "        polarity                                         statutnull  \\\n",
       "699617   negatif  coincé travail alors 160 haralson détruit croi...   \n",
       "1392903  positif                                        droit queue   \n",
       "165893   negatif                                        travail nul   \n",
       "406813   negatif  argh trouvais logistique aller où courir lorsq...   \n",
       "1085748  positif              avoir belle journée famille fait bien   \n",
       "\n",
       "                                                  original  \n",
       "699617   Je suis coincé au travail alors que 160 harals...  \n",
       "1392903                                 Droit sur la queue  \n",
       "165893                             Mon travail est nul !!!  \n",
       "406813   Argh. Je trouvais la logistique d'aller et d'o...  \n",
       "1085748  Avoir une belle journée avec la famille. sa fa...  "
      ]
     },
     "execution_count": 40,
     "metadata": {},
     "output_type": "execute_result"
    }
   ],
   "source": [
    "train.head()"
   ]
  },
  {
   "cell_type": "code",
   "execution_count": 41,
   "metadata": {},
   "outputs": [],
   "source": [
    "train.statutnull = stem_spacy(train.statutnull)"
   ]
  },
  {
   "cell_type": "code",
   "execution_count": 42,
   "metadata": {},
   "outputs": [
    {
     "data": {
      "text/html": [
       "<div>\n",
       "<style scoped>\n",
       "    .dataframe tbody tr th:only-of-type {\n",
       "        vertical-align: middle;\n",
       "    }\n",
       "\n",
       "    .dataframe tbody tr th {\n",
       "        vertical-align: top;\n",
       "    }\n",
       "\n",
       "    .dataframe thead th {\n",
       "        text-align: right;\n",
       "    }\n",
       "</style>\n",
       "<table border=\"1\" class=\"dataframe\">\n",
       "  <thead>\n",
       "    <tr style=\"text-align: right;\">\n",
       "      <th></th>\n",
       "      <th>polarity</th>\n",
       "      <th>statutnull</th>\n",
       "      <th>original</th>\n",
       "    </tr>\n",
       "  </thead>\n",
       "  <tbody>\n",
       "    <tr>\n",
       "      <td>699617</td>\n",
       "      <td>negatif</td>\n",
       "      <td>[coincer, travail, alors, 160, haralson, détru...</td>\n",
       "      <td>Je suis coincé au travail alors que 160 harals...</td>\n",
       "    </tr>\n",
       "    <tr>\n",
       "      <td>1392903</td>\n",
       "      <td>positif</td>\n",
       "      <td>[droit, queue]</td>\n",
       "      <td>Droit sur la queue</td>\n",
       "    </tr>\n",
       "    <tr>\n",
       "      <td>165893</td>\n",
       "      <td>negatif</td>\n",
       "      <td>[travail, nul]</td>\n",
       "      <td>Mon travail est nul !!!</td>\n",
       "    </tr>\n",
       "    <tr>\n",
       "      <td>406813</td>\n",
       "      <td>negatif</td>\n",
       "      <td>[argh, trouver, logistique, aller, où, courir,...</td>\n",
       "      <td>Argh. Je trouvais la logistique d'aller et d'o...</td>\n",
       "    </tr>\n",
       "    <tr>\n",
       "      <td>1085748</td>\n",
       "      <td>positif</td>\n",
       "      <td>[avoir, beau, journée, famille, faire, bien]</td>\n",
       "      <td>Avoir une belle journée avec la famille. sa fa...</td>\n",
       "    </tr>\n",
       "  </tbody>\n",
       "</table>\n",
       "</div>"
      ],
      "text/plain": [
       "        polarity                                         statutnull  \\\n",
       "699617   negatif  [coincer, travail, alors, 160, haralson, détru...   \n",
       "1392903  positif                                     [droit, queue]   \n",
       "165893   negatif                                     [travail, nul]   \n",
       "406813   negatif  [argh, trouver, logistique, aller, où, courir,...   \n",
       "1085748  positif       [avoir, beau, journée, famille, faire, bien]   \n",
       "\n",
       "                                                  original  \n",
       "699617   Je suis coincé au travail alors que 160 harals...  \n",
       "1392903                                 Droit sur la queue  \n",
       "165893                             Mon travail est nul !!!  \n",
       "406813   Argh. Je trouvais la logistique d'aller et d'o...  \n",
       "1085748  Avoir une belle journée avec la famille. sa fa...  "
      ]
     },
     "execution_count": 42,
     "metadata": {},
     "output_type": "execute_result"
    }
   ],
   "source": [
    "train.head()"
   ]
  },
  {
   "cell_type": "code",
   "execution_count": 43,
   "metadata": {},
   "outputs": [],
   "source": [
    "train.rename(columns={'statutnull':'tweet'},inplace=True)"
   ]
  },
  {
   "cell_type": "raw",
   "metadata": {},
   "source": [
    "all_text= ' '.join([x for text in train.tweet for x in text])\n",
    "wordcloud = WordCloud(width=800, height=500, random_state=21,max_font_size=110).generate(all_text)\n",
    "plt.imshow(wordcloud, interpolation=\"bilinear\")\n",
    "plt.axis('off')"
   ]
  },
  {
   "cell_type": "code",
   "execution_count": 44,
   "metadata": {},
   "outputs": [
    {
     "data": {
      "text/plain": [
       "(200000, 3)"
      ]
     },
     "execution_count": 44,
     "metadata": {},
     "output_type": "execute_result"
    }
   ],
   "source": [
    "train.shape"
   ]
  },
  {
   "cell_type": "code",
   "execution_count": 45,
   "metadata": {},
   "outputs": [
    {
     "data": {
      "text/html": [
       "<div>\n",
       "<style scoped>\n",
       "    .dataframe tbody tr th:only-of-type {\n",
       "        vertical-align: middle;\n",
       "    }\n",
       "\n",
       "    .dataframe tbody tr th {\n",
       "        vertical-align: top;\n",
       "    }\n",
       "\n",
       "    .dataframe thead th {\n",
       "        text-align: right;\n",
       "    }\n",
       "</style>\n",
       "<table border=\"1\" class=\"dataframe\">\n",
       "  <thead>\n",
       "    <tr style=\"text-align: right;\">\n",
       "      <th></th>\n",
       "      <th>polarity</th>\n",
       "      <th>tweet</th>\n",
       "      <th>original</th>\n",
       "    </tr>\n",
       "  </thead>\n",
       "  <tbody>\n",
       "    <tr>\n",
       "      <td>0</td>\n",
       "      <td>negatif</td>\n",
       "      <td>[coincer, travail, alors, 160, haralson, détru...</td>\n",
       "      <td>Je suis coincé au travail alors que 160 harals...</td>\n",
       "    </tr>\n",
       "    <tr>\n",
       "      <td>1</td>\n",
       "      <td>positif</td>\n",
       "      <td>[droit, queue]</td>\n",
       "      <td>Droit sur la queue</td>\n",
       "    </tr>\n",
       "    <tr>\n",
       "      <td>2</td>\n",
       "      <td>negatif</td>\n",
       "      <td>[travail, nul]</td>\n",
       "      <td>Mon travail est nul !!!</td>\n",
       "    </tr>\n",
       "    <tr>\n",
       "      <td>3</td>\n",
       "      <td>negatif</td>\n",
       "      <td>[argh, trouver, logistique, aller, où, courir,...</td>\n",
       "      <td>Argh. Je trouvais la logistique d'aller et d'o...</td>\n",
       "    </tr>\n",
       "    <tr>\n",
       "      <td>4</td>\n",
       "      <td>positif</td>\n",
       "      <td>[avoir, beau, journée, famille, faire, bien]</td>\n",
       "      <td>Avoir une belle journée avec la famille. sa fa...</td>\n",
       "    </tr>\n",
       "  </tbody>\n",
       "</table>\n",
       "</div>"
      ],
      "text/plain": [
       "  polarity                                              tweet  \\\n",
       "0  negatif  [coincer, travail, alors, 160, haralson, détru...   \n",
       "1  positif                                     [droit, queue]   \n",
       "2  negatif                                     [travail, nul]   \n",
       "3  negatif  [argh, trouver, logistique, aller, où, courir,...   \n",
       "4  positif       [avoir, beau, journée, famille, faire, bien]   \n",
       "\n",
       "                                            original  \n",
       "0  Je suis coincé au travail alors que 160 harals...  \n",
       "1                                 Droit sur la queue  \n",
       "2                            Mon travail est nul !!!  \n",
       "3  Argh. Je trouvais la logistique d'aller et d'o...  \n",
       "4  Avoir une belle journée avec la famille. sa fa...  "
      ]
     },
     "execution_count": 45,
     "metadata": {},
     "output_type": "execute_result"
    }
   ],
   "source": [
    "train.reset_index(drop=True).head()"
   ]
  },
  {
   "cell_type": "code",
   "execution_count": 46,
   "metadata": {},
   "outputs": [
    {
     "data": {
      "text/html": [
       "<div>\n",
       "<style scoped>\n",
       "    .dataframe tbody tr th:only-of-type {\n",
       "        vertical-align: middle;\n",
       "    }\n",
       "\n",
       "    .dataframe tbody tr th {\n",
       "        vertical-align: top;\n",
       "    }\n",
       "\n",
       "    .dataframe thead th {\n",
       "        text-align: right;\n",
       "    }\n",
       "</style>\n",
       "<table border=\"1\" class=\"dataframe\">\n",
       "  <thead>\n",
       "    <tr style=\"text-align: right;\">\n",
       "      <th></th>\n",
       "      <th>polarity</th>\n",
       "      <th>tweet</th>\n",
       "      <th>original</th>\n",
       "      <th>tweet_processed2</th>\n",
       "    </tr>\n",
       "  </thead>\n",
       "  <tbody>\n",
       "    <tr>\n",
       "      <td>699617</td>\n",
       "      <td>negatif</td>\n",
       "      <td>[coincer, travail, alors, 160, haralson, détru...</td>\n",
       "      <td>Je suis coincé au travail alors que 160 harals...</td>\n",
       "      <td>coincer travail alors 160 haralson détruire cr...</td>\n",
       "    </tr>\n",
       "    <tr>\n",
       "      <td>1392903</td>\n",
       "      <td>positif</td>\n",
       "      <td>[droit, queue]</td>\n",
       "      <td>Droit sur la queue</td>\n",
       "      <td>droit queue</td>\n",
       "    </tr>\n",
       "    <tr>\n",
       "      <td>165893</td>\n",
       "      <td>negatif</td>\n",
       "      <td>[travail, nul]</td>\n",
       "      <td>Mon travail est nul !!!</td>\n",
       "      <td>travail nul</td>\n",
       "    </tr>\n",
       "    <tr>\n",
       "      <td>406813</td>\n",
       "      <td>negatif</td>\n",
       "      <td>[argh, trouver, logistique, aller, où, courir,...</td>\n",
       "      <td>Argh. Je trouvais la logistique d'aller et d'o...</td>\n",
       "      <td>argh trouver logistique aller où courir lorsqu...</td>\n",
       "    </tr>\n",
       "    <tr>\n",
       "      <td>1085748</td>\n",
       "      <td>positif</td>\n",
       "      <td>[avoir, beau, journée, famille, faire, bien]</td>\n",
       "      <td>Avoir une belle journée avec la famille. sa fa...</td>\n",
       "      <td>avoir beau journée famille faire bien</td>\n",
       "    </tr>\n",
       "  </tbody>\n",
       "</table>\n",
       "</div>"
      ],
      "text/plain": [
       "        polarity                                              tweet  \\\n",
       "699617   negatif  [coincer, travail, alors, 160, haralson, détru...   \n",
       "1392903  positif                                     [droit, queue]   \n",
       "165893   negatif                                     [travail, nul]   \n",
       "406813   negatif  [argh, trouver, logistique, aller, où, courir,...   \n",
       "1085748  positif       [avoir, beau, journée, famille, faire, bien]   \n",
       "\n",
       "                                                  original  \\\n",
       "699617   Je suis coincé au travail alors que 160 harals...   \n",
       "1392903                                 Droit sur la queue   \n",
       "165893                             Mon travail est nul !!!   \n",
       "406813   Argh. Je trouvais la logistique d'aller et d'o...   \n",
       "1085748  Avoir une belle journée avec la famille. sa fa...   \n",
       "\n",
       "                                          tweet_processed2  \n",
       "699617   coincer travail alors 160 haralson détruire cr...  \n",
       "1392903                                        droit queue  \n",
       "165893                                         travail nul  \n",
       "406813   argh trouver logistique aller où courir lorsqu...  \n",
       "1085748              avoir beau journée famille faire bien  "
      ]
     },
     "execution_count": 46,
     "metadata": {},
     "output_type": "execute_result"
    }
   ],
   "source": [
    "train['tweet_processed2'] = train.tweet.apply(lambda x: ' '.join(x))\n",
    "train.head()"
   ]
  },
  {
   "cell_type": "raw",
   "metadata": {},
   "source": [
    "train.to_csv('./nlp/tweets_sample.csv')"
   ]
  },
  {
   "cell_type": "raw",
   "metadata": {},
   "source": [
    "train= pd.read_csv('./nlp/tweets_sample.csv', index_col=[0])\n",
    "train.head()"
   ]
  },
  {
   "cell_type": "raw",
   "metadata": {},
   "source": [
    "train.reset_index(drop=True, inplace=True)\n",
    "train.dropna(inplace=True)\n",
    "train['tweet'] = list(train['tweet'].apply(lambda x: x.replace(\"\"\"'\"\"\",'')))\n",
    "train.head()"
   ]
  },
  {
   "cell_type": "raw",
   "metadata": {},
   "source": [
    "train.shape"
   ]
  },
  {
   "cell_type": "raw",
   "metadata": {},
   "source": [
    "from sklearn.feature_extraction.text import CountVectorizer\n",
    "count_vectorizer = CountVectorizer() \n",
    "cv = count_vectorizer.fit_transform(train['tweet_processed2'])\n",
    "cv.shape"
   ]
  },
  {
   "cell_type": "raw",
   "metadata": {},
   "source": [
    "X_train,X_test,y_train,y_test = train_test_split(cv,train['polarity'] , test_size=.2,\n",
    "                                                 stratify=train['polarity'], random_state=42)"
   ]
  },
  {
   "cell_type": "raw",
   "metadata": {},
   "source": [
    "OU"
   ]
  },
  {
   "cell_type": "raw",
   "metadata": {},
   "source": [
    "from sklearn.feature_extraction.text import TfidfVectorizer  \n",
    "tfidfconverter = TfidfVectorizer(max_features=2000, min_df=5, max_df=0.7, stop_words=stopwords.words('french'))  \n",
    "X = tfidfconverter.fit_transform(train['tweet_processed2']).toarray()"
   ]
  },
  {
   "cell_type": "raw",
   "metadata": {},
   "source": [
    "X_train,X_test,y_train,y_test = train_test_split(X,train['polarity'] , test_size=.2,\n",
    "                                                 stratify=train['polarity'], random_state=42)\n",
    "# moins bon score tfidf car corpus peu varié (cause traduction ?)\n",
    "# https://datascience.stackexchange.com/questions/49047/will-a-count-vectorizer-ever-perform-slightly-better-than-tf-idf"
   ]
  },
  {
   "cell_type": "raw",
   "metadata": {},
   "source": [
    "from xgboost import XGBClassifier\n",
    "import xgboost as xgb\n",
    "from sklearn.ensemble import RandomForestClassifier \n",
    "from sklearn.linear_model import LogisticRegression \n",
    "from sklearn import svm\n",
    "from sklearn.metrics import accuracy_score"
   ]
  },
  {
   "cell_type": "raw",
   "metadata": {},
   "source": [
    "xgbc = XGBClassifier(max_depth=6, n_estimators=1000, nthread= 3)\n",
    "xgbc.fit(X_train,y_train)\n",
    "prediction_xgb = xgbc.predict(X_test)\n",
    "print(accuracy_score(prediction_xgb,y_test))\n",
    "#0.742425 count vectorizer (max_depth=6, n_estimators=1000, nthread= 3)\n",
    "#0.7415 tfidf"
   ]
  },
  {
   "cell_type": "raw",
   "metadata": {},
   "source": [
    "lr = LogisticRegression()\n",
    "lr.fit(X_train,y_train)\n",
    "prediction_lr = lr.predict(X_test)\n",
    "print(accuracy_score(prediction_lr,y_test))\n",
    "#0.745825 count vectorizer\n",
    "#0.74105 tfidf"
   ]
  },
  {
   "cell_type": "markdown",
   "metadata": {},
   "source": [
    "## Building model "
   ]
  },
  {
   "cell_type": "code",
   "execution_count": null,
   "metadata": {},
   "outputs": [],
   "source": [
    "all_words = []\n",
    "NUM_FEATURES = 5000\n",
    "for index, value in train.tweet.iteritems():\n",
    "    if value not in all_words:\n",
    "        all_words += value\n",
    "top_features = [x[0] for x in nltk.FreqDist(all_words).most_common(NUM_FEATURES)]"
   ]
  },
  {
   "cell_type": "code",
   "execution_count": null,
   "metadata": {},
   "outputs": [],
   "source": [
    "df=pd.DataFrame.from_dict(nltk.FreqDist(all_words),orient='index')\n",
    "df.sort_values(by=0, ascending=False).reset_index().head(10)"
   ]
  },
  {
   "cell_type": "code",
   "execution_count": null,
   "metadata": {},
   "outputs": [],
   "source": [
    "def build_features(words):\n",
    "    features = {}\n",
    "    for w in top_features:\n",
    "        features[w] = (w in words)\n",
    "    return features"
   ]
  },
  {
   "cell_type": "code",
   "execution_count": null,
   "metadata": {},
   "outputs": [],
   "source": [
    "featuresets = []\n",
    "\n",
    "for index, row in train.iterrows():\n",
    "    featuresets.append((build_features(row['tweet']), row['polarity']))"
   ]
  },
  {
   "cell_type": "code",
   "execution_count": null,
   "metadata": {},
   "outputs": [],
   "source": [
    "featuresets[:2]"
   ]
  },
  {
   "cell_type": "code",
   "execution_count": null,
   "metadata": {},
   "outputs": [],
   "source": [
    "train_set, test = train_test_split(featuresets, test_size=0.2)\n",
    "classifier = NaiveBayesClassifier.train(train_set)"
   ]
  },
  {
   "cell_type": "code",
   "execution_count": null,
   "metadata": {},
   "outputs": [],
   "source": [
    "classifier.show_most_informative_features(n=10)"
   ]
  },
  {
   "cell_type": "code",
   "execution_count": null,
   "metadata": {},
   "outputs": [],
   "source": [
    "nltk.classify.accuracy(classifier, test)\n",
    "# score 73,56% pour sample 100.000 avec stem nltk\n",
    "# score 73,88% avec sample 100.000 avec stem spacy "
   ]
  },
  {
   "cell_type": "code",
   "execution_count": null,
   "metadata": {},
   "outputs": [],
   "source": [
    "phrase=['détester','grève']\n",
    "#phrase_clean=clean_up(phrase)\n",
    "#phrase_clean=stem_spacy(phrase_clean)\n",
    "#phrase_clean"
   ]
  },
  {
   "cell_type": "code",
   "execution_count": null,
   "metadata": {},
   "outputs": [],
   "source": [
    "classifier.classify(dict([token,True] for token in phrase))"
   ]
  },
  {
   "cell_type": "code",
   "execution_count": null,
   "metadata": {},
   "outputs": [],
   "source": [
    "end_time = datetime.now()\n",
    "print('Duration: {}'.format(end_time - start_time))"
   ]
  },
  {
   "cell_type": "code",
   "execution_count": null,
   "metadata": {},
   "outputs": [],
   "source": [
    "from datetime import datetime\n",
    "start_time = datetime.now()\n",
    "import got3"
   ]
  },
  {
   "cell_type": "code",
   "execution_count": null,
   "metadata": {},
   "outputs": [],
   "source": [
    "#https://github.com/Jefferson-Henrique/GetOldTweets-python\n",
    "def tweetSearch(query, date_since,max_tweets):\n",
    "    tweetCriteria = got3.manager.TweetCriteria().setSince(date_since).setQuerySearch(query).setMaxTweets(max_tweets).setLang('french')\n",
    "    text=\"\"\n",
    "    date=\"\"\n",
    "    for i in range(max_tweets):\n",
    "        tweet = got3.manager.TweetManager.getTweets(tweetCriteria)[i]\n",
    "        text+= tweet.text.lower()+\";;\"\n",
    "        date+= str(tweet.date)+\";;\"\n",
    "    return text,date"
   ]
  },
  {
   "cell_type": "code",
   "execution_count": null,
   "metadata": {},
   "outputs": [],
   "source": [
    "tweets = tweetSearch(\"#Grève\",\"2019-12-05\",500)"
   ]
  },
  {
   "cell_type": "code",
   "execution_count": null,
   "metadata": {},
   "outputs": [],
   "source": [
    "greve = tweets[0].split(';;')\n",
    "date = tweets[1].split(';;')"
   ]
  },
  {
   "cell_type": "code",
   "execution_count": null,
   "metadata": {},
   "outputs": [],
   "source": [
    "greve_twitter = pd.DataFrame(columns=['polarity','date','tweet'])"
   ]
  },
  {
   "cell_type": "code",
   "execution_count": null,
   "metadata": {},
   "outputs": [],
   "source": [
    "greve_twitter['tweet']=greve\n",
    "greve_twitter['date']=date"
   ]
  },
  {
   "cell_type": "code",
   "execution_count": null,
   "metadata": {},
   "outputs": [],
   "source": [
    "greve_twitter['tweet_processed'] = greve_twitter['tweet'].astype(str).apply(lambda s: clean_up(s))"
   ]
  },
  {
   "cell_type": "code",
   "execution_count": null,
   "metadata": {},
   "outputs": [],
   "source": [
    "greve_twitter['tweet_processed2'] = stem_spacy(greve_twitter['tweet_processed'])"
   ]
  },
  {
   "cell_type": "code",
   "execution_count": null,
   "metadata": {},
   "outputs": [],
   "source": [
    "for i in range(len(greve_twitter)):\n",
    "    greve_twitter['polarity'].iloc[i] = classifier.classify(dict([token,True] for token in greve_twitter['tweet_processed2'].iloc[i]))"
   ]
  },
  {
   "cell_type": "code",
   "execution_count": null,
   "metadata": {},
   "outputs": [],
   "source": [
    "end_time = datetime.now()\n",
    "print('Duration: {}'.format(end_time - start_time))"
   ]
  },
  {
   "cell_type": "code",
   "execution_count": null,
   "metadata": {},
   "outputs": [],
   "source": [
    "greve_twitter.to_csv('greve_twitter_final.csv')"
   ]
  },
  {
   "cell_type": "code",
   "execution_count": null,
   "metadata": {},
   "outputs": [],
   "source": [
    "greve_twitter.sample(n=10)"
   ]
  },
  {
   "cell_type": "code",
   "execution_count": null,
   "metadata": {},
   "outputs": [],
   "source": []
  },
  {
   "cell_type": "code",
   "execution_count": null,
   "metadata": {},
   "outputs": [],
   "source": []
  }
 ],
 "metadata": {
  "kernelspec": {
   "display_name": "Python 3",
   "language": "python",
   "name": "python3"
  },
  "language_info": {
   "codemirror_mode": {
    "name": "ipython",
    "version": 3
   },
   "file_extension": ".py",
   "mimetype": "text/x-python",
   "name": "python",
   "nbconvert_exporter": "python",
   "pygments_lexer": "ipython3",
   "version": "3.7.5"
  }
 },
 "nbformat": 4,
 "nbformat_minor": 2
}
