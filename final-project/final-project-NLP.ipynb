{
 "cells": [
  {
   "cell_type": "raw",
   "metadata": {},
   "source": [
    "provenance dataset train : https://github.com/gamebusterz/French-Sentiment-Analysis-Dataset\n",
    "methodo :\n",
    "    1. train à partir du dataset French sentiment analysis\n",
    "    2. cleanin : cleaning, token, stop-words puis séparation en train/test\n",
    "    3. Count vectorization\n",
    "    4. Dév modèle de classification NLP (xgboost, logreg, naive bayes)\n",
    "    5. scraping twitter des tweets contenant un # entre 2 dates\n",
    "    6. Classification des tweets\n"
   ]
  },
  {
   "cell_type": "code",
   "execution_count": 43,
   "metadata": {},
   "outputs": [],
   "source": [
    "from datetime import datetime\n",
    "start_time0 = datetime.now()\n",
    "import spacy\n",
    "import numpy as np\n",
    "import os\n",
    "import re\n",
    "import nltk\n",
    "import pandas as pd\n",
    "pd.set_option('display.max_colwidth', -1)\n",
    "import got3\n",
    "import matplotlib.pyplot as plt\n",
    "import pickle\n",
    "import xgboost as xgb\n",
    "from nltk.tokenize import word_tokenize\n",
    "from nltk.corpus import stopwords\n",
    "from nltk.stem.snowball import FrenchStemmer\n",
    "from nltk import NaiveBayesClassifier\n",
    "from sklearn.svm import SVC\n",
    "from sklearn.model_selection import train_test_split\n",
    "from sklearn.feature_extraction.text import CountVectorizer\n",
    "from xgboost import XGBClassifier\n",
    "from sklearn.linear_model import LogisticRegression \n",
    "from sklearn.model_selection import GridSearchCV\n",
    "from sklearn.metrics import accuracy_score, f1_score, classification_report\n",
    "import GetOldTweets3 as got #https://github.com/Jefferson-Henrique/GetOldTweets-python"
   ]
  },
  {
   "cell_type": "markdown",
   "metadata": {},
   "source": [
    "## Etape 1 : construction ML "
   ]
  },
  {
   "cell_type": "code",
   "execution_count": 44,
   "metadata": {},
   "outputs": [],
   "source": [
    "train= pd.read_csv('./nlp/tweets.csv', sep='^([^,]+),', engine='python', error_bad_lines=False, encoding='utf-8', index_col=[0])"
   ]
  },
  {
   "cell_type": "code",
   "execution_count": 45,
   "metadata": {},
   "outputs": [
    {
     "data": {
      "text/html": [
       "<div>\n",
       "<style scoped>\n",
       "    .dataframe tbody tr th:only-of-type {\n",
       "        vertical-align: middle;\n",
       "    }\n",
       "\n",
       "    .dataframe tbody tr th {\n",
       "        vertical-align: top;\n",
       "    }\n",
       "\n",
       "    .dataframe thead th {\n",
       "        text-align: right;\n",
       "    }\n",
       "</style>\n",
       "<table border=\"1\" class=\"dataframe\">\n",
       "  <thead>\n",
       "    <tr style=\"text-align: right;\">\n",
       "      <th></th>\n",
       "      <th>polarity</th>\n",
       "      <th>statutnull</th>\n",
       "    </tr>\n",
       "  </thead>\n",
       "  <tbody>\n",
       "    <tr>\n",
       "      <td>NaN</td>\n",
       "      <td>0</td>\n",
       "      <td>- Awww, c'est nul. Tu aurais du prendre David Carr de Third Day. ;D</td>\n",
       "    </tr>\n",
       "    <tr>\n",
       "      <td>NaN</td>\n",
       "      <td>0</td>\n",
       "      <td>Est contrarié qu'il ne puisse pas mettre à jour son facebook par sms... et pleurera peut-être à la fin, l'école aujourd'hui aussi. Beurk!</td>\n",
       "    </tr>\n",
       "    <tr>\n",
       "      <td>NaN</td>\n",
       "      <td>0</td>\n",
       "      <td>J'ai plongé plusieurs fois pour la balle. A réussi à en sauver 50% le reste sort de limites</td>\n",
       "    </tr>\n",
       "    <tr>\n",
       "      <td>NaN</td>\n",
       "      <td>0</td>\n",
       "      <td>Tout mon corps a des démangeaisons et comme si c'était en feu</td>\n",
       "    </tr>\n",
       "    <tr>\n",
       "      <td>NaN</td>\n",
       "      <td>0</td>\n",
       "      <td>Non, il ne se comporte pas bien du tout. je suis en colère. pourquoi suis-je ici? Parce que je ne peux pas vous voir partout.</td>\n",
       "    </tr>\n",
       "  </tbody>\n",
       "</table>\n",
       "</div>"
      ],
      "text/plain": [
       "    polarity  \\\n",
       "NaN  0         \n",
       "NaN  0         \n",
       "NaN  0         \n",
       "NaN  0         \n",
       "NaN  0         \n",
       "\n",
       "                                                                                                                                    statutnull  \n",
       "NaN  - Awww, c'est nul. Tu aurais du prendre David Carr de Third Day. ;D                                                                        \n",
       "NaN  Est contrarié qu'il ne puisse pas mettre à jour son facebook par sms... et pleurera peut-être à la fin, l'école aujourd'hui aussi. Beurk!  \n",
       "NaN  J'ai plongé plusieurs fois pour la balle. A réussi à en sauver 50% le reste sort de limites                                                \n",
       "NaN  Tout mon corps a des démangeaisons et comme si c'était en feu                                                                              \n",
       "NaN  Non, il ne se comporte pas bien du tout. je suis en colère. pourquoi suis-je ici? Parce que je ne peux pas vous voir partout.              "
      ]
     },
     "execution_count": 45,
     "metadata": {},
     "output_type": "execute_result"
    }
   ],
   "source": [
    "train.head()"
   ]
  },
  {
   "cell_type": "code",
   "execution_count": 46,
   "metadata": {},
   "outputs": [],
   "source": [
    "train = train.reset_index(drop=True)"
   ]
  },
  {
   "cell_type": "code",
   "execution_count": 47,
   "metadata": {},
   "outputs": [
    {
     "data": {
      "text/html": [
       "<div>\n",
       "<style scoped>\n",
       "    .dataframe tbody tr th:only-of-type {\n",
       "        vertical-align: middle;\n",
       "    }\n",
       "\n",
       "    .dataframe tbody tr th {\n",
       "        vertical-align: top;\n",
       "    }\n",
       "\n",
       "    .dataframe thead th {\n",
       "        text-align: right;\n",
       "    }\n",
       "</style>\n",
       "<table border=\"1\" class=\"dataframe\">\n",
       "  <thead>\n",
       "    <tr style=\"text-align: right;\">\n",
       "      <th></th>\n",
       "      <th>polarity</th>\n",
       "      <th>statutnull</th>\n",
       "    </tr>\n",
       "  </thead>\n",
       "  <tbody>\n",
       "    <tr>\n",
       "      <td>0</td>\n",
       "      <td>0</td>\n",
       "      <td>- Awww, c'est nul. Tu aurais du prendre David Carr de Third Day. ;D</td>\n",
       "    </tr>\n",
       "    <tr>\n",
       "      <td>1</td>\n",
       "      <td>0</td>\n",
       "      <td>Est contrarié qu'il ne puisse pas mettre à jour son facebook par sms... et pleurera peut-être à la fin, l'école aujourd'hui aussi. Beurk!</td>\n",
       "    </tr>\n",
       "    <tr>\n",
       "      <td>2</td>\n",
       "      <td>0</td>\n",
       "      <td>J'ai plongé plusieurs fois pour la balle. A réussi à en sauver 50% le reste sort de limites</td>\n",
       "    </tr>\n",
       "    <tr>\n",
       "      <td>3</td>\n",
       "      <td>0</td>\n",
       "      <td>Tout mon corps a des démangeaisons et comme si c'était en feu</td>\n",
       "    </tr>\n",
       "    <tr>\n",
       "      <td>4</td>\n",
       "      <td>0</td>\n",
       "      <td>Non, il ne se comporte pas bien du tout. je suis en colère. pourquoi suis-je ici? Parce que je ne peux pas vous voir partout.</td>\n",
       "    </tr>\n",
       "  </tbody>\n",
       "</table>\n",
       "</div>"
      ],
      "text/plain": [
       "  polarity  \\\n",
       "0  0         \n",
       "1  0         \n",
       "2  0         \n",
       "3  0         \n",
       "4  0         \n",
       "\n",
       "                                                                                                                                  statutnull  \n",
       "0  - Awww, c'est nul. Tu aurais du prendre David Carr de Third Day. ;D                                                                        \n",
       "1  Est contrarié qu'il ne puisse pas mettre à jour son facebook par sms... et pleurera peut-être à la fin, l'école aujourd'hui aussi. Beurk!  \n",
       "2  J'ai plongé plusieurs fois pour la balle. A réussi à en sauver 50% le reste sort de limites                                                \n",
       "3  Tout mon corps a des démangeaisons et comme si c'était en feu                                                                              \n",
       "4  Non, il ne se comporte pas bien du tout. je suis en colère. pourquoi suis-je ici? Parce que je ne peux pas vous voir partout.              "
      ]
     },
     "execution_count": 47,
     "metadata": {},
     "output_type": "execute_result"
    }
   ],
   "source": [
    "train.head()"
   ]
  },
  {
   "cell_type": "code",
   "execution_count": 48,
   "metadata": {},
   "outputs": [
    {
     "data": {
      "text/plain": [
       "Index(['polarity', 'statutnull'], dtype='object')"
      ]
     },
     "execution_count": 48,
     "metadata": {},
     "output_type": "execute_result"
    }
   ],
   "source": [
    "train.columns"
   ]
  },
  {
   "cell_type": "code",
   "execution_count": 49,
   "metadata": {},
   "outputs": [],
   "source": [
    "train = train.sample(n=300000)\n",
    "train = train.dropna()\n",
    "train['polarity'] = train['polarity'].str.replace(\"0\",\"negatif\").str.replace(\"4\",\"positif\")\n",
    "index_zero = train[(train['polarity'] != 'positif') & (train['polarity']!= 'negatif')].index\n",
    "train.drop(index_zero, inplace=True)"
   ]
  },
  {
   "cell_type": "code",
   "execution_count": 50,
   "metadata": {},
   "outputs": [
    {
     "data": {
      "text/plain": [
       "negatif    149741\n",
       "positif    149615\n",
       "Name: polarity, dtype: int64"
      ]
     },
     "execution_count": 50,
     "metadata": {},
     "output_type": "execute_result"
    }
   ],
   "source": [
    "train['polarity'].value_counts()\n",
    "#.plot(kind='bar')"
   ]
  },
  {
   "cell_type": "code",
   "execution_count": 51,
   "metadata": {},
   "outputs": [],
   "source": [
    "def clean_up(tweet):\n",
    "    tweet = re.sub(r'http\\S+|(pic.twitter\\.[^\\s]+)|(www\\.[^\\s]+)|(@\\S+)|\\s\\s+|[^\\w\\s]',' ',tweet) \n",
    "    #1:http+suite/2.pic.twitter+suite/3.www.+suite/4.@+suite/5.espaces++/6.ponctuation\n",
    "    tweet = tweet.lower().strip() #bdc\n",
    "    tweet = word_tokenize(tweet) #tokenisation\n",
    "    stop_words = stopwords.words('french') #stopwords nltk\n",
    "    stop_words.append('rt') #+'rt'\n",
    "    tweet = [word for word in tweet if word not in stop_words]\n",
    "    tweet = [word for word in tweet if len(word)>1] #exclus mot de 1 lettre\n",
    "    return ' '.join(tweet) #retour sans tokenisation, requis par spacy\n",
    "def stem_spacy(tweet):\n",
    "    import spacy\n",
    "    nlp = spacy.load('fr_core_news_sm')\n",
    "    tweet = tweet.apply(nlp)\n",
    "    tweet_stem=[]\n",
    "    for doc in tweet:\n",
    "        tweet_stem.append([word.lemma_ for word in doc])\n",
    "    return tweet_stem"
   ]
  },
  {
   "cell_type": "raw",
   "metadata": {},
   "source": [
    "nouvelle colonne avec tweet nettoyé"
   ]
  },
  {
   "cell_type": "code",
   "execution_count": 52,
   "metadata": {},
   "outputs": [
    {
     "data": {
      "text/html": [
       "<div>\n",
       "<style scoped>\n",
       "    .dataframe tbody tr th:only-of-type {\n",
       "        vertical-align: middle;\n",
       "    }\n",
       "\n",
       "    .dataframe tbody tr th {\n",
       "        vertical-align: top;\n",
       "    }\n",
       "\n",
       "    .dataframe thead th {\n",
       "        text-align: right;\n",
       "    }\n",
       "</style>\n",
       "<table border=\"1\" class=\"dataframe\">\n",
       "  <thead>\n",
       "    <tr style=\"text-align: right;\">\n",
       "      <th></th>\n",
       "      <th>polarity</th>\n",
       "      <th>tweet</th>\n",
       "      <th>original</th>\n",
       "      <th>tweet_stem</th>\n",
       "    </tr>\n",
       "  </thead>\n",
       "  <tbody>\n",
       "    <tr>\n",
       "      <td>206130</td>\n",
       "      <td>negatif</td>\n",
       "      <td>stressé mal tête stressé</td>\n",
       "      <td>Stressé ... mal à la tête ... stressé</td>\n",
       "      <td>[stresser, mal, tête, stresser]</td>\n",
       "    </tr>\n",
       "    <tr>\n",
       "      <td>227455</td>\n",
       "      <td>negatif</td>\n",
       "      <td>claire manque action</td>\n",
       "      <td>Et claire manque en action</td>\n",
       "      <td>[clair, manquer, action]</td>\n",
       "    </tr>\n",
       "    <tr>\n",
       "      <td>4963</td>\n",
       "      <td>negatif</td>\n",
       "      <td>neige avril ugh parfois déteste pittsburgh manque</td>\n",
       "      <td>Il neige ... en avril. Ugh, parfois je déteste pittsburgh. Je me manque la</td>\n",
       "      <td>[neiger, avril, ugh, parfois, détester, pittsburgh, manquer]</td>\n",
       "    </tr>\n",
       "    <tr>\n",
       "      <td>930119</td>\n",
       "      <td>positif</td>\n",
       "      <td>dernier jour lycée enfin</td>\n",
       "      <td>Dernier jour de lycée? enfin</td>\n",
       "      <td>[dernier, jour, lycée, enfin]</td>\n",
       "    </tr>\n",
       "    <tr>\n",
       "      <td>270680</td>\n",
       "      <td>negatif</td>\n",
       "      <td>nettoyer emballer affaires veux partir ici demain</td>\n",
       "      <td>Nettoyer et emballer mes affaires ... je ne veux pas partir ici demain</td>\n",
       "      <td>[nettoyer, emballer, affairer, vouloir, partir, ici, demain]</td>\n",
       "    </tr>\n",
       "  </tbody>\n",
       "</table>\n",
       "</div>"
      ],
      "text/plain": [
       "       polarity                                              tweet  \\\n",
       "206130  negatif  stressé mal tête stressé                            \n",
       "227455  negatif  claire manque action                                \n",
       "4963    negatif  neige avril ugh parfois déteste pittsburgh manque   \n",
       "930119  positif  dernier jour lycée enfin                            \n",
       "270680  negatif  nettoyer emballer affaires veux partir ici demain   \n",
       "\n",
       "                                                                          original  \\\n",
       "206130  Stressé ... mal à la tête ... stressé                                        \n",
       "227455  Et claire manque en action                                                   \n",
       "4963    Il neige ... en avril. Ugh, parfois je déteste pittsburgh. Je me manque la   \n",
       "930119  Dernier jour de lycée? enfin                                                 \n",
       "270680  Nettoyer et emballer mes affaires ... je ne veux pas partir ici demain       \n",
       "\n",
       "                                                          tweet_stem  \n",
       "206130  [stresser, mal, tête, stresser]                               \n",
       "227455  [clair, manquer, action]                                      \n",
       "4963    [neiger, avril, ugh, parfois, détester, pittsburgh, manquer]  \n",
       "930119  [dernier, jour, lycée, enfin]                                 \n",
       "270680  [nettoyer, emballer, affairer, vouloir, partir, ici, demain]  "
      ]
     },
     "execution_count": 52,
     "metadata": {},
     "output_type": "execute_result"
    }
   ],
   "source": [
    "train.statutnull = train.statutnull.astype(str)\n",
    "train['original'] = train['statutnull']\n",
    "train.statutnull = train.statutnull.apply(lambda s: clean_up(s))\n",
    "train['tweet_stem'] = stem_spacy(train.statutnull)\n",
    "train.rename(columns={'statutnull':'tweet'},inplace=True)\n",
    "train.head()"
   ]
  },
  {
   "cell_type": "code",
   "execution_count": 53,
   "metadata": {},
   "outputs": [
    {
     "data": {
      "text/plain": [
       "(299356, 4)"
      ]
     },
     "execution_count": 53,
     "metadata": {},
     "output_type": "execute_result"
    }
   ],
   "source": [
    "train.shape"
   ]
  },
  {
   "cell_type": "code",
   "execution_count": 54,
   "metadata": {},
   "outputs": [
    {
     "data": {
      "text/html": [
       "<div>\n",
       "<style scoped>\n",
       "    .dataframe tbody tr th:only-of-type {\n",
       "        vertical-align: middle;\n",
       "    }\n",
       "\n",
       "    .dataframe tbody tr th {\n",
       "        vertical-align: top;\n",
       "    }\n",
       "\n",
       "    .dataframe thead th {\n",
       "        text-align: right;\n",
       "    }\n",
       "</style>\n",
       "<table border=\"1\" class=\"dataframe\">\n",
       "  <thead>\n",
       "    <tr style=\"text-align: right;\">\n",
       "      <th></th>\n",
       "      <th>polarity</th>\n",
       "      <th>tweet</th>\n",
       "      <th>original</th>\n",
       "      <th>tweet_stem</th>\n",
       "    </tr>\n",
       "  </thead>\n",
       "  <tbody>\n",
       "    <tr>\n",
       "      <td>0</td>\n",
       "      <td>negatif</td>\n",
       "      <td>stressé mal tête stressé</td>\n",
       "      <td>Stressé ... mal à la tête ... stressé</td>\n",
       "      <td>[stresser, mal, tête, stresser]</td>\n",
       "    </tr>\n",
       "    <tr>\n",
       "      <td>1</td>\n",
       "      <td>negatif</td>\n",
       "      <td>claire manque action</td>\n",
       "      <td>Et claire manque en action</td>\n",
       "      <td>[clair, manquer, action]</td>\n",
       "    </tr>\n",
       "    <tr>\n",
       "      <td>2</td>\n",
       "      <td>negatif</td>\n",
       "      <td>neige avril ugh parfois déteste pittsburgh manque</td>\n",
       "      <td>Il neige ... en avril. Ugh, parfois je déteste pittsburgh. Je me manque la</td>\n",
       "      <td>[neiger, avril, ugh, parfois, détester, pittsburgh, manquer]</td>\n",
       "    </tr>\n",
       "    <tr>\n",
       "      <td>3</td>\n",
       "      <td>positif</td>\n",
       "      <td>dernier jour lycée enfin</td>\n",
       "      <td>Dernier jour de lycée? enfin</td>\n",
       "      <td>[dernier, jour, lycée, enfin]</td>\n",
       "    </tr>\n",
       "    <tr>\n",
       "      <td>4</td>\n",
       "      <td>negatif</td>\n",
       "      <td>nettoyer emballer affaires veux partir ici demain</td>\n",
       "      <td>Nettoyer et emballer mes affaires ... je ne veux pas partir ici demain</td>\n",
       "      <td>[nettoyer, emballer, affairer, vouloir, partir, ici, demain]</td>\n",
       "    </tr>\n",
       "  </tbody>\n",
       "</table>\n",
       "</div>"
      ],
      "text/plain": [
       "  polarity                                              tweet  \\\n",
       "0  negatif  stressé mal tête stressé                            \n",
       "1  negatif  claire manque action                                \n",
       "2  negatif  neige avril ugh parfois déteste pittsburgh manque   \n",
       "3  positif  dernier jour lycée enfin                            \n",
       "4  negatif  nettoyer emballer affaires veux partir ici demain   \n",
       "\n",
       "                                                                     original  \\\n",
       "0  Stressé ... mal à la tête ... stressé                                        \n",
       "1  Et claire manque en action                                                   \n",
       "2  Il neige ... en avril. Ugh, parfois je déteste pittsburgh. Je me manque la   \n",
       "3  Dernier jour de lycée? enfin                                                 \n",
       "4  Nettoyer et emballer mes affaires ... je ne veux pas partir ici demain       \n",
       "\n",
       "                                                     tweet_stem  \n",
       "0  [stresser, mal, tête, stresser]                               \n",
       "1  [clair, manquer, action]                                      \n",
       "2  [neiger, avril, ugh, parfois, détester, pittsburgh, manquer]  \n",
       "3  [dernier, jour, lycée, enfin]                                 \n",
       "4  [nettoyer, emballer, affairer, vouloir, partir, ici, demain]  "
      ]
     },
     "execution_count": 54,
     "metadata": {},
     "output_type": "execute_result"
    }
   ],
   "source": [
    "train.reset_index(drop=True).head()"
   ]
  },
  {
   "cell_type": "raw",
   "metadata": {},
   "source": [
    "nouvelle colonne pour utilisation ML Xgboost et Régression linéaire"
   ]
  },
  {
   "cell_type": "code",
   "execution_count": 55,
   "metadata": {},
   "outputs": [
    {
     "data": {
      "text/html": [
       "<div>\n",
       "<style scoped>\n",
       "    .dataframe tbody tr th:only-of-type {\n",
       "        vertical-align: middle;\n",
       "    }\n",
       "\n",
       "    .dataframe tbody tr th {\n",
       "        vertical-align: top;\n",
       "    }\n",
       "\n",
       "    .dataframe thead th {\n",
       "        text-align: right;\n",
       "    }\n",
       "</style>\n",
       "<table border=\"1\" class=\"dataframe\">\n",
       "  <thead>\n",
       "    <tr style=\"text-align: right;\">\n",
       "      <th></th>\n",
       "      <th>polarity</th>\n",
       "      <th>tweet</th>\n",
       "      <th>original</th>\n",
       "      <th>tweet_stem</th>\n",
       "      <th>tweet_stem_join</th>\n",
       "    </tr>\n",
       "  </thead>\n",
       "  <tbody>\n",
       "    <tr>\n",
       "      <td>206130</td>\n",
       "      <td>negatif</td>\n",
       "      <td>stressé mal tête stressé</td>\n",
       "      <td>Stressé ... mal à la tête ... stressé</td>\n",
       "      <td>[stresser, mal, tête, stresser]</td>\n",
       "      <td>stresser mal tête stresser</td>\n",
       "    </tr>\n",
       "    <tr>\n",
       "      <td>227455</td>\n",
       "      <td>negatif</td>\n",
       "      <td>claire manque action</td>\n",
       "      <td>Et claire manque en action</td>\n",
       "      <td>[clair, manquer, action]</td>\n",
       "      <td>clair manquer action</td>\n",
       "    </tr>\n",
       "    <tr>\n",
       "      <td>4963</td>\n",
       "      <td>negatif</td>\n",
       "      <td>neige avril ugh parfois déteste pittsburgh manque</td>\n",
       "      <td>Il neige ... en avril. Ugh, parfois je déteste pittsburgh. Je me manque la</td>\n",
       "      <td>[neiger, avril, ugh, parfois, détester, pittsburgh, manquer]</td>\n",
       "      <td>neiger avril ugh parfois détester pittsburgh manquer</td>\n",
       "    </tr>\n",
       "    <tr>\n",
       "      <td>930119</td>\n",
       "      <td>positif</td>\n",
       "      <td>dernier jour lycée enfin</td>\n",
       "      <td>Dernier jour de lycée? enfin</td>\n",
       "      <td>[dernier, jour, lycée, enfin]</td>\n",
       "      <td>dernier jour lycée enfin</td>\n",
       "    </tr>\n",
       "    <tr>\n",
       "      <td>270680</td>\n",
       "      <td>negatif</td>\n",
       "      <td>nettoyer emballer affaires veux partir ici demain</td>\n",
       "      <td>Nettoyer et emballer mes affaires ... je ne veux pas partir ici demain</td>\n",
       "      <td>[nettoyer, emballer, affairer, vouloir, partir, ici, demain]</td>\n",
       "      <td>nettoyer emballer affairer vouloir partir ici demain</td>\n",
       "    </tr>\n",
       "  </tbody>\n",
       "</table>\n",
       "</div>"
      ],
      "text/plain": [
       "       polarity                                              tweet  \\\n",
       "206130  negatif  stressé mal tête stressé                            \n",
       "227455  negatif  claire manque action                                \n",
       "4963    negatif  neige avril ugh parfois déteste pittsburgh manque   \n",
       "930119  positif  dernier jour lycée enfin                            \n",
       "270680  negatif  nettoyer emballer affaires veux partir ici demain   \n",
       "\n",
       "                                                                          original  \\\n",
       "206130  Stressé ... mal à la tête ... stressé                                        \n",
       "227455  Et claire manque en action                                                   \n",
       "4963    Il neige ... en avril. Ugh, parfois je déteste pittsburgh. Je me manque la   \n",
       "930119  Dernier jour de lycée? enfin                                                 \n",
       "270680  Nettoyer et emballer mes affaires ... je ne veux pas partir ici demain       \n",
       "\n",
       "                                                          tweet_stem  \\\n",
       "206130  [stresser, mal, tête, stresser]                                \n",
       "227455  [clair, manquer, action]                                       \n",
       "4963    [neiger, avril, ugh, parfois, détester, pittsburgh, manquer]   \n",
       "930119  [dernier, jour, lycée, enfin]                                  \n",
       "270680  [nettoyer, emballer, affairer, vouloir, partir, ici, demain]   \n",
       "\n",
       "                                             tweet_stem_join  \n",
       "206130  stresser mal tête stresser                            \n",
       "227455  clair manquer action                                  \n",
       "4963    neiger avril ugh parfois détester pittsburgh manquer  \n",
       "930119  dernier jour lycée enfin                              \n",
       "270680  nettoyer emballer affairer vouloir partir ici demain  "
      ]
     },
     "execution_count": 55,
     "metadata": {},
     "output_type": "execute_result"
    }
   ],
   "source": [
    "train['tweet_stem_join'] = train.tweet_stem.apply(lambda x: ' '.join(x)).astype(str)\n",
    "train.head()"
   ]
  },
  {
   "cell_type": "code",
   "execution_count": 56,
   "metadata": {},
   "outputs": [],
   "source": [
    "train_sample = train.sample(n=1000)"
   ]
  },
  {
   "cell_type": "raw",
   "metadata": {},
   "source": [
    " Vectorisation des mots avec Count Vectorizer"
   ]
  },
  {
   "cell_type": "code",
   "execution_count": 57,
   "metadata": {},
   "outputs": [],
   "source": [
    "count_vectorizer = CountVectorizer(analyzer='word') \n",
    "cv = count_vectorizer.fit(train['tweet_stem_join'])\n",
    "pickle.dump(cv, open(\"cv1.pkl\", \"wb\"))"
   ]
  },
  {
   "cell_type": "code",
   "execution_count": 58,
   "metadata": {},
   "outputs": [
    {
     "data": {
      "text/plain": [
       "(299356, 79161)"
      ]
     },
     "execution_count": 58,
     "metadata": {},
     "output_type": "execute_result"
    }
   ],
   "source": [
    "cv_ = count_vectorizer.fit_transform(train['tweet_stem_join'])\n",
    "cv_.shape"
   ]
  },
  {
   "cell_type": "code",
   "execution_count": 73,
   "metadata": {},
   "outputs": [
    {
     "data": {
      "text/plain": [
       "(299356, 79161)"
      ]
     },
     "execution_count": 73,
     "metadata": {},
     "output_type": "execute_result"
    }
   ],
   "source": [
    "cv1 = pickle.load(open(\"cv1.pkl\", 'rb'))\n",
    "cv1_new = CountVectorizer(vocabulary = cv1.vocabulary_)\n",
    "X_cv1 = cv1_new.transform(train['tweet_stem_join'])\n",
    "X_cv1.shape"
   ]
  },
  {
   "cell_type": "raw",
   "metadata": {},
   "source": [
    "OU vectorisation avec tfidf module\n",
    "from sklearn.feature_extraction.text import TfidfVectorizer  \n",
    "tfidfconverter = TfidfVectorizer(max_features=2000, min_df=5, max_df=0.7, stop_words=stopwords.words('french'))  \n",
    "X = tfidfconverter.fit_transform(train['tweet_stem_join']).toarray()"
   ]
  },
  {
   "cell_type": "raw",
   "metadata": {},
   "source": [
    "X_train,X_test,y_train,y_test = train_test_split(X,train['polarity'] , test_size=.2,\n",
    "                                                 stratify=train['polarity'], random_state=42)\n",
    "# moins bon score tfidf car corpus peu varié (cause traduction ?)\n",
    "# https://datascience.stackexchange.com/questions/49047/will-a-count-vectorizer-ever-perform-slightly-better-than-tf-idf"
   ]
  },
  {
   "cell_type": "code",
   "execution_count": 60,
   "metadata": {},
   "outputs": [
    {
     "name": "stdout",
     "output_type": "stream",
     "text": [
      "Temps import et clean: 1:42:17.555866\n"
     ]
    }
   ],
   "source": [
    "end_time0 = datetime.now()\n",
    "print('Temps import et clean: {}'.format(end_time0 - start_time0))"
   ]
  },
  {
   "cell_type": "markdown",
   "metadata": {},
   "source": [
    "## SVM - à faire"
   ]
  },
  {
   "cell_type": "code",
   "execution_count": 20,
   "metadata": {},
   "outputs": [],
   "source": [
    "start_time_svc = datetime.now()\n",
    "X_train_svc,X_test_svc,y_train_svc,y_test_svc = train_test_split(cv_,train['polarity'],test_size=.2,\n",
    "                                                 stratify=train['polarity'], random_state=42)"
   ]
  },
  {
   "cell_type": "code",
   "execution_count": null,
   "metadata": {},
   "outputs": [],
   "source": [
    "grid = {'C':[1,10,100,1000],'gamma':[1,0.1,0.001,0.0001], 'kernel':['linear','rbf']}\n",
    "svc = SVC()\n",
    "svc_wv=GridSearchCV(svc,grid,cv=10)\n",
    "svc_wv.fit(X_train_svc,y_train_svc)\n",
    "print(\"tuned hpyerparameters :(best parameters) \",svc_wv.best_params_)\n",
    "print(\"accuracy :\",svc_wv.best_score_)"
   ]
  },
  {
   "cell_type": "code",
   "execution_count": 21,
   "metadata": {},
   "outputs": [
    {
     "name": "stderr",
     "output_type": "stream",
     "text": [
      "C:\\Users\\aline\\AppData\\Roaming\\Python\\Python37\\site-packages\\sklearn\\svm\\base.py:193: FutureWarning: The default value of gamma will change from 'auto' to 'scale' in version 0.22 to account better for unscaled features. Set gamma explicitly to 'auto' or 'scale' to avoid this warning.\n",
      "  \"avoid this warning.\", FutureWarning)\n"
     ]
    },
    {
     "name": "stdout",
     "output_type": "stream",
     "text": [
      "              precision    recall  f1-score   support\n",
      "\n",
      "     negatif       0.00      1.00      0.00         8\n",
      "     positif       1.00      0.50      0.67     59865\n",
      "\n",
      "    accuracy                           0.50     59873\n",
      "   macro avg       0.50      0.75      0.33     59873\n",
      "weighted avg       1.00      0.50      0.67     59873\n",
      "\n",
      "Temps modèle SVM : 3:50:10.268178\n"
     ]
    }
   ],
   "source": [
    "svc = SVC()\n",
    "svc.fit(X_train_svc,y_train_svc)\n",
    "prediction_svc = svc.predict(X_test_svc)\n",
    "print(classification_report(prediction_svc,y_test_svc))\n",
    "end_time_svc = datetime.now()\n",
    "print('Temps modèle SVM : {}'.format(end_time_svc - start_time_svc))"
   ]
  },
  {
   "cell_type": "markdown",
   "metadata": {},
   "source": [
    "## XGBoost model - non retenu"
   ]
  },
  {
   "cell_type": "code",
   "execution_count": 67,
   "metadata": {},
   "outputs": [],
   "source": [
    "start_time1 = datetime.now()"
   ]
  },
  {
   "cell_type": "code",
   "execution_count": 68,
   "metadata": {},
   "outputs": [],
   "source": [
    "X_train_xg,X_test_xg,y_train_xg,y_test_xg = train_test_split(cv_,train['polarity'],test_size=.2,\n",
    "                                                 stratify=train['polarity'], random_state=42)"
   ]
  },
  {
   "cell_type": "raw",
   "metadata": {},
   "source": [
    "grid={\"max_depth\":[3,6,9],'min_child_weight':[4,5,6]}\n",
    "xgbc = XGBClassifier(n_estimators=1000, nthread=6, objective= 'binary:logistic')\n",
    "xgbc_cv=GridSearchCV(xgbc,grid,cv=10)\n",
    "xgbc_cv.fit(X_train_xg,y_train_xg)\n",
    "print(\"tuned hpyerparameters :(best parameters) \",xgbc_cv.best_params_)\n",
    "print(\"accuracy :\",xgbc_cv.best_score_)\n",
    "#tuned hpyerparameters :(best parameters)  {'max_depth': 9, 'min_child_weight': 4}\n",
    "#accuracy : 0.7395625"
   ]
  },
  {
   "cell_type": "code",
   "execution_count": 69,
   "metadata": {},
   "outputs": [
    {
     "name": "stdout",
     "output_type": "stream",
     "text": [
      "              precision    recall  f1-score   support\n",
      "\n",
      "     negatif       0.70      0.78      0.74     27176\n",
      "     positif       0.80      0.73      0.76     32696\n",
      "\n",
      "    accuracy                           0.75     59872\n",
      "   macro avg       0.75      0.75      0.75     59872\n",
      "weighted avg       0.76      0.75      0.75     59872\n",
      "\n"
     ]
    }
   ],
   "source": [
    "xgbc = XGBClassifier(max_depth=9, min_child_weight=4, n_estimators=1000, nthread= 3)\n",
    "xgbc.fit(X_train_xg,y_train_xg)\n",
    "prediction_xgb = xgbc.predict(X_test_xg)\n",
    "print(classification_report(prediction_xgb,y_test_xg))\n",
    "#0.742425 count vectorizer (max_depth=6, n_estimators=1000, nthread= 3)\n",
    "#0.7415 tfidf"
   ]
  },
  {
   "cell_type": "code",
   "execution_count": 70,
   "metadata": {},
   "outputs": [
    {
     "name": "stdout",
     "output_type": "stream",
     "text": [
      "0.7508518172100481\n"
     ]
    }
   ],
   "source": [
    "print(accuracy_score(prediction_xgb,y_test_xg))\n",
    "#0.7531 300.000 sample 21/01"
   ]
  },
  {
   "cell_type": "code",
   "execution_count": 71,
   "metadata": {},
   "outputs": [
    {
     "name": "stdout",
     "output_type": "stream",
     "text": [
      "Temps modèle XGBoost : 0:10:54.389062\n"
     ]
    }
   ],
   "source": [
    "end_time1 = datetime.now()\n",
    "print('Temps modèle XGBoost : {}'.format(end_time1 - start_time1))"
   ]
  },
  {
   "cell_type": "code",
   "execution_count": 72,
   "metadata": {},
   "outputs": [],
   "source": [
    "train_sample['polarity_xgboost']=xgbc.predict(X_cv1)"
   ]
  },
  {
   "cell_type": "markdown",
   "metadata": {},
   "source": [
    "## Logistic regression model - retenu"
   ]
  },
  {
   "cell_type": "code",
   "execution_count": 61,
   "metadata": {},
   "outputs": [],
   "source": [
    "start_time2 = datetime.now()"
   ]
  },
  {
   "cell_type": "code",
   "execution_count": 62,
   "metadata": {},
   "outputs": [],
   "source": [
    "X_train_logreg,X_test_logreg,y_train_logreg,y_test_logreg = train_test_split(cv_,train['polarity'] , test_size=.2,\n",
    "                                                 stratify=train['polarity'], random_state=42)"
   ]
  },
  {
   "cell_type": "raw",
   "metadata": {},
   "source": [
    "grid={\"C\":np.logspace(-3,3,7), \"penalty\":[\"l1\",\"l2\"]}# l1 lasso l2 ridge\n",
    "logreg=LogisticRegression()\n",
    "cv_logreg=GridSearchCV(logreg,grid,cv=10)\n",
    "cv_logreg.fit(X_train_logreg,y_train_logreg)\n",
    "\n",
    "print(\"tuned hpyerparameters :(best parameters) \",cv_logreg.best_params_)\n",
    "print(\"accuracy :\",cv_logreg.best_score_)\n",
    "#tuned hpyerparameters :(best parameters)  {'C': 0.1, 'penalty': 'l2'}\n",
    "#accuracy : 0.7391625"
   ]
  },
  {
   "cell_type": "code",
   "execution_count": 63,
   "metadata": {},
   "outputs": [
    {
     "name": "stderr",
     "output_type": "stream",
     "text": [
      "C:\\Users\\aline\\AppData\\Roaming\\Python\\Python37\\site-packages\\sklearn\\linear_model\\logistic.py:432: FutureWarning: Default solver will be changed to 'lbfgs' in 0.22. Specify a solver to silence this warning.\n",
      "  FutureWarning)\n"
     ]
    },
    {
     "name": "stdout",
     "output_type": "stream",
     "text": [
      "              precision    recall  f1-score   support\n",
      "\n",
      "     negatif       0.73      0.76      0.74     28893\n",
      "     positif       0.77      0.74      0.75     30979\n",
      "\n",
      "    accuracy                           0.75     59872\n",
      "   macro avg       0.75      0.75      0.75     59872\n",
      "weighted avg       0.75      0.75      0.75     59872\n",
      "\n"
     ]
    }
   ],
   "source": [
    "logreg = LogisticRegression(C=1,penalty=\"l2\")\n",
    "logreg.fit(X_train_logreg,y_train_logreg)\n",
    "prediction_logreg = logreg.predict(X_test_logreg)\n",
    "print(classification_report(prediction_logreg,y_test_logreg))\n",
    "#0.7628 count vectorizer\n",
    "#0.74105 tfidf"
   ]
  },
  {
   "cell_type": "code",
   "execution_count": 64,
   "metadata": {},
   "outputs": [
    {
     "name": "stdout",
     "output_type": "stream",
     "text": [
      "0.748095938001069\n"
     ]
    }
   ],
   "source": [
    "print(accuracy_score(prediction_logreg,y_test_logreg))"
   ]
  },
  {
   "cell_type": "code",
   "execution_count": 65,
   "metadata": {},
   "outputs": [],
   "source": [
    "train_sample['polarity_logreg']=logreg.predict(X_cv1)"
   ]
  },
  {
   "cell_type": "code",
   "execution_count": 66,
   "metadata": {},
   "outputs": [
    {
     "name": "stdout",
     "output_type": "stream",
     "text": [
      "Temps modèle Logistic regression: 0:00:28.150777\n"
     ]
    }
   ],
   "source": [
    "end_time2 = datetime.now()\n",
    "print('Temps modèle Logistic regression: {}'.format(end_time2 - start_time2))"
   ]
  },
  {
   "cell_type": "markdown",
   "metadata": {},
   "source": [
    "## Naive Bayes model - non retenu"
   ]
  },
  {
   "cell_type": "code",
   "execution_count": null,
   "metadata": {},
   "outputs": [],
   "source": [
    "train2 = train.sample(100000)"
   ]
  },
  {
   "cell_type": "code",
   "execution_count": null,
   "metadata": {},
   "outputs": [],
   "source": [
    "start_time3 = datetime.now()"
   ]
  },
  {
   "cell_type": "code",
   "execution_count": null,
   "metadata": {},
   "outputs": [],
   "source": [
    "all_words = []\n",
    "NUM_FEATURES = 5000\n",
    "for index, value in train2.tweet.iteritems():\n",
    "    if value not in all_words:\n",
    "        all_words += value\n",
    "top_features = [x[0] for x in nltk.FreqDist(all_words).most_common(NUM_FEATURES)]"
   ]
  },
  {
   "cell_type": "code",
   "execution_count": null,
   "metadata": {},
   "outputs": [],
   "source": [
    "df=pd.DataFrame.from_dict(nltk.FreqDist(all_words),orient='index')\n",
    "df.sort_values(by=0, ascending=False).reset_index().head(10)"
   ]
  },
  {
   "cell_type": "code",
   "execution_count": null,
   "metadata": {},
   "outputs": [],
   "source": [
    "def build_features(words):\n",
    "    features = {}\n",
    "    for w in top_features:\n",
    "        features[w] = (w in words)\n",
    "    return features"
   ]
  },
  {
   "cell_type": "code",
   "execution_count": null,
   "metadata": {},
   "outputs": [],
   "source": [
    "featuresets = []\n",
    "\n",
    "for index, row in train.iterrows():\n",
    "    featuresets.append((build_features(row['tweet']), row['polarity']))"
   ]
  },
  {
   "cell_type": "code",
   "execution_count": null,
   "metadata": {},
   "outputs": [],
   "source": [
    "featuresets[:2]"
   ]
  },
  {
   "cell_type": "code",
   "execution_count": null,
   "metadata": {},
   "outputs": [],
   "source": [
    "train_set, test = train_test_split(featuresets, test_size=0.2)\n",
    "classifier = NaiveBayesClassifier.train(train_set)"
   ]
  },
  {
   "cell_type": "code",
   "execution_count": null,
   "metadata": {},
   "outputs": [],
   "source": [
    "classifier.show_most_informative_features(n=10)"
   ]
  },
  {
   "cell_type": "code",
   "execution_count": null,
   "metadata": {},
   "outputs": [],
   "source": [
    "nltk.classify.accuracy(classifier, test)\n",
    "# score 73,56% pour sample 100.000 avec stem nltk\n",
    "# score 73,88% avec sample 100.000 avec stem spacy "
   ]
  },
  {
   "cell_type": "code",
   "execution_count": null,
   "metadata": {},
   "outputs": [],
   "source": [
    "classification_report(classifier, test)"
   ]
  },
  {
   "cell_type": "code",
   "execution_count": null,
   "metadata": {},
   "outputs": [],
   "source": [
    "end_time3 = datetime.now()\n",
    "print('Temps modèle Naive Bayes: {}'.format(end_time3 - start_time3))"
   ]
  },
  {
   "cell_type": "code",
   "execution_count": null,
   "metadata": {},
   "outputs": [],
   "source": [
    "for i in ranqge(len(train_sample)):\n",
    "    train_sample['polarity_NB'].iloc[i] = classifier.classify(dict([token,True] for token in train_sample['tweet_processed2'].iloc[i]))"
   ]
  },
  {
   "cell_type": "code",
   "execution_count": null,
   "metadata": {},
   "outputs": [],
   "source": [
    "train_sample=train_sample[['polarity','polarity_xgboost','polarity_logreg','polarity_NB','tweet']]\n",
    "train_sample"
   ]
  },
  {
   "cell_type": "markdown",
   "metadata": {},
   "source": [
    "# Etape 2 : twitter query"
   ]
  },
  {
   "cell_type": "code",
   "execution_count": 66,
   "metadata": {},
   "outputs": [],
   "source": [
    "start_time4 = datetime.now()"
   ]
  },
  {
   "cell_type": "code",
   "execution_count": 68,
   "metadata": {},
   "outputs": [],
   "source": [
    "tweetCriteria = got.manager.TweetCriteria().setQuerySearch('#reformedesretraites')\\\n",
    "                                           .setLang(\"french\")\\\n",
    "                                           .setSince(\"2019-12-05\")\\\n",
    "                                           .setUntil(\"2019-12-31\")\\\n",
    "                                           .setMaxTweets(500000)\n",
    "tweet = got.manager.TweetManager.getTweets(tweetCriteria)"
   ]
  },
  {
   "cell_type": "code",
   "execution_count": 69,
   "metadata": {},
   "outputs": [],
   "source": [
    "text = [x.text for x in tweet]"
   ]
  },
  {
   "cell_type": "code",
   "execution_count": 70,
   "metadata": {},
   "outputs": [],
   "source": [
    "date = [x.date for x in tweet]"
   ]
  },
  {
   "cell_type": "code",
   "execution_count": 71,
   "metadata": {},
   "outputs": [],
   "source": [
    "greve_twitter = pd.DataFrame(columns=['polarity','date','tweet'])"
   ]
  },
  {
   "cell_type": "code",
   "execution_count": 72,
   "metadata": {},
   "outputs": [],
   "source": [
    "greve_twitter['tweet']=text\n",
    "greve_twitter['date']=date"
   ]
  },
  {
   "cell_type": "code",
   "execution_count": 89,
   "metadata": {},
   "outputs": [
    {
     "data": {
      "text/html": [
       "<div>\n",
       "<style scoped>\n",
       "    .dataframe tbody tr th:only-of-type {\n",
       "        vertical-align: middle;\n",
       "    }\n",
       "\n",
       "    .dataframe tbody tr th {\n",
       "        vertical-align: top;\n",
       "    }\n",
       "\n",
       "    .dataframe thead th {\n",
       "        text-align: right;\n",
       "    }\n",
       "</style>\n",
       "<table border=\"1\" class=\"dataframe\">\n",
       "  <thead>\n",
       "    <tr style=\"text-align: right;\">\n",
       "      <th></th>\n",
       "      <th>polarity</th>\n",
       "      <th>date</th>\n",
       "      <th>tweet</th>\n",
       "      <th>tweet_processed</th>\n",
       "      <th>tweet_processed2</th>\n",
       "    </tr>\n",
       "  </thead>\n",
       "  <tbody>\n",
       "    <tr>\n",
       "      <td>0</td>\n",
       "      <td>negatif</td>\n",
       "      <td>2019-12-30 23:58:53+00:00</td>\n",
       "      <td>Comment les travailleurs belges ont bloqué la #RetraiteParPoints #FiersDeLaGreve #reformedesretraites . #GiletsJaunes #greve31decembre #cgt #fo #sudrail #France #Belgique #BFMTV #lci #cnews</td>\n",
       "      <td>comment travailleurs belges bloqué retraiteparpoints fiersdelagreve reformedesretraites giletsjaunes greve31decembre cgt fo sudrail france belgique bfmtv lci cnews</td>\n",
       "      <td>comment travailleur belge bloquer retraiteparpoints fiersdelagreve reformedesretraites giletsjaunes greve31decembre cgt fo sudrail france belgique bfmtv lci cnews</td>\n",
       "    </tr>\n",
       "    <tr>\n",
       "      <td>1</td>\n",
       "      <td>negatif</td>\n",
       "      <td>2019-12-30 23:52:46+00:00</td>\n",
       "      <td>#Retraites #ReformeRetraites #reformedesretraites #Macron #GiletsJaunes #greve31decembre #CGT #EdouardPhilippe #SNCF #RATP #FiersDeLaGreve 𝟮𝟳 𝗲𝗺𝗲 𝗷𝗼𝘂𝗿 de #Greve contre la Réforme...</td>\n",
       "      <td>retraites reformeretraites reformedesretraites macron giletsjaunes greve31decembre cgt edouardphilippe sncf ratp fiersdelagreve 𝟮𝟳 𝗲𝗺𝗲 𝗷𝗼𝘂𝗿 greve contre réforme</td>\n",
       "      <td>retraiter reformeretraites reformedesretraites macron giletsjaunes greve31decembre cgt edouardphilippe sncf ratp fiersdelagreve 𝟮𝟳 𝗲𝗺𝗲 𝗷𝗼𝘂𝗿 greve contrer réformer</td>\n",
       "    </tr>\n",
       "    <tr>\n",
       "      <td>2</td>\n",
       "      <td>positif</td>\n",
       "      <td>2019-12-30 23:50:37+00:00</td>\n",
       "      <td>#Réformedesretraites : le ton monte entre le ⁦@gouvernementFR⁩ et la #CGT - Le Parisien</td>\n",
       "      <td>réformedesretraites monte entre cgt parisien</td>\n",
       "      <td>réformedesretraites monter entrer cgt parisien</td>\n",
       "    </tr>\n",
       "    <tr>\n",
       "      <td>3</td>\n",
       "      <td>negatif</td>\n",
       "      <td>2019-12-30 23:48:15+00:00</td>\n",
       "      <td>Apparemment ça dérange beaucoup ! ! #France #greve31decembre #reformedesretraites #GiletsJaunes #Coulommiers #écologie https://twitter.com/franck77120/status/1211370152933167105</td>\n",
       "      <td>apparemment ça dérange beaucoup france greve31decembre reformedesretraites giletsjaunes coulommiers écologie</td>\n",
       "      <td>apparemment ça déranger beaucoup france greve31decembre reformedesretraites giletsjaunes coulommiers écologie</td>\n",
       "    </tr>\n",
       "    <tr>\n",
       "      <td>4</td>\n",
       "      <td>negatif</td>\n",
       "      <td>2019-12-30 23:46:38+00:00</td>\n",
       "      <td>Tout à fait, un stress permanent qui se rajoutera à celui du travail, de la recherche d'un emploi, de la perte d'un emploi #reformedesretraites #RetraiteParPoints .</td>\n",
       "      <td>tout fait stress permanent rajoutera celui travail recherche emploi perte emploi reformedesretraites retraiteparpoints</td>\n",
       "      <td>tout faire stress permanent rajouter celui travail rechercher emploi perte emploi reformedesretraites retraiteparpoints</td>\n",
       "    </tr>\n",
       "  </tbody>\n",
       "</table>\n",
       "</div>"
      ],
      "text/plain": [
       "  polarity                      date  \\\n",
       "0  negatif 2019-12-30 23:58:53+00:00   \n",
       "1  negatif 2019-12-30 23:52:46+00:00   \n",
       "2  positif 2019-12-30 23:50:37+00:00   \n",
       "3  negatif 2019-12-30 23:48:15+00:00   \n",
       "4  negatif 2019-12-30 23:46:38+00:00   \n",
       "\n",
       "                                                                                                                                                                                           tweet  \\\n",
       "0  Comment les travailleurs belges ont bloqué la #RetraiteParPoints #FiersDeLaGreve #reformedesretraites . #GiletsJaunes #greve31decembre #cgt #fo #sudrail #France #Belgique #BFMTV #lci #cnews   \n",
       "1  #Retraites #ReformeRetraites #reformedesretraites #Macron #GiletsJaunes #greve31decembre #CGT #EdouardPhilippe #SNCF #RATP #FiersDeLaGreve 𝟮𝟳 𝗲𝗺𝗲 𝗷𝗼𝘂𝗿 de #Greve contre la Réforme...           \n",
       "2  #Réformedesretraites : le ton monte entre le ⁦@gouvernementFR⁩ et la #CGT - Le Parisien                                                                                                         \n",
       "3  Apparemment ça dérange beaucoup ! ! #France #greve31decembre #reformedesretraites #GiletsJaunes #Coulommiers #écologie https://twitter.com/franck77120/status/1211370152933167105               \n",
       "4  Tout à fait, un stress permanent qui se rajoutera à celui du travail, de la recherche d'un emploi, de la perte d'un emploi #reformedesretraites #RetraiteParPoints .                            \n",
       "\n",
       "                                                                                                                                                       tweet_processed  \\\n",
       "0  comment travailleurs belges bloqué retraiteparpoints fiersdelagreve reformedesretraites giletsjaunes greve31decembre cgt fo sudrail france belgique bfmtv lci cnews   \n",
       "1  retraites reformeretraites reformedesretraites macron giletsjaunes greve31decembre cgt edouardphilippe sncf ratp fiersdelagreve 𝟮𝟳 𝗲𝗺𝗲 𝗷𝗼𝘂𝗿 greve contre réforme      \n",
       "2  réformedesretraites monte entre cgt parisien                                                                                                                          \n",
       "3  apparemment ça dérange beaucoup france greve31decembre reformedesretraites giletsjaunes coulommiers écologie                                                          \n",
       "4  tout fait stress permanent rajoutera celui travail recherche emploi perte emploi reformedesretraites retraiteparpoints                                                \n",
       "\n",
       "                                                                                                                                                     tweet_processed2  \n",
       "0  comment travailleur belge bloquer retraiteparpoints fiersdelagreve reformedesretraites giletsjaunes greve31decembre cgt fo sudrail france belgique bfmtv lci cnews  \n",
       "1  retraiter reformeretraites reformedesretraites macron giletsjaunes greve31decembre cgt edouardphilippe sncf ratp fiersdelagreve 𝟮𝟳 𝗲𝗺𝗲 𝗷𝗼𝘂𝗿 greve contrer réformer  \n",
       "2  réformedesretraites monter entrer cgt parisien                                                                                                                      \n",
       "3  apparemment ça déranger beaucoup france greve31decembre reformedesretraites giletsjaunes coulommiers écologie                                                       \n",
       "4  tout faire stress permanent rajouter celui travail rechercher emploi perte emploi reformedesretraites retraiteparpoints                                             "
      ]
     },
     "execution_count": 89,
     "metadata": {},
     "output_type": "execute_result"
    }
   ],
   "source": [
    "greve_twitter.head()"
   ]
  },
  {
   "cell_type": "code",
   "execution_count": 74,
   "metadata": {},
   "outputs": [],
   "source": [
    "greve_twitter['tweet_processed'] = greve_twitter['tweet'].astype(str).apply(lambda s: clean_up(s))"
   ]
  },
  {
   "cell_type": "code",
   "execution_count": 75,
   "metadata": {},
   "outputs": [],
   "source": [
    "greve_twitter['tweet_processed2'] = stem_spacy(greve_twitter['tweet_processed'])"
   ]
  },
  {
   "cell_type": "code",
   "execution_count": 76,
   "metadata": {},
   "outputs": [
    {
     "data": {
      "text/html": [
       "<div>\n",
       "<style scoped>\n",
       "    .dataframe tbody tr th:only-of-type {\n",
       "        vertical-align: middle;\n",
       "    }\n",
       "\n",
       "    .dataframe tbody tr th {\n",
       "        vertical-align: top;\n",
       "    }\n",
       "\n",
       "    .dataframe thead th {\n",
       "        text-align: right;\n",
       "    }\n",
       "</style>\n",
       "<table border=\"1\" class=\"dataframe\">\n",
       "  <thead>\n",
       "    <tr style=\"text-align: right;\">\n",
       "      <th></th>\n",
       "      <th>polarity</th>\n",
       "      <th>date</th>\n",
       "      <th>tweet</th>\n",
       "      <th>tweet_processed</th>\n",
       "      <th>tweet_processed2</th>\n",
       "    </tr>\n",
       "  </thead>\n",
       "  <tbody>\n",
       "    <tr>\n",
       "      <td>0</td>\n",
       "      <td>NaN</td>\n",
       "      <td>2019-12-30 23:58:53+00:00</td>\n",
       "      <td>Comment les travailleurs belges ont bloqué la ...</td>\n",
       "      <td>comment travailleurs belges bloqué retraitepar...</td>\n",
       "      <td>comment travailleur belge bloquer retraiteparp...</td>\n",
       "    </tr>\n",
       "    <tr>\n",
       "      <td>1</td>\n",
       "      <td>NaN</td>\n",
       "      <td>2019-12-30 23:52:46+00:00</td>\n",
       "      <td>#Retraites #ReformeRetraites #reformedesretrai...</td>\n",
       "      <td>retraites reformeretraites reformedesretraites...</td>\n",
       "      <td>retraiter reformeretraites reformedesretraites...</td>\n",
       "    </tr>\n",
       "    <tr>\n",
       "      <td>2</td>\n",
       "      <td>NaN</td>\n",
       "      <td>2019-12-30 23:50:37+00:00</td>\n",
       "      <td>#Réformedesretraites : le ton monte entre le ⁦...</td>\n",
       "      <td>réformedesretraites monte entre cgt parisien</td>\n",
       "      <td>réformedesretraites monter entrer cgt parisien</td>\n",
       "    </tr>\n",
       "    <tr>\n",
       "      <td>3</td>\n",
       "      <td>NaN</td>\n",
       "      <td>2019-12-30 23:48:15+00:00</td>\n",
       "      <td>Apparemment ça dérange beaucoup ! ! #France #g...</td>\n",
       "      <td>apparemment ça dérange beaucoup france greve31...</td>\n",
       "      <td>apparemment ça déranger beaucoup france greve3...</td>\n",
       "    </tr>\n",
       "    <tr>\n",
       "      <td>4</td>\n",
       "      <td>NaN</td>\n",
       "      <td>2019-12-30 23:46:38+00:00</td>\n",
       "      <td>Tout à fait, un stress permanent qui se rajout...</td>\n",
       "      <td>tout fait stress permanent rajoutera celui tra...</td>\n",
       "      <td>tout faire stress permanent rajouter celui tra...</td>\n",
       "    </tr>\n",
       "  </tbody>\n",
       "</table>\n",
       "</div>"
      ],
      "text/plain": [
       "  polarity                      date  \\\n",
       "0      NaN 2019-12-30 23:58:53+00:00   \n",
       "1      NaN 2019-12-30 23:52:46+00:00   \n",
       "2      NaN 2019-12-30 23:50:37+00:00   \n",
       "3      NaN 2019-12-30 23:48:15+00:00   \n",
       "4      NaN 2019-12-30 23:46:38+00:00   \n",
       "\n",
       "                                               tweet  \\\n",
       "0  Comment les travailleurs belges ont bloqué la ...   \n",
       "1  #Retraites #ReformeRetraites #reformedesretrai...   \n",
       "2  #Réformedesretraites : le ton monte entre le ⁦...   \n",
       "3  Apparemment ça dérange beaucoup ! ! #France #g...   \n",
       "4  Tout à fait, un stress permanent qui se rajout...   \n",
       "\n",
       "                                     tweet_processed  \\\n",
       "0  comment travailleurs belges bloqué retraitepar...   \n",
       "1  retraites reformeretraites reformedesretraites...   \n",
       "2       réformedesretraites monte entre cgt parisien   \n",
       "3  apparemment ça dérange beaucoup france greve31...   \n",
       "4  tout fait stress permanent rajoutera celui tra...   \n",
       "\n",
       "                                    tweet_processed2  \n",
       "0  comment travailleur belge bloquer retraiteparp...  \n",
       "1  retraiter reformeretraites reformedesretraites...  \n",
       "2     réformedesretraites monter entrer cgt parisien  \n",
       "3  apparemment ça déranger beaucoup france greve3...  \n",
       "4  tout faire stress permanent rajouter celui tra...  "
      ]
     },
     "execution_count": 76,
     "metadata": {},
     "output_type": "execute_result"
    }
   ],
   "source": [
    "greve_twitter['tweet_processed2'] = greve_twitter['tweet_processed2'].apply(lambda x: ' '.join(x))\n",
    "greve_twitter.head()"
   ]
  },
  {
   "cell_type": "raw",
   "metadata": {},
   "source": [
    "for i in range(len(greve_twitter)):\n",
    "    greve_twitter['polarity'].iloc[i] = classifier.classify(dict([token,True] for token in greve_twitter['tweet_processed2'].iloc[i]))"
   ]
  },
  {
   "cell_type": "code",
   "execution_count": 86,
   "metadata": {},
   "outputs": [],
   "source": [
    "X_cv2 = cv1_new.transform(greve_twitter['tweet_processed2'])\n",
    "greve_twitter['polarity']=logreg.predict(X_cv2)"
   ]
  },
  {
   "cell_type": "code",
   "execution_count": 87,
   "metadata": {},
   "outputs": [
    {
     "data": {
      "text/plain": [
       "negatif    16606\n",
       "positif    15669\n",
       "Name: polarity, dtype: int64"
      ]
     },
     "execution_count": 87,
     "metadata": {},
     "output_type": "execute_result"
    }
   ],
   "source": [
    "greve_twitter['polarity'].value_counts()"
   ]
  },
  {
   "cell_type": "code",
   "execution_count": 80,
   "metadata": {},
   "outputs": [],
   "source": [
    "greve_twitter_eval = greve_twitter.drop(columns=['tweet_processed','tweet_processed2'])"
   ]
  },
  {
   "cell_type": "code",
   "execution_count": 81,
   "metadata": {
    "scrolled": false
   },
   "outputs": [
    {
     "data": {
      "text/html": [
       "<div>\n",
       "<style scoped>\n",
       "    .dataframe tbody tr th:only-of-type {\n",
       "        vertical-align: middle;\n",
       "    }\n",
       "\n",
       "    .dataframe tbody tr th {\n",
       "        vertical-align: top;\n",
       "    }\n",
       "\n",
       "    .dataframe thead th {\n",
       "        text-align: right;\n",
       "    }\n",
       "</style>\n",
       "<table border=\"1\" class=\"dataframe\">\n",
       "  <thead>\n",
       "    <tr style=\"text-align: right;\">\n",
       "      <th></th>\n",
       "      <th>polarity</th>\n",
       "      <th>date</th>\n",
       "      <th>tweet</th>\n",
       "    </tr>\n",
       "  </thead>\n",
       "  <tbody>\n",
       "    <tr>\n",
       "      <td>4508</td>\n",
       "      <td>positif</td>\n",
       "      <td>2019-12-25 11:07:27+00:00</td>\n",
       "      <td>#Macron #GreveGenerale #Greve #greve25decembre #Retraites #Noel #reformedesretraites #LREM #soutienauxgrevistes L'ARGENT MAGIQUE DE L'ELYSÉE... https://twitter.com/EnModeMacaron/status/1209771931727253504</td>\n",
       "    </tr>\n",
       "    <tr>\n",
       "      <td>13817</td>\n",
       "      <td>negatif</td>\n",
       "      <td>2019-12-17 17:06:56+00:00</td>\n",
       "      <td>#réformedesretraites Le ras bol de cette réforme. Jusqu au bout!</td>\n",
       "    </tr>\n",
       "    <tr>\n",
       "      <td>10433</td>\n",
       "      <td>negatif</td>\n",
       "      <td>2019-12-18 19:23:33+00:00</td>\n",
       "      <td>Dans les rues il n’y a pas que les grévistes #RATP #SNCF #RER #Bus #Metro Personnels Hospitalier Les Avocats n’en veulent pas de la réforme, les profs non plus Bcp de salariés du privé aimeraient pouvoir être dans la rue aussi #reformedesretraites aussi indigne qu’improductive</td>\n",
       "    </tr>\n",
       "    <tr>\n",
       "      <td>28899</td>\n",
       "      <td>negatif</td>\n",
       "      <td>2019-12-07 09:07:22+00:00</td>\n",
       "      <td>Le dialogue à livre ouvert est la base de la #démocratie et la seule voie de confiance entre le peuple et ses élus. Le #lobbying de l'ombre est une calamité qui mine #InteretGeneral A appliquer de suite par @gouvernementFR pour la #reformedesretraites https://www.lemonde.fr/societe/article/2019/12/04/avant-son-depart-le-president-de-la-hatvp-jean-louis-nadal-appelle-a-renforcer-le-controle-du-lobbying_6021625_3224.html?mediego_ruuid=d741b186-7370-41c8-a91d-e949a18c97ba_8&amp;amp;mediego_euid=492f1c9f21e9510b62cdb3bfb82049e7&amp;amp;mediego_campaign=20191205_fe95ea58-a4c0-4726-a46c-bfaf2274f496&amp;amp;xtor=EPR-32280629-[a-la-une]-20191205-[zone_edito_2_titre_3]</td>\n",
       "    </tr>\n",
       "    <tr>\n",
       "      <td>14254</td>\n",
       "      <td>positif</td>\n",
       "      <td>2019-12-17 15:39:56+00:00</td>\n",
       "      <td>Les #pompiers contre la #reformedesretraites #manif17decembre @SnesupFsu @PresseFSU @PompiersParis @PompiersFR @Pompiers_13 @SDIS51 @sdis42</td>\n",
       "    </tr>\n",
       "    <tr>\n",
       "      <td>5910</td>\n",
       "      <td>negatif</td>\n",
       "      <td>2019-12-24 05:30:19+00:00</td>\n",
       "      <td>Les syndicats ne pensent qu'à eux mêmes et font croire aux français qu'ils se battent pour eux. Nous ne sommes plus aux temps de Germinal d'Emile où on se battait réellement pour gagner son pain. #majoritésilencieuse #reformedesretraites #ReformeRetraite</td>\n",
       "    </tr>\n",
       "    <tr>\n",
       "      <td>16327</td>\n",
       "      <td>negatif</td>\n",
       "      <td>2019-12-17 09:53:03+00:00</td>\n",
       "      <td>Cohérence totale de ce sondage avec celui des #français qui sont pour le retrait de la contre #reformedesretraites https://lepoint.fr/sondages-oui-non/apres-12-jours-de-greve-soutenez-vous-toujours-la-reforme-des-retraites-du-gouvernement-16-12-2019-2353318_1923.php</td>\n",
       "    </tr>\n",
       "    <tr>\n",
       "      <td>17871</td>\n",
       "      <td>negatif</td>\n",
       "      <td>2019-12-16 18:53:17+00:00</td>\n",
       "      <td>Parole d'une infirmière en colère. Et je vous arrête tout de suite, je ne peux faire greve, étant réquisitionnée d'office pour cause de service minimum quotidien. #greve #reformedesretraites #raslebol</td>\n",
       "    </tr>\n",
       "    <tr>\n",
       "      <td>15492</td>\n",
       "      <td>positif</td>\n",
       "      <td>2019-12-17 12:11:22+00:00</td>\n",
       "      <td>Point manifs (police/médias) : Pau : 10 000 Perpignan : 6 500 Avignon : 5 200 St Nazaire : 4 500 Tarbes : 4 000 Besançon : 3 300 Nevers : 3 000 Belfort : 1 800 Mende : 750 Lisieux : 750 Argentan : 400 #greve #grevedu17decembre #reformedesretraites #17decembre2019</td>\n",
       "    </tr>\n",
       "    <tr>\n",
       "      <td>10816</td>\n",
       "      <td>negatif</td>\n",
       "      <td>2019-12-18 15:03:25+00:00</td>\n",
       "      <td>Haut commissaire #reformedesretraites : #Delevoye #Pietraszewski #LaREM a remplacé le cheval de Troie des \"assurances\" par le cheval de Troie de \"l'industrie agro alimentaire\" #Auchan, ancien rapporteur #LoiTravail. #greve18decembre ILS SONT LA CORRUPTION</td>\n",
       "    </tr>\n",
       "  </tbody>\n",
       "</table>\n",
       "</div>"
      ],
      "text/plain": [
       "      polarity                      date  \\\n",
       "4508   positif 2019-12-25 11:07:27+00:00   \n",
       "13817  negatif 2019-12-17 17:06:56+00:00   \n",
       "10433  negatif 2019-12-18 19:23:33+00:00   \n",
       "28899  negatif 2019-12-07 09:07:22+00:00   \n",
       "14254  positif 2019-12-17 15:39:56+00:00   \n",
       "5910   negatif 2019-12-24 05:30:19+00:00   \n",
       "16327  negatif 2019-12-17 09:53:03+00:00   \n",
       "17871  negatif 2019-12-16 18:53:17+00:00   \n",
       "15492  positif 2019-12-17 12:11:22+00:00   \n",
       "10816  negatif 2019-12-18 15:03:25+00:00   \n",
       "\n",
       "                                                                                                                                                                                                                                                                                                                                                                                                                                                                                                                                                                                                                                                                                   tweet  \n",
       "4508   #Macron #GreveGenerale #Greve #greve25decembre #Retraites #Noel #reformedesretraites #LREM #soutienauxgrevistes L'ARGENT MAGIQUE DE L'ELYSÉE... https://twitter.com/EnModeMacaron/status/1209771931727253504                                                                                                                                                                                                                                                                                                                                                                                                                                                                       \n",
       "13817  #réformedesretraites Le ras bol de cette réforme. Jusqu au bout!                                                                                                                                                                                                                                                                                                                                                                                                                                                                                                                                                                                                                   \n",
       "10433  Dans les rues il n’y a pas que les grévistes #RATP #SNCF #RER #Bus #Metro Personnels Hospitalier Les Avocats n’en veulent pas de la réforme, les profs non plus Bcp de salariés du privé aimeraient pouvoir être dans la rue aussi #reformedesretraites aussi indigne qu’improductive                                                                                                                                                                                                                                                                                                                                                                                              \n",
       "28899  Le dialogue à livre ouvert est la base de la #démocratie et la seule voie de confiance entre le peuple et ses élus. Le #lobbying de l'ombre est une calamité qui mine #InteretGeneral A appliquer de suite par @gouvernementFR pour la #reformedesretraites https://www.lemonde.fr/societe/article/2019/12/04/avant-son-depart-le-president-de-la-hatvp-jean-louis-nadal-appelle-a-renforcer-le-controle-du-lobbying_6021625_3224.html?mediego_ruuid=d741b186-7370-41c8-a91d-e949a18c97ba_8&amp;mediego_euid=492f1c9f21e9510b62cdb3bfb82049e7&amp;mediego_campaign=20191205_fe95ea58-a4c0-4726-a46c-bfaf2274f496&amp;xtor=EPR-32280629-[a-la-une]-20191205-[zone_edito_2_titre_3]  \n",
       "14254  Les #pompiers contre la #reformedesretraites #manif17decembre @SnesupFsu @PresseFSU @PompiersParis @PompiersFR @Pompiers_13 @SDIS51 @sdis42                                                                                                                                                                                                                                                                                                                                                                                                                                                                                                                                        \n",
       "5910   Les syndicats ne pensent qu'à eux mêmes et font croire aux français qu'ils se battent pour eux. Nous ne sommes plus aux temps de Germinal d'Emile où on se battait réellement pour gagner son pain. #majoritésilencieuse #reformedesretraites #ReformeRetraite                                                                                                                                                                                                                                                                                                                                                                                                                     \n",
       "16327  Cohérence totale de ce sondage avec celui des #français qui sont pour le retrait de la contre #reformedesretraites https://lepoint.fr/sondages-oui-non/apres-12-jours-de-greve-soutenez-vous-toujours-la-reforme-des-retraites-du-gouvernement-16-12-2019-2353318_1923.php                                                                                                                                                                                                                                                                                                                                                                                                         \n",
       "17871  Parole d'une infirmière en colère. Et je vous arrête tout de suite, je ne peux faire greve, étant réquisitionnée d'office pour cause de service minimum quotidien. #greve #reformedesretraites #raslebol                                                                                                                                                                                                                                                                                                                                                                                                                                                                           \n",
       "15492   Point manifs (police/médias) : Pau : 10 000 Perpignan : 6 500 Avignon : 5 200 St Nazaire : 4 500 Tarbes : 4 000 Besançon : 3 300 Nevers : 3 000 Belfort : 1 800 Mende : 750 Lisieux : 750 Argentan : 400 #greve #grevedu17decembre #reformedesretraites #17decembre2019                                                                                                                                                                                                                                                                                                                                                                                                           \n",
       "10816  Haut commissaire #reformedesretraites : #Delevoye #Pietraszewski #LaREM a remplacé le cheval de Troie des \"assurances\" par le cheval de Troie de \"l'industrie agro alimentaire\" #Auchan, ancien rapporteur #LoiTravail. #greve18decembre ILS SONT LA CORRUPTION                                                                                                                                                                                                                                                                                                                                                                                                                    "
      ]
     },
     "execution_count": 81,
     "metadata": {},
     "output_type": "execute_result"
    }
   ],
   "source": [
    "greve_twitter_eval.sample(10)"
   ]
  },
  {
   "cell_type": "code",
   "execution_count": 88,
   "metadata": {},
   "outputs": [],
   "source": [
    "greve_twitter.to_csv('greve_twitter_finalv2.csv')"
   ]
  },
  {
   "cell_type": "code",
   "execution_count": 83,
   "metadata": {},
   "outputs": [
    {
     "name": "stdout",
     "output_type": "stream",
     "text": [
      "Duration: 1:17:16.980196\n"
     ]
    }
   ],
   "source": [
    "end_time4 = datetime.now()\n",
    "print('Duration: {}'.format(end_time4 - start_time4))"
   ]
  },
  {
   "cell_type": "code",
   "execution_count": null,
   "metadata": {},
   "outputs": [],
   "source": []
  }
 ],
 "metadata": {
  "kernelspec": {
   "display_name": "Python 3",
   "language": "python",
   "name": "python3"
  },
  "language_info": {
   "codemirror_mode": {
    "name": "ipython",
    "version": 3
   },
   "file_extension": ".py",
   "mimetype": "text/x-python",
   "name": "python",
   "nbconvert_exporter": "python",
   "pygments_lexer": "ipython3",
   "version": "3.7.5"
  }
 },
 "nbformat": 4,
 "nbformat_minor": 2
}
