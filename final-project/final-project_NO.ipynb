{
 "cells": [
  {
   "cell_type": "raw",
   "metadata": {},
   "source": [
    "ideas : https://www.dezyre.com/article/top-10-machine-learning-projects-for-beginners/397\n",
    "https://trade.cites.org/en/cites_trade/#\n",
    "https://www.kaggle.com/brijbhushannanda1979/bigmart-sales-data/kernels\n"
   ]
  },
  {
   "cell_type": "code",
   "execution_count": 26,
   "metadata": {},
   "outputs": [],
   "source": [
    "import pandas as pd"
   ]
  },
  {
   "cell_type": "markdown",
   "metadata": {},
   "source": [
    "# Data exports Inde"
   ]
  },
  {
   "cell_type": "code",
   "execution_count": 36,
   "metadata": {},
   "outputs": [],
   "source": [
    "Export_2014 = pd.read_excel('inde/PC_Export_2014_2015.xlsx')\n",
    "Export_2014['Year'] = 2014\n",
    "Export_2015 = pd.read_excel('inde/PC_Export_2015_2016.xlsx')\n",
    "Export_2015['Year'] = 2015\n",
    "Export_2016 = pd.read_excel('inde/PC_Export_2016_2017.xlsx')\n",
    "Export_2016['Year'] = 2016"
   ]
  },
  {
   "cell_type": "code",
   "execution_count": 37,
   "metadata": {},
   "outputs": [
    {
     "data": {
      "text/html": [
       "<div>\n",
       "<style scoped>\n",
       "    .dataframe tbody tr th:only-of-type {\n",
       "        vertical-align: middle;\n",
       "    }\n",
       "\n",
       "    .dataframe tbody tr th {\n",
       "        vertical-align: top;\n",
       "    }\n",
       "\n",
       "    .dataframe thead th {\n",
       "        text-align: right;\n",
       "    }\n",
       "</style>\n",
       "<table border=\"1\" class=\"dataframe\">\n",
       "  <thead>\n",
       "    <tr style=\"text-align: right;\">\n",
       "      <th></th>\n",
       "      <th>pc_code</th>\n",
       "      <th>pc_description</th>\n",
       "      <th>unit</th>\n",
       "      <th>country_code</th>\n",
       "      <th>country_name</th>\n",
       "      <th>quantity</th>\n",
       "      <th>value</th>\n",
       "      <th>Year</th>\n",
       "    </tr>\n",
       "  </thead>\n",
       "  <tbody>\n",
       "    <tr>\n",
       "      <th>0</th>\n",
       "      <td>99</td>\n",
       "      <td>Other Commodities</td>\n",
       "      <td>Na</td>\n",
       "      <td>599</td>\n",
       "      <td>Unspecified</td>\n",
       "      <td>NaN</td>\n",
       "      <td>371.280801</td>\n",
       "      <td>2014</td>\n",
       "    </tr>\n",
       "    <tr>\n",
       "      <th>1</th>\n",
       "      <td>99</td>\n",
       "      <td>Other Commodities</td>\n",
       "      <td>Na</td>\n",
       "      <td>1213</td>\n",
       "      <td>Kenya</td>\n",
       "      <td>NaN</td>\n",
       "      <td>18.251164</td>\n",
       "      <td>2014</td>\n",
       "    </tr>\n",
       "    <tr>\n",
       "      <th>2</th>\n",
       "      <td>99</td>\n",
       "      <td>Other Commodities</td>\n",
       "      <td>Na</td>\n",
       "      <td>1395</td>\n",
       "      <td>Tanzania Rep</td>\n",
       "      <td>NaN</td>\n",
       "      <td>21.844100</td>\n",
       "      <td>2014</td>\n",
       "    </tr>\n",
       "    <tr>\n",
       "      <th>3</th>\n",
       "      <td>99</td>\n",
       "      <td>Other Commodities</td>\n",
       "      <td>Na</td>\n",
       "      <td>1417</td>\n",
       "      <td>Uganda</td>\n",
       "      <td>NaN</td>\n",
       "      <td>8.034605</td>\n",
       "      <td>2014</td>\n",
       "    </tr>\n",
       "    <tr>\n",
       "      <th>4</th>\n",
       "      <td>99</td>\n",
       "      <td>Other Commodities</td>\n",
       "      <td>Na</td>\n",
       "      <td>2035</td>\n",
       "      <td>Benin</td>\n",
       "      <td>NaN</td>\n",
       "      <td>1.812666</td>\n",
       "      <td>2014</td>\n",
       "    </tr>\n",
       "  </tbody>\n",
       "</table>\n",
       "</div>"
      ],
      "text/plain": [
       "  pc_code     pc_description unit  country_code  country_name  quantity  \\\n",
       "0      99  Other Commodities   Na           599   Unspecified       NaN   \n",
       "1      99  Other Commodities   Na          1213         Kenya       NaN   \n",
       "2      99  Other Commodities   Na          1395  Tanzania Rep       NaN   \n",
       "3      99  Other Commodities   Na          1417        Uganda       NaN   \n",
       "4      99  Other Commodities   Na          2035         Benin       NaN   \n",
       "\n",
       "        value  Year  \n",
       "0  371.280801  2014  \n",
       "1   18.251164  2014  \n",
       "2   21.844100  2014  \n",
       "3    8.034605  2014  \n",
       "4    1.812666  2014  "
      ]
     },
     "execution_count": 37,
     "metadata": {},
     "output_type": "execute_result"
    }
   ],
   "source": [
    "data = pd.concat([Export_2014, Export_2015, Export_2016])\n",
    "data.head()"
   ]
  },
  {
   "cell_type": "code",
   "execution_count": 34,
   "metadata": {},
   "outputs": [
    {
     "data": {
      "text/plain": [
       "(62445, 7)"
      ]
     },
     "execution_count": 34,
     "metadata": {},
     "output_type": "execute_result"
    }
   ],
   "source": [
    "data.shape"
   ]
  },
  {
   "cell_type": "code",
   "execution_count": 35,
   "metadata": {},
   "outputs": [
    {
     "data": {
      "text/plain": [
       "pc_code               0\n",
       "pc_description        0\n",
       "unit                  0\n",
       "country_code          0\n",
       "country_name          0\n",
       "quantity          32464\n",
       "value                 0\n",
       "dtype: int64"
      ]
     },
     "execution_count": 35,
     "metadata": {},
     "output_type": "execute_result"
    }
   ],
   "source": [
    "data.isna().sum()"
   ]
  },
  {
   "cell_type": "markdown",
   "metadata": {},
   "source": [
    "# Data commerce animaux"
   ]
  },
  {
   "cell_type": "code",
   "execution_count": 46,
   "metadata": {},
   "outputs": [
    {
     "data": {
      "text/html": [
       "<div>\n",
       "<style scoped>\n",
       "    .dataframe tbody tr th:only-of-type {\n",
       "        vertical-align: middle;\n",
       "    }\n",
       "\n",
       "    .dataframe tbody tr th {\n",
       "        vertical-align: top;\n",
       "    }\n",
       "\n",
       "    .dataframe thead th {\n",
       "        text-align: right;\n",
       "    }\n",
       "</style>\n",
       "<table border=\"1\" class=\"dataframe\">\n",
       "  <thead>\n",
       "    <tr style=\"text-align: right;\">\n",
       "      <th></th>\n",
       "      <th>Year</th>\n",
       "      <th>App.</th>\n",
       "      <th>Taxon</th>\n",
       "      <th>Class</th>\n",
       "      <th>Order</th>\n",
       "      <th>Family</th>\n",
       "      <th>Genus</th>\n",
       "      <th>Importer</th>\n",
       "      <th>Exporter</th>\n",
       "      <th>Origin</th>\n",
       "      <th>Importer reported quantity</th>\n",
       "      <th>Exporter reported quantity</th>\n",
       "      <th>Term</th>\n",
       "      <th>Unit</th>\n",
       "      <th>Purpose</th>\n",
       "      <th>Source</th>\n",
       "    </tr>\n",
       "  </thead>\n",
       "  <tbody>\n",
       "    <tr>\n",
       "      <th>0</th>\n",
       "      <td>2008</td>\n",
       "      <td>I</td>\n",
       "      <td>Balaenidae spp.</td>\n",
       "      <td>Mammalia</td>\n",
       "      <td>Cetacea</td>\n",
       "      <td>Balaenidae</td>\n",
       "      <td>NaN</td>\n",
       "      <td>US</td>\n",
       "      <td>CA</td>\n",
       "      <td>US</td>\n",
       "      <td>1.0</td>\n",
       "      <td>NaN</td>\n",
       "      <td>bones</td>\n",
       "      <td>NaN</td>\n",
       "      <td>H</td>\n",
       "      <td>W</td>\n",
       "    </tr>\n",
       "    <tr>\n",
       "      <th>1</th>\n",
       "      <td>2008</td>\n",
       "      <td>I</td>\n",
       "      <td>Addax nasomaculatus</td>\n",
       "      <td>Mammalia</td>\n",
       "      <td>Artiodactyla</td>\n",
       "      <td>Bovidae</td>\n",
       "      <td>Addax</td>\n",
       "      <td>FR</td>\n",
       "      <td>US</td>\n",
       "      <td>NaN</td>\n",
       "      <td>NaN</td>\n",
       "      <td>1.0</td>\n",
       "      <td>trophies</td>\n",
       "      <td>NaN</td>\n",
       "      <td>H</td>\n",
       "      <td>F</td>\n",
       "    </tr>\n",
       "    <tr>\n",
       "      <th>2</th>\n",
       "      <td>2008</td>\n",
       "      <td>I</td>\n",
       "      <td>Addax nasomaculatus</td>\n",
       "      <td>Mammalia</td>\n",
       "      <td>Artiodactyla</td>\n",
       "      <td>Bovidae</td>\n",
       "      <td>Addax</td>\n",
       "      <td>FR</td>\n",
       "      <td>ZA</td>\n",
       "      <td>NaN</td>\n",
       "      <td>NaN</td>\n",
       "      <td>1.0</td>\n",
       "      <td>trophies</td>\n",
       "      <td>NaN</td>\n",
       "      <td>H</td>\n",
       "      <td>F</td>\n",
       "    </tr>\n",
       "    <tr>\n",
       "      <th>3</th>\n",
       "      <td>2008</td>\n",
       "      <td>I</td>\n",
       "      <td>Addax nasomaculatus</td>\n",
       "      <td>Mammalia</td>\n",
       "      <td>Artiodactyla</td>\n",
       "      <td>Bovidae</td>\n",
       "      <td>Addax</td>\n",
       "      <td>NO</td>\n",
       "      <td>US</td>\n",
       "      <td>NaN</td>\n",
       "      <td>1.0</td>\n",
       "      <td>1.0</td>\n",
       "      <td>trophies</td>\n",
       "      <td>NaN</td>\n",
       "      <td>H</td>\n",
       "      <td>F</td>\n",
       "    </tr>\n",
       "    <tr>\n",
       "      <th>4</th>\n",
       "      <td>2008</td>\n",
       "      <td>I</td>\n",
       "      <td>Capra falconeri</td>\n",
       "      <td>Mammalia</td>\n",
       "      <td>Artiodactyla</td>\n",
       "      <td>Bovidae</td>\n",
       "      <td>Capra</td>\n",
       "      <td>BE</td>\n",
       "      <td>PK</td>\n",
       "      <td>NaN</td>\n",
       "      <td>1.0</td>\n",
       "      <td>1.0</td>\n",
       "      <td>trophies</td>\n",
       "      <td>NaN</td>\n",
       "      <td>H</td>\n",
       "      <td>W</td>\n",
       "    </tr>\n",
       "  </tbody>\n",
       "</table>\n",
       "</div>"
      ],
      "text/plain": [
       "   Year App.                Taxon     Class         Order      Family  Genus  \\\n",
       "0  2008    I      Balaenidae spp.  Mammalia       Cetacea  Balaenidae    NaN   \n",
       "1  2008    I  Addax nasomaculatus  Mammalia  Artiodactyla     Bovidae  Addax   \n",
       "2  2008    I  Addax nasomaculatus  Mammalia  Artiodactyla     Bovidae  Addax   \n",
       "3  2008    I  Addax nasomaculatus  Mammalia  Artiodactyla     Bovidae  Addax   \n",
       "4  2008    I      Capra falconeri  Mammalia  Artiodactyla     Bovidae  Capra   \n",
       "\n",
       "  Importer Exporter Origin  Importer reported quantity  \\\n",
       "0       US       CA     US                         1.0   \n",
       "1       FR       US    NaN                         NaN   \n",
       "2       FR       ZA    NaN                         NaN   \n",
       "3       NO       US    NaN                         1.0   \n",
       "4       BE       PK    NaN                         1.0   \n",
       "\n",
       "   Exporter reported quantity      Term Unit Purpose Source  \n",
       "0                         NaN     bones  NaN       H      W  \n",
       "1                         1.0  trophies  NaN       H      F  \n",
       "2                         1.0  trophies  NaN       H      F  \n",
       "3                         1.0  trophies  NaN       H      F  \n",
       "4                         1.0  trophies  NaN       H      W  "
      ]
     },
     "execution_count": 46,
     "metadata": {},
     "output_type": "execute_result"
    }
   ],
   "source": [
    "import dask.dataframe as dd\n",
    "data2 = dd.read_csv('/animal/full_database/trade_db_*.csv')\n",
    "data2.head()"
   ]
  },
  {
   "cell_type": "code",
   "execution_count": 47,
   "metadata": {},
   "outputs": [
    {
     "data": {
      "text/plain": [
       "(38832, 16)"
      ]
     },
     "execution_count": 47,
     "metadata": {},
     "output_type": "execute_result"
    }
   ],
   "source": [
    "data2.shape"
   ]
  },
  {
   "cell_type": "code",
   "execution_count": 49,
   "metadata": {},
   "outputs": [
    {
     "data": {
      "text/plain": [
       "Year                              0\n",
       "App.                              0\n",
       "Taxon                             0\n",
       "Class                            15\n",
       "Order                            12\n",
       "Family                           15\n",
       "Genus                            27\n",
       "Importer                        183\n",
       "Exporter                       3887\n",
       "Origin                        33727\n",
       "Importer reported quantity    18601\n",
       "Exporter reported quantity    11605\n",
       "Term                              0\n",
       "Unit                          38471\n",
       "Purpose                           0\n",
       "Source                          148\n",
       "dtype: int64"
      ]
     },
     "execution_count": 49,
     "metadata": {},
     "output_type": "execute_result"
    }
   ],
   "source": [
    "data2.isna().sum()"
   ]
  },
  {
   "cell_type": "code",
   "execution_count": null,
   "metadata": {},
   "outputs": [],
   "source": []
  }
 ],
 "metadata": {
  "kernelspec": {
   "display_name": "Python 3",
   "language": "python",
   "name": "python3"
  },
  "language_info": {
   "codemirror_mode": {
    "name": "ipython",
    "version": 3
   },
   "file_extension": ".py",
   "mimetype": "text/x-python",
   "name": "python",
   "nbconvert_exporter": "python",
   "pygments_lexer": "ipython3",
   "version": "3.7.3"
  }
 },
 "nbformat": 4,
 "nbformat_minor": 2
}
