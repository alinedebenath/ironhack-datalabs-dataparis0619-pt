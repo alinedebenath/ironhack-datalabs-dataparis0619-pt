{
 "cells": [
  {
   "cell_type": "raw",
   "metadata": {},
   "source": [
    "à faire :\n",
    "- wordcloud\n",
    "- tweetSearch : ajouter date"
   ]
  },
  {
   "cell_type": "markdown",
   "metadata": {},
   "source": [
    "## Twitter API scraping"
   ]
  },
  {
   "cell_type": "code",
   "execution_count": null,
   "metadata": {},
   "outputs": [],
   "source": [
    "import tweepy\n",
    "\n",
    "API_KEY = \"HZh8MFUydAVaIN50fYh2w5iVr\"\n",
    "API_SECRET = \"BjkcY9H2tZhTHH2gDiyeByRJaBWExXxW523ZXvhy5jyh0mTlLn\"\n",
    "ACCESS_TOKEN = \"301590896-xTlLyxVVYURtMRFDyhBa4BHEOEAHheCa9iEdicQv\"\n",
    "ACCESS_TOKEN_SECRET = \"90soM5pLMXfuWkP1BIGVEDZFrBWkearvAiEeJ72JbW5rc\"\n",
    "\n",
    "auth = tweepy.OAuthHandler(API_KEY, API_SECRET)\n",
    "auth.set_access_token(ACCESS_TOKEN, ACCESS_TOKEN_SECRET)\n",
    "api = tweepy.API(auth, wait_on_rate_limit=True)"
   ]
  },
  {
   "cell_type": "code",
   "execution_count": null,
   "metadata": {},
   "outputs": [],
   "source": [
    "def tweetSearch(query, limit = 100, language = \"fr\", date_since=\"2019-12-05\", date_until=\"2019-12-06\"):\n",
    "    text = \"\"\n",
    "    for tweet in tweepy.Cursor(api.search, q=query, lang=language, since=date_since, until=date_until).items(limit):\n",
    "        text += tweet.text.lower() + \";;\"\n",
    "    return text"
   ]
  },
  {
   "cell_type": "code",
   "execution_count": null,
   "metadata": {},
   "outputs": [],
   "source": [
    "greve = tweetSearch(\"#Grève\")"
   ]
  },
  {
   "cell_type": "code",
   "execution_count": null,
   "metadata": {},
   "outputs": [],
   "source": [
    "greve = greve.split(';;')\n",
    "greve = set(greve)\n",
    "greve = [i for i in greve if i]"
   ]
  },
  {
   "cell_type": "code",
   "execution_count": null,
   "metadata": {},
   "outputs": [],
   "source": [
    "greve[:10]"
   ]
  },
  {
   "cell_type": "code",
   "execution_count": null,
   "metadata": {},
   "outputs": [],
   "source": [
    "import pandas as pd\n",
    "greve_twitter = pd.DataFrame(columns=['polarity','tweet'])"
   ]
  },
  {
   "cell_type": "code",
   "execution_count": null,
   "metadata": {},
   "outputs": [],
   "source": [
    "greve_twitter['tweet']=greve"
   ]
  },
  {
   "cell_type": "markdown",
   "metadata": {},
   "source": [
    "## Preprocessing"
   ]
  },
  {
   "cell_type": "code",
   "execution_count": null,
   "metadata": {},
   "outputs": [],
   "source": [
    "def clean_up(s):\n",
    "    import re\n",
    "    s= re.sub(r'http\\S+|(www\\.[^\\s]+)|(@\\S+)',' ',s)\n",
    "    s=re.sub('[\\d]',' ',s)\n",
    "    s= re.sub('[^\\w\\s]',' ',s)\n",
    "    s= re.sub('\\s\\s+',' ',s)\n",
    "    s=s.lower().strip()\n",
    "    return s\n",
    "def tokenize(s):\n",
    "    from nltk.tokenize import word_tokenize\n",
    "    return word_tokenize(s)\n",
    "def stem(tweet):\n",
    "    from nltk.stem.snowball import FrenchStemmer\n",
    "    stemmer = FrenchStemmer()\n",
    "    return list(map(lambda s: stemmer.stem(s), tweet))\n",
    "def remove_stopwords(l):\n",
    "    from nltk.corpus import stopwords\n",
    "    stop_words = stopwords.words('french')\n",
    "    stop_words.append('rt')\n",
    "    return [x for x in l if x not in stop_words]"
   ]
  },
  {
   "cell_type": "markdown",
   "metadata": {},
   "source": [
    "## Cleaning final dataset "
   ]
  },
  {
   "cell_type": "code",
   "execution_count": null,
   "metadata": {},
   "outputs": [],
   "source": [
    "greve_twitter['tweet'] = greve_twitter['tweet'].apply(lambda s: clean_up(s))"
   ]
  },
  {
   "cell_type": "code",
   "execution_count": null,
   "metadata": {},
   "outputs": [],
   "source": [
    "greve_twitter['tweet'] = greve_twitter['tweet'].apply(lambda s: tokenize(s))"
   ]
  },
  {
   "cell_type": "code",
   "execution_count": null,
   "metadata": {},
   "outputs": [],
   "source": [
    "greve_twitter['tweet'] = greve_twitter['tweet'].apply(lambda s: stem(s))"
   ]
  },
  {
   "cell_type": "code",
   "execution_count": null,
   "metadata": {},
   "outputs": [],
   "source": [
    "greve_twitter['tweet'] = greve_twitter['tweet'].apply(lambda s: remove_stopwords(s))"
   ]
  },
  {
   "cell_type": "code",
   "execution_count": null,
   "metadata": {},
   "outputs": [],
   "source": [
    "greve.head()"
   ]
  }
 ],
 "metadata": {
  "kernelspec": {
   "display_name": "Python 3",
   "language": "python",
   "name": "python3"
  },
  "language_info": {
   "codemirror_mode": {
    "name": "ipython",
    "version": 3
   },
   "file_extension": ".py",
   "mimetype": "text/x-python",
   "name": "python",
   "nbconvert_exporter": "python",
   "pygments_lexer": "ipython3",
   "version": "3.7.3"
  }
 },
 "nbformat": 4,
 "nbformat_minor": 2
}
