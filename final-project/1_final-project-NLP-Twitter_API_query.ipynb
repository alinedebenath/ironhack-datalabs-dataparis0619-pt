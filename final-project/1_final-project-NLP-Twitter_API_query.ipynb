{
 "cells": [
  {
   "cell_type": "markdown",
   "metadata": {},
   "source": [
    "# Twitter API query"
   ]
  },
  {
   "cell_type": "raw",
   "metadata": {},
   "source": [
    "Ressources : https://stackoverflow.com/questions/44116194/import-a-function-from-another-ipynb-file"
   ]
  },
  {
   "cell_type": "code",
   "execution_count": 1,
   "metadata": {},
   "outputs": [],
   "source": [
    "import pandas as pd\n",
    "from datetime import datetime\n",
    "import re\n",
    "import GetOldTweets3 as got #https://github.com/Jefferson-Henrique/GetOldTweets-python"
   ]
  },
  {
   "cell_type": "code",
   "execution_count": 2,
   "metadata": {},
   "outputs": [],
   "source": [
    "start_time4 = datetime.now()"
   ]
  },
  {
   "cell_type": "code",
   "execution_count": 3,
   "metadata": {},
   "outputs": [],
   "source": [
    "tweetCriteria = got.manager.TweetCriteria().setQuerySearch('#reformedesretraites')\\\n",
    "                                           .setLang(\"french\")\\\n",
    "                                           .setSince(\"2019-12-05\")\\\n",
    "                                           .setUntil(\"2019-12-31\")\\\n",
    "                                           .setMaxTweets(500000)\n",
    "tweet = got.manager.TweetManager.getTweets(tweetCriteria)"
   ]
  },
  {
   "cell_type": "code",
   "execution_count": 4,
   "metadata": {},
   "outputs": [],
   "source": [
    "text = [x.text for x in tweet]"
   ]
  },
  {
   "cell_type": "code",
   "execution_count": 5,
   "metadata": {},
   "outputs": [],
   "source": [
    "date = [x.date for x in tweet]"
   ]
  },
  {
   "cell_type": "code",
   "execution_count": 6,
   "metadata": {},
   "outputs": [],
   "source": [
    "greve_twitter = pd.DataFrame(columns=['polarity','date','tweet'])"
   ]
  },
  {
   "cell_type": "code",
   "execution_count": 7,
   "metadata": {},
   "outputs": [],
   "source": [
    "greve_twitter['tweet']=text\n",
    "greve_twitter['date']=date"
   ]
  },
  {
   "cell_type": "code",
   "execution_count": 8,
   "metadata": {},
   "outputs": [
    {
     "data": {
      "text/html": [
       "<div>\n",
       "<style scoped>\n",
       "    .dataframe tbody tr th:only-of-type {\n",
       "        vertical-align: middle;\n",
       "    }\n",
       "\n",
       "    .dataframe tbody tr th {\n",
       "        vertical-align: top;\n",
       "    }\n",
       "\n",
       "    .dataframe thead th {\n",
       "        text-align: right;\n",
       "    }\n",
       "</style>\n",
       "<table border=\"1\" class=\"dataframe\">\n",
       "  <thead>\n",
       "    <tr style=\"text-align: right;\">\n",
       "      <th></th>\n",
       "      <th>polarity</th>\n",
       "      <th>date</th>\n",
       "      <th>tweet</th>\n",
       "    </tr>\n",
       "  </thead>\n",
       "  <tbody>\n",
       "    <tr>\n",
       "      <th>0</th>\n",
       "      <td>NaN</td>\n",
       "      <td>2019-12-30 23:58:53+00:00</td>\n",
       "      <td>Comment les travailleurs belges ont bloqué la ...</td>\n",
       "    </tr>\n",
       "    <tr>\n",
       "      <th>1</th>\n",
       "      <td>NaN</td>\n",
       "      <td>2019-12-30 23:52:46+00:00</td>\n",
       "      <td>#Retraites #ReformeRetraites #reformedesretrai...</td>\n",
       "    </tr>\n",
       "    <tr>\n",
       "      <th>2</th>\n",
       "      <td>NaN</td>\n",
       "      <td>2019-12-30 23:50:37+00:00</td>\n",
       "      <td>#Réformedesretraites : le ton monte entre le ⁦...</td>\n",
       "    </tr>\n",
       "    <tr>\n",
       "      <th>3</th>\n",
       "      <td>NaN</td>\n",
       "      <td>2019-12-30 23:48:15+00:00</td>\n",
       "      <td>Apparemment ça dérange beaucoup ! ! #France #g...</td>\n",
       "    </tr>\n",
       "    <tr>\n",
       "      <th>4</th>\n",
       "      <td>NaN</td>\n",
       "      <td>2019-12-30 23:46:38+00:00</td>\n",
       "      <td>Tout à fait, un stress permanent qui se rajout...</td>\n",
       "    </tr>\n",
       "  </tbody>\n",
       "</table>\n",
       "</div>"
      ],
      "text/plain": [
       "  polarity                      date  \\\n",
       "0      NaN 2019-12-30 23:58:53+00:00   \n",
       "1      NaN 2019-12-30 23:52:46+00:00   \n",
       "2      NaN 2019-12-30 23:50:37+00:00   \n",
       "3      NaN 2019-12-30 23:48:15+00:00   \n",
       "4      NaN 2019-12-30 23:46:38+00:00   \n",
       "\n",
       "                                               tweet  \n",
       "0  Comment les travailleurs belges ont bloqué la ...  \n",
       "1  #Retraites #ReformeRetraites #reformedesretrai...  \n",
       "2  #Réformedesretraites : le ton monte entre le ⁦...  \n",
       "3  Apparemment ça dérange beaucoup ! ! #France #g...  \n",
       "4  Tout à fait, un stress permanent qui se rajout...  "
      ]
     },
     "execution_count": 8,
     "metadata": {},
     "output_type": "execute_result"
    }
   ],
   "source": [
    "greve_twitter.head()"
   ]
  },
  {
   "cell_type": "code",
   "execution_count": 10,
   "metadata": {},
   "outputs": [],
   "source": [
    "from ipynb.fs.full.my_functions import clean_up\n",
    "greve_twitter['tweet_processed'] = greve_twitter['tweet'].astype(str).apply(lambda s: clean_up(s))"
   ]
  },
  {
   "cell_type": "code",
   "execution_count": 11,
   "metadata": {},
   "outputs": [],
   "source": [
    "from ipynb.fs.full.my_functions import stem_spacy\n",
    "greve_twitter['tweet_processed2'] = stem_spacy(greve_twitter['tweet_processed'])"
   ]
  },
  {
   "cell_type": "code",
   "execution_count": 12,
   "metadata": {},
   "outputs": [
    {
     "data": {
      "text/html": [
       "<div>\n",
       "<style scoped>\n",
       "    .dataframe tbody tr th:only-of-type {\n",
       "        vertical-align: middle;\n",
       "    }\n",
       "\n",
       "    .dataframe tbody tr th {\n",
       "        vertical-align: top;\n",
       "    }\n",
       "\n",
       "    .dataframe thead th {\n",
       "        text-align: right;\n",
       "    }\n",
       "</style>\n",
       "<table border=\"1\" class=\"dataframe\">\n",
       "  <thead>\n",
       "    <tr style=\"text-align: right;\">\n",
       "      <th></th>\n",
       "      <th>polarity</th>\n",
       "      <th>date</th>\n",
       "      <th>tweet</th>\n",
       "      <th>tweet_processed</th>\n",
       "      <th>tweet_processed2</th>\n",
       "    </tr>\n",
       "  </thead>\n",
       "  <tbody>\n",
       "    <tr>\n",
       "      <th>0</th>\n",
       "      <td>NaN</td>\n",
       "      <td>2019-12-30 23:58:53+00:00</td>\n",
       "      <td>Comment les travailleurs belges ont bloqué la ...</td>\n",
       "      <td>comment travailleurs belges bloqué retraitepar...</td>\n",
       "      <td>comment travailleur belge bloquer retraiteparp...</td>\n",
       "    </tr>\n",
       "    <tr>\n",
       "      <th>1</th>\n",
       "      <td>NaN</td>\n",
       "      <td>2019-12-30 23:52:46+00:00</td>\n",
       "      <td>#Retraites #ReformeRetraites #reformedesretrai...</td>\n",
       "      <td>retraites reformeretraites reformedesretraites...</td>\n",
       "      <td>retrait reformeretrait reformedesretraite macr...</td>\n",
       "    </tr>\n",
       "    <tr>\n",
       "      <th>2</th>\n",
       "      <td>NaN</td>\n",
       "      <td>2019-12-30 23:50:37+00:00</td>\n",
       "      <td>#Réformedesretraites : le ton monte entre le ⁦...</td>\n",
       "      <td>réformedesretraites monte entre gouvernementfr...</td>\n",
       "      <td>réformedesretraiter mont entrer gouvernementfr...</td>\n",
       "    </tr>\n",
       "    <tr>\n",
       "      <th>3</th>\n",
       "      <td>NaN</td>\n",
       "      <td>2019-12-30 23:48:15+00:00</td>\n",
       "      <td>Apparemment ça dérange beaucoup ! ! #France #g...</td>\n",
       "      <td>apparemment ça dérange beaucoup france greve31...</td>\n",
       "      <td>apparemment ça déranger beaucoup france greve3...</td>\n",
       "    </tr>\n",
       "    <tr>\n",
       "      <th>4</th>\n",
       "      <td>NaN</td>\n",
       "      <td>2019-12-30 23:46:38+00:00</td>\n",
       "      <td>Tout à fait, un stress permanent qui se rajout...</td>\n",
       "      <td>tout fait stress permanent rajoutera celui tra...</td>\n",
       "      <td>tout faire stress permanent rajouter celui tra...</td>\n",
       "    </tr>\n",
       "  </tbody>\n",
       "</table>\n",
       "</div>"
      ],
      "text/plain": [
       "  polarity                      date  \\\n",
       "0      NaN 2019-12-30 23:58:53+00:00   \n",
       "1      NaN 2019-12-30 23:52:46+00:00   \n",
       "2      NaN 2019-12-30 23:50:37+00:00   \n",
       "3      NaN 2019-12-30 23:48:15+00:00   \n",
       "4      NaN 2019-12-30 23:46:38+00:00   \n",
       "\n",
       "                                               tweet  \\\n",
       "0  Comment les travailleurs belges ont bloqué la ...   \n",
       "1  #Retraites #ReformeRetraites #reformedesretrai...   \n",
       "2  #Réformedesretraites : le ton monte entre le ⁦...   \n",
       "3  Apparemment ça dérange beaucoup ! ! #France #g...   \n",
       "4  Tout à fait, un stress permanent qui se rajout...   \n",
       "\n",
       "                                     tweet_processed  \\\n",
       "0  comment travailleurs belges bloqué retraitepar...   \n",
       "1  retraites reformeretraites reformedesretraites...   \n",
       "2  réformedesretraites monte entre gouvernementfr...   \n",
       "3  apparemment ça dérange beaucoup france greve31...   \n",
       "4  tout fait stress permanent rajoutera celui tra...   \n",
       "\n",
       "                                    tweet_processed2  \n",
       "0  comment travailleur belge bloquer retraiteparp...  \n",
       "1  retrait reformeretrait reformedesretraite macr...  \n",
       "2  réformedesretraiter mont entrer gouvernementfr...  \n",
       "3  apparemment ça déranger beaucoup france greve3...  \n",
       "4  tout faire stress permanent rajouter celui tra...  "
      ]
     },
     "execution_count": 12,
     "metadata": {},
     "output_type": "execute_result"
    }
   ],
   "source": [
    "greve_twitter['tweet_processed2'] = greve_twitter['tweet_processed2'].apply(lambda x: ' '.join(x))\n",
    "greve_twitter.head()"
   ]
  },
  {
   "cell_type": "code",
   "execution_count": 13,
   "metadata": {},
   "outputs": [],
   "source": [
    "greve_twitter.to_csv('greve_twitter_final.csv')"
   ]
  },
  {
   "cell_type": "code",
   "execution_count": 14,
   "metadata": {},
   "outputs": [
    {
     "name": "stdout",
     "output_type": "stream",
     "text": [
      "Duration: 0:10:47.155435\n"
     ]
    }
   ],
   "source": [
    "end_time4 = datetime.now()\n",
    "print('Duration: {}'.format(end_time4 - start_time4))"
   ]
  },
  {
   "cell_type": "code",
   "execution_count": null,
   "metadata": {},
   "outputs": [],
   "source": []
  }
 ],
 "metadata": {
  "kernelspec": {
   "display_name": "Python 3",
   "language": "python",
   "name": "python3"
  },
  "language_info": {
   "codemirror_mode": {
    "name": "ipython",
    "version": 3
   },
   "file_extension": ".py",
   "mimetype": "text/x-python",
   "name": "python",
   "nbconvert_exporter": "python",
   "pygments_lexer": "ipython3",
   "version": "3.7.6"
  }
 },
 "nbformat": 4,
 "nbformat_minor": 2
}
